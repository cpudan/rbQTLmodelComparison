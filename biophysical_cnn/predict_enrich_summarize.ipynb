{
 "cells": [
  {
   "cell_type": "code",
   "execution_count": 4,
   "metadata": {},
   "outputs": [],
   "source": [
    "import pandas as pd\n",
    "import numpy as np\n",
    "import matplotlib.pyplot as plt\n",
    "import scipy.stats\n",
    "import seaborn as sns\n",
    "import os.path"
   ]
  },
  {
   "cell_type": "code",
   "execution_count": 16,
   "metadata": {},
   "outputs": [
    {
     "data": {
      "text/html": [
       "<div>\n",
       "<style scoped>\n",
       "    .dataframe tbody tr th:only-of-type {\n",
       "        vertical-align: middle;\n",
       "    }\n",
       "\n",
       "    .dataframe tbody tr th {\n",
       "        vertical-align: top;\n",
       "    }\n",
       "\n",
       "    .dataframe thead th {\n",
       "        text-align: right;\n",
       "    }\n",
       "</style>\n",
       "<table border=\"1\" class=\"dataframe\">\n",
       "  <thead>\n",
       "    <tr style=\"text-align: right;\">\n",
       "      <th></th>\n",
       "      <th>loss</th>\n",
       "      <th>acc</th>\n",
       "      <th>auroc</th>\n",
       "      <th>aupr</th>\n",
       "      <th>RBP</th>\n",
       "      <th>pwm_source</th>\n",
       "    </tr>\n",
       "  </thead>\n",
       "  <tbody>\n",
       "    <tr>\n",
       "      <th>0</th>\n",
       "      <td>4.354678</td>\n",
       "      <td>0.333996</td>\n",
       "      <td>0.757308</td>\n",
       "      <td>0.032788</td>\n",
       "      <td>HNRNPA1</td>\n",
       "      <td>oRNAment</td>\n",
       "    </tr>\n",
       "    <tr>\n",
       "      <th>0</th>\n",
       "      <td>4.244437</td>\n",
       "      <td>0.459054</td>\n",
       "      <td>0.816300</td>\n",
       "      <td>0.036582</td>\n",
       "      <td>HNRNPA1</td>\n",
       "      <td>K562</td>\n",
       "    </tr>\n",
       "    <tr>\n",
       "      <th>0</th>\n",
       "      <td>4.258952</td>\n",
       "      <td>0.443548</td>\n",
       "      <td>0.801054</td>\n",
       "      <td>0.032218</td>\n",
       "      <td>HNRNPA1</td>\n",
       "      <td>HepG2</td>\n",
       "    </tr>\n",
       "    <tr>\n",
       "      <th>0</th>\n",
       "      <td>5.483628</td>\n",
       "      <td>0.444841</td>\n",
       "      <td>0.845067</td>\n",
       "      <td>0.295968</td>\n",
       "      <td>HNRNPK</td>\n",
       "      <td>oRNAment</td>\n",
       "    </tr>\n",
       "    <tr>\n",
       "      <th>0</th>\n",
       "      <td>5.445842</td>\n",
       "      <td>0.450695</td>\n",
       "      <td>0.834625</td>\n",
       "      <td>0.262449</td>\n",
       "      <td>HNRNPK</td>\n",
       "      <td>K562</td>\n",
       "    </tr>\n",
       "    <tr>\n",
       "      <th>0</th>\n",
       "      <td>5.456815</td>\n",
       "      <td>0.446025</td>\n",
       "      <td>0.834897</td>\n",
       "      <td>0.264025</td>\n",
       "      <td>HNRNPK</td>\n",
       "      <td>HepG2</td>\n",
       "    </tr>\n",
       "    <tr>\n",
       "      <th>0</th>\n",
       "      <td>51.271137</td>\n",
       "      <td>0.102748</td>\n",
       "      <td>0.677044</td>\n",
       "      <td>0.071017</td>\n",
       "      <td>RBFOX2</td>\n",
       "      <td>oRNAment</td>\n",
       "    </tr>\n",
       "    <tr>\n",
       "      <th>0</th>\n",
       "      <td>51.271137</td>\n",
       "      <td>0.080857</td>\n",
       "      <td>0.633050</td>\n",
       "      <td>0.046811</td>\n",
       "      <td>RBFOX2</td>\n",
       "      <td>K562</td>\n",
       "    </tr>\n",
       "    <tr>\n",
       "      <th>0</th>\n",
       "      <td>51.271137</td>\n",
       "      <td>0.106260</td>\n",
       "      <td>0.676346</td>\n",
       "      <td>0.054172</td>\n",
       "      <td>RBFOX2</td>\n",
       "      <td>HepG2</td>\n",
       "    </tr>\n",
       "  </tbody>\n",
       "</table>\n",
       "</div>"
      ],
      "text/plain": [
       "        loss       acc     auroc      aupr      RBP pwm_source\n",
       "0   4.354678  0.333996  0.757308  0.032788  HNRNPA1   oRNAment\n",
       "0   4.244437  0.459054  0.816300  0.036582  HNRNPA1       K562\n",
       "0   4.258952  0.443548  0.801054  0.032218  HNRNPA1      HepG2\n",
       "0   5.483628  0.444841  0.845067  0.295968   HNRNPK   oRNAment\n",
       "0   5.445842  0.450695  0.834625  0.262449   HNRNPK       K562\n",
       "0   5.456815  0.446025  0.834897  0.264025   HNRNPK      HepG2\n",
       "0  51.271137  0.102748  0.677044  0.071017   RBFOX2   oRNAment\n",
       "0  51.271137  0.080857  0.633050  0.046811   RBFOX2       K562\n",
       "0  51.271137  0.106260  0.676346  0.054172   RBFOX2      HepG2"
      ]
     },
     "execution_count": 16,
     "metadata": {},
     "output_type": "execute_result"
    }
   ],
   "source": [
    "pwm_sources = [\"oRNAment\", \"K562\", \"HepG2\"]\n",
    "\n",
    "to_do = {\"HNRNPA1\" : \"rep1\", \n",
    "         \"HNRNPK\" : \"both\", \n",
    "         \"RBFOX2\" : \"rep2\"}\n",
    "dats=[]\n",
    "for rbp,rep in to_do.items(): \n",
    "    for pwm_source in pwm_sources:\n",
    "        fn = \"predict_enrich_notebooks/metrics_%s_%s.tsv\" % (rbp, pwm_source)\n",
    "        if os.path.isfile(fn):\n",
    "            dat = pd.read_csv(fn, sep = \"\\t\")\n",
    "            dat[\"RBP\"] = rbp\n",
    "            dat[\"pwm_source\"] = pwm_source\n",
    "            dats.append(dat)\n",
    "dat = pd.concat(dats)\n",
    "dat"
   ]
  },
  {
   "cell_type": "code",
   "execution_count": 21,
   "metadata": {},
   "outputs": [
    {
     "data": {
      "text/plain": [
       "<matplotlib.legend.Legend at 0x7f1ac23b3dc0>"
      ]
     },
     "execution_count": 21,
     "metadata": {},
     "output_type": "execute_result"
    },
    {
     "data": {
      "image/png": "[encoded data removed]",
      "text/plain": [
       "<Figure size 432x288 with 1 Axes>"
      ]
     },
     "metadata": {
      "needs_background": "light"
     },
     "output_type": "display_data"
    }
   ],
   "source": [
    "sns.barplot(x = \"RBP\", y = \"acc\", hue = \"pwm_source\", data = dat)\n",
    "plt.ylabel(\"Pearson R\")\n",
    "plt.xlabel(None)\n",
    "plt.legend()"
   ]
  }
 ],
 "metadata": {
  "kernelspec": {
   "display_name": "Python 3",
   "language": "python",
   "name": "python3"
  },
  "language_info": {
   "codemirror_mode": {
    "name": "ipython",
    "version": 3
   },
   "file_extension": ".py",
   "mimetype": "text/x-python",
   "name": "python",
   "nbconvert_exporter": "python",
   "pygments_lexer": "ipython3",
   "version": "3.8.0"
  }
 },
 "nbformat": 4,
 "nbformat_minor": 4
}
