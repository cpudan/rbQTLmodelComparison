{
 "cells": [
  {
   "cell_type": "code",
   "execution_count": 1,
   "metadata": {
    "colab": {
     "base_uri": "https://localhost:8080/",
     "height": 218
    },
    "id": "8fPmCgelY66c",
    "outputId": "69405d1e-2ef2-4da4-9121-84dda09a9215"
   },
   "outputs": [
    {
     "data": {
      "text/plain": [
       "<module 'biophysnn' from '/gpfs/commons/home/daknowles/pooledRBPs/biophysical_cnn/biophysnn.py'>"
      ]
     },
     "execution_count": 1,
     "metadata": {},
     "output_type": "execute_result"
    }
   ],
   "source": [
    "import torch\n",
    "import torch.nn as nn\n",
    "import torch.nn.functional as F\n",
    "import torch.utils.data\n",
    "\n",
    "import pandas as pd\n",
    "import numpy as np\n",
    "import matplotlib.pyplot as plt\n",
    "import pickle\n",
    "import os.path\n",
    "import biophysnn\n",
    "\n",
    "import bindingdata\n",
    "\n",
    "from importlib import reload\n",
    "reload(biophysnn)"
   ]
  },
  {
   "cell_type": "markdown",
   "metadata": {
    "id": "cQGel5ea0RXI"
   },
   "source": [
    "## Loading data"
   ]
  },
  {
   "cell_type": "code",
   "execution_count": 2,
   "metadata": {
    "id": "m0Kaptuq27QE"
   },
   "outputs": [
    {
     "data": {
      "text/html": [
       "<div>\n",
       "<style scoped>\n",
       "    .dataframe tbody tr th:only-of-type {\n",
       "        vertical-align: middle;\n",
       "    }\n",
       "\n",
       "    .dataframe tbody tr th {\n",
       "        vertical-align: top;\n",
       "    }\n",
       "\n",
       "    .dataframe thead th {\n",
       "        text-align: right;\n",
       "    }\n",
       "</style>\n",
       "<table border=\"1\" class=\"dataframe\">\n",
       "  <thead>\n",
       "    <tr style=\"text-align: right;\">\n",
       "      <th></th>\n",
       "      <th>chrom</th>\n",
       "      <th>start</th>\n",
       "      <th>end</th>\n",
       "      <th>name</th>\n",
       "      <th>score</th>\n",
       "      <th>strand</th>\n",
       "    </tr>\n",
       "  </thead>\n",
       "  <tbody>\n",
       "    <tr>\n",
       "      <th>0</th>\n",
       "      <td>chr1</td>\n",
       "      <td>16099</td>\n",
       "      <td>16580</td>\n",
       "      <td>all_hnrnpk_rep1_neg_peak_35</td>\n",
       "      <td>81</td>\n",
       "      <td>-</td>\n",
       "    </tr>\n",
       "    <tr>\n",
       "      <th>1</th>\n",
       "      <td>chr1</td>\n",
       "      <td>19237</td>\n",
       "      <td>19896</td>\n",
       "      <td>all_hnrnpk_rep1_neg_peak_36</td>\n",
       "      <td>48</td>\n",
       "      <td>-</td>\n",
       "    </tr>\n",
       "    <tr>\n",
       "      <th>2</th>\n",
       "      <td>chr1</td>\n",
       "      <td>136471</td>\n",
       "      <td>137136</td>\n",
       "      <td>all_hnrnpk_rep1_neg_peak_37</td>\n",
       "      <td>73</td>\n",
       "      <td>-</td>\n",
       "    </tr>\n",
       "    <tr>\n",
       "      <th>3</th>\n",
       "      <td>chr1</td>\n",
       "      <td>186383</td>\n",
       "      <td>187169</td>\n",
       "      <td>all_hnrnpk_rep1_neg_peak_38</td>\n",
       "      <td>54</td>\n",
       "      <td>-</td>\n",
       "    </tr>\n",
       "    <tr>\n",
       "      <th>4</th>\n",
       "      <td>chr1</td>\n",
       "      <td>190825</td>\n",
       "      <td>191102</td>\n",
       "      <td>all_hnrnpk_rep1_neg_peak_39</td>\n",
       "      <td>51</td>\n",
       "      <td>-</td>\n",
       "    </tr>\n",
       "    <tr>\n",
       "      <th>...</th>\n",
       "      <td>...</td>\n",
       "      <td>...</td>\n",
       "      <td>...</td>\n",
       "      <td>...</td>\n",
       "      <td>...</td>\n",
       "      <td>...</td>\n",
       "    </tr>\n",
       "    <tr>\n",
       "      <th>149418</th>\n",
       "      <td>chr9</td>\n",
       "      <td>138179008</td>\n",
       "      <td>138179394</td>\n",
       "      <td>all_hnrnpk_rep1_pos_peak_74674</td>\n",
       "      <td>72</td>\n",
       "      <td>+</td>\n",
       "    </tr>\n",
       "    <tr>\n",
       "      <th>149419</th>\n",
       "      <td>chr9</td>\n",
       "      <td>138232102</td>\n",
       "      <td>138232344</td>\n",
       "      <td>all_hnrnpk_rep1_pos_peak_74675</td>\n",
       "      <td>362</td>\n",
       "      <td>+</td>\n",
       "    </tr>\n",
       "    <tr>\n",
       "      <th>149420</th>\n",
       "      <td>chr9</td>\n",
       "      <td>138232980</td>\n",
       "      <td>138233211</td>\n",
       "      <td>all_hnrnpk_rep1_pos_peak_74676</td>\n",
       "      <td>254</td>\n",
       "      <td>+</td>\n",
       "    </tr>\n",
       "    <tr>\n",
       "      <th>149421</th>\n",
       "      <td>chr9</td>\n",
       "      <td>138276024</td>\n",
       "      <td>138276247</td>\n",
       "      <td>all_hnrnpk_rep1_pos_peak_74677</td>\n",
       "      <td>340</td>\n",
       "      <td>+</td>\n",
       "    </tr>\n",
       "    <tr>\n",
       "      <th>149422</th>\n",
       "      <td>chrM</td>\n",
       "      <td>0</td>\n",
       "      <td>505</td>\n",
       "      <td>all_hnrnpk_rep1_pos_peak_74678</td>\n",
       "      <td>99</td>\n",
       "      <td>+</td>\n",
       "    </tr>\n",
       "  </tbody>\n",
       "</table>\n",
       "<p>145893 rows × 6 columns</p>\n",
       "</div>"
      ],
      "text/plain": [
       "       chrom      start        end                            name  score  \\\n",
       "0       chr1      16099      16580     all_hnrnpk_rep1_neg_peak_35     81   \n",
       "1       chr1      19237      19896     all_hnrnpk_rep1_neg_peak_36     48   \n",
       "2       chr1     136471     137136     all_hnrnpk_rep1_neg_peak_37     73   \n",
       "3       chr1     186383     187169     all_hnrnpk_rep1_neg_peak_38     54   \n",
       "4       chr1     190825     191102     all_hnrnpk_rep1_neg_peak_39     51   \n",
       "...      ...        ...        ...                             ...    ...   \n",
       "149418  chr9  138179008  138179394  all_hnrnpk_rep1_pos_peak_74674     72   \n",
       "149419  chr9  138232102  138232344  all_hnrnpk_rep1_pos_peak_74675    362   \n",
       "149420  chr9  138232980  138233211  all_hnrnpk_rep1_pos_peak_74676    254   \n",
       "149421  chr9  138276024  138276247  all_hnrnpk_rep1_pos_peak_74677    340   \n",
       "149422  chrM          0        505  all_hnrnpk_rep1_pos_peak_74678     99   \n",
       "\n",
       "       strand  \n",
       "0           -  \n",
       "1           -  \n",
       "2           -  \n",
       "3           -  \n",
       "4           -  \n",
       "...       ...  \n",
       "149418      +  \n",
       "149419      +  \n",
       "149420      +  \n",
       "149421      +  \n",
       "149422      +  \n",
       "\n",
       "[145893 rows x 6 columns]"
      ]
     },
     "execution_count": 2,
     "metadata": {},
     "output_type": "execute_result"
    }
   ],
   "source": [
    "binding_data = pd.read_csv(\"/gpfs/commons/home/daknowles/RIPnet/all_hnrnpk_rep1_stranded.narrowPeak.gz\", sep='\\t', usecols=range(6), names=(\"chrom\",\"start\",\"end\",\"name\",\"score\",\"strand\"))\n",
    "binding_data = binding_data[ ~binding_data['chrom'].isin([\"chrX\",\"chrY\"]) ] # only keep autosomes (non sex chromosomes)\n",
    "binding_data = binding_data.sort_values(['chrom', 'start']).drop_duplicates() # sort so we can interleave negatives\n",
    "binding_data"
   ]
  },
  {
   "cell_type": "code",
   "execution_count": 3,
   "metadata": {},
   "outputs": [
    {
     "name": "stderr",
     "output_type": "stream",
     "text": [
      "/gpfs/commons/home/daknowles/.conda/envs/asb/lib/python3.8/site-packages/pandas/util/_decorators.py:311: ParserWarning: Length of header or names does not match length of data. This leads to a loss of data with index_col=False.\n",
      "  return func(*args, **kwargs)\n"
     ]
    },
    {
     "data": {
      "text/html": [
       "<div>\n",
       "<style scoped>\n",
       "    .dataframe tbody tr th:only-of-type {\n",
       "        vertical-align: middle;\n",
       "    }\n",
       "\n",
       "    .dataframe tbody tr th {\n",
       "        vertical-align: top;\n",
       "    }\n",
       "\n",
       "    .dataframe thead th {\n",
       "        text-align: right;\n",
       "    }\n",
       "</style>\n",
       "<table border=\"1\" class=\"dataframe\">\n",
       "  <thead>\n",
       "    <tr style=\"text-align: right;\">\n",
       "      <th></th>\n",
       "      <th>chrom</th>\n",
       "      <th>start</th>\n",
       "      <th>end</th>\n",
       "      <th>name</th>\n",
       "      <th>strand</th>\n",
       "      <th>counts</th>\n",
       "      <th>length</th>\n",
       "    </tr>\n",
       "  </thead>\n",
       "  <tbody>\n",
       "    <tr>\n",
       "      <th>0</th>\n",
       "      <td>chr1</td>\n",
       "      <td>17369</td>\n",
       "      <td>17436</td>\n",
       "      <td>ENSG00000278267.1</td>\n",
       "      <td>-</td>\n",
       "      <td>53</td>\n",
       "      <td>68</td>\n",
       "    </tr>\n",
       "    <tr>\n",
       "      <th>1</th>\n",
       "      <td>chr1</td>\n",
       "      <td>135141</td>\n",
       "      <td>135895</td>\n",
       "      <td>ENSG00000268903.1</td>\n",
       "      <td>-</td>\n",
       "      <td>903</td>\n",
       "      <td>755</td>\n",
       "    </tr>\n",
       "    <tr>\n",
       "      <th>2</th>\n",
       "      <td>chr1</td>\n",
       "      <td>137682</td>\n",
       "      <td>137965</td>\n",
       "      <td>ENSG00000269981.1</td>\n",
       "      <td>-</td>\n",
       "      <td>1206</td>\n",
       "      <td>284</td>\n",
       "    </tr>\n",
       "    <tr>\n",
       "      <th>3</th>\n",
       "      <td>chr1</td>\n",
       "      <td>185217</td>\n",
       "      <td>186383</td>\n",
       "      <td>ENSG00000279457.4</td>\n",
       "      <td>-</td>\n",
       "      <td>295</td>\n",
       "      <td>1397</td>\n",
       "    </tr>\n",
       "    <tr>\n",
       "      <th>4</th>\n",
       "      <td>chr1</td>\n",
       "      <td>187169</td>\n",
       "      <td>190825</td>\n",
       "      <td>ENSG00000279457.4</td>\n",
       "      <td>-</td>\n",
       "      <td>295</td>\n",
       "      <td>1397</td>\n",
       "    </tr>\n",
       "    <tr>\n",
       "      <th>...</th>\n",
       "      <td>...</td>\n",
       "      <td>...</td>\n",
       "      <td>...</td>\n",
       "      <td>...</td>\n",
       "      <td>...</td>\n",
       "      <td>...</td>\n",
       "      <td>...</td>\n",
       "    </tr>\n",
       "    <tr>\n",
       "      <th>126565</th>\n",
       "      <td>chrM</td>\n",
       "      <td>14149</td>\n",
       "      <td>14673</td>\n",
       "      <td>ENSG00000198695.2</td>\n",
       "      <td>-</td>\n",
       "      <td>59390</td>\n",
       "      <td>525</td>\n",
       "    </tr>\n",
       "    <tr>\n",
       "      <th>126566</th>\n",
       "      <td>chrM</td>\n",
       "      <td>14674</td>\n",
       "      <td>14742</td>\n",
       "      <td>ENSG00000210194.1</td>\n",
       "      <td>-</td>\n",
       "      <td>598</td>\n",
       "      <td>69</td>\n",
       "    </tr>\n",
       "    <tr>\n",
       "      <th>126567</th>\n",
       "      <td>chrM</td>\n",
       "      <td>14747</td>\n",
       "      <td>15887</td>\n",
       "      <td>ENSG00000198727.2</td>\n",
       "      <td>+</td>\n",
       "      <td>247327</td>\n",
       "      <td>1141</td>\n",
       "    </tr>\n",
       "    <tr>\n",
       "      <th>126568</th>\n",
       "      <td>chrM</td>\n",
       "      <td>15888</td>\n",
       "      <td>15953</td>\n",
       "      <td>ENSG00000210195.2</td>\n",
       "      <td>+</td>\n",
       "      <td>663</td>\n",
       "      <td>66</td>\n",
       "    </tr>\n",
       "    <tr>\n",
       "      <th>126569</th>\n",
       "      <td>chrM</td>\n",
       "      <td>15956</td>\n",
       "      <td>16023</td>\n",
       "      <td>ENSG00000210196.2</td>\n",
       "      <td>-</td>\n",
       "      <td>3483</td>\n",
       "      <td>68</td>\n",
       "    </tr>\n",
       "  </tbody>\n",
       "</table>\n",
       "<p>126570 rows × 7 columns</p>\n",
       "</div>"
      ],
      "text/plain": [
       "       chrom   start     end               name strand  counts  length\n",
       "0       chr1   17369   17436  ENSG00000278267.1      -      53      68\n",
       "1       chr1  135141  135895  ENSG00000268903.1      -     903     755\n",
       "2       chr1  137682  137965  ENSG00000269981.1      -    1206     284\n",
       "3       chr1  185217  186383  ENSG00000279457.4      -     295    1397\n",
       "4       chr1  187169  190825  ENSG00000279457.4      -     295    1397\n",
       "...      ...     ...     ...                ...    ...     ...     ...\n",
       "126565  chrM   14149   14673  ENSG00000198695.2      -   59390     525\n",
       "126566  chrM   14674   14742  ENSG00000210194.1      -     598      69\n",
       "126567  chrM   14747   15887  ENSG00000198727.2      +  247327    1141\n",
       "126568  chrM   15888   15953  ENSG00000210195.2      +     663      66\n",
       "126569  chrM   15956   16023  ENSG00000210196.2      -    3483      68\n",
       "\n",
       "[126570 rows x 7 columns]"
      ]
     },
     "execution_count": 3,
     "metadata": {},
     "output_type": "execute_result"
    }
   ],
   "source": [
    "unbound = pd.read_csv(\"unbound_regions.bed.gz\", \n",
    "                      sep = \"\\t\", \n",
    "                      names = [\"chrom\", \"start\", \"end\", \"name\", \"strand\", \"counts\", \"length\"],\n",
    "                      index_col = False)\n",
    "unbound"
   ]
  },
  {
   "cell_type": "code",
   "execution_count": 4,
   "metadata": {},
   "outputs": [
    {
     "data": {
      "text/plain": [
       "chrom                            chr1\n",
       "start                          629752\n",
       "end                            629972\n",
       "name      all_hnrnpk_rep1_pos_peak_23\n",
       "score                             246\n",
       "strand                              +\n",
       "Name: 74767, dtype: object"
      ]
     },
     "execution_count": 4,
     "metadata": {},
     "output_type": "execute_result"
    }
   ],
   "source": [
    "unbound[\"score\"] = 0\n",
    "bind_all = pd.concat([binding_data,\n",
    "           unbound.loc[:, ~unbound.columns.isin(['counts', 'length'])]], \n",
    "          axis=0)\n",
    "bind_all.iloc[10]"
   ]
  },
  {
   "cell_type": "code",
   "execution_count": 5,
   "metadata": {
    "id": "80imMbLs0Wxx"
   },
   "outputs": [
    {
     "data": {
      "text/plain": [
       "(0.09493766126042802, 0.1428707751144192)"
      ]
     },
     "execution_count": 5,
     "metadata": {},
     "output_type": "execute_result"
    }
   ],
   "source": [
    "test_chromosomes = [\"chr1\"]\n",
    "test_data = bind_all[ bind_all['chrom'].isin( test_chromosomes ) ]\n",
    "\n",
    "validation_chromosomes = [\"chr2\",\"chr3\"]\n",
    "validation_data = bind_all[ bind_all['chrom'].isin(validation_chromosomes) ]\n",
    "\n",
    "train_chromosomes = [\"chr%i\" % i for i in range(4, 22+1)]\n",
    "train_data = bind_all[ bind_all['chrom'].isin( train_chromosomes ) ]\n",
    "\n",
    "test_data.shape[0] / bind_all.shape[0], validation_data.shape[0] / bind_all.shape[0]"
   ]
  },
  {
   "cell_type": "code",
   "execution_count": 6,
   "metadata": {
    "id": "5fcHay8WzoOA"
   },
   "outputs": [],
   "source": [
    "genome = pickle.load(open(\"/gpfs/commons/home/daknowles/knowles_lab/index/hg38/hg38.pkl\",\"rb\")) # this is here in case there's hg38 data you want to analyse"
   ]
  },
  {
   "cell_type": "code",
   "execution_count": 40,
   "metadata": {},
   "outputs": [],
   "source": [
    "perf = {}\n",
    "for num_chunks in range(1,12):\n",
    "    print(num_chunks)\n",
    "    cnn = biophysnn.CNN_1d(use_flipping=False, \n",
    "                           nchannels = [4, 16, 16, 16], \n",
    "                           n_hidden = 16, \n",
    "                           num_chunks = num_chunks, \n",
    "                           pool_factor = 4, \n",
    "                           filter_widths = [11, 7, 7])\n",
    "    print(\"Input length\", cnn.seq_len)\n",
    "    train_accs, val_accs, train_aucs, val_aucs = biophysnn.train_model(cnn, \n",
    "                                                                       train_data, \n",
    "                                                                       validation_data, \n",
    "                                                                       genome, \n",
    "                                                                       num_workers=8,\n",
    "                                                                       check_point_filename=\"checkpoints/cnn/%i.pt\" % num_chunks, \n",
    "                                                                       verbose = False)\n",
    "    perf[num_chunks] = np.max(val_aucs)"
   ]
  },
  {
   "cell_type": "code",
   "execution_count": 37,
   "metadata": {},
   "outputs": [
    {
     "data": {
      "text/plain": [
       "[<matplotlib.lines.Line2D at 0x7efef52653a0>]"
      ]
     },
     "execution_count": 37,
     "metadata": {},
     "output_type": "execute_result"
    },
    {
     "data": {
      "image/png": "[encoded data removed]",
      "text/plain": [
       "<Figure size 432x288 with 1 Axes>"
      ]
     },
     "metadata": {
      "needs_background": "light"
     },
     "output_type": "display_data"
    }
   ],
   "source": [
    "plt.plot(perf.values())"
   ]
  },
  {
   "cell_type": "code",
   "execution_count": null,
   "metadata": {},
   "outputs": [],
   "source": []
  },
  {
   "cell_type": "code",
   "execution_count": 25,
   "metadata": {},
   "outputs": [
    {
     "data": {
      "text/plain": [
       "30"
      ]
     },
     "execution_count": 25,
     "metadata": {},
     "output_type": "execute_result"
    }
   ],
   "source": [
    "regular_cnn.seq_len"
   ]
  },
  {
   "cell_type": "code",
   "execution_count": null,
   "metadata": {},
   "outputs": [],
   "source": [
    "reload(biophysnn)\n",
    "\n",
    "config = {\n",
    "    'batch_size': 100,\n",
    " 'dropout': 0.1, \n",
    " 'depth': 3,\n",
    " 'first_filter_width': 11,\n",
    " 'filter_width' : 5, \n",
    " 'first_pool_stride' : 7, \n",
    " 'pool_stride' : 4, \n",
    " 'pool_overlap' : 4,\n",
    " 'lr': 1e-3,\n",
    " 'n_channel': 16,\n",
    " 'n_hidden' : 16,\n",
    " 'weight_decay': 0.,\n",
    " 'avgpool' : [True,False], \n",
    " 'exp_log' : [True,False], \n",
    " 'num_chunks' : 7\n",
    "}\n",
    "\n",
    "trainer = biophysnn.Trainable(config)\n",
    "\n",
    "train_metrics_list, val_metrics_list = trainer.my_train(verbose = True,\n",
    " checkpoint_dir = \"checkpoint\")"
   ]
  },
  {
   "cell_type": "code",
   "execution_count": 2,
   "metadata": {},
   "outputs": [],
   "source": [
    "reload(biophysnn)\n",
    "from ray import tune\n",
    "from ray.tune import CLIReporter\n",
    "from ray.tune.schedulers import ASHAScheduler\n",
    "from ray.tune import Analysis\n",
    "config = {\n",
    "    'batch_size': tune.choice([100,200]),\n",
    " 'dropout': tune.choice([0.,0.1,0.25]), \n",
    " 'depth': tune.randint(2,5),\n",
    " 'first_filter_width': tune.choice([5,7,9,11]),\n",
    " 'filter_width' : tune.choice([3,5,7]), \n",
    " 'first_pool_stride' : tune.randint(2,9), \n",
    " 'pool_stride' : tune.randint(2,5), \n",
    " 'pool_overlap' : tune.randint(0,6),\n",
    " 'lr': tune.loguniform(1e-4, 1e-2),\n",
    " 'n_channel': tune.choice([16,32]),\n",
    " 'n_hidden' : tune.choice([16,32,64]),\n",
    " 'weight_decay': tune.loguniform(1e-3, 1e-8),\n",
    " 'avgpool' : tune.choice([[True,False], [False,False], [True,True]]) ,\n",
    " 'exp_log' : tune.choice([[True,False], [False,False], [True,True]]) , \n",
    " 'num_chunks' : tune.choice([3,5,7,9,11]),\n",
    " 'max_seq_len' : 1028, \n",
    "}\n",
    "\n",
    "if False: \n",
    "    result = tune.run(\n",
    "        biophysnn.Trainable,\n",
    "        config = config,\n",
    "        reuse_actors = True, \n",
    "        name = \"logConvExpHNRNP\", \n",
    "        num_samples=100,\n",
    "        checkpoint_freq=1,\n",
    "        scheduler = ASHAScheduler(\n",
    "            max_t=20, \n",
    "            grace_period=2),\n",
    "        resources_per_trial={'gpu': 1} if torch.cuda.is_available() else {\"cpu\": 28, \"gpu\": 0},\n",
    "        metric=\"val_auroc\", # metric to optimize\n",
    "        mode=\"max\"\n",
    "    )"
   ]
  },
  {
   "cell_type": "code",
   "execution_count": 115,
   "metadata": {},
   "outputs": [],
   "source": [
    "import ray\n",
    "ray.shutdown()"
   ]
  },
  {
   "cell_type": "code",
   "execution_count": 4,
   "metadata": {},
   "outputs": [
    {
     "data": {
      "text/plain": [
       "{'avgpool': [False, False],\n",
       " 'batch_size': 200,\n",
       " 'depth': 3,\n",
       " 'dropout': 0.25,\n",
       " 'exp_log': [False, False],\n",
       " 'filter_width': 7,\n",
       " 'first_filter_width': 11,\n",
       " 'first_pool_stride': 8,\n",
       " 'lr': 0.0007007412124604625,\n",
       " 'max_seq_len': 1028,\n",
       " 'n_channel': 32,\n",
       " 'n_hidden': 64,\n",
       " 'num_chunks': 9,\n",
       " 'pool_overlap': 4,\n",
       " 'pool_stride': 3,\n",
       " 'weight_decay': 0.0002876588506983289}"
      ]
     },
     "execution_count": 4,
     "metadata": {},
     "output_type": "execute_result"
    }
   ],
   "source": [
    "\n",
    "analysis = Analysis(\"/gpfs/commons/home/daknowles/ray_results/logConvExpHNRNP/\")\n",
    "\n",
    "analysis.get_best_config(\"val_auroc\",\"max\")\n",
    "\n",
    "#df = analysis.dataframe()\n"
   ]
  },
  {
   "cell_type": "code",
   "execution_count": 7,
   "metadata": {},
   "outputs": [
    {
     "data": {
      "text/plain": [
       "0.9197334943826956"
      ]
     },
     "execution_count": 7,
     "metadata": {},
     "output_type": "execute_result"
    }
   ],
   "source": [
    "df = analysis.dataframe()\n",
    "df.val_auroc.max()"
   ]
  },
  {
   "cell_type": "code",
   "execution_count": 91,
   "metadata": {},
   "outputs": [
    {
     "data": {
      "text/plain": [
       "<matplotlib.collections.PathCollection at 0x7f24a12a6340>"
      ]
     },
     "execution_count": 91,
     "metadata": {},
     "output_type": "execute_result"
    },
    {
     "data": {
      "image/png": "[encoded data removed]",
      "text/plain": [
       "<Figure size 432x288 with 1 Axes>"
      ]
     },
     "metadata": {
      "needs_background": "light"
     },
     "output_type": "display_data"
    }
   ],
   "source": [
    "plt.scatter(df[\"config/batch_size\"], df.val_auroc) # no obvious difference"
   ]
  },
  {
   "cell_type": "code",
   "execution_count": 92,
   "metadata": {},
   "outputs": [
    {
     "data": {
      "text/plain": [
       "<matplotlib.collections.PathCollection at 0x7f2462eeef70>"
      ]
     },
     "execution_count": 92,
     "metadata": {},
     "output_type": "execute_result"
    },
    {
     "data": {
      "image/png": "[encoded data removed]",
      "text/plain": [
       "<Figure size 432x288 with 1 Axes>"
      ]
     },
     "metadata": {
      "needs_background": "light"
     },
     "output_type": "display_data"
    }
   ],
   "source": [
    "plt.scatter(df[\"config/dropout\"], df.val_auroc)# no obvious difference"
   ]
  },
  {
   "cell_type": "code",
   "execution_count": 93,
   "metadata": {},
   "outputs": [
    {
     "data": {
      "text/plain": [
       "<matplotlib.collections.PathCollection at 0x7f2462eca5e0>"
      ]
     },
     "execution_count": 93,
     "metadata": {},
     "output_type": "execute_result"
    },
    {
     "data": {
      "image/png": "[encoded data removed]",
      "text/plain": [
       "<Figure size 432x288 with 1 Axes>"
      ]
     },
     "metadata": {
      "needs_background": "light"
     },
     "output_type": "display_data"
    }
   ],
   "source": [
    "plt.scatter(df[\"config/exp_log\"].astype(str), df.val_auroc) # no obvious difference"
   ]
  },
  {
   "cell_type": "code",
   "execution_count": 94,
   "metadata": {},
   "outputs": [
    {
     "data": {
      "text/plain": [
       "<matplotlib.collections.PathCollection at 0x7f2462e962e0>"
      ]
     },
     "execution_count": 94,
     "metadata": {},
     "output_type": "execute_result"
    },
    {
     "data": {
      "image/png": "[encoded data removed]",
      "text/plain": [
       "<Figure size 432x288 with 1 Axes>"
      ]
     },
     "metadata": {
      "needs_background": "light"
     },
     "output_type": "display_data"
    }
   ],
   "source": [
    "plt.scatter(df[\"config/avgpool\"].astype(str), df.val_auroc) # no obvious difference"
   ]
  },
  {
   "cell_type": "code",
   "execution_count": 95,
   "metadata": {},
   "outputs": [
    {
     "data": {
      "text/plain": [
       "<matplotlib.collections.PathCollection at 0x7f24589aab80>"
      ]
     },
     "execution_count": 95,
     "metadata": {},
     "output_type": "execute_result"
    },
    {
     "data": {
      "image/png": "[encoded data removed]",
      "text/plain": [
       "<Figure size 432x288 with 1 Axes>"
      ]
     },
     "metadata": {
      "needs_background": "light"
     },
     "output_type": "display_data"
    }
   ],
   "source": [
    "plt.scatter(df[\"config/filter_width\"], df.val_auroc) "
   ]
  },
  {
   "cell_type": "code",
   "execution_count": 96,
   "metadata": {},
   "outputs": [
    {
     "data": {
      "text/plain": [
       "<matplotlib.collections.PathCollection at 0x7f2458900d00>"
      ]
     },
     "execution_count": 96,
     "metadata": {},
     "output_type": "execute_result"
    },
    {
     "data": {
      "image/png": "[encoded data removed]",
      "text/plain": [
       "<Figure size 432x288 with 1 Axes>"
      ]
     },
     "metadata": {
      "needs_background": "light"
     },
     "output_type": "display_data"
    }
   ],
   "source": [
    "plt.scatter(df[\"config/first_filter_width\"], df.val_auroc)  # 5 is too short, 9 seems good"
   ]
  },
  {
   "cell_type": "code",
   "execution_count": 97,
   "metadata": {},
   "outputs": [
    {
     "data": {
      "text/plain": [
       "<matplotlib.collections.PathCollection at 0x7f24588d7f40>"
      ]
     },
     "execution_count": 97,
     "metadata": {},
     "output_type": "execute_result"
    },
    {
     "data": {
      "image/png": "[encoded data removed]",
      "text/plain": [
       "<Figure size 432x288 with 1 Axes>"
      ]
     },
     "metadata": {
      "needs_background": "light"
     },
     "output_type": "display_data"
    }
   ],
   "source": [
    "plt.scatter(df[\"config/first_pool_stride\"], df.val_auroc) # at least 4"
   ]
  },
  {
   "cell_type": "code",
   "execution_count": 98,
   "metadata": {},
   "outputs": [
    {
     "data": {
      "text/plain": [
       "<matplotlib.collections.PathCollection at 0x7f245883c1c0>"
      ]
     },
     "execution_count": 98,
     "metadata": {},
     "output_type": "execute_result"
    },
    {
     "data": {
      "image/png": "[encoded data removed]",
      "text/plain": [
       "<Figure size 432x288 with 1 Axes>"
      ]
     },
     "metadata": {
      "needs_background": "light"
     },
     "output_type": "display_data"
    }
   ],
   "source": [
    "plt.scatter(df[\"config/pool_stride\"], df.val_auroc)"
   ]
  },
  {
   "cell_type": "code",
   "execution_count": 99,
   "metadata": {},
   "outputs": [
    {
     "data": {
      "text/plain": [
       "<matplotlib.collections.PathCollection at 0x7f24588183d0>"
      ]
     },
     "execution_count": 99,
     "metadata": {},
     "output_type": "execute_result"
    },
    {
     "data": {
      "image/png": "[encoded data removed]",
      "text/plain": [
       "<Figure size 432x288 with 1 Axes>"
      ]
     },
     "metadata": {
      "needs_background": "light"
     },
     "output_type": "display_data"
    }
   ],
   "source": [
    "plt.scatter(df[\"config/pool_overlap\"], df.val_auroc) # 4 is good, <3 is bad"
   ]
  },
  {
   "cell_type": "code",
   "execution_count": 100,
   "metadata": {},
   "outputs": [
    {
     "data": {
      "text/plain": [
       "<matplotlib.collections.PathCollection at 0x7f2458770700>"
      ]
     },
     "execution_count": 100,
     "metadata": {},
     "output_type": "execute_result"
    },
    {
     "data": {
      "image/png": "[encoded data removed]",
      "text/plain": [
       "<Figure size 432x288 with 1 Axes>"
      ]
     },
     "metadata": {
      "needs_background": "light"
     },
     "output_type": "display_data"
    }
   ],
   "source": [
    "plt.scatter(df[\"config/num_chunks\"], df.val_auroc) # 9 is best"
   ]
  },
  {
   "cell_type": "code",
   "execution_count": 101,
   "metadata": {},
   "outputs": [
    {
     "data": {
      "text/plain": [
       "<matplotlib.collections.PathCollection at 0x7f245874b7f0>"
      ]
     },
     "execution_count": 101,
     "metadata": {},
     "output_type": "execute_result"
    },
    {
     "data": {
      "image/png": "[encoded data removed]",
      "text/plain": [
       "<Figure size 432x288 with 1 Axes>"
      ]
     },
     "metadata": {
      "needs_background": "light"
     },
     "output_type": "display_data"
    }
   ],
   "source": [
    "plt.scatter(df[\"config/depth\"], df.val_auroc)  # 3 is good"
   ]
  },
  {
   "cell_type": "code",
   "execution_count": 102,
   "metadata": {},
   "outputs": [
    {
     "data": {
      "text/plain": [
       "<matplotlib.collections.PathCollection at 0x7f24587253a0>"
      ]
     },
     "execution_count": 102,
     "metadata": {},
     "output_type": "execute_result"
    },
    {
     "data": {
      "image/png": "[encoded data removed]",
      "text/plain": [
       "<Figure size 432x288 with 1 Axes>"
      ]
     },
     "metadata": {
      "needs_background": "light"
     },
     "output_type": "display_data"
    }
   ],
   "source": [
    "plt.scatter(df[\"config/n_channel\"], df.val_auroc)"
   ]
  },
  {
   "cell_type": "code",
   "execution_count": 103,
   "metadata": {},
   "outputs": [
    {
     "data": {
      "text/plain": [
       "<matplotlib.collections.PathCollection at 0x7f245867c400>"
      ]
     },
     "execution_count": 103,
     "metadata": {},
     "output_type": "execute_result"
    },
    {
     "data": {
      "image/png": "[encoded data removed]",
      "text/plain": [
       "<Figure size 432x288 with 1 Axes>"
      ]
     },
     "metadata": {
      "needs_background": "light"
     },
     "output_type": "display_data"
    }
   ],
   "source": [
    "plt.scatter(df[\"config/n_hidden\"], df.val_auroc)"
   ]
  },
  {
   "cell_type": "code",
   "execution_count": 104,
   "metadata": {},
   "outputs": [
    {
     "data": {
      "text/plain": [
       "<matplotlib.collections.PathCollection at 0x7f2458646b20>"
      ]
     },
     "execution_count": 104,
     "metadata": {},
     "output_type": "execute_result"
    },
    {
     "data": {
      "image/png": "[encoded data removed]",
      "text/plain": [
       "<Figure size 432x288 with 1 Axes>"
      ]
     },
     "metadata": {
      "needs_background": "light"
     },
     "output_type": "display_data"
    }
   ],
   "source": [
    "plt.scatter(np.log10(df[\"config/lr\"]), df.val_auroc)"
   ]
  },
  {
   "cell_type": "code",
   "execution_count": 105,
   "metadata": {},
   "outputs": [
    {
     "name": "stderr",
     "output_type": "stream",
     "text": [
      "/gpfs/commons/home/daknowles/.conda/envs/asb/lib/python3.8/site-packages/pandas/core/arraylike.py:364: RuntimeWarning: divide by zero encountered in log10\n",
      "  result = getattr(ufunc, method)(*inputs, **kwargs)\n"
     ]
    },
    {
     "data": {
      "text/plain": [
       "<matplotlib.collections.PathCollection at 0x7f245861eac0>"
      ]
     },
     "execution_count": 105,
     "metadata": {},
     "output_type": "execute_result"
    },
    {
     "data": {
      "image/png": "[encoded data removed]",
      "text/plain": [
       "<Figure size 432x288 with 1 Axes>"
      ]
     },
     "metadata": {
      "needs_background": "light"
     },
     "output_type": "display_data"
    }
   ],
   "source": [
    "plt.scatter(np.log10(df[\"config/weight_decay\"]), df.val_auroc)"
   ]
  },
  {
   "cell_type": "code",
   "execution_count": 106,
   "metadata": {},
   "outputs": [
    {
     "data": {
      "text/plain": [
       "<matplotlib.collections.PathCollection at 0x7f2458579160>"
      ]
     },
     "execution_count": 106,
     "metadata": {},
     "output_type": "execute_result"
    },
    {
     "data": {
      "image/png": "[encoded data removed]",
      "text/plain": [
       "<Figure size 432x288 with 1 Axes>"
      ]
     },
     "metadata": {
      "needs_background": "light"
     },
     "output_type": "display_data"
    }
   ],
   "source": [
    "plt.scatter(df[\"training_iteration\"], df.val_auroc)"
   ]
  },
  {
   "cell_type": "code",
   "execution_count": 107,
   "metadata": {},
   "outputs": [
    {
     "data": {
      "text/plain": [
       "(0.9154966936436036, 0.9035096166801642)"
      ]
     },
     "execution_count": 107,
     "metadata": {},
     "output_type": "execute_result"
    }
   ],
   "source": [
    "biop = (df[\"config/avgpool\"].astype(str) != \"[False, False]\") & (df[\"config/exp_log\"].astype(str) != \"[False, False]\")\n",
    "df[biop].val_auroc.max(), df[biop].val_auroc.median()"
   ]
  },
  {
   "cell_type": "code",
   "execution_count": 108,
   "metadata": {},
   "outputs": [
    {
     "data": {
      "text/plain": [
       "(0.9214463275133792, 0.9156057851676898)"
      ]
     },
     "execution_count": 108,
     "metadata": {},
     "output_type": "execute_result"
    }
   ],
   "source": [
    "notbiop = (df[\"config/avgpool\"].astype(str) == \"[False, False]\") & (df[\"config/exp_log\"].astype(str) == \"[False, False]\")\n",
    "df[notbiop].val_auroc.max(), df[notbiop].val_auroc.median()"
   ]
  },
  {
   "cell_type": "code",
   "execution_count": 53,
   "metadata": {},
   "outputs": [
    {
     "data": {
      "text/plain": [
       "0     /gpfs/commons/home/daknowles/ray_results/logCo...\n",
       "1     /gpfs/commons/home/daknowles/ray_results/logCo...\n",
       "2     /gpfs/commons/home/daknowles/ray_results/logCo...\n",
       "3     /gpfs/commons/home/daknowles/ray_results/logCo...\n",
       "4     /gpfs/commons/home/daknowles/ray_results/logCo...\n",
       "                            ...                        \n",
       "70    /gpfs/commons/home/daknowles/ray_results/logCo...\n",
       "71    /gpfs/commons/home/daknowles/ray_results/logCo...\n",
       "72    /gpfs/commons/home/daknowles/ray_results/logCo...\n",
       "73    /gpfs/commons/home/daknowles/ray_results/logCo...\n",
       "74    /gpfs/commons/home/daknowles/ray_results/logCo...\n",
       "Name: logdir, Length: 75, dtype: object"
      ]
     },
     "execution_count": 53,
     "metadata": {},
     "output_type": "execute_result"
    }
   ],
   "source": []
  },
  {
   "cell_type": "code",
   "execution_count": 56,
   "metadata": {},
   "outputs": [],
   "source": [
    "trainer = biophysnn.Trainable(config)"
   ]
  },
  {
   "cell_type": "code",
   "execution_count": 89,
   "metadata": {},
   "outputs": [
    {
     "name": "stdout",
     "output_type": "stream",
     "text": [
      "Receptive field: 389 Chunk size: 48 Number chunks: 11\n",
      "Receptive field: 328 Chunk size: 40 Number chunks: 11\n",
      "Receptive field: 172 Chunk size: 64 Number chunks: 11\n",
      "Receptive field: 260 Chunk size: 80 Number chunks: 9\n",
      "Receptive field: 460 Chunk size: 64 Number chunks: 11\n",
      "Receptive field: 405 Chunk size: 64 Number chunks: 7\n",
      "Receptive field: 500 Chunk size: 56 Number chunks: 7\n",
      "Receptive field: 189 Chunk size: 64 Number chunks: 11\n",
      "Receptive field: 460 Chunk size: 64 Number chunks: 7\n",
      "Receptive field: 191 Chunk size: 64 Number chunks: 9\n",
      "Receptive field: 513 Chunk size: 64 Number chunks: 11\n",
      "Receptive field: 211 Chunk size: 128 Number chunks: 7\n",
      "Receptive field: 236 Chunk size: 80 Number chunks: 9\n",
      "Receptive field: 405 Chunk size: 64 Number chunks: 7\n",
      "Receptive field: 332 Chunk size: 72 Number chunks: 9\n",
      "Receptive field: 481 Chunk size: 108 Number chunks: 9\n",
      "Receptive field: 292 Chunk size: 63 Number chunks: 9\n",
      "Receptive field: 191 Chunk size: 64 Number chunks: 9\n",
      "Receptive field: 153 Chunk size: 64 Number chunks: 11\n",
      "Receptive field: 345 Chunk size: 96 Number chunks: 11\n",
      "Receptive field: 223 Chunk size: 96 Number chunks: 9\n",
      "Receptive field: 212 Chunk size: 64 Number chunks: 9\n",
      "Receptive field: 289 Chunk size: 64 Number chunks: 11\n",
      "Receptive field: 294 Chunk size: 63 Number chunks: 11\n",
      "Receptive field: 334 Chunk size: 128 Number chunks: 7\n",
      "Receptive field: 214 Chunk size: 80 Number chunks: 7\n",
      "Receptive field: 174 Chunk size: 64 Number chunks: 11\n",
      "Receptive field: 453 Chunk size: 128 Number chunks: 7\n",
      "Receptive field: 479 Chunk size: 108 Number chunks: 9\n",
      "Receptive field: 271 Chunk size: 108 Number chunks: 11\n",
      "Receptive field: 458 Chunk size: 64 Number chunks: 9\n",
      "Receptive field: 262 Chunk size: 80 Number chunks: 11\n",
      "Receptive field: 252 Chunk size: 96 Number chunks: 7\n",
      "Receptive field: 153 Chunk size: 63 Number chunks: 11\n",
      "Receptive field: 254 Chunk size: 112 Number chunks: 9\n",
      "Receptive field: 263 Chunk size: 63 Number chunks: 11\n",
      "Receptive field: 293 Chunk size: 128 Number chunks: 7\n",
      "Receptive field: 570 Chunk size: 64 Number chunks: 9\n",
      "Receptive field: 301 Chunk size: 72 Number chunks: 9\n",
      "Receptive field: 193 Chunk size: 64 Number chunks: 11\n",
      "Receptive field: 326 Chunk size: 112 Number chunks: 7\n",
      "Receptive field: 464 Chunk size: 135 Number chunks: 7\n",
      "Receptive field: 452 Chunk size: 56 Number chunks: 11\n",
      "Receptive field: 406 Chunk size: 56 Number chunks: 7\n",
      "Receptive field: 450 Chunk size: 56 Number chunks: 9\n",
      "Receptive field: 321 Chunk size: 63 Number chunks: 9\n",
      "Receptive field: 403 Chunk size: 64 Number chunks: 9\n",
      "Receptive field: 326 Chunk size: 112 Number chunks: 9\n",
      "Receptive field: 534 Chunk size: 135 Number chunks: 7\n",
      "Receptive field: 434 Chunk size: 48 Number chunks: 9\n",
      "Receptive field: 328 Chunk size: 40 Number chunks: 11\n",
      "Receptive field: 373 Chunk size: 128 Number chunks: 7\n"
     ]
    }
   ],
   "source": [
    "import json\n",
    "from pathlib import Path\n",
    "seq_lens = []\n",
    "for i in range(len(df)):\n",
    "    logdir = Path(df.logdir.iloc[i])\n",
    "    progress = pd.read_csv(logdir / \"progress.csv\")\n",
    "    checkpoint = logdir / (\"checkpoint_%i\" % (progress.val_auroc.argmax() + 1)) \n",
    "    config = json.load(open(logdir / \"params.json\"))\n",
    "    trainer.reset_config(config)\n",
    "    seq_lens.append(trainer.model.seq_len)\n",
    "df[\"seq_lens\"] = seq_lens"
   ]
  },
  {
   "cell_type": "code",
   "execution_count": 72,
   "metadata": {},
   "outputs": [
    {
     "data": {
      "text/plain": [
       "<matplotlib.collections.PathCollection at 0x7f24c8c788e0>"
      ]
     },
     "execution_count": 72,
     "metadata": {},
     "output_type": "execute_result"
    },
    {
     "data": {
      "image/png": "[encoded data removed]",
      "text/plain": [
       "<Figure size 432x288 with 1 Axes>"
      ]
     },
     "metadata": {
      "needs_background": "light"
     },
     "output_type": "display_data"
    }
   ],
   "source": [
    "plt.scatter(df[\"seq_lens\"], df.val_auroc)"
   ]
  },
  {
   "cell_type": "code",
   "execution_count": 109,
   "metadata": {},
   "outputs": [
    {
     "data": {
      "text/plain": [
       "<AxesSubplot:xlabel='seq_lens', ylabel='val_auroc'>"
      ]
     },
     "execution_count": 109,
     "metadata": {},
     "output_type": "execute_result"
    },
    {
     "data": {
      "image/png": "[encoded data removed]",
      "text/plain": [
       "<Figure size 432x288 with 1 Axes>"
      ]
     },
     "metadata": {
      "needs_background": "light"
     },
     "output_type": "display_data"
    }
   ],
   "source": [
    "import seaborn as sns\n",
    "sns.scatterplot(df[\"seq_lens\"], df.val_auroc, hue = df[\"config/exp_log\"].astype(str))"
   ]
  },
  {
   "cell_type": "code",
   "execution_count": 110,
   "metadata": {},
   "outputs": [
    {
     "data": {
      "text/plain": [
       "<AxesSubplot:xlabel='seq_lens', ylabel='val_auroc'>"
      ]
     },
     "execution_count": 110,
     "metadata": {},
     "output_type": "execute_result"
    },
    {
     "data": {
      "image/png": "[encoded data removed]",
      "text/plain": [
       "<Figure size 432x288 with 1 Axes>"
      ]
     },
     "metadata": {
      "needs_background": "light"
     },
     "output_type": "display_data"
    }
   ],
   "source": [
    "sns.scatterplot(df[\"seq_lens\"], df.val_auroc, hue = df[\"config/avgpool\"].astype(str))"
   ]
  },
  {
   "cell_type": "code",
   "execution_count": null,
   "metadata": {},
   "outputs": [],
   "source": []
  },
  {
   "cell_type": "code",
   "execution_count": 82,
   "metadata": {},
   "outputs": [],
   "source": [
    "reload(biophysnn)\n",
    "from ray import tune\n",
    "from ray.tune import CLIReporter\n",
    "from ray.tune.schedulers import ASHAScheduler\n",
    "from ray.tune import Analysis\n",
    "config = {\n",
    "    'batch_size': 100,\n",
    " 'dropout': tune.choice([0.,0.1,0.25]), \n",
    " 'depth': tune.randint(3,5),\n",
    " 'first_filter_width': tune.choice([7,9,11]),\n",
    " 'filter_width' : tune.choice([3,5,7]), \n",
    " 'first_pool_stride' : tune.randint(4,9), \n",
    " 'pool_stride' : tune.randint(2,5), \n",
    " 'pool_overlap' : tune.randint(3,6),\n",
    " 'lr': 1e-3,\n",
    " 'n_channel': 32,\n",
    " 'n_hidden' : tune.choice([16,32,64]),\n",
    " 'weight_decay': 0.,\n",
    " 'avgpool' : tune.choice([[True,False], [False,False], [True,True]]) ,\n",
    " 'exp_log' : tune.choice([[True,False], [False,False], [True,True]]) , \n",
    " 'num_chunks' : tune.choice([7,9,11]),\n",
    "    'min_seq_len' : 750, \n",
    " 'max_seq_len' : 1500, \n",
    "}\n",
    "\n",
    "if False: \n",
    "    result = tune.run(\n",
    "        biophysnn.Trainable,\n",
    "        config = config,\n",
    "        reuse_actors = True, \n",
    "        name = \"logConvExpHNRNPK2\", \n",
    "        num_samples=200,\n",
    "        checkpoint_freq=1,\n",
    "        scheduler = ASHAScheduler(\n",
    "            max_t=30, \n",
    "            grace_period=3),\n",
    "        resources_per_trial={'gpu': 1} if torch.cuda.is_available() else {\"cpu\": 28, \"gpu\": 0},\n",
    "        metric=\"val_auroc\", # metric to optimize\n",
    "        mode=\"max\"\n",
    "    )"
   ]
  },
  {
   "cell_type": "code",
   "execution_count": 81,
   "metadata": {},
   "outputs": [
    {
     "data": {
      "text/plain": [
       "1"
      ]
     },
     "execution_count": 81,
     "metadata": {},
     "output_type": "execute_result"
    }
   ],
   "source": [
    "1"
   ]
  },
  {
   "cell_type": "code",
   "execution_count": 84,
   "metadata": {},
   "outputs": [],
   "source": [
    "\n",
    "analysis = Analysis(\"/gpfs/commons/home/daknowles/ray_results/logConvExpHNRNPK2/\")\n",
    "\n",
    "analysis.get_best_config(\"val_auroc\",\"max\")\n",
    "\n",
    "df = analysis.dataframe()\n"
   ]
  },
  {
   "cell_type": "code",
   "execution_count": 90,
   "metadata": {},
   "outputs": [
    {
     "data": {
      "text/plain": [
       "<matplotlib.collections.PathCollection at 0x7f24d34dc970>"
      ]
     },
     "execution_count": 90,
     "metadata": {},
     "output_type": "execute_result"
    },
    {
     "data": {
      "image/png": "[encoded data removed]",
      "text/plain": [
       "<Figure size 432x288 with 1 Axes>"
      ]
     },
     "metadata": {
      "needs_background": "light"
     },
     "output_type": "display_data"
    }
   ],
   "source": [
    "plt.scatter(df[\"seq_lens\"], df.val_auroc)"
   ]
  },
  {
   "cell_type": "code",
   "execution_count": 112,
   "metadata": {},
   "outputs": [
    {
     "data": {
      "text/plain": [
       "{'avgpool': [False, False],\n",
       " 'batch_size': 100,\n",
       " 'depth': 3,\n",
       " 'dropout': 0.1,\n",
       " 'exp_log': [False, False],\n",
       " 'filter_width': 7,\n",
       " 'first_filter_width': 11,\n",
       " 'first_pool_stride': 6,\n",
       " 'lr': 0.001,\n",
       " 'max_seq_len': 1500,\n",
       " 'min_seq_len': 750,\n",
       " 'n_channel': 32,\n",
       " 'n_hidden': 64,\n",
       " 'num_chunks': 11,\n",
       " 'pool_overlap': 5,\n",
       " 'pool_stride': 4,\n",
       " 'weight_decay': 0.0}"
      ]
     },
     "execution_count": 112,
     "metadata": {},
     "output_type": "execute_result"
    }
   ],
   "source": [
    "config = analysis.get_best_config(\"val_auroc\",\"max\")\n",
    "config"
   ]
  },
  {
   "cell_type": "code",
   "execution_count": 114,
   "metadata": {},
   "outputs": [],
   "source": [
    "if False: \n",
    "    result = tune.run(\n",
    "        biophysnn.Trainable,\n",
    "        config = config,\n",
    "        reuse_actors = True, \n",
    "        name = \"logConvExpHNRNPK_ensemble\", \n",
    "        num_samples=20,\n",
    "        checkpoint_freq=1,\n",
    "        scheduler = ASHAScheduler(\n",
    "            max_t=100, \n",
    "            grace_period=3),\n",
    "        resources_per_trial={'gpu': 1} if torch.cuda.is_available() else {\"cpu\": 28, \"gpu\": 0},\n",
    "        metric=\"val_auroc\", # metric to optimize\n",
    "        mode=\"max\"\n",
    "    )"
   ]
  },
  {
   "cell_type": "code",
   "execution_count": 121,
   "metadata": {},
   "outputs": [
    {
     "data": {
      "text/html": [
       "<div>\n",
       "<style scoped>\n",
       "    .dataframe tbody tr th:only-of-type {\n",
       "        vertical-align: middle;\n",
       "    }\n",
       "\n",
       "    .dataframe tbody tr th {\n",
       "        vertical-align: top;\n",
       "    }\n",
       "\n",
       "    .dataframe thead th {\n",
       "        text-align: right;\n",
       "    }\n",
       "</style>\n",
       "<table border=\"1\" class=\"dataframe\">\n",
       "  <thead>\n",
       "    <tr style=\"text-align: right;\">\n",
       "      <th></th>\n",
       "      <th>val_loss</th>\n",
       "      <th>val_acc</th>\n",
       "      <th>val_auroc</th>\n",
       "      <th>done</th>\n",
       "      <th>timesteps_total</th>\n",
       "      <th>episodes_total</th>\n",
       "      <th>training_iteration</th>\n",
       "      <th>experiment_id</th>\n",
       "      <th>date</th>\n",
       "      <th>timestamp</th>\n",
       "      <th>...</th>\n",
       "      <th>config/lr</th>\n",
       "      <th>config/max_seq_len</th>\n",
       "      <th>config/min_seq_len</th>\n",
       "      <th>config/n_channel</th>\n",
       "      <th>config/n_hidden</th>\n",
       "      <th>config/num_chunks</th>\n",
       "      <th>config/pool_overlap</th>\n",
       "      <th>config/pool_stride</th>\n",
       "      <th>config/weight_decay</th>\n",
       "      <th>logdir</th>\n",
       "    </tr>\n",
       "  </thead>\n",
       "  <tbody>\n",
       "    <tr>\n",
       "      <th>10</th>\n",
       "      <td>0.351096</td>\n",
       "      <td>0.845352</td>\n",
       "      <td>0.924066</td>\n",
       "      <td>True</td>\n",
       "      <td>NaN</td>\n",
       "      <td>NaN</td>\n",
       "      <td>12</td>\n",
       "      <td>3d147a7a564e4dac94f06fe502a24aba</td>\n",
       "      <td>2022-08-29_02-03-09</td>\n",
       "      <td>1661752989</td>\n",
       "      <td>...</td>\n",
       "      <td>0.001</td>\n",
       "      <td>1500</td>\n",
       "      <td>750</td>\n",
       "      <td>32</td>\n",
       "      <td>64</td>\n",
       "      <td>11</td>\n",
       "      <td>5</td>\n",
       "      <td>4</td>\n",
       "      <td>0.0</td>\n",
       "      <td>/gpfs/commons/home/daknowles/ray_results/logCo...</td>\n",
       "    </tr>\n",
       "    <tr>\n",
       "      <th>8</th>\n",
       "      <td>0.348894</td>\n",
       "      <td>0.849462</td>\n",
       "      <td>0.921047</td>\n",
       "      <td>True</td>\n",
       "      <td>NaN</td>\n",
       "      <td>NaN</td>\n",
       "      <td>3</td>\n",
       "      <td>8eddc4a5219d4882b1aacf975679d037</td>\n",
       "      <td>2022-08-29_06-18-12</td>\n",
       "      <td>1661768292</td>\n",
       "      <td>...</td>\n",
       "      <td>0.001</td>\n",
       "      <td>1500</td>\n",
       "      <td>750</td>\n",
       "      <td>32</td>\n",
       "      <td>64</td>\n",
       "      <td>11</td>\n",
       "      <td>5</td>\n",
       "      <td>4</td>\n",
       "      <td>0.0</td>\n",
       "      <td>/gpfs/commons/home/daknowles/ray_results/logCo...</td>\n",
       "    </tr>\n",
       "    <tr>\n",
       "      <th>0</th>\n",
       "      <td>0.349261</td>\n",
       "      <td>0.848588</td>\n",
       "      <td>0.920777</td>\n",
       "      <td>True</td>\n",
       "      <td>NaN</td>\n",
       "      <td>NaN</td>\n",
       "      <td>3</td>\n",
       "      <td>aace5c8e485c4e08b0c83144ecd6d9df</td>\n",
       "      <td>2022-08-29_04-05-08</td>\n",
       "      <td>1661760308</td>\n",
       "      <td>...</td>\n",
       "      <td>0.001</td>\n",
       "      <td>1500</td>\n",
       "      <td>750</td>\n",
       "      <td>32</td>\n",
       "      <td>64</td>\n",
       "      <td>11</td>\n",
       "      <td>5</td>\n",
       "      <td>4</td>\n",
       "      <td>0.0</td>\n",
       "      <td>/gpfs/commons/home/daknowles/ray_results/logCo...</td>\n",
       "    </tr>\n",
       "    <tr>\n",
       "      <th>5</th>\n",
       "      <td>0.356302</td>\n",
       "      <td>0.841729</td>\n",
       "      <td>0.920609</td>\n",
       "      <td>True</td>\n",
       "      <td>NaN</td>\n",
       "      <td>NaN</td>\n",
       "      <td>3</td>\n",
       "      <td>053cca8463db4041a503fb7d6c84c714</td>\n",
       "      <td>2022-08-29_06-00-34</td>\n",
       "      <td>1661767234</td>\n",
       "      <td>...</td>\n",
       "      <td>0.001</td>\n",
       "      <td>1500</td>\n",
       "      <td>750</td>\n",
       "      <td>32</td>\n",
       "      <td>64</td>\n",
       "      <td>11</td>\n",
       "      <td>5</td>\n",
       "      <td>4</td>\n",
       "      <td>0.0</td>\n",
       "      <td>/gpfs/commons/home/daknowles/ray_results/logCo...</td>\n",
       "    </tr>\n",
       "    <tr>\n",
       "      <th>12</th>\n",
       "      <td>0.351606</td>\n",
       "      <td>0.846302</td>\n",
       "      <td>0.920429</td>\n",
       "      <td>True</td>\n",
       "      <td>NaN</td>\n",
       "      <td>NaN</td>\n",
       "      <td>3</td>\n",
       "      <td>32b457309f234774a12ee96803d417fe</td>\n",
       "      <td>2022-08-29_06-14-35</td>\n",
       "      <td>1661768075</td>\n",
       "      <td>...</td>\n",
       "      <td>0.001</td>\n",
       "      <td>1500</td>\n",
       "      <td>750</td>\n",
       "      <td>32</td>\n",
       "      <td>64</td>\n",
       "      <td>11</td>\n",
       "      <td>5</td>\n",
       "      <td>4</td>\n",
       "      <td>0.0</td>\n",
       "      <td>/gpfs/commons/home/daknowles/ray_results/logCo...</td>\n",
       "    </tr>\n",
       "    <tr>\n",
       "      <th>3</th>\n",
       "      <td>0.355909</td>\n",
       "      <td>0.843682</td>\n",
       "      <td>0.920399</td>\n",
       "      <td>True</td>\n",
       "      <td>NaN</td>\n",
       "      <td>NaN</td>\n",
       "      <td>3</td>\n",
       "      <td>b798e6720ca54f73b1526fa11bef371d</td>\n",
       "      <td>2022-08-29_02-06-36</td>\n",
       "      <td>1661753196</td>\n",
       "      <td>...</td>\n",
       "      <td>0.001</td>\n",
       "      <td>1500</td>\n",
       "      <td>750</td>\n",
       "      <td>32</td>\n",
       "      <td>64</td>\n",
       "      <td>11</td>\n",
       "      <td>5</td>\n",
       "      <td>4</td>\n",
       "      <td>0.0</td>\n",
       "      <td>/gpfs/commons/home/daknowles/ray_results/logCo...</td>\n",
       "    </tr>\n",
       "    <tr>\n",
       "      <th>19</th>\n",
       "      <td>0.349901</td>\n",
       "      <td>0.848126</td>\n",
       "      <td>0.920236</td>\n",
       "      <td>True</td>\n",
       "      <td>NaN</td>\n",
       "      <td>NaN</td>\n",
       "      <td>3</td>\n",
       "      <td>2367fe6ccd0749748eeaee9662bc1970</td>\n",
       "      <td>2022-08-29_06-07-35</td>\n",
       "      <td>1661767655</td>\n",
       "      <td>...</td>\n",
       "      <td>0.001</td>\n",
       "      <td>1500</td>\n",
       "      <td>750</td>\n",
       "      <td>32</td>\n",
       "      <td>64</td>\n",
       "      <td>11</td>\n",
       "      <td>5</td>\n",
       "      <td>4</td>\n",
       "      <td>0.0</td>\n",
       "      <td>/gpfs/commons/home/daknowles/ray_results/logCo...</td>\n",
       "    </tr>\n",
       "    <tr>\n",
       "      <th>7</th>\n",
       "      <td>0.350995</td>\n",
       "      <td>0.846379</td>\n",
       "      <td>0.919996</td>\n",
       "      <td>True</td>\n",
       "      <td>NaN</td>\n",
       "      <td>NaN</td>\n",
       "      <td>3</td>\n",
       "      <td>6ab5e12225314b8ab1a3cf3f69b66684</td>\n",
       "      <td>2022-08-29_06-32-28</td>\n",
       "      <td>1661769148</td>\n",
       "      <td>...</td>\n",
       "      <td>0.001</td>\n",
       "      <td>1500</td>\n",
       "      <td>750</td>\n",
       "      <td>32</td>\n",
       "      <td>64</td>\n",
       "      <td>11</td>\n",
       "      <td>5</td>\n",
       "      <td>4</td>\n",
       "      <td>0.0</td>\n",
       "      <td>/gpfs/commons/home/daknowles/ray_results/logCo...</td>\n",
       "    </tr>\n",
       "    <tr>\n",
       "      <th>14</th>\n",
       "      <td>0.351613</td>\n",
       "      <td>0.847432</td>\n",
       "      <td>0.919574</td>\n",
       "      <td>True</td>\n",
       "      <td>NaN</td>\n",
       "      <td>NaN</td>\n",
       "      <td>3</td>\n",
       "      <td>31e32597e916405d800c8c4d8f5a16e4</td>\n",
       "      <td>2022-08-29_06-21-41</td>\n",
       "      <td>1661768501</td>\n",
       "      <td>...</td>\n",
       "      <td>0.001</td>\n",
       "      <td>1500</td>\n",
       "      <td>750</td>\n",
       "      <td>32</td>\n",
       "      <td>64</td>\n",
       "      <td>11</td>\n",
       "      <td>5</td>\n",
       "      <td>4</td>\n",
       "      <td>0.0</td>\n",
       "      <td>/gpfs/commons/home/daknowles/ray_results/logCo...</td>\n",
       "    </tr>\n",
       "    <tr>\n",
       "      <th>15</th>\n",
       "      <td>0.358620</td>\n",
       "      <td>0.841216</td>\n",
       "      <td>0.919268</td>\n",
       "      <td>True</td>\n",
       "      <td>NaN</td>\n",
       "      <td>NaN</td>\n",
       "      <td>3</td>\n",
       "      <td>87f009f0848d43f7afafe0537f6f69b4</td>\n",
       "      <td>2022-08-29_06-28-51</td>\n",
       "      <td>1661768931</td>\n",
       "      <td>...</td>\n",
       "      <td>0.001</td>\n",
       "      <td>1500</td>\n",
       "      <td>750</td>\n",
       "      <td>32</td>\n",
       "      <td>64</td>\n",
       "      <td>11</td>\n",
       "      <td>5</td>\n",
       "      <td>4</td>\n",
       "      <td>0.0</td>\n",
       "      <td>/gpfs/commons/home/daknowles/ray_results/logCo...</td>\n",
       "    </tr>\n",
       "    <tr>\n",
       "      <th>18</th>\n",
       "      <td>0.358877</td>\n",
       "      <td>0.842577</td>\n",
       "      <td>0.918926</td>\n",
       "      <td>True</td>\n",
       "      <td>NaN</td>\n",
       "      <td>NaN</td>\n",
       "      <td>3</td>\n",
       "      <td>456aadb9347e4f27a0b863c48f3370ed</td>\n",
       "      <td>2022-08-29_06-04-06</td>\n",
       "      <td>1661767446</td>\n",
       "      <td>...</td>\n",
       "      <td>0.001</td>\n",
       "      <td>1500</td>\n",
       "      <td>750</td>\n",
       "      <td>32</td>\n",
       "      <td>64</td>\n",
       "      <td>11</td>\n",
       "      <td>5</td>\n",
       "      <td>4</td>\n",
       "      <td>0.0</td>\n",
       "      <td>/gpfs/commons/home/daknowles/ray_results/logCo...</td>\n",
       "    </tr>\n",
       "    <tr>\n",
       "      <th>1</th>\n",
       "      <td>0.357409</td>\n",
       "      <td>0.842243</td>\n",
       "      <td>0.918736</td>\n",
       "      <td>True</td>\n",
       "      <td>NaN</td>\n",
       "      <td>NaN</td>\n",
       "      <td>3</td>\n",
       "      <td>42e31f86e1a340348e5ddd88a138c34f</td>\n",
       "      <td>2022-08-29_02-09-58</td>\n",
       "      <td>1661753398</td>\n",
       "      <td>...</td>\n",
       "      <td>0.001</td>\n",
       "      <td>1500</td>\n",
       "      <td>750</td>\n",
       "      <td>32</td>\n",
       "      <td>64</td>\n",
       "      <td>11</td>\n",
       "      <td>5</td>\n",
       "      <td>4</td>\n",
       "      <td>0.0</td>\n",
       "      <td>/gpfs/commons/home/daknowles/ray_results/logCo...</td>\n",
       "    </tr>\n",
       "    <tr>\n",
       "      <th>9</th>\n",
       "      <td>0.356906</td>\n",
       "      <td>0.842192</td>\n",
       "      <td>0.918425</td>\n",
       "      <td>True</td>\n",
       "      <td>NaN</td>\n",
       "      <td>NaN</td>\n",
       "      <td>3</td>\n",
       "      <td>06e78161be6643ab9cc5feee9f75cbe6</td>\n",
       "      <td>2022-08-29_06-11-04</td>\n",
       "      <td>1661767864</td>\n",
       "      <td>...</td>\n",
       "      <td>0.001</td>\n",
       "      <td>1500</td>\n",
       "      <td>750</td>\n",
       "      <td>32</td>\n",
       "      <td>64</td>\n",
       "      <td>11</td>\n",
       "      <td>5</td>\n",
       "      <td>4</td>\n",
       "      <td>0.0</td>\n",
       "      <td>/gpfs/commons/home/daknowles/ray_results/logCo...</td>\n",
       "    </tr>\n",
       "    <tr>\n",
       "      <th>2</th>\n",
       "      <td>0.359456</td>\n",
       "      <td>0.842166</td>\n",
       "      <td>0.917500</td>\n",
       "      <td>True</td>\n",
       "      <td>NaN</td>\n",
       "      <td>NaN</td>\n",
       "      <td>3</td>\n",
       "      <td>75e3b8ee1e7c4b0dbf044b62e8819bb7</td>\n",
       "      <td>2022-08-29_06-25-12</td>\n",
       "      <td>1661768712</td>\n",
       "      <td>...</td>\n",
       "      <td>0.001</td>\n",
       "      <td>1500</td>\n",
       "      <td>750</td>\n",
       "      <td>32</td>\n",
       "      <td>64</td>\n",
       "      <td>11</td>\n",
       "      <td>5</td>\n",
       "      <td>4</td>\n",
       "      <td>0.0</td>\n",
       "      <td>/gpfs/commons/home/daknowles/ray_results/logCo...</td>\n",
       "    </tr>\n",
       "    <tr>\n",
       "      <th>13</th>\n",
       "      <td>0.369362</td>\n",
       "      <td>0.837182</td>\n",
       "      <td>0.917386</td>\n",
       "      <td>True</td>\n",
       "      <td>NaN</td>\n",
       "      <td>NaN</td>\n",
       "      <td>3</td>\n",
       "      <td>9495cd961c4340d3b650c3b1201cdbe8</td>\n",
       "      <td>2022-08-29_05-55-55</td>\n",
       "      <td>1661766955</td>\n",
       "      <td>...</td>\n",
       "      <td>0.001</td>\n",
       "      <td>1500</td>\n",
       "      <td>750</td>\n",
       "      <td>32</td>\n",
       "      <td>64</td>\n",
       "      <td>11</td>\n",
       "      <td>5</td>\n",
       "      <td>4</td>\n",
       "      <td>0.0</td>\n",
       "      <td>/gpfs/commons/home/daknowles/ray_results/logCo...</td>\n",
       "    </tr>\n",
       "    <tr>\n",
       "      <th>16</th>\n",
       "      <td>0.394754</td>\n",
       "      <td>0.843065</td>\n",
       "      <td>0.915301</td>\n",
       "      <td>True</td>\n",
       "      <td>NaN</td>\n",
       "      <td>NaN</td>\n",
       "      <td>48</td>\n",
       "      <td>e6c3afa779ee43478a4ba711f22a2542</td>\n",
       "      <td>2022-08-29_04-58-26</td>\n",
       "      <td>1661763506</td>\n",
       "      <td>...</td>\n",
       "      <td>0.001</td>\n",
       "      <td>1500</td>\n",
       "      <td>750</td>\n",
       "      <td>32</td>\n",
       "      <td>64</td>\n",
       "      <td>11</td>\n",
       "      <td>5</td>\n",
       "      <td>4</td>\n",
       "      <td>0.0</td>\n",
       "      <td>/gpfs/commons/home/daknowles/ray_results/logCo...</td>\n",
       "    </tr>\n",
       "    <tr>\n",
       "      <th>6</th>\n",
       "      <td>0.386953</td>\n",
       "      <td>0.843476</td>\n",
       "      <td>0.915062</td>\n",
       "      <td>True</td>\n",
       "      <td>NaN</td>\n",
       "      <td>NaN</td>\n",
       "      <td>48</td>\n",
       "      <td>111f6fe3bc894cc9b33092f97dd8d104</td>\n",
       "      <td>2022-08-29_05-51-59</td>\n",
       "      <td>1661766719</td>\n",
       "      <td>...</td>\n",
       "      <td>0.001</td>\n",
       "      <td>1500</td>\n",
       "      <td>750</td>\n",
       "      <td>32</td>\n",
       "      <td>64</td>\n",
       "      <td>11</td>\n",
       "      <td>5</td>\n",
       "      <td>4</td>\n",
       "      <td>0.0</td>\n",
       "      <td>/gpfs/commons/home/daknowles/ray_results/logCo...</td>\n",
       "    </tr>\n",
       "    <tr>\n",
       "      <th>17</th>\n",
       "      <td>0.398749</td>\n",
       "      <td>0.841293</td>\n",
       "      <td>0.914986</td>\n",
       "      <td>True</td>\n",
       "      <td>NaN</td>\n",
       "      <td>NaN</td>\n",
       "      <td>48</td>\n",
       "      <td>5c4e5ddc203b485990a96473217b5461</td>\n",
       "      <td>2022-08-29_01-49-42</td>\n",
       "      <td>1661752182</td>\n",
       "      <td>...</td>\n",
       "      <td>0.001</td>\n",
       "      <td>1500</td>\n",
       "      <td>750</td>\n",
       "      <td>32</td>\n",
       "      <td>64</td>\n",
       "      <td>11</td>\n",
       "      <td>5</td>\n",
       "      <td>4</td>\n",
       "      <td>0.0</td>\n",
       "      <td>/gpfs/commons/home/daknowles/ray_results/logCo...</td>\n",
       "    </tr>\n",
       "    <tr>\n",
       "      <th>4</th>\n",
       "      <td>0.471323</td>\n",
       "      <td>0.833663</td>\n",
       "      <td>0.906568</td>\n",
       "      <td>True</td>\n",
       "      <td>NaN</td>\n",
       "      <td>NaN</td>\n",
       "      <td>100</td>\n",
       "      <td>a7a14e74cfce46ba977d27f247172e4f</td>\n",
       "      <td>2022-08-29_04-01-06</td>\n",
       "      <td>1661760066</td>\n",
       "      <td>...</td>\n",
       "      <td>0.001</td>\n",
       "      <td>1500</td>\n",
       "      <td>750</td>\n",
       "      <td>32</td>\n",
       "      <td>64</td>\n",
       "      <td>11</td>\n",
       "      <td>5</td>\n",
       "      <td>4</td>\n",
       "      <td>0.0</td>\n",
       "      <td>/gpfs/commons/home/daknowles/ray_results/logCo...</td>\n",
       "    </tr>\n",
       "    <tr>\n",
       "      <th>11</th>\n",
       "      <td>0.452860</td>\n",
       "      <td>0.837593</td>\n",
       "      <td>0.906409</td>\n",
       "      <td>True</td>\n",
       "      <td>NaN</td>\n",
       "      <td>NaN</td>\n",
       "      <td>100</td>\n",
       "      <td>b0e86a3bf7fd41eaba2e4b65af81cb6b</td>\n",
       "      <td>2022-08-29_00-56-12</td>\n",
       "      <td>1661748972</td>\n",
       "      <td>...</td>\n",
       "      <td>0.001</td>\n",
       "      <td>1500</td>\n",
       "      <td>750</td>\n",
       "      <td>32</td>\n",
       "      <td>64</td>\n",
       "      <td>11</td>\n",
       "      <td>5</td>\n",
       "      <td>4</td>\n",
       "      <td>0.0</td>\n",
       "      <td>/gpfs/commons/home/daknowles/ray_results/logCo...</td>\n",
       "    </tr>\n",
       "  </tbody>\n",
       "</table>\n",
       "<p>20 rows × 37 columns</p>\n",
       "</div>"
      ],
      "text/plain": [
       "    val_loss   val_acc  val_auroc  done  timesteps_total  episodes_total  \\\n",
       "10  0.351096  0.845352   0.924066  True              NaN             NaN   \n",
       "8   0.348894  0.849462   0.921047  True              NaN             NaN   \n",
       "0   0.349261  0.848588   0.920777  True              NaN             NaN   \n",
       "5   0.356302  0.841729   0.920609  True              NaN             NaN   \n",
       "12  0.351606  0.846302   0.920429  True              NaN             NaN   \n",
       "3   0.355909  0.843682   0.920399  True              NaN             NaN   \n",
       "19  0.349901  0.848126   0.920236  True              NaN             NaN   \n",
       "7   0.350995  0.846379   0.919996  True              NaN             NaN   \n",
       "14  0.351613  0.847432   0.919574  True              NaN             NaN   \n",
       "15  0.358620  0.841216   0.919268  True              NaN             NaN   \n",
       "18  0.358877  0.842577   0.918926  True              NaN             NaN   \n",
       "1   0.357409  0.842243   0.918736  True              NaN             NaN   \n",
       "9   0.356906  0.842192   0.918425  True              NaN             NaN   \n",
       "2   0.359456  0.842166   0.917500  True              NaN             NaN   \n",
       "13  0.369362  0.837182   0.917386  True              NaN             NaN   \n",
       "16  0.394754  0.843065   0.915301  True              NaN             NaN   \n",
       "6   0.386953  0.843476   0.915062  True              NaN             NaN   \n",
       "17  0.398749  0.841293   0.914986  True              NaN             NaN   \n",
       "4   0.471323  0.833663   0.906568  True              NaN             NaN   \n",
       "11  0.452860  0.837593   0.906409  True              NaN             NaN   \n",
       "\n",
       "    training_iteration                     experiment_id                 date  \\\n",
       "10                  12  3d147a7a564e4dac94f06fe502a24aba  2022-08-29_02-03-09   \n",
       "8                    3  8eddc4a5219d4882b1aacf975679d037  2022-08-29_06-18-12   \n",
       "0                    3  aace5c8e485c4e08b0c83144ecd6d9df  2022-08-29_04-05-08   \n",
       "5                    3  053cca8463db4041a503fb7d6c84c714  2022-08-29_06-00-34   \n",
       "12                   3  32b457309f234774a12ee96803d417fe  2022-08-29_06-14-35   \n",
       "3                    3  b798e6720ca54f73b1526fa11bef371d  2022-08-29_02-06-36   \n",
       "19                   3  2367fe6ccd0749748eeaee9662bc1970  2022-08-29_06-07-35   \n",
       "7                    3  6ab5e12225314b8ab1a3cf3f69b66684  2022-08-29_06-32-28   \n",
       "14                   3  31e32597e916405d800c8c4d8f5a16e4  2022-08-29_06-21-41   \n",
       "15                   3  87f009f0848d43f7afafe0537f6f69b4  2022-08-29_06-28-51   \n",
       "18                   3  456aadb9347e4f27a0b863c48f3370ed  2022-08-29_06-04-06   \n",
       "1                    3  42e31f86e1a340348e5ddd88a138c34f  2022-08-29_02-09-58   \n",
       "9                    3  06e78161be6643ab9cc5feee9f75cbe6  2022-08-29_06-11-04   \n",
       "2                    3  75e3b8ee1e7c4b0dbf044b62e8819bb7  2022-08-29_06-25-12   \n",
       "13                   3  9495cd961c4340d3b650c3b1201cdbe8  2022-08-29_05-55-55   \n",
       "16                  48  e6c3afa779ee43478a4ba711f22a2542  2022-08-29_04-58-26   \n",
       "6                   48  111f6fe3bc894cc9b33092f97dd8d104  2022-08-29_05-51-59   \n",
       "17                  48  5c4e5ddc203b485990a96473217b5461  2022-08-29_01-49-42   \n",
       "4                  100  a7a14e74cfce46ba977d27f247172e4f  2022-08-29_04-01-06   \n",
       "11                 100  b0e86a3bf7fd41eaba2e4b65af81cb6b  2022-08-29_00-56-12   \n",
       "\n",
       "     timestamp  ...  config/lr  config/max_seq_len  config/min_seq_len  \\\n",
       "10  1661752989  ...      0.001                1500                 750   \n",
       "8   1661768292  ...      0.001                1500                 750   \n",
       "0   1661760308  ...      0.001                1500                 750   \n",
       "5   1661767234  ...      0.001                1500                 750   \n",
       "12  1661768075  ...      0.001                1500                 750   \n",
       "3   1661753196  ...      0.001                1500                 750   \n",
       "19  1661767655  ...      0.001                1500                 750   \n",
       "7   1661769148  ...      0.001                1500                 750   \n",
       "14  1661768501  ...      0.001                1500                 750   \n",
       "15  1661768931  ...      0.001                1500                 750   \n",
       "18  1661767446  ...      0.001                1500                 750   \n",
       "1   1661753398  ...      0.001                1500                 750   \n",
       "9   1661767864  ...      0.001                1500                 750   \n",
       "2   1661768712  ...      0.001                1500                 750   \n",
       "13  1661766955  ...      0.001                1500                 750   \n",
       "16  1661763506  ...      0.001                1500                 750   \n",
       "6   1661766719  ...      0.001                1500                 750   \n",
       "17  1661752182  ...      0.001                1500                 750   \n",
       "4   1661760066  ...      0.001                1500                 750   \n",
       "11  1661748972  ...      0.001                1500                 750   \n",
       "\n",
       "   config/n_channel config/n_hidden  config/num_chunks  config/pool_overlap  \\\n",
       "10               32              64                 11                    5   \n",
       "8                32              64                 11                    5   \n",
       "0                32              64                 11                    5   \n",
       "5                32              64                 11                    5   \n",
       "12               32              64                 11                    5   \n",
       "3                32              64                 11                    5   \n",
       "19               32              64                 11                    5   \n",
       "7                32              64                 11                    5   \n",
       "14               32              64                 11                    5   \n",
       "15               32              64                 11                    5   \n",
       "18               32              64                 11                    5   \n",
       "1                32              64                 11                    5   \n",
       "9                32              64                 11                    5   \n",
       "2                32              64                 11                    5   \n",
       "13               32              64                 11                    5   \n",
       "16               32              64                 11                    5   \n",
       "6                32              64                 11                    5   \n",
       "17               32              64                 11                    5   \n",
       "4                32              64                 11                    5   \n",
       "11               32              64                 11                    5   \n",
       "\n",
       "    config/pool_stride config/weight_decay  \\\n",
       "10                   4                 0.0   \n",
       "8                    4                 0.0   \n",
       "0                    4                 0.0   \n",
       "5                    4                 0.0   \n",
       "12                   4                 0.0   \n",
       "3                    4                 0.0   \n",
       "19                   4                 0.0   \n",
       "7                    4                 0.0   \n",
       "14                   4                 0.0   \n",
       "15                   4                 0.0   \n",
       "18                   4                 0.0   \n",
       "1                    4                 0.0   \n",
       "9                    4                 0.0   \n",
       "2                    4                 0.0   \n",
       "13                   4                 0.0   \n",
       "16                   4                 0.0   \n",
       "6                    4                 0.0   \n",
       "17                   4                 0.0   \n",
       "4                    4                 0.0   \n",
       "11                   4                 0.0   \n",
       "\n",
       "                                               logdir  \n",
       "10  /gpfs/commons/home/daknowles/ray_results/logCo...  \n",
       "8   /gpfs/commons/home/daknowles/ray_results/logCo...  \n",
       "0   /gpfs/commons/home/daknowles/ray_results/logCo...  \n",
       "5   /gpfs/commons/home/daknowles/ray_results/logCo...  \n",
       "12  /gpfs/commons/home/daknowles/ray_results/logCo...  \n",
       "3   /gpfs/commons/home/daknowles/ray_results/logCo...  \n",
       "19  /gpfs/commons/home/daknowles/ray_results/logCo...  \n",
       "7   /gpfs/commons/home/daknowles/ray_results/logCo...  \n",
       "14  /gpfs/commons/home/daknowles/ray_results/logCo...  \n",
       "15  /gpfs/commons/home/daknowles/ray_results/logCo...  \n",
       "18  /gpfs/commons/home/daknowles/ray_results/logCo...  \n",
       "1   /gpfs/commons/home/daknowles/ray_results/logCo...  \n",
       "9   /gpfs/commons/home/daknowles/ray_results/logCo...  \n",
       "2   /gpfs/commons/home/daknowles/ray_results/logCo...  \n",
       "13  /gpfs/commons/home/daknowles/ray_results/logCo...  \n",
       "16  /gpfs/commons/home/daknowles/ray_results/logCo...  \n",
       "6   /gpfs/commons/home/daknowles/ray_results/logCo...  \n",
       "17  /gpfs/commons/home/daknowles/ray_results/logCo...  \n",
       "4   /gpfs/commons/home/daknowles/ray_results/logCo...  \n",
       "11  /gpfs/commons/home/daknowles/ray_results/logCo...  \n",
       "\n",
       "[20 rows x 37 columns]"
      ]
     },
     "execution_count": 121,
     "metadata": {},
     "output_type": "execute_result"
    }
   ],
   "source": [
    "\n",
    "analysis = Analysis(\"/gpfs/commons/home/daknowles/ray_results/logConvExpHNRNPK_ensemble/\")\n",
    "\n",
    "analysis.get_best_config(\"val_auroc\",\"max\")\n",
    "\n",
    "df = analysis.dataframe()\n",
    "df.sort_values(\"val_auroc\", ascending = False)"
   ]
  },
  {
   "cell_type": "code",
   "execution_count": null,
   "metadata": {},
   "outputs": [],
   "source": [
    "logdir = Path(df.logdir.iloc[i])\n",
    "progress = pd.read_csv(logdir / \"progress.csv\")\n",
    "checkpoint = logdir / (\"checkpoint_%i\" % (progress.val_auroc.argmax() + 1)) \n",
    "config = json.load(open(logdir / \"params.json\"))\n",
    "trainer.reset_config(config)\n"
   ]
  },
  {
   "cell_type": "code",
   "execution_count": 128,
   "metadata": {},
   "outputs": [],
   "source": [
    "analysis.default_metric = \"val_auroc\"\n",
    "analysis.default_mode = \"max\"\n",
    "logdir = Path(analysis.get_best_logdir())\n",
    "\n",
    "progress = pd.read_csv(logdir / \"progress.csv\")\n",
    "checkpoint = logdir / (\"checkpoint_%i\" % (progress.val_auroc.argmax() + 1)) \n",
    "config = json.load(open(logdir / \"params.json\"))"
   ]
  },
  {
   "cell_type": "code",
   "execution_count": 131,
   "metadata": {},
   "outputs": [
    {
     "data": {
      "text/plain": [
       "[<matplotlib.lines.Line2D at 0x7f2458883d90>]"
      ]
     },
     "execution_count": 131,
     "metadata": {},
     "output_type": "execute_result"
    },
    {
     "data": {
      "image/png": "[encoded data removed]",
      "text/plain": [
       "<Figure size 432x288 with 1 Axes>"
      ]
     },
     "metadata": {
      "needs_background": "light"
     },
     "output_type": "display_data"
    }
   ],
   "source": [
    "plt.plot(progress.val_auroc)"
   ]
  },
  {
   "cell_type": "code",
   "execution_count": 137,
   "metadata": {},
   "outputs": [],
   "source": [
    "df[\"max_val_auroc\"] = [ pd.read_csv(Path(df.logdir.iloc[i]) / \"progress.csv\").val_auroc.max() for i in range(len(df)) ]\n",
    "    "
   ]
  },
  {
   "cell_type": "code",
   "execution_count": 147,
   "metadata": {},
   "outputs": [
    {
     "data": {
      "text/plain": [
       "16"
      ]
     },
     "execution_count": 147,
     "metadata": {},
     "output_type": "execute_result"
    }
   ],
   "source": [
    "df[\"max_val_auroc\"].argmax()"
   ]
  },
  {
   "cell_type": "code",
   "execution_count": 152,
   "metadata": {},
   "outputs": [
    {
     "data": {
      "text/plain": [
       "'/gpfs/commons/home/daknowles/ray_results/logConvExpHNRNPK_ensemble/Trainable_6f654_00007_7_2022-08-29_04-05-08'"
      ]
     },
     "execution_count": 152,
     "metadata": {},
     "output_type": "execute_result"
    }
   ],
   "source": [
    "df.logdir.iloc[df[\"max_val_auroc\"].argmax()]"
   ]
  },
  {
   "cell_type": "code",
   "execution_count": 155,
   "metadata": {},
   "outputs": [
    {
     "data": {
      "text/plain": [
       "PosixPath('/gpfs/commons/home/daknowles/ray_results/logConvExpHNRNPK_ensemble/Trainable_6f654_00007_7_2022-08-29_04-05-08')"
      ]
     },
     "execution_count": 155,
     "metadata": {},
     "output_type": "execute_result"
    }
   ],
   "source": [
    "Path(analysis.get_best_logdir())"
   ]
  },
  {
   "cell_type": "code",
   "execution_count": 158,
   "metadata": {},
   "outputs": [
    {
     "data": {
      "text/plain": [
       "<matplotlib.collections.PathCollection at 0x7f1bf414cdc0>"
      ]
     },
     "execution_count": 158,
     "metadata": {},
     "output_type": "execute_result"
    },
    {
     "data": {
      "image/png": "[encoded data removed]",
      "text/plain": [
       "<Figure size 432x288 with 1 Axes>"
      ]
     },
     "metadata": {
      "needs_background": "light"
     },
     "output_type": "display_data"
    }
   ],
   "source": [
    "plt.scatter(df.val_auroc, df.max_val_auroc)"
   ]
  },
  {
   "cell_type": "code",
   "execution_count": 160,
   "metadata": {},
   "outputs": [
    {
     "data": {
      "text/plain": [
       "PosixPath('/gpfs/commons/home/daknowles/ray_results/logConvExpHNRNPK_ensemble/Trainable_6f654_00007_7_2022-08-29_04-05-08/checkpoint_8')"
      ]
     },
     "execution_count": 160,
     "metadata": {},
     "output_type": "execute_result"
    }
   ],
   "source": [
    "checkpoint"
   ]
  },
  {
   "cell_type": "code",
   "execution_count": null,
   "metadata": {},
   "outputs": [],
   "source": []
  }
 ],
 "metadata": {
  "kernelspec": {
   "display_name": "Python 3",
   "language": "python",
   "name": "python3"
  },
  "language_info": {
   "codemirror_mode": {
    "name": "ipython",
    "version": 3
   },
   "file_extension": ".py",
   "mimetype": "text/x-python",
   "name": "python",
   "nbconvert_exporter": "python",
   "pygments_lexer": "ipython3",
   "version": "3.8.0"
  }
 },
 "nbformat": 4,
 "nbformat_minor": 4
}
