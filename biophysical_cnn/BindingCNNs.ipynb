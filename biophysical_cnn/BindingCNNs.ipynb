{
 "cells": [
  {
   "cell_type": "code",
   "execution_count": 1,
   "metadata": {
    "colab": {
     "base_uri": "https://localhost:8080/",
     "height": 218
    },
    "id": "8fPmCgelY66c",
    "outputId": "69405d1e-2ef2-4da4-9121-84dda09a9215"
   },
   "outputs": [
    {
     "data": {
      "text/plain": [
       "<module 'biophysnn' from '/gpfs/commons/home/daknowles/pooledRBPs/biophysical_cnn/biophysnn.py'>"
      ]
     },
     "execution_count": 1,
     "metadata": {},
     "output_type": "execute_result"
    }
   ],
   "source": [
    "import torch\n",
    "import torch.nn as nn\n",
    "import torch.nn.functional as F\n",
    "import torch.utils.data\n",
    "\n",
    "import pandas as pd\n",
    "import numpy as np\n",
    "import matplotlib.pyplot as plt\n",
    "import pickle\n",
    "import os.path\n",
    "import biophysnn\n",
    "\n",
    "import bindingdata\n",
    "\n",
    "from importlib import reload\n",
    "reload(biophysnn)"
   ]
  },
  {
   "cell_type": "markdown",
   "metadata": {
    "id": "cQGel5ea0RXI"
   },
   "source": [
    "## Loading data"
   ]
  },
  {
   "cell_type": "code",
   "execution_count": 2,
   "metadata": {
    "id": "m0Kaptuq27QE"
   },
   "outputs": [
    {
     "data": {
      "text/html": [
       "<div>\n",
       "<style scoped>\n",
       "    .dataframe tbody tr th:only-of-type {\n",
       "        vertical-align: middle;\n",
       "    }\n",
       "\n",
       "    .dataframe tbody tr th {\n",
       "        vertical-align: top;\n",
       "    }\n",
       "\n",
       "    .dataframe thead th {\n",
       "        text-align: right;\n",
       "    }\n",
       "</style>\n",
       "<table border=\"1\" class=\"dataframe\">\n",
       "  <thead>\n",
       "    <tr style=\"text-align: right;\">\n",
       "      <th></th>\n",
       "      <th>chrom</th>\n",
       "      <th>start</th>\n",
       "      <th>end</th>\n",
       "      <th>name</th>\n",
       "      <th>score</th>\n",
       "      <th>strand</th>\n",
       "    </tr>\n",
       "  </thead>\n",
       "  <tbody>\n",
       "    <tr>\n",
       "      <th>0</th>\n",
       "      <td>chr1</td>\n",
       "      <td>16099</td>\n",
       "      <td>16580</td>\n",
       "      <td>all_hnrnpk_rep1_neg_peak_35</td>\n",
       "      <td>81</td>\n",
       "      <td>-</td>\n",
       "    </tr>\n",
       "    <tr>\n",
       "      <th>1</th>\n",
       "      <td>chr1</td>\n",
       "      <td>19237</td>\n",
       "      <td>19896</td>\n",
       "      <td>all_hnrnpk_rep1_neg_peak_36</td>\n",
       "      <td>48</td>\n",
       "      <td>-</td>\n",
       "    </tr>\n",
       "    <tr>\n",
       "      <th>2</th>\n",
       "      <td>chr1</td>\n",
       "      <td>136471</td>\n",
       "      <td>137136</td>\n",
       "      <td>all_hnrnpk_rep1_neg_peak_37</td>\n",
       "      <td>73</td>\n",
       "      <td>-</td>\n",
       "    </tr>\n",
       "    <tr>\n",
       "      <th>3</th>\n",
       "      <td>chr1</td>\n",
       "      <td>186383</td>\n",
       "      <td>187169</td>\n",
       "      <td>all_hnrnpk_rep1_neg_peak_38</td>\n",
       "      <td>54</td>\n",
       "      <td>-</td>\n",
       "    </tr>\n",
       "    <tr>\n",
       "      <th>4</th>\n",
       "      <td>chr1</td>\n",
       "      <td>190825</td>\n",
       "      <td>191102</td>\n",
       "      <td>all_hnrnpk_rep1_neg_peak_39</td>\n",
       "      <td>51</td>\n",
       "      <td>-</td>\n",
       "    </tr>\n",
       "    <tr>\n",
       "      <th>...</th>\n",
       "      <td>...</td>\n",
       "      <td>...</td>\n",
       "      <td>...</td>\n",
       "      <td>...</td>\n",
       "      <td>...</td>\n",
       "      <td>...</td>\n",
       "    </tr>\n",
       "    <tr>\n",
       "      <th>149418</th>\n",
       "      <td>chr9</td>\n",
       "      <td>138179008</td>\n",
       "      <td>138179394</td>\n",
       "      <td>all_hnrnpk_rep1_pos_peak_74674</td>\n",
       "      <td>72</td>\n",
       "      <td>+</td>\n",
       "    </tr>\n",
       "    <tr>\n",
       "      <th>149419</th>\n",
       "      <td>chr9</td>\n",
       "      <td>138232102</td>\n",
       "      <td>138232344</td>\n",
       "      <td>all_hnrnpk_rep1_pos_peak_74675</td>\n",
       "      <td>362</td>\n",
       "      <td>+</td>\n",
       "    </tr>\n",
       "    <tr>\n",
       "      <th>149420</th>\n",
       "      <td>chr9</td>\n",
       "      <td>138232980</td>\n",
       "      <td>138233211</td>\n",
       "      <td>all_hnrnpk_rep1_pos_peak_74676</td>\n",
       "      <td>254</td>\n",
       "      <td>+</td>\n",
       "    </tr>\n",
       "    <tr>\n",
       "      <th>149421</th>\n",
       "      <td>chr9</td>\n",
       "      <td>138276024</td>\n",
       "      <td>138276247</td>\n",
       "      <td>all_hnrnpk_rep1_pos_peak_74677</td>\n",
       "      <td>340</td>\n",
       "      <td>+</td>\n",
       "    </tr>\n",
       "    <tr>\n",
       "      <th>149422</th>\n",
       "      <td>chrM</td>\n",
       "      <td>0</td>\n",
       "      <td>505</td>\n",
       "      <td>all_hnrnpk_rep1_pos_peak_74678</td>\n",
       "      <td>99</td>\n",
       "      <td>+</td>\n",
       "    </tr>\n",
       "  </tbody>\n",
       "</table>\n",
       "<p>145893 rows × 6 columns</p>\n",
       "</div>"
      ],
      "text/plain": [
       "       chrom      start        end                            name  score  \\\n",
       "0       chr1      16099      16580     all_hnrnpk_rep1_neg_peak_35     81   \n",
       "1       chr1      19237      19896     all_hnrnpk_rep1_neg_peak_36     48   \n",
       "2       chr1     136471     137136     all_hnrnpk_rep1_neg_peak_37     73   \n",
       "3       chr1     186383     187169     all_hnrnpk_rep1_neg_peak_38     54   \n",
       "4       chr1     190825     191102     all_hnrnpk_rep1_neg_peak_39     51   \n",
       "...      ...        ...        ...                             ...    ...   \n",
       "149418  chr9  138179008  138179394  all_hnrnpk_rep1_pos_peak_74674     72   \n",
       "149419  chr9  138232102  138232344  all_hnrnpk_rep1_pos_peak_74675    362   \n",
       "149420  chr9  138232980  138233211  all_hnrnpk_rep1_pos_peak_74676    254   \n",
       "149421  chr9  138276024  138276247  all_hnrnpk_rep1_pos_peak_74677    340   \n",
       "149422  chrM          0        505  all_hnrnpk_rep1_pos_peak_74678     99   \n",
       "\n",
       "       strand  \n",
       "0           -  \n",
       "1           -  \n",
       "2           -  \n",
       "3           -  \n",
       "4           -  \n",
       "...       ...  \n",
       "149418      +  \n",
       "149419      +  \n",
       "149420      +  \n",
       "149421      +  \n",
       "149422      +  \n",
       "\n",
       "[145893 rows x 6 columns]"
      ]
     },
     "execution_count": 2,
     "metadata": {},
     "output_type": "execute_result"
    }
   ],
   "source": [
    "binding_data = pd.read_csv(\"/gpfs/commons/home/daknowles/RIPnet/all_hnrnpk_rep1_stranded.narrowPeak.gz\", sep='\\t', usecols=range(6), names=(\"chrom\",\"start\",\"end\",\"name\",\"score\",\"strand\"))\n",
    "binding_data = binding_data[ ~binding_data['chrom'].isin([\"chrX\",\"chrY\"]) ] # only keep autosomes (non sex chromosomes)\n",
    "binding_data = binding_data.sort_values(['chrom', 'start']).drop_duplicates() # sort so we can interleave negatives\n",
    "binding_data"
   ]
  },
  {
   "cell_type": "code",
   "execution_count": 3,
   "metadata": {},
   "outputs": [
    {
     "name": "stderr",
     "output_type": "stream",
     "text": [
      "/gpfs/commons/home/daknowles/.conda/envs/asb/lib/python3.8/site-packages/pandas/util/_decorators.py:311: ParserWarning: Length of header or names does not match length of data. This leads to a loss of data with index_col=False.\n",
      "  return func(*args, **kwargs)\n"
     ]
    },
    {
     "data": {
      "text/html": [
       "<div>\n",
       "<style scoped>\n",
       "    .dataframe tbody tr th:only-of-type {\n",
       "        vertical-align: middle;\n",
       "    }\n",
       "\n",
       "    .dataframe tbody tr th {\n",
       "        vertical-align: top;\n",
       "    }\n",
       "\n",
       "    .dataframe thead th {\n",
       "        text-align: right;\n",
       "    }\n",
       "</style>\n",
       "<table border=\"1\" class=\"dataframe\">\n",
       "  <thead>\n",
       "    <tr style=\"text-align: right;\">\n",
       "      <th></th>\n",
       "      <th>chrom</th>\n",
       "      <th>start</th>\n",
       "      <th>end</th>\n",
       "      <th>name</th>\n",
       "      <th>strand</th>\n",
       "      <th>counts</th>\n",
       "      <th>length</th>\n",
       "    </tr>\n",
       "  </thead>\n",
       "  <tbody>\n",
       "    <tr>\n",
       "      <th>0</th>\n",
       "      <td>chr1</td>\n",
       "      <td>17369</td>\n",
       "      <td>17436</td>\n",
       "      <td>ENSG00000278267.1</td>\n",
       "      <td>-</td>\n",
       "      <td>53</td>\n",
       "      <td>68</td>\n",
       "    </tr>\n",
       "    <tr>\n",
       "      <th>1</th>\n",
       "      <td>chr1</td>\n",
       "      <td>135141</td>\n",
       "      <td>135895</td>\n",
       "      <td>ENSG00000268903.1</td>\n",
       "      <td>-</td>\n",
       "      <td>903</td>\n",
       "      <td>755</td>\n",
       "    </tr>\n",
       "    <tr>\n",
       "      <th>2</th>\n",
       "      <td>chr1</td>\n",
       "      <td>137682</td>\n",
       "      <td>137965</td>\n",
       "      <td>ENSG00000269981.1</td>\n",
       "      <td>-</td>\n",
       "      <td>1206</td>\n",
       "      <td>284</td>\n",
       "    </tr>\n",
       "    <tr>\n",
       "      <th>3</th>\n",
       "      <td>chr1</td>\n",
       "      <td>185217</td>\n",
       "      <td>186383</td>\n",
       "      <td>ENSG00000279457.4</td>\n",
       "      <td>-</td>\n",
       "      <td>295</td>\n",
       "      <td>1397</td>\n",
       "    </tr>\n",
       "    <tr>\n",
       "      <th>4</th>\n",
       "      <td>chr1</td>\n",
       "      <td>187169</td>\n",
       "      <td>190825</td>\n",
       "      <td>ENSG00000279457.4</td>\n",
       "      <td>-</td>\n",
       "      <td>295</td>\n",
       "      <td>1397</td>\n",
       "    </tr>\n",
       "    <tr>\n",
       "      <th>...</th>\n",
       "      <td>...</td>\n",
       "      <td>...</td>\n",
       "      <td>...</td>\n",
       "      <td>...</td>\n",
       "      <td>...</td>\n",
       "      <td>...</td>\n",
       "      <td>...</td>\n",
       "    </tr>\n",
       "    <tr>\n",
       "      <th>126565</th>\n",
       "      <td>chrM</td>\n",
       "      <td>14149</td>\n",
       "      <td>14673</td>\n",
       "      <td>ENSG00000198695.2</td>\n",
       "      <td>-</td>\n",
       "      <td>59390</td>\n",
       "      <td>525</td>\n",
       "    </tr>\n",
       "    <tr>\n",
       "      <th>126566</th>\n",
       "      <td>chrM</td>\n",
       "      <td>14674</td>\n",
       "      <td>14742</td>\n",
       "      <td>ENSG00000210194.1</td>\n",
       "      <td>-</td>\n",
       "      <td>598</td>\n",
       "      <td>69</td>\n",
       "    </tr>\n",
       "    <tr>\n",
       "      <th>126567</th>\n",
       "      <td>chrM</td>\n",
       "      <td>14747</td>\n",
       "      <td>15887</td>\n",
       "      <td>ENSG00000198727.2</td>\n",
       "      <td>+</td>\n",
       "      <td>247327</td>\n",
       "      <td>1141</td>\n",
       "    </tr>\n",
       "    <tr>\n",
       "      <th>126568</th>\n",
       "      <td>chrM</td>\n",
       "      <td>15888</td>\n",
       "      <td>15953</td>\n",
       "      <td>ENSG00000210195.2</td>\n",
       "      <td>+</td>\n",
       "      <td>663</td>\n",
       "      <td>66</td>\n",
       "    </tr>\n",
       "    <tr>\n",
       "      <th>126569</th>\n",
       "      <td>chrM</td>\n",
       "      <td>15956</td>\n",
       "      <td>16023</td>\n",
       "      <td>ENSG00000210196.2</td>\n",
       "      <td>-</td>\n",
       "      <td>3483</td>\n",
       "      <td>68</td>\n",
       "    </tr>\n",
       "  </tbody>\n",
       "</table>\n",
       "<p>126570 rows × 7 columns</p>\n",
       "</div>"
      ],
      "text/plain": [
       "       chrom   start     end               name strand  counts  length\n",
       "0       chr1   17369   17436  ENSG00000278267.1      -      53      68\n",
       "1       chr1  135141  135895  ENSG00000268903.1      -     903     755\n",
       "2       chr1  137682  137965  ENSG00000269981.1      -    1206     284\n",
       "3       chr1  185217  186383  ENSG00000279457.4      -     295    1397\n",
       "4       chr1  187169  190825  ENSG00000279457.4      -     295    1397\n",
       "...      ...     ...     ...                ...    ...     ...     ...\n",
       "126565  chrM   14149   14673  ENSG00000198695.2      -   59390     525\n",
       "126566  chrM   14674   14742  ENSG00000210194.1      -     598      69\n",
       "126567  chrM   14747   15887  ENSG00000198727.2      +  247327    1141\n",
       "126568  chrM   15888   15953  ENSG00000210195.2      +     663      66\n",
       "126569  chrM   15956   16023  ENSG00000210196.2      -    3483      68\n",
       "\n",
       "[126570 rows x 7 columns]"
      ]
     },
     "execution_count": 3,
     "metadata": {},
     "output_type": "execute_result"
    }
   ],
   "source": [
    "unbound = pd.read_csv(\"unbound_regions.bed.gz\", \n",
    "                      sep = \"\\t\", \n",
    "                      names = [\"chrom\", \"start\", \"end\", \"name\", \"strand\", \"counts\", \"length\"],\n",
    "                      index_col = False)\n",
    "unbound"
   ]
  },
  {
   "cell_type": "code",
   "execution_count": 4,
   "metadata": {},
   "outputs": [
    {
     "data": {
      "text/plain": [
       "chrom                            chr1\n",
       "start                          629752\n",
       "end                            629972\n",
       "name      all_hnrnpk_rep1_pos_peak_23\n",
       "score                             246\n",
       "strand                              +\n",
       "Name: 74767, dtype: object"
      ]
     },
     "execution_count": 4,
     "metadata": {},
     "output_type": "execute_result"
    }
   ],
   "source": [
    "unbound[\"score\"] = 0\n",
    "bind_all = pd.concat([binding_data,\n",
    "           unbound.loc[:, ~unbound.columns.isin(['counts', 'length'])]], \n",
    "          axis=0)\n",
    "bind_all.iloc[10]"
   ]
  },
  {
   "cell_type": "code",
   "execution_count": 5,
   "metadata": {
    "id": "80imMbLs0Wxx"
   },
   "outputs": [
    {
     "data": {
      "text/plain": [
       "(0.09493766126042802, 0.1428707751144192)"
      ]
     },
     "execution_count": 5,
     "metadata": {},
     "output_type": "execute_result"
    }
   ],
   "source": [
    "test_chromosomes = [\"chr1\"]\n",
    "test_data = bind_all[ bind_all['chrom'].isin( test_chromosomes ) ]\n",
    "\n",
    "validation_chromosomes = [\"chr2\",\"chr3\"]\n",
    "validation_data = bind_all[ bind_all['chrom'].isin(validation_chromosomes) ]\n",
    "\n",
    "train_chromosomes = [\"chr%i\" % i for i in range(4, 22+1)]\n",
    "train_data = bind_all[ bind_all['chrom'].isin( train_chromosomes ) ]\n",
    "\n",
    "test_data.shape[0] / bind_all.shape[0], validation_data.shape[0] / bind_all.shape[0]"
   ]
  },
  {
   "cell_type": "code",
   "execution_count": 6,
   "metadata": {
    "id": "5fcHay8WzoOA"
   },
   "outputs": [],
   "source": [
    "genome = pickle.load(open(\"/gpfs/commons/home/daknowles/knowles_lab/index/hg38/hg38.pkl\",\"rb\")) # this is here in case there's hg38 data you want to analyse"
   ]
  },
  {
   "cell_type": "code",
   "execution_count": 7,
   "metadata": {
    "id": "7Qh2n9ViFAO-"
   },
   "outputs": [
    {
     "data": {
      "text/plain": [
       "torch.Size([453, 4, 7])"
      ]
     },
     "execution_count": 7,
     "metadata": {},
     "output_type": "execute_result"
    }
   ],
   "source": [
    "pwm_dat = np.load(\"/gpfs/commons/home/daknowles/apex_seq/pwms.npz\")\n",
    "pwm_names = pwm_dat['names']\n",
    "pwms = pwm_dat['pwms']\n",
    "\n",
    "pwms[pwms > 0].min()\n",
    "log_pwms = np.log(pwms + 1e-4)\n",
    "\n",
    "# Convert to actual PWM\n",
    "w = torch.tensor(log_pwms, dtype=torch.float).transpose(0,2)\n",
    "w_norm = w - w.mean(1,keepdims=True)\n",
    "\n",
    "w_norm.shape"
   ]
  },
  {
   "cell_type": "code",
   "execution_count": 8,
   "metadata": {
    "id": "dXicEWQ8FXxh"
   },
   "outputs": [
    {
     "data": {
      "text/plain": [
       "torch.Size([5, 4, 7])"
      ]
     },
     "execution_count": 8,
     "metadata": {},
     "output_type": "execute_result"
    }
   ],
   "source": [
    "specific_pwms = w_norm[ np.array([ \"HNRNPK\" in g for g in pwm_names ]) ]\n",
    "specific_pwms.shape"
   ]
  },
  {
   "cell_type": "code",
   "execution_count": null,
   "metadata": {},
   "outputs": [],
   "source": []
  },
  {
   "cell_type": "code",
   "execution_count": null,
   "metadata": {},
   "outputs": [],
   "source": []
  },
  {
   "cell_type": "code",
   "execution_count": 40,
   "metadata": {},
   "outputs": [],
   "source": [
    "perf = {}\n",
    "for num_chunks in range(1,12):\n",
    "    print(num_chunks)\n",
    "    cnn = biophysnn.CNN_1d(use_flipping=False, \n",
    "                           nchannels = [4, 16, 16, 16], \n",
    "                           n_hidden = 16, \n",
    "                           num_chunks = num_chunks, \n",
    "                           pool_factor = 4, \n",
    "                           filter_widths = [11, 7, 7])\n",
    "    print(\"Input length\", cnn.seq_len)\n",
    "    train_accs, val_accs, train_aucs, val_aucs = biophysnn.train_model(cnn, \n",
    "                                                                       train_data, \n",
    "                                                                       validation_data, \n",
    "                                                                       genome, \n",
    "                                                                       num_workers=8,\n",
    "                                                                       check_point_filename=\"checkpoints/cnn/%i.pt\" % num_chunks, \n",
    "                                                                       verbose = False)\n",
    "    perf[num_chunks] = np.max(val_aucs)"
   ]
  },
  {
   "cell_type": "code",
   "execution_count": 37,
   "metadata": {},
   "outputs": [
    {
     "data": {
      "text/plain": [
       "[<matplotlib.lines.Line2D at 0x7efef52653a0>]"
      ]
     },
     "execution_count": 37,
     "metadata": {},
     "output_type": "execute_result"
    },
    {
     "data": {
      "image/png": "[encoded data removed]",
      "text/plain": [
       "<Figure size 432x288 with 1 Axes>"
      ]
     },
     "metadata": {
      "needs_background": "light"
     },
     "output_type": "display_data"
    }
   ],
   "source": [
    "plt.plot(perf.values())"
   ]
  },
  {
   "cell_type": "code",
   "execution_count": 39,
   "metadata": {},
   "outputs": [
    {
     "data": {
      "text/plain": [
       "dict_values([0.8207643760358998, 0.8405880586145534, 0.8653253527963398, 0.8782221537639632, 0.8892499523871085, 0.8979777105035043, 0.9010687659137242, 0.9064452856092446, 0.9080424362054823, 0.913971496917465, 0.9136715029197534])"
      ]
     },
     "execution_count": 39,
     "metadata": {},
     "output_type": "execute_result"
    }
   ],
   "source": [
    "perf.values()"
   ]
  },
  {
   "cell_type": "code",
   "execution_count": null,
   "metadata": {},
   "outputs": [
    {
     "name": "stdout",
     "output_type": "stream",
     "text": [
      "23\n",
      "Receptive field: 529 Chunk size: 64 Number chunks: 9\n",
      "302\r"
     ]
    }
   ],
   "source": [
    "reload(biophysnn)\n",
    "reload(bindingdata)\n",
    "#perf2 = {}\n",
    "for pool_width in [23,25,27,29,31]: # [3,5,7,9,11,13, 15, 17, 19, 21]:\n",
    "    print(pool_width)\n",
    "    cnn = biophysnn.LogConvExpNet(\n",
    "                           nchannels = [4, 16, 16, 16], \n",
    "                           n_hidden = 16, \n",
    "                           num_chunks = 9, \n",
    "                           pool_stride = 4, \n",
    "                           pool_width = pool_width,\n",
    "                           filter_widths = [11, 7, 7] ,\n",
    "                           pooling= True)\n",
    "    train_accs, val_accs, train_aucs, val_aucs = biophysnn.train_model(cnn, \n",
    "                                                                       train_data, \n",
    "                                                                       validation_data, \n",
    "                                                                       genome, \n",
    "                                                                       num_workers=0,\n",
    "                                                                       check_point_filename=\"checkpoints/cnn/log_conv_exp%i.pt\" % pool_width, \n",
    "                                                                       verbose = False)\n",
    "    perf2[pool_width] = np.max(val_aucs)"
   ]
  },
  {
   "cell_type": "code",
   "execution_count": 15,
   "metadata": {},
   "outputs": [
    {
     "data": {
      "text/plain": [
       "[<matplotlib.lines.Line2D at 0x7fb050193a30>]"
      ]
     },
     "execution_count": 15,
     "metadata": {},
     "output_type": "execute_result"
    },
    {
     "data": {
      "image/png": "[encoded data removed]",
      "text/plain": [
       "<Figure size 432x288 with 1 Axes>"
      ]
     },
     "metadata": {
      "needs_background": "light"
     },
     "output_type": "display_data"
    }
   ],
   "source": [
    "plt.plot(perf2.keys(),perf2.values())"
   ]
  },
  {
   "cell_type": "code",
   "execution_count": 23,
   "metadata": {},
   "outputs": [
    {
     "name": "stdout",
     "output_type": "stream",
     "text": [
      "Receptive field: 613 Chunk size: 64 Number chunks: 9\n"
     ]
    },
    {
     "data": {
      "text/plain": [
       "1189"
      ]
     },
     "execution_count": 23,
     "metadata": {},
     "output_type": "execute_result"
    }
   ],
   "source": [
    "best_pool_width = list(perf2.keys())[np.argmax(list(perf2.values()))] # 27\n",
    "cnn = biophysnn.LogConvExpNet(\n",
    "                           nchannels = [4, 16, 16, 16], \n",
    "                           n_hidden = 16, \n",
    "                           num_chunks = 9, \n",
    "                           pool_stride = 4, \n",
    "                           pool_width = best_pool_width,\n",
    "                           filter_widths = [11, 7, 7] ,\n",
    "                           pooling = True)\n",
    "cnn.seq_len"
   ]
  },
  {
   "cell_type": "code",
   "execution_count": 45,
   "metadata": {},
   "outputs": [
    {
     "data": {
      "text/plain": [
       "{1: 0.7676979961053899,\n",
       " 2: 0.8526794878900019,\n",
       " 4: 0.9157489155272509,\n",
       " 6: 0.9279618262488177,\n",
       " 8: 0.9274455464933697}"
      ]
     },
     "execution_count": 45,
     "metadata": {},
     "output_type": "execute_result"
    }
   ],
   "source": [
    "perf3"
   ]
  },
  {
   "cell_type": "markdown",
   "metadata": {},
   "source": [
    "## ExpConvLogConv"
   ]
  },
  {
   "cell_type": "code",
   "execution_count": 44,
   "metadata": {},
   "outputs": [],
   "source": [
    "reload(biophysnn)\n",
    "reload(bindingdata)\n",
    "perf3 = {}\n",
    "for pool_stride in [1,2,4,6,8,12,16]:\n",
    "    cnn = biophysnn.LogConvExpNet(\n",
    "                               nchannels = [4, 16, 16, 16], \n",
    "                               n_hidden = 16, \n",
    "                               num_chunks = 9, \n",
    "                               pool_stride = pool_stride, \n",
    "                               pool_width = 27,\n",
    "                               filter_widths = [11, 7, 7] ,\n",
    "                               pooling= False)\n",
    "    train_accs, val_accs, train_aucs, val_aucs = biophysnn.train_model(cnn, \n",
    "                                                                       train_data, \n",
    "                                                                       validation_data, \n",
    "                                                                       genome, \n",
    "                                                                       num_workers=8,\n",
    "                                                                       check_point_filename=\"checkpoints/cnn/exp_conv_log_conv%i.pt\" % pool_stride, \n",
    "                                                                       verbose = False)\n",
    "    perf3[pool_stride] = np.max(val_aucs)"
   ]
  },
  {
   "cell_type": "code",
   "execution_count": 35,
   "metadata": {},
   "outputs": [
    {
     "data": {
      "text/plain": [
       "0.541324854612918"
      ]
     },
     "execution_count": 35,
     "metadata": {},
     "output_type": "execute_result"
    }
   ],
   "source": []
  },
  {
   "cell_type": "code",
   "execution_count": 46,
   "metadata": {},
   "outputs": [
    {
     "data": {
      "text/plain": [
       "[<matplotlib.lines.Line2D at 0x7fafec42f790>]"
      ]
     },
     "execution_count": 46,
     "metadata": {},
     "output_type": "execute_result"
    },
    {
     "data": {
      "image/png": "[encoded data removed]",
      "text/plain": [
       "<Figure size 432x288 with 1 Axes>"
      ]
     },
     "metadata": {
      "needs_background": "light"
     },
     "output_type": "display_data"
    }
   ],
   "source": [
    "plt.plot(perf3.keys(),perf3.values())"
   ]
  },
  {
   "cell_type": "code",
   "execution_count": 53,
   "metadata": {},
   "outputs": [
    {
     "name": "stdout",
     "output_type": "stream",
     "text": [
      "Receptive field: 613 Chunk size: 64 Number chunks: 9\n"
     ]
    },
    {
     "data": {
      "text/plain": [
       "<All keys matched successfully>"
      ]
     },
     "execution_count": 53,
     "metadata": {},
     "output_type": "execute_result"
    }
   ],
   "source": [
    "pool_stride = 4\n",
    "check_point_filename=\"checkpoints/cnn/exp_conv_log_conv%i.pt\" % pool_stride\n",
    "cnn = biophysnn.LogConvExpNet(\n",
    "                   nchannels = [4, 16, 16, 16], \n",
    "                   n_hidden = 16, \n",
    "                   num_chunks = 9, \n",
    "                   pool_stride = pool_stride, \n",
    "                   pool_width = 27,\n",
    "                   filter_widths = [11, 7, 7] ,\n",
    "                   pooling= False)\n",
    "cnn.load_state_dict(torch.load(check_point_filename))"
   ]
  },
  {
   "cell_type": "code",
   "execution_count": 62,
   "metadata": {},
   "outputs": [
    {
     "data": {
      "text/plain": [
       "dict_keys(['conv_net.0.weight', 'conv_net.0.bias', 'conv_net.2.weight', 'conv_net.4.weight', 'conv_net.4.bias', 'conv_net.6.weight', 'conv_net.8.weight', 'conv_net.8.bias', 'conv_net.10.weight', 'dense_net.0.weight', 'dense_net.0.bias', 'dense_net.3.weight', 'dense_net.3.bias'])"
      ]
     },
     "execution_count": 62,
     "metadata": {},
     "output_type": "execute_result"
    }
   ],
   "source": [
    "param_dict = dict(cnn.named_parameters())\n",
    "param_dict.keys()"
   ]
  },
  {
   "cell_type": "code",
   "execution_count": 76,
   "metadata": {},
   "outputs": [
    {
     "data": {
      "image/png": "[encoded data removed]",
      "text/plain": [
       "<Figure size 432x288 with 1 Axes>"
      ]
     },
     "metadata": {
      "needs_background": "light"
     },
     "output_type": "display_data"
    }
   ],
   "source": [
    "avg_pooler = F.softplus(param_dict['conv_net.2.weight'].data)\n",
    "for i in range(16): plt.plot(avg_pooler[i,i,:])"
   ]
  },
  {
   "cell_type": "markdown",
   "metadata": {},
   "source": [
    "So doesn't change much from init. "
   ]
  },
  {
   "cell_type": "code",
   "execution_count": 81,
   "metadata": {},
   "outputs": [
    {
     "data": {
      "text/plain": [
       "4.8183457693085074e-05"
      ]
     },
     "execution_count": 81,
     "metadata": {},
     "output_type": "execute_result"
    }
   ],
   "source": [
    "aclone = avg_pooler.clone()\n",
    "for i in range(16): aclone[i,i,:] = 0. \n",
    "aclone.max().item()"
   ]
  },
  {
   "cell_type": "markdown",
   "metadata": {
    "id": "4g_Ci7czJkY0"
   },
   "source": [
    "## Test flipped CNN"
   ]
  },
  {
   "cell_type": "code",
   "execution_count": 16,
   "metadata": {
    "id": "T74hQno-82Ty"
   },
   "outputs": [
    {
     "name": "stdout",
     "output_type": "stream",
     "text": [
      "1 Receptive field: 10 Chunk size: 4 Number chunks: 5\n",
      "Receptive field: 10 Chunk size: 4 Number chunks: 5\n",
      "2 Receptive field: 10 Chunk size: 4 Number chunks: 5\n",
      "Receptive field: 10 Chunk size: 4 Number chunks: 5\n",
      "3 Receptive field: 10 Chunk size: 4 Number chunks: 5\n",
      "Receptive field: 10 Chunk size: 4 Number chunks: 5\n",
      "4 Receptive field: 10 Chunk size: 4 Number chunks: 5\n",
      "Receptive field: 10 Chunk size: 4 Number chunks: 5\n",
      "5 Receptive field: 10 Chunk size: 4 Number chunks: 5\n",
      "Receptive field: 10 Chunk size: 4 Number chunks: 5\n",
      "6 Receptive field: 10 Chunk size: 4 Number chunks: 5\n",
      "Receptive field: 10 Chunk size: 4 Number chunks: 5\n",
      "7 Receptive field: 10 Chunk size: 4 Number chunks: 5\n",
      "Receptive field: 10 Chunk size: 4 Number chunks: 5\n",
      "8 Receptive field: 10 Chunk size: 4 Number chunks: 5\n",
      "Receptive field: 10 Chunk size: 4 Number chunks: 5\n",
      "9 Receptive field: 10 Chunk size: 4 Number chunks: 5\n",
      "Receptive field: 10 Chunk size: 4 Number chunks: 5\n",
      "10 Receptive field: 10 Chunk size: 4 Number chunks: 5\n",
      "Receptive field: 10 Chunk size: 4 Number chunks: 5\n",
      "11 Receptive field: 10 Chunk size: 4 Number chunks: 5\n",
      "Receptive field: 10 Chunk size: 4 Number chunks: 5\n",
      "12 Receptive field: 10 Chunk size: 4 Number chunks: 5\n",
      "Receptive field: 10 Chunk size: 4 Number chunks: 5\n",
      "13 Receptive field: 10 Chunk size: 4 Number chunks: 5\n",
      "Receptive field: 10 Chunk size: 4 Number chunks: 5\n",
      "14 Receptive field: 10 Chunk size: 4 Number chunks: 5\n",
      "Receptive field: 10 Chunk size: 4 Number chunks: 5\n",
      "15 Receptive field: 10 Chunk size: 4 Number chunks: 5\n",
      "Receptive field: 10 Chunk size: 4 Number chunks: 5\n",
      "16 Receptive field: 10 Chunk size: 4 Number chunks: 5\n",
      "Receptive field: 10 Chunk size: 4 Number chunks: 5\n"
     ]
    },
    {
     "data": {
      "text/plain": [
       "[<matplotlib.lines.Line2D at 0x7efefae831c0>]"
      ]
     },
     "execution_count": 16,
     "metadata": {},
     "output_type": "execute_result"
    },
    {
     "data": {
      "image/png": "[encoded data removed]",
      "text/plain": [
       "<Figure size 432x288 with 1 Axes>"
      ]
     },
     "metadata": {
      "needs_background": "light"
     },
     "output_type": "display_data"
    }
   ],
   "source": [
    "reload(biophysnn)\n",
    "\n",
    "test_acc_flipped = {}\n",
    "test_auc_flipped = {}\n",
    "seq_lens = {}\n",
    "test_acc_regular = {}\n",
    "test_auc_regular = {}\n",
    "for num_filters in range(1,17): \n",
    "    print(num_filters, end = \" \")\n",
    "    flipped_cnn = biophysnn.CNN_1d(use_flipping=True, nchannels = [4, num_filters], n_hidden = 16, filter_widths = [10])\n",
    "    seq_lens[num_filters] = flipped_cnn.seq_len\n",
    "    train_accs, val_accs, train_aucs, val_aucs = biophysnn.train_model(flipped_cnn, train_data, validation_data, genome, verbose = False)\n",
    "    test_dataset = bindingdata.BedPeaksDataset(test_data, genome, flipped_cnn.seq_len)\n",
    "    test_dataloader = torch.utils.data.DataLoader(test_dataset, batch_size=1000)\n",
    "    test_loss, test_acc_flipped[num_filters], test_auc_flipped[num_filters], _, _, _ = biophysnn.run_one_epoch(test_dataloader, flipped_cnn, None)\n",
    "\n",
    "    regular_cnn = biophysnn.CNN_1d(use_flipping=False,  nchannels = [4, num_filters], n_hidden = 16, filter_widths = [11])\n",
    "    train_accs, val_accs, train_aucs, val_aucs = biophysnn.train_model(regular_cnn, train_data, validation_data, genome, verbose = False)\n",
    "    test_dataset = bindingdata.BedPeaksDataset(test_data, genome, regular_cnn.seq_len)\n",
    "    test_dataloader = torch.utils.data.DataLoader(test_dataset, batch_size=1000)\n",
    "    test_loss, test_acc_regular[num_filters], test_auc_regular[num_filters], _, _, _ = biophysnn.run_one_epoch(test_dataloader, regular_cnn, None)\n",
    "plt.plot(list(seq_lens.values()))"
   ]
  },
  {
   "cell_type": "code",
   "execution_count": 20,
   "metadata": {
    "id": "EA8pOUC0gBe4"
   },
   "outputs": [
    {
     "name": "stdout",
     "output_type": "stream",
     "text": [
      "0.609 +/- 0.006\n"
     ]
    }
   ],
   "source": [
    "test_auc_flipped_values = np.array(list(test_acc_flipped.values()))\n",
    "print(\"%.3f +/- %.3f\" % (test_acc_flipped_values.mean(), test_acc_flipped_values.std()))"
   ]
  },
  {
   "cell_type": "code",
   "execution_count": 19,
   "metadata": {
    "id": "AxBrkqiykz5t"
   },
   "outputs": [
    {
     "name": "stdout",
     "output_type": "stream",
     "text": [
      "0.614 +/- 0.010\n"
     ]
    }
   ],
   "source": [
    "test_auc_regular_values = np.array(list(test_acc_regular.values()))\n",
    "print(\"%.3f +/- %.3f\" % (test_acc_regular_values.mean(), test_acc_regular_values.std()))"
   ]
  },
  {
   "cell_type": "code",
   "execution_count": null,
   "metadata": {
    "id": "ZYWaAas1hZFw"
   },
   "outputs": [],
   "source": [
    "test_acc_regular_values"
   ]
  },
  {
   "cell_type": "markdown",
   "metadata": {
    "id": "FEh5tTipB4XH"
   },
   "source": [
    "Wow really bad AUCs! Not looking at enough sequence. "
   ]
  },
  {
   "cell_type": "code",
   "execution_count": null,
   "metadata": {},
   "outputs": [],
   "source": []
  },
  {
   "cell_type": "code",
   "execution_count": 25,
   "metadata": {},
   "outputs": [
    {
     "data": {
      "text/plain": [
       "30"
      ]
     },
     "execution_count": 25,
     "metadata": {},
     "output_type": "execute_result"
    }
   ],
   "source": [
    "regular_cnn.seq_len"
   ]
  },
  {
   "cell_type": "code",
   "execution_count": null,
   "metadata": {},
   "outputs": [],
   "source": []
  }
 ],
 "metadata": {
  "kernelspec": {
   "display_name": "Python 3",
   "language": "python",
   "name": "python3"
  },
  "language_info": {
   "codemirror_mode": {
    "name": "ipython",
    "version": 3
   },
   "file_extension": ".py",
   "mimetype": "text/x-python",
   "name": "python",
   "nbconvert_exporter": "python",
   "pygments_lexer": "ipython3",
   "version": "3.8.0"
  }
 },
 "nbformat": 4,
 "nbformat_minor": 4
}
