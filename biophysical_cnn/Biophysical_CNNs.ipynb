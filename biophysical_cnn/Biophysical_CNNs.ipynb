{
 "cells": [
  {
   "cell_type": "code",
   "execution_count": 40,
   "metadata": {
    "colab": {
     "base_uri": "https://localhost:8080/",
     "height": 218
    },
    "id": "8fPmCgelY66c",
    "outputId": "69405d1e-2ef2-4da4-9121-84dda09a9215",
    "tags": [
     "parameters"
    ]
   },
   "outputs": [
    {
     "ename": "NameError",
     "evalue": "name 'K562' is not defined",
     "output_type": "error",
     "traceback": [
      "\u001b[0;31m---------------------------------------------------------------------------\u001b[0m",
      "\u001b[0;31mNameError\u001b[0m                                 Traceback (most recent call last)",
      "\u001b[0;32m<ipython-input-40-ee5cdd97c921>\u001b[0m in \u001b[0;36m<module>\u001b[0;34m\u001b[0m\n\u001b[1;32m     17\u001b[0m \u001b[0munbound_bed_file\u001b[0m \u001b[0;34m=\u001b[0m \u001b[0;34m\"unbound_regions/HNRNPK_rep1_unbound.bed.gz\"\u001b[0m\u001b[0;34m\u001b[0m\u001b[0;34m\u001b[0m\u001b[0m\n\u001b[1;32m     18\u001b[0m \u001b[0mRBP\u001b[0m \u001b[0;34m=\u001b[0m \u001b[0;34m\"HNRNPK\"\u001b[0m\u001b[0;34m\u001b[0m\u001b[0;34m\u001b[0m\u001b[0m\n\u001b[0;32m---> 19\u001b[0;31m \u001b[0mpwm_source\u001b[0m \u001b[0;34m=\u001b[0m \u001b[0mK562\u001b[0m \u001b[0;31m# \"oRNAment\" # HepG2, K562 both imply mCross\u001b[0m\u001b[0;34m\u001b[0m\u001b[0;34m\u001b[0m\u001b[0m\n\u001b[0m",
      "\u001b[0;31mNameError\u001b[0m: name 'K562' is not defined"
     ]
    }
   ],
   "source": [
    "import torch\n",
    "import torch.nn as nn\n",
    "import torch.nn.functional as F\n",
    "import torch.utils.data\n",
    "\n",
    "import pandas as pd\n",
    "import numpy as np\n",
    "import matplotlib.pyplot as plt\n",
    "import pickle\n",
    "import os.path\n",
    "import biophysnn\n",
    "import logomaker\n",
    "from importlib import reload\n",
    "import motifscanner\n",
    "\n",
    "#IP_peak_file = \"/gpfs/commons/home/daknowles/RIPnet/all_hnrnpk_rep1_stranded.narrowPeak.gz\"\n",
    "IP_peak_file = \"/gpfs/commons/home/mschertzer/asb_model/220708_all_ipsc_ip/alignments/macs/all_hnrnpa1_rep1_stranded_noigg.narrowPeak\"\n",
    "unbound_bed_file = \"unbound_regions/HNRNPK_unbound.bed.gz\"\n",
    "RBP = \"HNRNPK\"\n",
    "pwm_source = \"K562\" # \"oRNAment\" # HepG2, K562 both imply mCross"
   ]
  },
  {
   "cell_type": "markdown",
   "metadata": {
    "id": "cQGel5ea0RXI"
   },
   "source": [
    "## Loading data"
   ]
  },
  {
   "cell_type": "code",
   "execution_count": 29,
   "metadata": {
    "id": "m0Kaptuq27QE"
   },
   "outputs": [
    {
     "data": {
      "text/html": [
       "<div>\n",
       "<style scoped>\n",
       "    .dataframe tbody tr th:only-of-type {\n",
       "        vertical-align: middle;\n",
       "    }\n",
       "\n",
       "    .dataframe tbody tr th {\n",
       "        vertical-align: top;\n",
       "    }\n",
       "\n",
       "    .dataframe thead th {\n",
       "        text-align: right;\n",
       "    }\n",
       "</style>\n",
       "<table border=\"1\" class=\"dataframe\">\n",
       "  <thead>\n",
       "    <tr style=\"text-align: right;\">\n",
       "      <th></th>\n",
       "      <th>chrom</th>\n",
       "      <th>start</th>\n",
       "      <th>end</th>\n",
       "      <th>name</th>\n",
       "      <th>score</th>\n",
       "      <th>strand</th>\n",
       "    </tr>\n",
       "  </thead>\n",
       "  <tbody>\n",
       "    <tr>\n",
       "      <th>0</th>\n",
       "      <td>chr1</td>\n",
       "      <td>16099</td>\n",
       "      <td>16580</td>\n",
       "      <td>all_hnrnpk_rep1_neg_peak_35</td>\n",
       "      <td>81</td>\n",
       "      <td>-</td>\n",
       "    </tr>\n",
       "    <tr>\n",
       "      <th>1</th>\n",
       "      <td>chr1</td>\n",
       "      <td>19237</td>\n",
       "      <td>19896</td>\n",
       "      <td>all_hnrnpk_rep1_neg_peak_36</td>\n",
       "      <td>48</td>\n",
       "      <td>-</td>\n",
       "    </tr>\n",
       "    <tr>\n",
       "      <th>2</th>\n",
       "      <td>chr1</td>\n",
       "      <td>136471</td>\n",
       "      <td>137136</td>\n",
       "      <td>all_hnrnpk_rep1_neg_peak_37</td>\n",
       "      <td>73</td>\n",
       "      <td>-</td>\n",
       "    </tr>\n",
       "    <tr>\n",
       "      <th>3</th>\n",
       "      <td>chr1</td>\n",
       "      <td>186383</td>\n",
       "      <td>187169</td>\n",
       "      <td>all_hnrnpk_rep1_neg_peak_38</td>\n",
       "      <td>54</td>\n",
       "      <td>-</td>\n",
       "    </tr>\n",
       "    <tr>\n",
       "      <th>4</th>\n",
       "      <td>chr1</td>\n",
       "      <td>190825</td>\n",
       "      <td>191102</td>\n",
       "      <td>all_hnrnpk_rep1_neg_peak_39</td>\n",
       "      <td>51</td>\n",
       "      <td>-</td>\n",
       "    </tr>\n",
       "    <tr>\n",
       "      <th>...</th>\n",
       "      <td>...</td>\n",
       "      <td>...</td>\n",
       "      <td>...</td>\n",
       "      <td>...</td>\n",
       "      <td>...</td>\n",
       "      <td>...</td>\n",
       "    </tr>\n",
       "    <tr>\n",
       "      <th>149418</th>\n",
       "      <td>chr9</td>\n",
       "      <td>138179008</td>\n",
       "      <td>138179394</td>\n",
       "      <td>all_hnrnpk_rep1_pos_peak_74674</td>\n",
       "      <td>72</td>\n",
       "      <td>+</td>\n",
       "    </tr>\n",
       "    <tr>\n",
       "      <th>149419</th>\n",
       "      <td>chr9</td>\n",
       "      <td>138232102</td>\n",
       "      <td>138232344</td>\n",
       "      <td>all_hnrnpk_rep1_pos_peak_74675</td>\n",
       "      <td>362</td>\n",
       "      <td>+</td>\n",
       "    </tr>\n",
       "    <tr>\n",
       "      <th>149420</th>\n",
       "      <td>chr9</td>\n",
       "      <td>138232980</td>\n",
       "      <td>138233211</td>\n",
       "      <td>all_hnrnpk_rep1_pos_peak_74676</td>\n",
       "      <td>254</td>\n",
       "      <td>+</td>\n",
       "    </tr>\n",
       "    <tr>\n",
       "      <th>149421</th>\n",
       "      <td>chr9</td>\n",
       "      <td>138276024</td>\n",
       "      <td>138276247</td>\n",
       "      <td>all_hnrnpk_rep1_pos_peak_74677</td>\n",
       "      <td>340</td>\n",
       "      <td>+</td>\n",
       "    </tr>\n",
       "    <tr>\n",
       "      <th>149422</th>\n",
       "      <td>chrM</td>\n",
       "      <td>0</td>\n",
       "      <td>505</td>\n",
       "      <td>all_hnrnpk_rep1_pos_peak_74678</td>\n",
       "      <td>99</td>\n",
       "      <td>+</td>\n",
       "    </tr>\n",
       "  </tbody>\n",
       "</table>\n",
       "<p>145893 rows × 6 columns</p>\n",
       "</div>"
      ],
      "text/plain": [
       "       chrom      start        end                            name  score  \\\n",
       "0       chr1      16099      16580     all_hnrnpk_rep1_neg_peak_35     81   \n",
       "1       chr1      19237      19896     all_hnrnpk_rep1_neg_peak_36     48   \n",
       "2       chr1     136471     137136     all_hnrnpk_rep1_neg_peak_37     73   \n",
       "3       chr1     186383     187169     all_hnrnpk_rep1_neg_peak_38     54   \n",
       "4       chr1     190825     191102     all_hnrnpk_rep1_neg_peak_39     51   \n",
       "...      ...        ...        ...                             ...    ...   \n",
       "149418  chr9  138179008  138179394  all_hnrnpk_rep1_pos_peak_74674     72   \n",
       "149419  chr9  138232102  138232344  all_hnrnpk_rep1_pos_peak_74675    362   \n",
       "149420  chr9  138232980  138233211  all_hnrnpk_rep1_pos_peak_74676    254   \n",
       "149421  chr9  138276024  138276247  all_hnrnpk_rep1_pos_peak_74677    340   \n",
       "149422  chrM          0        505  all_hnrnpk_rep1_pos_peak_74678     99   \n",
       "\n",
       "       strand  \n",
       "0           -  \n",
       "1           -  \n",
       "2           -  \n",
       "3           -  \n",
       "4           -  \n",
       "...       ...  \n",
       "149418      +  \n",
       "149419      +  \n",
       "149420      +  \n",
       "149421      +  \n",
       "149422      +  \n",
       "\n",
       "[145893 rows x 6 columns]"
      ]
     },
     "execution_count": 29,
     "metadata": {},
     "output_type": "execute_result"
    }
   ],
   "source": [
    "binding_data = pd.read_csv(IP_peak_file, sep='\\t', usecols=range(6), names=(\"chrom\",\"start\",\"end\",\"name\",\"score\",\"strand\"))\n",
    "binding_data = binding_data[ ~binding_data['chrom'].isin([\"chrX\",\"chrY\"]) ] # only keep autosomes (non sex chromosomes)\n",
    "binding_data = binding_data.sort_values(['chrom', 'start']).drop_duplicates() # sort so we can interleave negatives\n",
    "binding_data"
   ]
  },
  {
   "cell_type": "code",
   "execution_count": 30,
   "metadata": {},
   "outputs": [
    {
     "name": "stderr",
     "output_type": "stream",
     "text": [
      "/gpfs/commons/home/daknowles/.conda/envs/asb/lib/python3.8/site-packages/pandas/util/_decorators.py:311: ParserWarning: Length of header or names does not match length of data. This leads to a loss of data with index_col=False.\n",
      "  return func(*args, **kwargs)\n"
     ]
    },
    {
     "data": {
      "text/html": [
       "<div>\n",
       "<style scoped>\n",
       "    .dataframe tbody tr th:only-of-type {\n",
       "        vertical-align: middle;\n",
       "    }\n",
       "\n",
       "    .dataframe tbody tr th {\n",
       "        vertical-align: top;\n",
       "    }\n",
       "\n",
       "    .dataframe thead th {\n",
       "        text-align: right;\n",
       "    }\n",
       "</style>\n",
       "<table border=\"1\" class=\"dataframe\">\n",
       "  <thead>\n",
       "    <tr style=\"text-align: right;\">\n",
       "      <th></th>\n",
       "      <th>chrom</th>\n",
       "      <th>start</th>\n",
       "      <th>end</th>\n",
       "      <th>name</th>\n",
       "      <th>strand</th>\n",
       "      <th>counts</th>\n",
       "      <th>length</th>\n",
       "    </tr>\n",
       "  </thead>\n",
       "  <tbody>\n",
       "    <tr>\n",
       "      <th>0</th>\n",
       "      <td>chr1</td>\n",
       "      <td>17369</td>\n",
       "      <td>17436</td>\n",
       "      <td>ENSG00000278267.1</td>\n",
       "      <td>-</td>\n",
       "      <td>53</td>\n",
       "      <td>68</td>\n",
       "    </tr>\n",
       "    <tr>\n",
       "      <th>1</th>\n",
       "      <td>chr1</td>\n",
       "      <td>135141</td>\n",
       "      <td>135895</td>\n",
       "      <td>ENSG00000268903.1</td>\n",
       "      <td>-</td>\n",
       "      <td>903</td>\n",
       "      <td>755</td>\n",
       "    </tr>\n",
       "    <tr>\n",
       "      <th>2</th>\n",
       "      <td>chr1</td>\n",
       "      <td>137682</td>\n",
       "      <td>137965</td>\n",
       "      <td>ENSG00000269981.1</td>\n",
       "      <td>-</td>\n",
       "      <td>1206</td>\n",
       "      <td>284</td>\n",
       "    </tr>\n",
       "    <tr>\n",
       "      <th>3</th>\n",
       "      <td>chr1</td>\n",
       "      <td>185217</td>\n",
       "      <td>186383</td>\n",
       "      <td>ENSG00000279457.4</td>\n",
       "      <td>-</td>\n",
       "      <td>295</td>\n",
       "      <td>1397</td>\n",
       "    </tr>\n",
       "    <tr>\n",
       "      <th>4</th>\n",
       "      <td>chr1</td>\n",
       "      <td>187169</td>\n",
       "      <td>190825</td>\n",
       "      <td>ENSG00000279457.4</td>\n",
       "      <td>-</td>\n",
       "      <td>295</td>\n",
       "      <td>1397</td>\n",
       "    </tr>\n",
       "    <tr>\n",
       "      <th>...</th>\n",
       "      <td>...</td>\n",
       "      <td>...</td>\n",
       "      <td>...</td>\n",
       "      <td>...</td>\n",
       "      <td>...</td>\n",
       "      <td>...</td>\n",
       "      <td>...</td>\n",
       "    </tr>\n",
       "    <tr>\n",
       "      <th>126565</th>\n",
       "      <td>chrM</td>\n",
       "      <td>14149</td>\n",
       "      <td>14673</td>\n",
       "      <td>ENSG00000198695.2</td>\n",
       "      <td>-</td>\n",
       "      <td>59390</td>\n",
       "      <td>525</td>\n",
       "    </tr>\n",
       "    <tr>\n",
       "      <th>126566</th>\n",
       "      <td>chrM</td>\n",
       "      <td>14674</td>\n",
       "      <td>14742</td>\n",
       "      <td>ENSG00000210194.1</td>\n",
       "      <td>-</td>\n",
       "      <td>598</td>\n",
       "      <td>69</td>\n",
       "    </tr>\n",
       "    <tr>\n",
       "      <th>126567</th>\n",
       "      <td>chrM</td>\n",
       "      <td>14747</td>\n",
       "      <td>15887</td>\n",
       "      <td>ENSG00000198727.2</td>\n",
       "      <td>+</td>\n",
       "      <td>247327</td>\n",
       "      <td>1141</td>\n",
       "    </tr>\n",
       "    <tr>\n",
       "      <th>126568</th>\n",
       "      <td>chrM</td>\n",
       "      <td>15888</td>\n",
       "      <td>15953</td>\n",
       "      <td>ENSG00000210195.2</td>\n",
       "      <td>+</td>\n",
       "      <td>663</td>\n",
       "      <td>66</td>\n",
       "    </tr>\n",
       "    <tr>\n",
       "      <th>126569</th>\n",
       "      <td>chrM</td>\n",
       "      <td>15956</td>\n",
       "      <td>16023</td>\n",
       "      <td>ENSG00000210196.2</td>\n",
       "      <td>-</td>\n",
       "      <td>3483</td>\n",
       "      <td>68</td>\n",
       "    </tr>\n",
       "  </tbody>\n",
       "</table>\n",
       "<p>126570 rows × 7 columns</p>\n",
       "</div>"
      ],
      "text/plain": [
       "       chrom   start     end               name strand  counts  length\n",
       "0       chr1   17369   17436  ENSG00000278267.1      -      53      68\n",
       "1       chr1  135141  135895  ENSG00000268903.1      -     903     755\n",
       "2       chr1  137682  137965  ENSG00000269981.1      -    1206     284\n",
       "3       chr1  185217  186383  ENSG00000279457.4      -     295    1397\n",
       "4       chr1  187169  190825  ENSG00000279457.4      -     295    1397\n",
       "...      ...     ...     ...                ...    ...     ...     ...\n",
       "126565  chrM   14149   14673  ENSG00000198695.2      -   59390     525\n",
       "126566  chrM   14674   14742  ENSG00000210194.1      -     598      69\n",
       "126567  chrM   14747   15887  ENSG00000198727.2      +  247327    1141\n",
       "126568  chrM   15888   15953  ENSG00000210195.2      +     663      66\n",
       "126569  chrM   15956   16023  ENSG00000210196.2      -    3483      68\n",
       "\n",
       "[126570 rows x 7 columns]"
      ]
     },
     "execution_count": 30,
     "metadata": {},
     "output_type": "execute_result"
    }
   ],
   "source": [
    "unbound = pd.read_csv(unbound_bed_file, \n",
    "                      sep = \"\\t\", \n",
    "                      names = [\"chrom\", \"start\", \"end\", \"name\", \"strand\", \"counts\", \"length\"],\n",
    "                      index_col = False)\n",
    "unbound"
   ]
  },
  {
   "cell_type": "code",
   "execution_count": 31,
   "metadata": {},
   "outputs": [
    {
     "data": {
      "text/plain": [
       "chrom                            chr1\n",
       "start                          629752\n",
       "end                            629972\n",
       "name      all_hnrnpk_rep1_pos_peak_23\n",
       "score                             246\n",
       "strand                              +\n",
       "Name: 74767, dtype: object"
      ]
     },
     "execution_count": 31,
     "metadata": {},
     "output_type": "execute_result"
    }
   ],
   "source": [
    "unbound[\"score\"] = 0\n",
    "bind_all = pd.concat([binding_data,\n",
    "           unbound.loc[:, ~unbound.columns.isin(['counts', 'length'])]], \n",
    "          axis=0)\n",
    "bind_all.iloc[10]"
   ]
  },
  {
   "cell_type": "code",
   "execution_count": 32,
   "metadata": {
    "id": "80imMbLs0Wxx"
   },
   "outputs": [
    {
     "data": {
      "text/plain": [
       "(0.09493766126042802, 0.1428707751144192)"
      ]
     },
     "execution_count": 32,
     "metadata": {},
     "output_type": "execute_result"
    }
   ],
   "source": [
    "test_chromosomes = [\"chr1\"]\n",
    "test_data = bind_all[ bind_all['chrom'].isin( test_chromosomes ) ]\n",
    "\n",
    "validation_chromosomes = [\"chr2\",\"chr3\"]\n",
    "validation_data = bind_all[ bind_all['chrom'].isin(validation_chromosomes) ]\n",
    "\n",
    "train_chromosomes = [\"chr%i\" % i for i in range(4, 22+1)]\n",
    "train_data = bind_all[ bind_all['chrom'].isin( train_chromosomes ) ]\n",
    "\n",
    "test_data.shape[0] / bind_all.shape[0], validation_data.shape[0] / bind_all.shape[0]"
   ]
  },
  {
   "cell_type": "markdown",
   "metadata": {
    "id": "wV_xNFIszaKf"
   },
   "source": [
    "We'll also need the human genome, which we provide here as a pickle since it's faster to load compared to reading in a text file. \n",
    "\n",
    "It's worth knowing that the human genome has different *versions* that are released as more missing parts are resolved by continued sequencing and assembly efforts. Version `GRCh37` (also called `hg19`) was released in 2009, and `GRCh38` (`hg38`) was released in 2013. We'll be using `hg19` here but `GRCh38` is finally becoming more standard so always check your data is what you think it is. \n",
    "\n",
    "This will take a minute or two. "
   ]
  },
  {
   "cell_type": "code",
   "execution_count": 33,
   "metadata": {
    "id": "5fcHay8WzoOA"
   },
   "outputs": [],
   "source": [
    "genome = pickle.load(open(\"/gpfs/commons/home/daknowles/knowles_lab/index/hg38/hg38.pkl\",\"rb\")) # this is here in case there's hg38 data you want to analyse"
   ]
  },
  {
   "cell_type": "markdown",
   "metadata": {
    "id": "zeoHEbQPzu7X"
   },
   "source": [
    "`genome` is just a dictionary where the keys are the chromosome names and the values are strings representing the actual DNA. Ns represents \"missing\" regions, typically because the region has too many repetitive sequences making mapping impossible, which is especially the case in [centrosomes](https://en.wikipedia.org/wiki/Centrosome) and [telomeres](https://en.wikipedia.org/wiki/Telomere). Resolving these difficult to map regions is an ongoing effort. \n",
    "\n",
    "## Load known PWMs"
   ]
  },
  {
   "cell_type": "code",
   "execution_count": 34,
   "metadata": {
    "id": "7Qh2n9ViFAO-"
   },
   "outputs": [
    {
     "data": {
      "image/png": "[encoded data removed]",
      "text/plain": [
       "<Figure size 288x360 with 5 Axes>"
      ]
     },
     "metadata": {
      "needs_background": "light"
     },
     "output_type": "display_data"
    }
   ],
   "source": [
    "if pwm_source == \"oRNAment\":\n",
    "    pwm_dat = np.load(\"/gpfs/commons/home/daknowles/apex_seq/pwms.npz\")\n",
    "    pwm_names = pwm_dat['names']\n",
    "    pwms = pwm_dat['pwms']\n",
    "\n",
    "    pwms[pwms > 0].min()\n",
    "    log_pwms = np.log(pwms + 1e-4)\n",
    "\n",
    "    # Convert to actual PWM\n",
    "    w = torch.tensor(log_pwms, dtype=torch.float).transpose(0,2)\n",
    "    w_norm = w - w.mean(1,keepdims=True)\n",
    "\n",
    "    specific_pwms = w_norm[ np.array([ RBP in g for g in pwm_names ]) ]\n",
    "    specific_pwms.shape\n",
    "else: \n",
    "    base_dir = \"/gpfs/commons/groups/knowles_lab/data/oRNAment/mCross/\"\n",
    "    pwm = np.load(base_dir + \"mCross_pwm.npy\")\n",
    "    meta = pd.read_csv(base_dir + \"pwm_meta.tsv\", sep = \"\\t\")\n",
    "    #specific_motifs = (meta.RBP == RBP) & (meta.Celltype == \"HepG2\").to_numpy()\n",
    "    \n",
    "    specific_motifs = (meta.RBP == RBP) & (meta.Celltype == pwm_source).to_numpy()\n",
    "    specific_pwms = torch.tensor(pwm[specific_motifs,:,:], dtype = torch.float)\n",
    "    specific_pwms -= specific_pwms.mean(1, keepdims=True)\n",
    "\n",
    "biophysnn.plot_motifs(specific_pwms)"
   ]
  },
  {
   "cell_type": "code",
   "execution_count": 36,
   "metadata": {},
   "outputs": [
    {
     "data": {
      "text/html": [
       "<div>\n",
       "<style scoped>\n",
       "    .dataframe tbody tr th:only-of-type {\n",
       "        vertical-align: middle;\n",
       "    }\n",
       "\n",
       "    .dataframe tbody tr th {\n",
       "        vertical-align: top;\n",
       "    }\n",
       "\n",
       "    .dataframe thead th {\n",
       "        text-align: right;\n",
       "    }\n",
       "</style>\n",
       "<table border=\"1\" class=\"dataframe\">\n",
       "  <thead>\n",
       "    <tr style=\"text-align: right;\">\n",
       "      <th></th>\n",
       "      <th>chrom</th>\n",
       "      <th>start</th>\n",
       "      <th>end</th>\n",
       "      <th>name</th>\n",
       "      <th>score</th>\n",
       "      <th>strand</th>\n",
       "    </tr>\n",
       "  </thead>\n",
       "  <tbody>\n",
       "    <tr>\n",
       "      <th>34934</th>\n",
       "      <td>chr2</td>\n",
       "      <td>217616</td>\n",
       "      <td>217866</td>\n",
       "      <td>all_hnrnpk_rep1_neg_peak_34969</td>\n",
       "      <td>34</td>\n",
       "      <td>-</td>\n",
       "    </tr>\n",
       "    <tr>\n",
       "      <th>34935</th>\n",
       "      <td>chr2</td>\n",
       "      <td>226497</td>\n",
       "      <td>227354</td>\n",
       "      <td>all_hnrnpk_rep1_neg_peak_34970</td>\n",
       "      <td>198</td>\n",
       "      <td>-</td>\n",
       "    </tr>\n",
       "    <tr>\n",
       "      <th>34936</th>\n",
       "      <td>chr2</td>\n",
       "      <td>228295</td>\n",
       "      <td>228931</td>\n",
       "      <td>all_hnrnpk_rep1_neg_peak_34971</td>\n",
       "      <td>46</td>\n",
       "      <td>-</td>\n",
       "    </tr>\n",
       "    <tr>\n",
       "      <th>34937</th>\n",
       "      <td>chr2</td>\n",
       "      <td>234437</td>\n",
       "      <td>235333</td>\n",
       "      <td>all_hnrnpk_rep1_neg_peak_34972</td>\n",
       "      <td>92</td>\n",
       "      <td>-</td>\n",
       "    </tr>\n",
       "    <tr>\n",
       "      <th>34938</th>\n",
       "      <td>chr2</td>\n",
       "      <td>236234</td>\n",
       "      <td>236903</td>\n",
       "      <td>all_hnrnpk_rep1_neg_peak_34973</td>\n",
       "      <td>210</td>\n",
       "      <td>-</td>\n",
       "    </tr>\n",
       "    <tr>\n",
       "      <th>...</th>\n",
       "      <td>...</td>\n",
       "      <td>...</td>\n",
       "      <td>...</td>\n",
       "      <td>...</td>\n",
       "      <td>...</td>\n",
       "      <td>...</td>\n",
       "    </tr>\n",
       "    <tr>\n",
       "      <th>28836</th>\n",
       "      <td>chr3</td>\n",
       "      <td>198015944</td>\n",
       "      <td>198043720</td>\n",
       "      <td>ENSG00000185621.11</td>\n",
       "      <td>0</td>\n",
       "      <td>+</td>\n",
       "    </tr>\n",
       "    <tr>\n",
       "      <th>28837</th>\n",
       "      <td>chr3</td>\n",
       "      <td>198153287</td>\n",
       "      <td>198167944</td>\n",
       "      <td>ENSG00000236438.7</td>\n",
       "      <td>0</td>\n",
       "      <td>+</td>\n",
       "    </tr>\n",
       "    <tr>\n",
       "      <th>28838</th>\n",
       "      <td>chr3</td>\n",
       "      <td>198169762</td>\n",
       "      <td>198182452</td>\n",
       "      <td>ENSG00000236438.7</td>\n",
       "      <td>0</td>\n",
       "      <td>+</td>\n",
       "    </tr>\n",
       "    <tr>\n",
       "      <th>28839</th>\n",
       "      <td>chr3</td>\n",
       "      <td>198183005</td>\n",
       "      <td>198220091</td>\n",
       "      <td>ENSG00000236438.7</td>\n",
       "      <td>0</td>\n",
       "      <td>+</td>\n",
       "    </tr>\n",
       "    <tr>\n",
       "      <th>28840</th>\n",
       "      <td>chr3</td>\n",
       "      <td>198220572</td>\n",
       "      <td>198222513</td>\n",
       "      <td>ENSG00000236438.7</td>\n",
       "      <td>0</td>\n",
       "      <td>+</td>\n",
       "    </tr>\n",
       "  </tbody>\n",
       "</table>\n",
       "<p>38927 rows × 6 columns</p>\n",
       "</div>"
      ],
      "text/plain": [
       "      chrom      start        end                            name  score  \\\n",
       "34934  chr2     217616     217866  all_hnrnpk_rep1_neg_peak_34969     34   \n",
       "34935  chr2     226497     227354  all_hnrnpk_rep1_neg_peak_34970    198   \n",
       "34936  chr2     228295     228931  all_hnrnpk_rep1_neg_peak_34971     46   \n",
       "34937  chr2     234437     235333  all_hnrnpk_rep1_neg_peak_34972     92   \n",
       "34938  chr2     236234     236903  all_hnrnpk_rep1_neg_peak_34973    210   \n",
       "...     ...        ...        ...                             ...    ...   \n",
       "28836  chr3  198015944  198043720              ENSG00000185621.11      0   \n",
       "28837  chr3  198153287  198167944               ENSG00000236438.7      0   \n",
       "28838  chr3  198169762  198182452               ENSG00000236438.7      0   \n",
       "28839  chr3  198183005  198220091               ENSG00000236438.7      0   \n",
       "28840  chr3  198220572  198222513               ENSG00000236438.7      0   \n",
       "\n",
       "      strand  \n",
       "34934      -  \n",
       "34935      -  \n",
       "34936      -  \n",
       "34937      -  \n",
       "34938      -  \n",
       "...      ...  \n",
       "28836      +  \n",
       "28837      +  \n",
       "28838      +  \n",
       "28839      +  \n",
       "28840      +  \n",
       "\n",
       "[38927 rows x 6 columns]"
      ]
     },
     "execution_count": 36,
     "metadata": {},
     "output_type": "execute_result"
    }
   ],
   "source": [
    "validation_data"
   ]
  },
  {
   "cell_type": "markdown",
   "metadata": {
    "id": "eY4iUM7CJnhO"
   },
   "source": [
    "## Test phys net"
   ]
  },
  {
   "cell_type": "code",
   "execution_count": 39,
   "metadata": {},
   "outputs": [
    {
     "name": "stdout",
     "output_type": "stream",
     "text": [
      "checkpoints/HNRNPK_oRNAment/posmax0_motifmax0_len100.pt\n",
      "checkpoints/HNRNPK_oRNAment/posmax0_motifmax0_len200.pt\n",
      "checkpoints/HNRNPK_oRNAment/posmax0_motifmax0_len300.pt\n",
      "checkpoints/HNRNPK_oRNAment/posmax0_motifmax0_len400.pt\n",
      "checkpoints/HNRNPK_oRNAment/posmax0_motifmax0_len500.pt\n",
      "checkpoints/HNRNPK_oRNAment/posmax0_motifmax0_len600.pt\n",
      "checkpoints/HNRNPK_oRNAment/posmax0_motifmax0_len700.pt\n",
      "checkpoints/HNRNPK_oRNAment/posmax0_motifmax0_len800.pt\n",
      "242\r"
     ]
    },
    {
     "ename": "KeyboardInterrupt",
     "evalue": "",
     "output_type": "error",
     "traceback": [
      "\u001b[0;31m---------------------------------------------------------------------------\u001b[0m",
      "\u001b[0;31mKeyboardInterrupt\u001b[0m                         Traceback (most recent call last)",
      "\u001b[0;32m<ipython-input-39-5da9ccb143f7>\u001b[0m in \u001b[0;36m<module>\u001b[0;34m\u001b[0m\n\u001b[1;32m      2\u001b[0m \u001b[0mreload\u001b[0m\u001b[0;34m(\u001b[0m\u001b[0mmotifscanner\u001b[0m\u001b[0;34m)\u001b[0m\u001b[0;34m\u001b[0m\u001b[0;34m\u001b[0m\u001b[0m\n\u001b[1;32m      3\u001b[0m \u001b[0mreload\u001b[0m\u001b[0;34m(\u001b[0m\u001b[0mbiophysnn\u001b[0m\u001b[0;34m)\u001b[0m\u001b[0;34m\u001b[0m\u001b[0;34m\u001b[0m\u001b[0m\n\u001b[0;32m----> 4\u001b[0;31m res_df = motifscanner.test_settings(\n\u001b[0m\u001b[1;32m      5\u001b[0m     \u001b[0mspecific_pwms\u001b[0m\u001b[0;34m,\u001b[0m\u001b[0;34m\u001b[0m\u001b[0;34m\u001b[0m\u001b[0m\n\u001b[1;32m      6\u001b[0m     \u001b[0mtrain_data\u001b[0m\u001b[0;34m,\u001b[0m\u001b[0;34m\u001b[0m\u001b[0;34m\u001b[0m\u001b[0m\n",
      "\u001b[0;32m~/pooledRBPs/biophysical_cnn/motifscanner.py\u001b[0m in \u001b[0;36mtest_settings\u001b[0;34m(specific_pwms, train_data, validation_data, genome, seq_len_range, base_checkpoint_dir)\u001b[0m\n\u001b[1;32m    172\u001b[0m                                     0.))\n\u001b[1;32m    173\u001b[0m                         \u001b[0;32mcontinue\u001b[0m\u001b[0;34m\u001b[0m\u001b[0;34m\u001b[0m\u001b[0m\n\u001b[0;32m--> 174\u001b[0;31m                     train_accs, val_accs, train_aucs, val_aucs = biophysnn.train_model(phys_net, \n\u001b[0m\u001b[1;32m    175\u001b[0m                                                                                \u001b[0mtrain_data\u001b[0m\u001b[0;34m,\u001b[0m\u001b[0;34m\u001b[0m\u001b[0;34m\u001b[0m\u001b[0m\n\u001b[1;32m    176\u001b[0m                                                                                \u001b[0mvalidation_data\u001b[0m\u001b[0;34m,\u001b[0m\u001b[0;34m\u001b[0m\u001b[0;34m\u001b[0m\u001b[0m\n",
      "\u001b[0;32m~/pooledRBPs/biophysical_cnn/biophysnn.py\u001b[0m in \u001b[0;36mtrain_model\u001b[0;34m(model, train_data, validation_data, genome, regression, epochs, patience, verbose, num_workers, annealing_schedule, check_point_filename, **kwargs)\u001b[0m\n\u001b[1;32m    339\u001b[0m         \u001b[0mtrain_loss\u001b[0m\u001b[0;34m,\u001b[0m \u001b[0mtrain_acc\u001b[0m\u001b[0;34m,\u001b[0m \u001b[0mtrain_auc\u001b[0m\u001b[0;34m,\u001b[0m \u001b[0m_\u001b[0m\u001b[0;34m,\u001b[0m \u001b[0m_\u001b[0m\u001b[0;34m,\u001b[0m \u001b[0m_\u001b[0m \u001b[0;34m=\u001b[0m \u001b[0mrun_one_epoch\u001b[0m\u001b[0;34m(\u001b[0m\u001b[0mtrain_dataloader\u001b[0m\u001b[0;34m,\u001b[0m \u001b[0mmodel\u001b[0m\u001b[0;34m,\u001b[0m \u001b[0moptimizer\u001b[0m\u001b[0;34m,\u001b[0m \u001b[0mregression\u001b[0m \u001b[0;34m=\u001b[0m \u001b[0mregression\u001b[0m\u001b[0;34m)\u001b[0m\u001b[0;34m\u001b[0m\u001b[0;34m\u001b[0m\u001b[0m\n\u001b[1;32m    340\u001b[0m         \u001b[0mnp\u001b[0m\u001b[0;34m.\u001b[0m\u001b[0mrandom\u001b[0m\u001b[0;34m.\u001b[0m\u001b[0mseed\u001b[0m\u001b[0;34m(\u001b[0m\u001b[0;36m0\u001b[0m\u001b[0;34m)\u001b[0m \u001b[0;31m# for consistent randomness in validation\u001b[0m\u001b[0;34m\u001b[0m\u001b[0;34m\u001b[0m\u001b[0m\n\u001b[0;32m--> 341\u001b[0;31m         \u001b[0mval_loss\u001b[0m\u001b[0;34m,\u001b[0m \u001b[0mval_acc\u001b[0m\u001b[0;34m,\u001b[0m \u001b[0mval_auc\u001b[0m\u001b[0;34m,\u001b[0m \u001b[0m_\u001b[0m\u001b[0;34m,\u001b[0m \u001b[0m_\u001b[0m\u001b[0;34m,\u001b[0m \u001b[0m_\u001b[0m \u001b[0;34m=\u001b[0m \u001b[0mrun_one_epoch\u001b[0m\u001b[0;34m(\u001b[0m\u001b[0mvalidation_dataloader\u001b[0m\u001b[0;34m,\u001b[0m \u001b[0mmodel\u001b[0m\u001b[0;34m,\u001b[0m \u001b[0moptimizer\u001b[0m \u001b[0;34m=\u001b[0m \u001b[0;32mNone\u001b[0m\u001b[0;34m,\u001b[0m \u001b[0mregression\u001b[0m \u001b[0;34m=\u001b[0m \u001b[0mregression\u001b[0m\u001b[0;34m)\u001b[0m\u001b[0;34m\u001b[0m\u001b[0;34m\u001b[0m\u001b[0m\n\u001b[0m\u001b[1;32m    342\u001b[0m         \u001b[0mtrain_accs\u001b[0m\u001b[0;34m.\u001b[0m\u001b[0mappend\u001b[0m\u001b[0;34m(\u001b[0m\u001b[0mtrain_acc\u001b[0m\u001b[0;34m)\u001b[0m\u001b[0;34m\u001b[0m\u001b[0;34m\u001b[0m\u001b[0m\n\u001b[1;32m    343\u001b[0m         \u001b[0mval_accs\u001b[0m\u001b[0;34m.\u001b[0m\u001b[0mappend\u001b[0m\u001b[0;34m(\u001b[0m\u001b[0mval_acc\u001b[0m\u001b[0;34m)\u001b[0m\u001b[0;34m\u001b[0m\u001b[0;34m\u001b[0m\u001b[0m\n",
      "\u001b[0;32m~/pooledRBPs/biophysical_cnn/biophysnn.py\u001b[0m in \u001b[0;36mrun_one_epoch\u001b[0;34m(dataloader, model, optimizer, regression)\u001b[0m\n\u001b[1;32m    240\u001b[0m     \u001b[0mdevice\u001b[0m \u001b[0;34m=\u001b[0m \u001b[0mnext\u001b[0m\u001b[0;34m(\u001b[0m\u001b[0mmodel\u001b[0m\u001b[0;34m.\u001b[0m\u001b[0mparameters\u001b[0m\u001b[0;34m(\u001b[0m\u001b[0;34m)\u001b[0m\u001b[0;34m)\u001b[0m\u001b[0;34m.\u001b[0m\u001b[0mdevice\u001b[0m\u001b[0;34m\u001b[0m\u001b[0;34m\u001b[0m\u001b[0m\n\u001b[1;32m    241\u001b[0m \u001b[0;34m\u001b[0m\u001b[0m\n\u001b[0;32m--> 242\u001b[0;31m     \u001b[0;32mfor\u001b[0m \u001b[0mi\u001b[0m\u001b[0;34m,\u001b[0m\u001b[0mbatch\u001b[0m \u001b[0;32min\u001b[0m \u001b[0menumerate\u001b[0m\u001b[0;34m(\u001b[0m\u001b[0mdataloader\u001b[0m\u001b[0;34m)\u001b[0m\u001b[0;34m:\u001b[0m \u001b[0;31m# collection of tuples with iterator\u001b[0m\u001b[0;34m\u001b[0m\u001b[0;34m\u001b[0m\u001b[0m\n\u001b[0m\u001b[1;32m    243\u001b[0m \u001b[0;34m\u001b[0m\u001b[0m\n\u001b[1;32m    244\u001b[0m         \u001b[0mbatch\u001b[0m \u001b[0;34m=\u001b[0m \u001b[0;34m[\u001b[0m \u001b[0mg\u001b[0m\u001b[0;34m.\u001b[0m\u001b[0mto\u001b[0m\u001b[0;34m(\u001b[0m\u001b[0mdevice\u001b[0m\u001b[0;34m)\u001b[0m \u001b[0;32mfor\u001b[0m \u001b[0mg\u001b[0m \u001b[0;32min\u001b[0m \u001b[0mbatch\u001b[0m \u001b[0;34m]\u001b[0m \u001b[0;31m# transfer data to GPU\u001b[0m\u001b[0;34m\u001b[0m\u001b[0;34m\u001b[0m\u001b[0m\n",
      "\u001b[0;31mKeyboardInterrupt\u001b[0m: "
     ]
    }
   ],
   "source": [
    "base_checkpoint_dir =  \"checkpoints/%s_%s/\" % (RBP, pwm_source)\n",
    "reload(motifscanner)\n",
    "reload(biophysnn)\n",
    "res_df = motifscanner.test_settings(\n",
    "    specific_pwms, \n",
    "    train_data, \n",
    "    validation_data,\n",
    "    genome, \n",
    "    base_checkpoint_dir = base_checkpoint_dir)\n",
    "res_df.to_csv(\"biophys_results/test_settings_%s_%s.tsv\" % (RBP, pwm_source), sep = \"\\t\", index = False)"
   ]
  },
  {
   "cell_type": "markdown",
   "metadata": {},
   "source": [
    "### Analyze results"
   ]
  },
  {
   "cell_type": "code",
   "execution_count": null,
   "metadata": {},
   "outputs": [],
   "source": [
    "lse_only = res_df[~res_df.posmax & ~res_df.motifmax]\n",
    "plt.plot(lse_only.seqlen, lse_only.val_auc)"
   ]
  },
  {
   "cell_type": "code",
   "execution_count": null,
   "metadata": {},
   "outputs": [],
   "source": [
    "sixh_only = res_df.groupby([\"motifmax\",\"posmax\",\"motif_then_pos\"]).agg({\"val_auc\" : \"max\"})\n",
    "sixh_only"
   ]
  },
  {
   "cell_type": "markdown",
   "metadata": {},
   "source": [
    "The best performance is obtained by using logSumExp across both motifs and positions, which is symmetric in the order of summarization. Taking the max over positions always performs very poorly, suggesting that accounting for multiple binding sites in the region is beneficial, at least for HNRNPK. \n",
    "\n",
    "Taking the max over motifs but logSumExp over positions gives intermediate performance. Interestingly, it is better to do the max over motifs first, then logSumExp over positions (rather than logSumExp over positions then max over motifs). This is intuitive. If there are two distinct binding sites in a region, there is no reason to think that the same motif need be used in both. Instead, the max determines how likely the RBP is to bind at any given position, and this is combined by the logSumExp. "
   ]
  },
  {
   "cell_type": "code",
   "execution_count": null,
   "metadata": {},
   "outputs": [],
   "source": [
    "import seaborn as sns\n",
    "#res_df = pd.read_csv(\"biophys_results/results.tsv\", sep=\"\\t\", index_col = False)\n",
    "sns.scatterplot(\"seqlen\", \"val_auc\", hue = \"posmax\", style=\"motifmax\", size=\"motif_then_pos\", data = res_df)\n",
    "plt.xlabel(\"Sequence length\")\n",
    "plt.ylabel(\"Validation AUROC\")\n",
    "plt.legend(bbox_to_anchor=(1.02, 1.0), loc='upper left', borderaxespad=0)"
   ]
  },
  {
   "cell_type": "code",
   "execution_count": null,
   "metadata": {},
   "outputs": [],
   "source": [
    "res_df"
   ]
  },
  {
   "cell_type": "code",
   "execution_count": null,
   "metadata": {},
   "outputs": [],
   "source": [
    "best_i = res_df.val_auc.argmax()\n",
    "check_point_filename = res_df.file.iloc[best_i]\n",
    "phys_net = motifscanner.PhysNet(\n",
    "    specific_pwms, \n",
    "    max_over_positions = res_df.posmax.iloc[best_i], \n",
    "    max_over_motifs = res_df.motifmax.iloc[best_i], \n",
    "    seq_len = res_df.seqlen.iloc[best_i],\n",
    "    motif_then_pos = res_df.motif_then_pos.iloc[best_i] )\n",
    "phys_net.load_state_dict(torch.load(check_point_filename))\n",
    "for k,v in phys_net.named_parameters(): \n",
    "    print(k,v)"
   ]
  },
  {
   "cell_type": "code",
   "execution_count": null,
   "metadata": {
    "id": "EKLxPhvqNkZX"
   },
   "outputs": [],
   "source": [
    "phys_net.scale"
   ]
  },
  {
   "cell_type": "code",
   "execution_count": null,
   "metadata": {},
   "outputs": [],
   "source": [
    "phys_net.motif_scale"
   ]
  },
  {
   "cell_type": "markdown",
   "metadata": {},
   "source": [
    "### Plot examples"
   ]
  },
  {
   "cell_type": "code",
   "execution_count": null,
   "metadata": {},
   "outputs": [],
   "source": [
    "val_dataset = bindingdata.FastBedPeaksDataset(validation_data, genome, phys_net.seq_len)\n",
    "validation_dataloader = torch.utils.data.DataLoader(val_dataset, batch_size=10000)\n",
    "for x,y in validation_dataloader: \n",
    "    affin = phys_net(x)\n",
    "    conv_lin = F.conv1d(x, phys_net.pwm, padding = \"same\") * phys_net.motif_scale[None,:,None] + phys_net.motif_offset[None,:,None]\n",
    "    per_position = phys_net.scale * conv_lin.logsumexp(1) + phys_net.offset\n",
    "    break\n",
    "\n",
    "bound = y == 1.\n",
    "idx = affin[bound].argmax().item()\n",
    "plt.plot(per_position[bound][idx].detach().exp().numpy())\n",
    "\n",
    "argmax_pos = per_position[bound][idx].argmax().item()\n",
    "argmax_motif = conv_lin[bound][idx,:,argmax_pos].argmax().item()\n",
    "argmax_pos, argmax_motif"
   ]
  },
  {
   "cell_type": "code",
   "execution_count": null,
   "metadata": {},
   "outputs": [],
   "source": [
    "one_motif = phys_net.scale * conv_lin[bound][idx,argmax_motif] + phys_net.offset\n",
    "plt.plot(one_motif.detach().exp().numpy())"
   ]
  },
  {
   "cell_type": "markdown",
   "metadata": {},
   "source": [
    "Clusters are cool."
   ]
  },
  {
   "cell_type": "code",
   "execution_count": null,
   "metadata": {},
   "outputs": [],
   "source": [
    "pwm_match = phys_net.pwm[argmax_motif,:,:]\n",
    "\n",
    "pwm_df = pd.DataFrame(data = pwm_match.detach().t().numpy(), columns=(\"A\",\"C\",\"G\",\"T\"))\n",
    "crp_logo = logomaker.Logo(pwm_df) \n",
    "plt.axis('off')"
   ]
  },
  {
   "cell_type": "code",
   "execution_count": null,
   "metadata": {},
   "outputs": [],
   "source": [
    "one_motif.argmax().item()"
   ]
  },
  {
   "cell_type": "code",
   "execution_count": null,
   "metadata": {},
   "outputs": [],
   "source": [
    "npos = 10\n",
    "top_pos = one_motif.argsort(descending=True)[:npos]\n",
    "plt.figure(figsize=(4,npos))\n",
    "        \n",
    "for i,tp in enumerate(top_pos):\n",
    "    ax = plt.subplot(npos,1,i+1)\n",
    "    seq = x[bound][idx,:,tp-7:tp+7]\n",
    "    pwm_df = pd.DataFrame(data = seq.detach().t().numpy(), columns=(\"A\",\"C\",\"G\",\"T\"))\n",
    "    crp_logo = logomaker.Logo(pwm_df, ax= ax) \n",
    "    plt.axis('off')"
   ]
  },
  {
   "cell_type": "markdown",
   "metadata": {},
   "source": [
    "## Fine tune PWMs"
   ]
  },
  {
   "cell_type": "code",
   "execution_count": null,
   "metadata": {},
   "outputs": [],
   "source": [
    "scaled_pwm = specific_pwms * phys_net.motif_scale[:,None,None]\n",
    "fine_net = biophysnn.FinePhysNet(scaled_pwm, \n",
    "                                 motif_offset = phys_net.motif_offset.data,\n",
    "                                 scale_unc = phys_net.scale_unc.data, \n",
    "                                 offset = phys_net.offset.data, \n",
    "                                 seq_len = phys_net.seq_len)\n",
    "train_accs, val_accs, train_aucs, val_aucs = biophysnn.train_model(fine_net, \n",
    "                                                       train_data, \n",
    "                                                       validation_data, \n",
    "                                                       genome, \n",
    "                                                       verbose = True, \n",
    "                                                       check_point_filename = base_checkpoint_dir + \"/fine_net.pt\",\n",
    "                                                       lr = 0.1) # val auc 0.832"
   ]
  },
  {
   "cell_type": "markdown",
   "metadata": {},
   "source": [
    "So fine-tuning moves AUROC from 0.81 to 0.86, and does significantly change the PWMs: "
   ]
  },
  {
   "cell_type": "code",
   "execution_count": null,
   "metadata": {},
   "outputs": [],
   "source": [
    "torch.corrcoef(torch.stack([scaled_pwm.flatten(), fine_net.pwm.cpu().flatten()]))"
   ]
  },
  {
   "cell_type": "code",
   "execution_count": null,
   "metadata": {},
   "outputs": [],
   "source": [
    "biophysnn.plot_motifs(specific_pwms)"
   ]
  },
  {
   "cell_type": "code",
   "execution_count": null,
   "metadata": {},
   "outputs": [],
   "source": [
    "plot_motifs(fine_net.pwm.cpu())"
   ]
  }
 ],
 "metadata": {
  "accelerator": "TPU",
  "colab": {
   "collapsed_sections": [],
   "name": "Biophysical CNNs",
   "provenance": [],
   "toc_visible": true
  },
  "gpuClass": "standard",
  "kernelspec": {
   "display_name": "Python 3",
   "language": "python",
   "name": "python3"
  },
  "language_info": {
   "codemirror_mode": {
    "name": "ipython",
    "version": 3
   },
   "file_extension": ".py",
   "mimetype": "text/x-python",
   "name": "python",
   "nbconvert_exporter": "python",
   "pygments_lexer": "ipython3",
   "version": "3.8.0"
  }
 },
 "nbformat": 4,
 "nbformat_minor": 4
}
