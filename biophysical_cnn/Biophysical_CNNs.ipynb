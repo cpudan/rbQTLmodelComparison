{
 "cells": [
  {
   "cell_type": "markdown",
   "metadata": {
    "id": "6RP1SwXLwue-"
   },
   "source": [
    "Load `torch`. Note the version on colab can lag behind the most current release. If you need something new you can install using e.g. !pip3 install torch==1.4.0"
   ]
  },
  {
   "cell_type": "code",
   "execution_count": 91,
   "metadata": {
    "colab": {
     "base_uri": "https://localhost:8080/",
     "height": 218
    },
    "id": "8fPmCgelY66c",
    "outputId": "69405d1e-2ef2-4da4-9121-84dda09a9215"
   },
   "outputs": [
    {
     "data": {
      "text/plain": [
       "<module 'biophysnn' from '/gpfs/commons/home/daknowles/pooledRBPs/biophysical_cnn/biophysnn.py'>"
      ]
     },
     "execution_count": 91,
     "metadata": {},
     "output_type": "execute_result"
    }
   ],
   "source": [
    "import torch\n",
    "import torch.nn as nn\n",
    "import torch.nn.functional as F\n",
    "import torch.utils.data\n",
    "\n",
    "import pickle\n",
    "\n",
    "import biophysnn\n",
    "\n",
    "from importlib import reload\n",
    "reload(biophysnn)"
   ]
  },
  {
   "cell_type": "markdown",
   "metadata": {
    "id": "cQGel5ea0RXI"
   },
   "source": [
    "## Loading data\n",
    "\n",
    "To test this out we need some data! Our first task will be predict binding of the important transcriptional repressor CTCF in a human lung cancer cell line called A549. The data is available from ENCODE including merging replicate experiments using the \"irreproducible discovery rate\" (IDR) [paper](https://arxiv.org/abs/1110.4705) [code](https://github.com/spundhir/idr). Genomics data representing discrete binding events is typically stored in the  `bed` format, which is described on the UCSC Genome Browser [website](https://genome.ucsc.edu/FAQ/FAQformat.html#format1). This bed file has some additional columns we will ignore. "
   ]
  },
  {
   "cell_type": "code",
   "execution_count": 4,
   "metadata": {
    "id": "m0Kaptuq27QE"
   },
   "outputs": [
    {
     "data": {
      "text/html": [
       "<div>\n",
       "<style scoped>\n",
       "    .dataframe tbody tr th:only-of-type {\n",
       "        vertical-align: middle;\n",
       "    }\n",
       "\n",
       "    .dataframe tbody tr th {\n",
       "        vertical-align: top;\n",
       "    }\n",
       "\n",
       "    .dataframe thead th {\n",
       "        text-align: right;\n",
       "    }\n",
       "</style>\n",
       "<table border=\"1\" class=\"dataframe\">\n",
       "  <thead>\n",
       "    <tr style=\"text-align: right;\">\n",
       "      <th></th>\n",
       "      <th>chrom</th>\n",
       "      <th>start</th>\n",
       "      <th>end</th>\n",
       "      <th>name</th>\n",
       "      <th>score</th>\n",
       "      <th>strand</th>\n",
       "    </tr>\n",
       "  </thead>\n",
       "  <tbody>\n",
       "    <tr>\n",
       "      <th>0</th>\n",
       "      <td>chr1</td>\n",
       "      <td>16099</td>\n",
       "      <td>16580</td>\n",
       "      <td>all_hnrnpk_rep1_neg_peak_35</td>\n",
       "      <td>81</td>\n",
       "      <td>-</td>\n",
       "    </tr>\n",
       "    <tr>\n",
       "      <th>1</th>\n",
       "      <td>chr1</td>\n",
       "      <td>19237</td>\n",
       "      <td>19896</td>\n",
       "      <td>all_hnrnpk_rep1_neg_peak_36</td>\n",
       "      <td>48</td>\n",
       "      <td>-</td>\n",
       "    </tr>\n",
       "    <tr>\n",
       "      <th>2</th>\n",
       "      <td>chr1</td>\n",
       "      <td>136471</td>\n",
       "      <td>137136</td>\n",
       "      <td>all_hnrnpk_rep1_neg_peak_37</td>\n",
       "      <td>73</td>\n",
       "      <td>-</td>\n",
       "    </tr>\n",
       "    <tr>\n",
       "      <th>3</th>\n",
       "      <td>chr1</td>\n",
       "      <td>186383</td>\n",
       "      <td>187169</td>\n",
       "      <td>all_hnrnpk_rep1_neg_peak_38</td>\n",
       "      <td>54</td>\n",
       "      <td>-</td>\n",
       "    </tr>\n",
       "    <tr>\n",
       "      <th>4</th>\n",
       "      <td>chr1</td>\n",
       "      <td>190825</td>\n",
       "      <td>191102</td>\n",
       "      <td>all_hnrnpk_rep1_neg_peak_39</td>\n",
       "      <td>51</td>\n",
       "      <td>-</td>\n",
       "    </tr>\n",
       "    <tr>\n",
       "      <th>5</th>\n",
       "      <td>chr1</td>\n",
       "      <td>191639</td>\n",
       "      <td>191980</td>\n",
       "      <td>all_hnrnpk_rep1_neg_peak_40</td>\n",
       "      <td>21</td>\n",
       "      <td>-</td>\n",
       "    </tr>\n",
       "    <tr>\n",
       "      <th>6</th>\n",
       "      <td>chr1</td>\n",
       "      <td>505655</td>\n",
       "      <td>505859</td>\n",
       "      <td>all_hnrnpk_rep1_neg_peak_41</td>\n",
       "      <td>37</td>\n",
       "      <td>-</td>\n",
       "    </tr>\n",
       "    <tr>\n",
       "      <th>7</th>\n",
       "      <td>chr1</td>\n",
       "      <td>516297</td>\n",
       "      <td>516694</td>\n",
       "      <td>all_hnrnpk_rep1_neg_peak_42</td>\n",
       "      <td>31</td>\n",
       "      <td>-</td>\n",
       "    </tr>\n",
       "    <tr>\n",
       "      <th>8</th>\n",
       "      <td>chr1</td>\n",
       "      <td>528944</td>\n",
       "      <td>529147</td>\n",
       "      <td>all_hnrnpk_rep1_neg_peak_43</td>\n",
       "      <td>118</td>\n",
       "      <td>-</td>\n",
       "    </tr>\n",
       "    <tr>\n",
       "      <th>9</th>\n",
       "      <td>chr1</td>\n",
       "      <td>529788</td>\n",
       "      <td>529988</td>\n",
       "      <td>all_hnrnpk_rep1_neg_peak_44</td>\n",
       "      <td>82</td>\n",
       "      <td>-</td>\n",
       "    </tr>\n",
       "  </tbody>\n",
       "</table>\n",
       "</div>"
      ],
      "text/plain": [
       "  chrom   start     end                         name  score strand\n",
       "0  chr1   16099   16580  all_hnrnpk_rep1_neg_peak_35     81      -\n",
       "1  chr1   19237   19896  all_hnrnpk_rep1_neg_peak_36     48      -\n",
       "2  chr1  136471  137136  all_hnrnpk_rep1_neg_peak_37     73      -\n",
       "3  chr1  186383  187169  all_hnrnpk_rep1_neg_peak_38     54      -\n",
       "4  chr1  190825  191102  all_hnrnpk_rep1_neg_peak_39     51      -\n",
       "5  chr1  191639  191980  all_hnrnpk_rep1_neg_peak_40     21      -\n",
       "6  chr1  505655  505859  all_hnrnpk_rep1_neg_peak_41     37      -\n",
       "7  chr1  516297  516694  all_hnrnpk_rep1_neg_peak_42     31      -\n",
       "8  chr1  528944  529147  all_hnrnpk_rep1_neg_peak_43    118      -\n",
       "9  chr1  529788  529988  all_hnrnpk_rep1_neg_peak_44     82      -"
      ]
     },
     "execution_count": 4,
     "metadata": {},
     "output_type": "execute_result"
    }
   ],
   "source": [
    "import pandas as pd\n",
    "binding_data = pd.read_csv(\"/gpfs/commons/home/daknowles/RIPnet/all_hnrnpk_rep1_stranded.narrowPeak.gz\", sep='\\t', usecols=range(6), names=(\"chrom\",\"start\",\"end\",\"name\",\"score\",\"strand\"))\n",
    "binding_data = binding_data[ ~binding_data['chrom'].isin([\"chrX\",\"chrY\"]) ] # only keep autosomes (non sex chromosomes)\n",
    "binding_data = binding_data.sort_values(['chrom', 'start']).drop_duplicates() # sort so we can interleave negatives\n",
    "binding_data[:10]"
   ]
  },
  {
   "cell_type": "markdown",
   "metadata": {
    "id": "EqbCc6Ii0X56"
   },
   "source": [
    "`chrom` is the chromosome (we filter out the sex chromosomes X and Y to avoid bias from these being haploid, you could try keeping them though). `start` and `end` are positions in the genome. `name` and `strand` aren't used here. Some genomics assays (e.g. RNA-seq) correspond to one strand of the DNA or the other. However, for our purposes at least we can consider ChIP-seq and ATAC-seq as \"unstranded\", which is why that column is all \".\" rather than + or -.  `score` is a quantitative measure of binding. We'll ignore this for now (since all these peaks are statistically significant), but you could try to incorporate it in your model training if you want (e.g. multitask for binary binding plus predicting `score`). \n",
    "\n",
    "We'll split the binding data into training, validation (chroms 2 and 3, ~) and test (chrom 1), which represents about 14% of the training data we have: "
   ]
  },
  {
   "cell_type": "code",
   "execution_count": 5,
   "metadata": {
    "id": "80imMbLs0Wxx"
   },
   "outputs": [
    {
     "data": {
      "text/plain": [
       "(0.0974892558244741, 0.14894477459507996)"
      ]
     },
     "execution_count": 5,
     "metadata": {},
     "output_type": "execute_result"
    }
   ],
   "source": [
    "test_chromosomes = [\"chr1\"]\n",
    "test_data = binding_data[ binding_data['chrom'].isin( test_chromosomes ) ]\n",
    "\n",
    "validation_chromosomes = [\"chr2\",\"chr3\"]\n",
    "validation_data = binding_data[ binding_data['chrom'].isin(validation_chromosomes) ]\n",
    "\n",
    "train_chromosomes = [\"chr%i\" % i for i in range(4, 22+1)]\n",
    "train_data = binding_data[ binding_data['chrom'].isin( train_chromosomes ) ]\n",
    "\n",
    "test_data.shape[0] / binding_data.shape[0], validation_data.shape[0] / binding_data.shape[0]"
   ]
  },
  {
   "cell_type": "markdown",
   "metadata": {
    "id": "wV_xNFIszaKf"
   },
   "source": [
    "We'll also need the human genome, which we provide here as a pickle since it's faster to load compared to reading in a text file. \n",
    "\n",
    "It's worth knowing that the human genome has different *versions* that are released as more missing parts are resolved by continued sequencing and assembly efforts. Version `GRCh37` (also called `hg19`) was released in 2009, and `GRCh38` (`hg38`) was released in 2013. We'll be using `hg19` here but `GRCh38` is finally becoming more standard so always check your data is what you think it is. \n",
    "\n",
    "This will take a minute or two. "
   ]
  },
  {
   "cell_type": "code",
   "execution_count": 6,
   "metadata": {
    "id": "5fcHay8WzoOA"
   },
   "outputs": [],
   "source": [
    "\n",
    "genome = pickle.load(open(\"/gpfs/commons/home/daknowles/knowles_lab/index/hg38/hg38.pkl\",\"rb\")) # this is here in case there's hg38 data you want to analyse"
   ]
  },
  {
   "cell_type": "markdown",
   "metadata": {
    "id": "zeoHEbQPzu7X"
   },
   "source": [
    "`genome` is just a dictionary where the keys are the chromosome names and the values are strings representing the actual DNA. Ns represents \"missing\" regions, typically because the region has too many repetitive sequences making mapping impossible, which is especially the case in [centrosomes](https://en.wikipedia.org/wiki/Centrosome) and [telomeres](https://en.wikipedia.org/wiki/Telomere). Resolving these difficult to map regions is an ongoing effort. \n",
    "\n",
    "## Load known PWMs"
   ]
  },
  {
   "cell_type": "code",
   "execution_count": 7,
   "metadata": {
    "id": "7Qh2n9ViFAO-"
   },
   "outputs": [
    {
     "data": {
      "text/plain": [
       "torch.Size([453, 4, 7])"
      ]
     },
     "execution_count": 7,
     "metadata": {},
     "output_type": "execute_result"
    }
   ],
   "source": [
    "pwm_dat = np.load(\"/gpfs/commons/home/daknowles/apex_seq/pwms.npz\")\n",
    "pwm_names = pwm_dat['names']\n",
    "pwms = pwm_dat['pwms']\n",
    "\n",
    "pwms[pwms > 0].min()\n",
    "log_pwms = np.log(pwms + 1e-4)\n",
    "\n",
    "# Convert to actual PWM\n",
    "w = torch.tensor(log_pwms, dtype=torch.float).transpose(0,2)\n",
    "w_norm = w - w.mean(1,keepdims=True)\n",
    "\n",
    "w_norm.shape"
   ]
  },
  {
   "cell_type": "code",
   "execution_count": 8,
   "metadata": {
    "id": "dXicEWQ8FXxh"
   },
   "outputs": [
    {
     "data": {
      "text/plain": [
       "torch.Size([5, 4, 7])"
      ]
     },
     "execution_count": 8,
     "metadata": {},
     "output_type": "execute_result"
    }
   ],
   "source": [
    "specific_pwms = w_norm[ np.array([ \"HNRNPK\" in g for g in pwm_names ]) ]\n",
    "specific_pwms.shape"
   ]
  },
  {
   "cell_type": "markdown",
   "metadata": {
    "id": "eY4iUM7CJnhO"
   },
   "source": [
    "## Test phys net"
   ]
  },
  {
   "cell_type": "code",
   "execution_count": 54,
   "metadata": {
    "id": "ppDP4Vv2JmYq"
   },
   "outputs": [
    {
     "name": "stdout",
     "output_type": "stream",
     "text": [
      "posmax0_motifmax0_len100.pt\n",
      "posmax0_motifmax0_len200.pt\n",
      "posmax0_motifmax0_len300.pt\n",
      "posmax0_motifmax0_len400.pt\n",
      "posmax0_motifmax1_len100.pt\n",
      "posmax0_motifmax1_len200.pt\n",
      "posmax0_motifmax1_len300.pt\n",
      "posmax0_motifmax1_len400.pt\n",
      "posmax1_motifmax0_len100.pt\n",
      "posmax1_motifmax0_len200.pt\n",
      "posmax1_motifmax0_len300.pt\n",
      "posmax1_motifmax0_len400.pt\n",
      "posmax1_motifmax1_len100.pt\n",
      "posmax1_motifmax1_len200.pt\n",
      "posmax1_motifmax1_len300.pt\n",
      "posmax1_motifmax1_len400.pt\n"
     ]
    }
   ],
   "source": [
    "# results = []\n",
    "import os.path\n",
    "\n",
    "for max_over_positions in (False,True):\n",
    "    for max_over_motifs in (False,True): \n",
    "        for seq_len in (100,200,300,400): \n",
    "            phys_net = biophysnn.PhysNet(specific_pwms, \n",
    "                                        max_over_positions = max_over_positions,\n",
    "                                         max_over_motifs = max_over_motifs, \n",
    "                                         seq_len = seq_len)\n",
    "            check_point_filename = \"checkpoints/posmax%i_motifmax%i_len%i.pt\" % (max_over_positions, max_over_motifs, seq_len)\n",
    "            print(check_point_filename)\n",
    "            if os.path.isfile(check_point_filename): continue\n",
    "            phys_net, train_accs, val_accs, train_aucs, val_aucs = biophysnn.train_model(phys_net, \n",
    "                                                                   train_data, \n",
    "                                                                   validation_data, \n",
    "                                                                   genome, \n",
    "                                                                   verbose = False, \n",
    "                                                                   check_point_filename = check_point_filename,\n",
    "                                                                   lr = 0.1) # val auc 0.763\n",
    "            torch.save(phys_net.state_dict(), check_point_filename) \n",
    "            results.append((max_over_positions, \n",
    "                            max_over_motifs, \n",
    "                            seq_len, \n",
    "                            check_point_filename, \n",
    "                           np.max(val_aucs),\n",
    "                           np.max(train_aucs)))"
   ]
  },
  {
   "cell_type": "code",
   "execution_count": 82,
   "metadata": {},
   "outputs": [
    {
     "name": "stdout",
     "output_type": "stream",
     "text": [
      "posmax0_motifmax1_len100_posthenmax.pt\n",
      "posmax0_motifmax1_len200_posthenmax.pt\n",
      "posmax0_motifmax1_len300_posthenmax.pt\n",
      "posmax0_motifmax1_len400_posthenmax.pt\n",
      "posmax1_motifmax0_len100_posthenmax.pt\n",
      "posmax1_motifmax0_len200_posthenmax.pt\n",
      "posmax1_motifmax0_len300_posthenmax.pt\n",
      "posmax1_motifmax0_len400_posthenmax.pt\n"
     ]
    }
   ],
   "source": [
    "results2 = []\n",
    "import os.path\n",
    "\n",
    "for max_over_positions in (False,True):\n",
    "    for max_over_motifs in (False,True): \n",
    "        for seq_len in (100,200,300,400): \n",
    "            if max_over_positions == max_over_motifs: continue\n",
    "            phys_net = biophysnn.PhysNet(specific_pwms, \n",
    "                                        max_over_positions = max_over_positions,\n",
    "                                         max_over_motifs = max_over_motifs, \n",
    "                                         motif_then_pos = False, \n",
    "                                         seq_len = seq_len)\n",
    "            check_point_filename = \"checkpoints/posmax%i_motifmax%i_len%i_posthenmax.pt\" % (max_over_positions, max_over_motifs, seq_len)\n",
    "            print(check_point_filename)\n",
    "            if os.path.isfile(check_point_filename): continue\n",
    "            phys_net, train_accs, val_accs, train_aucs, val_aucs = biophysnn.train_model(phys_net, \n",
    "                                                                   train_data, \n",
    "                                                                   validation_data, \n",
    "                                                                   genome, \n",
    "                                                                   verbose = False, \n",
    "                                                                   check_point_filename = check_point_filename,\n",
    "                                                                   lr = 0.1) # val auc 0.763\n",
    "            torch.save(phys_net.state_dict(), check_point_filename) \n",
    "            results2.append((max_over_positions, \n",
    "                            max_over_motifs, \n",
    "                            seq_len, \n",
    "                            check_point_filename, \n",
    "                           np.max(val_aucs),\n",
    "                           np.max(train_aucs)))"
   ]
  },
  {
   "cell_type": "code",
   "execution_count": 84,
   "metadata": {},
   "outputs": [
    {
     "data": {
      "text/html": [
       "<div>\n",
       "<style scoped>\n",
       "    .dataframe tbody tr th:only-of-type {\n",
       "        vertical-align: middle;\n",
       "    }\n",
       "\n",
       "    .dataframe tbody tr th {\n",
       "        vertical-align: top;\n",
       "    }\n",
       "\n",
       "    .dataframe thead th {\n",
       "        text-align: right;\n",
       "    }\n",
       "</style>\n",
       "<table border=\"1\" class=\"dataframe\">\n",
       "  <thead>\n",
       "    <tr style=\"text-align: right;\">\n",
       "      <th></th>\n",
       "      <th>posmax</th>\n",
       "      <th>motifmax</th>\n",
       "      <th>seqlen</th>\n",
       "      <th>file</th>\n",
       "      <th>val_auc</th>\n",
       "      <th>train_auc</th>\n",
       "    </tr>\n",
       "  </thead>\n",
       "  <tbody>\n",
       "    <tr>\n",
       "      <th>0</th>\n",
       "      <td>False</td>\n",
       "      <td>True</td>\n",
       "      <td>100</td>\n",
       "      <td>posmax0_motifmax1_len100_posthenmax.pt</td>\n",
       "      <td>0.674928</td>\n",
       "      <td>0.649774</td>\n",
       "    </tr>\n",
       "    <tr>\n",
       "      <th>1</th>\n",
       "      <td>False</td>\n",
       "      <td>True</td>\n",
       "      <td>200</td>\n",
       "      <td>posmax0_motifmax1_len200_posthenmax.pt</td>\n",
       "      <td>0.717517</td>\n",
       "      <td>0.707075</td>\n",
       "    </tr>\n",
       "    <tr>\n",
       "      <th>2</th>\n",
       "      <td>False</td>\n",
       "      <td>True</td>\n",
       "      <td>300</td>\n",
       "      <td>posmax0_motifmax1_len300_posthenmax.pt</td>\n",
       "      <td>0.725398</td>\n",
       "      <td>0.681339</td>\n",
       "    </tr>\n",
       "    <tr>\n",
       "      <th>3</th>\n",
       "      <td>False</td>\n",
       "      <td>True</td>\n",
       "      <td>400</td>\n",
       "      <td>posmax0_motifmax1_len400_posthenmax.pt</td>\n",
       "      <td>0.736866</td>\n",
       "      <td>0.690037</td>\n",
       "    </tr>\n",
       "    <tr>\n",
       "      <th>4</th>\n",
       "      <td>True</td>\n",
       "      <td>False</td>\n",
       "      <td>100</td>\n",
       "      <td>posmax1_motifmax0_len100_posthenmax.pt</td>\n",
       "      <td>0.642114</td>\n",
       "      <td>0.632011</td>\n",
       "    </tr>\n",
       "    <tr>\n",
       "      <th>5</th>\n",
       "      <td>True</td>\n",
       "      <td>False</td>\n",
       "      <td>200</td>\n",
       "      <td>posmax1_motifmax0_len200_posthenmax.pt</td>\n",
       "      <td>0.671576</td>\n",
       "      <td>0.656613</td>\n",
       "    </tr>\n",
       "    <tr>\n",
       "      <th>6</th>\n",
       "      <td>True</td>\n",
       "      <td>False</td>\n",
       "      <td>300</td>\n",
       "      <td>posmax1_motifmax0_len300_posthenmax.pt</td>\n",
       "      <td>0.658565</td>\n",
       "      <td>0.650615</td>\n",
       "    </tr>\n",
       "    <tr>\n",
       "      <th>7</th>\n",
       "      <td>True</td>\n",
       "      <td>False</td>\n",
       "      <td>400</td>\n",
       "      <td>posmax1_motifmax0_len400_posthenmax.pt</td>\n",
       "      <td>0.663245</td>\n",
       "      <td>0.654665</td>\n",
       "    </tr>\n",
       "  </tbody>\n",
       "</table>\n",
       "</div>"
      ],
      "text/plain": [
       "   posmax  motifmax  seqlen                                    file   val_auc  \\\n",
       "0   False      True     100  posmax0_motifmax1_len100_posthenmax.pt  0.674928   \n",
       "1   False      True     200  posmax0_motifmax1_len200_posthenmax.pt  0.717517   \n",
       "2   False      True     300  posmax0_motifmax1_len300_posthenmax.pt  0.725398   \n",
       "3   False      True     400  posmax0_motifmax1_len400_posthenmax.pt  0.736866   \n",
       "4    True     False     100  posmax1_motifmax0_len100_posthenmax.pt  0.642114   \n",
       "5    True     False     200  posmax1_motifmax0_len200_posthenmax.pt  0.671576   \n",
       "6    True     False     300  posmax1_motifmax0_len300_posthenmax.pt  0.658565   \n",
       "7    True     False     400  posmax1_motifmax0_len400_posthenmax.pt  0.663245   \n",
       "\n",
       "   train_auc  \n",
       "0   0.649774  \n",
       "1   0.707075  \n",
       "2   0.681339  \n",
       "3   0.690037  \n",
       "4   0.632011  \n",
       "5   0.656613  \n",
       "6   0.650615  \n",
       "7   0.654665  "
      ]
     },
     "execution_count": 84,
     "metadata": {},
     "output_type": "execute_result"
    }
   ],
   "source": [
    "res2_df = pd.DataFrame(results2, columns = [\"posmax\", \"motifmax\", \"seqlen\", \"file\", \"val_auc\", \"train_auc\"])\n",
    "res2_df"
   ]
  },
  {
   "cell_type": "code",
   "execution_count": 78,
   "metadata": {},
   "outputs": [
    {
     "name": "stdout",
     "output_type": "stream",
     "text": [
      "Epoch 1 took 12.93s. Train loss: 1.3395 acc: 0.5938 auc 0.602. Val loss: 0.6511 acc: 0.6325 auc 0.682. Patience left: 10\n",
      "Epoch 2 took 12.87s. Train loss: 0.6526 acc: 0.6243 auc 0.669. Val loss: 0.6481 acc: 0.6279 auc 0.676. Patience left: 10\n",
      "Epoch 3 took 12.79s. Train loss: 0.6514 acc: 0.6234 auc 0.669. Val loss: 0.6469 acc: 0.6288 auc 0.678. Patience left: 10\n",
      "Epoch 4 took 12.93s. Train loss: 0.6504 acc: 0.6249 auc 0.671. Val loss: 0.6455 acc: 0.6310 auc 0.681. Patience left: 10\n",
      "Epoch 5 took 12.83s. Train loss: 0.6490 acc: 0.6272 auc 0.674. Val loss: 0.6438 acc: 0.6357 auc 0.685. Patience left: 10\n",
      "Epoch 6 took 12.99s. Train loss: 0.6473 acc: 0.6307 auc 0.678. Val loss: 0.6420 acc: 0.6395 auc 0.691. Patience left: 10\n",
      "Epoch 7 took 12.86s. Train loss: 0.6452 acc: 0.6344 auc 0.683. Val loss: 0.6406 acc: 0.6388 auc 0.697. Patience left: 10\n",
      "Epoch 8 took 12.95s. Train loss: 0.6428 acc: 0.6387 auc 0.688. Val loss: 0.6390 acc: 0.6396 auc 0.704. Patience left: 10\n",
      "Epoch 9 took 12.78s. Train loss: 0.6404 acc: 0.6423 auc 0.693. Val loss: 0.6353 acc: 0.6454 auc 0.709. Patience left: 10\n",
      "Epoch 10 took 12.91s. Train loss: 0.6373 acc: 0.6473 auc 0.699. Val loss: 0.6335 acc: 0.6448 auc 0.716. Patience left: 10\n",
      "Epoch 11 took 12.80s. Train loss: 0.6345 acc: 0.6511 auc 0.703. Val loss: 0.6304 acc: 0.6478 auc 0.721. Patience left: 10\n",
      "Epoch 12 took 12.91s. Train loss: 0.6316 acc: 0.6550 auc 0.708. Val loss: 0.6273 acc: 0.6526 auc 0.726. Patience left: 10\n",
      "Epoch 13 took 12.79s. Train loss: 0.6287 acc: 0.6586 auc 0.712. Val loss: 0.6243 acc: 0.6564 auc 0.731. Patience left: 10\n",
      "Epoch 14 took 12.94s. Train loss: 0.6260 acc: 0.6622 auc 0.716. Val loss: 0.6216 acc: 0.6603 auc 0.735. Patience left: 10\n",
      "Epoch 15 took 12.79s. Train loss: 0.6237 acc: 0.6651 auc 0.720. Val loss: 0.6133 acc: 0.6768 auc 0.735. Patience left: 10\n",
      "Epoch 16 took 12.96s. Train loss: 0.6219 acc: 0.6667 auc 0.722. Val loss: 0.6159 acc: 0.6672 auc 0.743. Patience left: 9\n",
      "Epoch 17 took 12.92s. Train loss: 0.6193 acc: 0.6700 auc 0.726. Val loss: 0.6145 acc: 0.6686 auc 0.745. Patience left: 8\n",
      "Epoch 18 took 12.88s. Train loss: 0.6178 acc: 0.6713 auc 0.727. Val loss: 0.6122 acc: 0.6722 auc 0.748. Patience left: 10\n",
      "Epoch 19 took 12.99s. Train loss: 0.6167 acc: 0.6724 auc 0.729. Val loss: 0.6069 acc: 0.6802 auc 0.753. Patience left: 10\n",
      "Epoch 20 took 12.94s. Train loss: 0.6141 acc: 0.6732 auc 0.731. Val loss: 0.6165 acc: 0.6550 auc 0.760. Patience left: 9\n",
      "Epoch 21 took 12.97s. Train loss: 0.6148 acc: 0.6715 auc 0.729. Val loss: 0.5961 acc: 0.6957 auc 0.760. Patience left: 10\n",
      "Epoch 22 took 12.92s. Train loss: 0.6143 acc: 0.6714 auc 0.729. Val loss: 0.5983 acc: 0.6926 auc 0.762. Patience left: 9\n",
      "Epoch 23 took 12.96s. Train loss: 0.6135 acc: 0.6726 auc 0.730. Val loss: 0.5999 acc: 0.6881 auc 0.762. Patience left: 8\n",
      "Epoch 24 took 12.89s. Train loss: 0.6133 acc: 0.6730 auc 0.731. Val loss: 0.6062 acc: 0.6741 auc 0.763. Patience left: 7\n",
      "Epoch 25 took 12.96s. Train loss: 0.6131 acc: 0.6734 auc 0.731. Val loss: 0.6115 acc: 0.6629 auc 0.763. Patience left: 6\n",
      "Epoch 26 took 12.93s. Train loss: 0.6129 acc: 0.6738 auc 0.732. Val loss: 0.6124 acc: 0.6609 auc 0.763. Patience left: 5\n",
      "Epoch 27 took 12.82s. Train loss: 0.6126 acc: 0.6746 auc 0.732. Val loss: 0.6120 acc: 0.6619 auc 0.763. Patience left: 4\n",
      "Epoch 28 took 12.97s. Train loss: 0.6123 acc: 0.6754 auc 0.733. Val loss: 0.6118 acc: 0.6623 auc 0.764. Patience left: 3\n",
      "Epoch 29 took 12.99s. Train loss: 0.6120 acc: 0.6757 auc 0.733. Val loss: 0.6116 acc: 0.6628 auc 0.764. Patience left: 2\n",
      "Epoch 30 took 12.96s. Train loss: 0.6118 acc: 0.6761 auc 0.734. Val loss: 0.6114 acc: 0.6630 auc 0.764. Patience left: 1\n"
     ]
    }
   ],
   "source": [
    "phys_net = biophysnn.PhysNet(specific_pwms, \n",
    "                                        max_over_positions = False,\n",
    "                                         max_over_motifs = False, \n",
    "                             seq_len = 300)\n",
    "check_point_filename = \"checkpoints/posmax%i_motifmax%i_len%i.pt\" % (False, False, 300)\n",
    "phys_net, train_accs, val_accs, train_aucs, val_aucs = biophysnn.train_model(phys_net, \n",
    "                                                       train_data, \n",
    "                                                       validation_data, \n",
    "                                                       genome, \n",
    "                                                       verbose = True, \n",
    "                                                       check_point_filename = check_point_filename,\n",
    "                                                       lr = 0.1) # val auc 0.763"
   ]
  },
  {
   "cell_type": "code",
   "execution_count": 58,
   "metadata": {
    "id": "owuxab9ulqJ6"
   },
   "outputs": [
    {
     "data": {
      "text/html": [
       "<div>\n",
       "<style scoped>\n",
       "    .dataframe tbody tr th:only-of-type {\n",
       "        vertical-align: middle;\n",
       "    }\n",
       "\n",
       "    .dataframe tbody tr th {\n",
       "        vertical-align: top;\n",
       "    }\n",
       "\n",
       "    .dataframe thead th {\n",
       "        text-align: right;\n",
       "    }\n",
       "</style>\n",
       "<table border=\"1\" class=\"dataframe\">\n",
       "  <thead>\n",
       "    <tr style=\"text-align: right;\">\n",
       "      <th></th>\n",
       "      <th>posmax</th>\n",
       "      <th>motifmax</th>\n",
       "      <th>seqlen</th>\n",
       "      <th>file</th>\n",
       "      <th>val_auc</th>\n",
       "      <th>train_auc</th>\n",
       "    </tr>\n",
       "  </thead>\n",
       "  <tbody>\n",
       "    <tr>\n",
       "      <th>0</th>\n",
       "      <td>False</td>\n",
       "      <td>False</td>\n",
       "      <td>100</td>\n",
       "      <td>posmax0_motifmax0_len100.pt</td>\n",
       "      <td>0.691448</td>\n",
       "      <td>0.675594</td>\n",
       "    </tr>\n",
       "    <tr>\n",
       "      <th>1</th>\n",
       "      <td>False</td>\n",
       "      <td>False</td>\n",
       "      <td>200</td>\n",
       "      <td>posmax0_motifmax0_len200.pt</td>\n",
       "      <td>0.736301</td>\n",
       "      <td>0.709121</td>\n",
       "    </tr>\n",
       "    <tr>\n",
       "      <th>2</th>\n",
       "      <td>False</td>\n",
       "      <td>False</td>\n",
       "      <td>300</td>\n",
       "      <td>posmax0_motifmax0_len300.pt</td>\n",
       "      <td>0.764268</td>\n",
       "      <td>0.734211</td>\n",
       "    </tr>\n",
       "    <tr>\n",
       "      <th>3</th>\n",
       "      <td>False</td>\n",
       "      <td>False</td>\n",
       "      <td>400</td>\n",
       "      <td>posmax0_motifmax0_len400.pt</td>\n",
       "      <td>0.731816</td>\n",
       "      <td>0.681663</td>\n",
       "    </tr>\n",
       "    <tr>\n",
       "      <th>4</th>\n",
       "      <td>False</td>\n",
       "      <td>True</td>\n",
       "      <td>100</td>\n",
       "      <td>posmax0_motifmax1_len100.pt</td>\n",
       "      <td>0.686342</td>\n",
       "      <td>0.666951</td>\n",
       "    </tr>\n",
       "    <tr>\n",
       "      <th>5</th>\n",
       "      <td>False</td>\n",
       "      <td>True</td>\n",
       "      <td>200</td>\n",
       "      <td>posmax0_motifmax1_len200.pt</td>\n",
       "      <td>0.728093</td>\n",
       "      <td>0.714606</td>\n",
       "    </tr>\n",
       "    <tr>\n",
       "      <th>6</th>\n",
       "      <td>False</td>\n",
       "      <td>True</td>\n",
       "      <td>300</td>\n",
       "      <td>posmax0_motifmax1_len300.pt</td>\n",
       "      <td>0.725955</td>\n",
       "      <td>0.680926</td>\n",
       "    </tr>\n",
       "    <tr>\n",
       "      <th>7</th>\n",
       "      <td>False</td>\n",
       "      <td>True</td>\n",
       "      <td>400</td>\n",
       "      <td>posmax0_motifmax1_len400.pt</td>\n",
       "      <td>0.743283</td>\n",
       "      <td>0.723621</td>\n",
       "    </tr>\n",
       "    <tr>\n",
       "      <th>8</th>\n",
       "      <td>True</td>\n",
       "      <td>False</td>\n",
       "      <td>100</td>\n",
       "      <td>posmax1_motifmax0_len100.pt</td>\n",
       "      <td>0.625860</td>\n",
       "      <td>0.621444</td>\n",
       "    </tr>\n",
       "    <tr>\n",
       "      <th>9</th>\n",
       "      <td>True</td>\n",
       "      <td>False</td>\n",
       "      <td>200</td>\n",
       "      <td>posmax1_motifmax0_len200.pt</td>\n",
       "      <td>0.645967</td>\n",
       "      <td>0.640380</td>\n",
       "    </tr>\n",
       "    <tr>\n",
       "      <th>10</th>\n",
       "      <td>True</td>\n",
       "      <td>False</td>\n",
       "      <td>300</td>\n",
       "      <td>posmax1_motifmax0_len300.pt</td>\n",
       "      <td>0.656957</td>\n",
       "      <td>0.650623</td>\n",
       "    </tr>\n",
       "    <tr>\n",
       "      <th>11</th>\n",
       "      <td>True</td>\n",
       "      <td>False</td>\n",
       "      <td>400</td>\n",
       "      <td>posmax1_motifmax0_len400.pt</td>\n",
       "      <td>0.661415</td>\n",
       "      <td>0.654732</td>\n",
       "    </tr>\n",
       "    <tr>\n",
       "      <th>12</th>\n",
       "      <td>True</td>\n",
       "      <td>True</td>\n",
       "      <td>100</td>\n",
       "      <td>posmax1_motifmax1_len100.pt</td>\n",
       "      <td>0.627906</td>\n",
       "      <td>0.616152</td>\n",
       "    </tr>\n",
       "    <tr>\n",
       "      <th>13</th>\n",
       "      <td>True</td>\n",
       "      <td>True</td>\n",
       "      <td>200</td>\n",
       "      <td>posmax1_motifmax1_len200.pt</td>\n",
       "      <td>0.601982</td>\n",
       "      <td>0.584976</td>\n",
       "    </tr>\n",
       "    <tr>\n",
       "      <th>14</th>\n",
       "      <td>True</td>\n",
       "      <td>True</td>\n",
       "      <td>300</td>\n",
       "      <td>posmax1_motifmax1_len300.pt</td>\n",
       "      <td>0.641930</td>\n",
       "      <td>0.627660</td>\n",
       "    </tr>\n",
       "    <tr>\n",
       "      <th>15</th>\n",
       "      <td>True</td>\n",
       "      <td>True</td>\n",
       "      <td>400</td>\n",
       "      <td>posmax1_motifmax1_len400.pt</td>\n",
       "      <td>0.591685</td>\n",
       "      <td>0.584066</td>\n",
       "    </tr>\n",
       "  </tbody>\n",
       "</table>\n",
       "</div>"
      ],
      "text/plain": [
       "    posmax  motifmax  seqlen                         file   val_auc  train_auc\n",
       "0    False     False     100  posmax0_motifmax0_len100.pt  0.691448   0.675594\n",
       "1    False     False     200  posmax0_motifmax0_len200.pt  0.736301   0.709121\n",
       "2    False     False     300  posmax0_motifmax0_len300.pt  0.764268   0.734211\n",
       "3    False     False     400  posmax0_motifmax0_len400.pt  0.731816   0.681663\n",
       "4    False      True     100  posmax0_motifmax1_len100.pt  0.686342   0.666951\n",
       "5    False      True     200  posmax0_motifmax1_len200.pt  0.728093   0.714606\n",
       "6    False      True     300  posmax0_motifmax1_len300.pt  0.725955   0.680926\n",
       "7    False      True     400  posmax0_motifmax1_len400.pt  0.743283   0.723621\n",
       "8     True     False     100  posmax1_motifmax0_len100.pt  0.625860   0.621444\n",
       "9     True     False     200  posmax1_motifmax0_len200.pt  0.645967   0.640380\n",
       "10    True     False     300  posmax1_motifmax0_len300.pt  0.656957   0.650623\n",
       "11    True     False     400  posmax1_motifmax0_len400.pt  0.661415   0.654732\n",
       "12    True      True     100  posmax1_motifmax1_len100.pt  0.627906   0.616152\n",
       "13    True      True     200  posmax1_motifmax1_len200.pt  0.601982   0.584976\n",
       "14    True      True     300  posmax1_motifmax1_len300.pt  0.641930   0.627660\n",
       "15    True      True     400  posmax1_motifmax1_len400.pt  0.591685   0.584066"
      ]
     },
     "execution_count": 58,
     "metadata": {},
     "output_type": "execute_result"
    }
   ],
   "source": [
    "res_df = pd.DataFrame(results, columns = [\"posmax\", \"motifmax\", \"seqlen\", \"file\", \"val_auc\", \"train_auc\"])\n",
    "res_df[\"\"]\n",
    "res_df"
   ]
  },
  {
   "cell_type": "code",
   "execution_count": 75,
   "metadata": {},
   "outputs": [
    {
     "data": {
      "text/plain": [
       "Text(0, 0.5, 'Validation AUROC')"
      ]
     },
     "execution_count": 75,
     "metadata": {},
     "output_type": "execute_result"
    },
    {
     "data": {
      "image/png": "[encoded data removed]",
      "text/plain": [
       "<Figure size 432x288 with 1 Axes>"
      ]
     },
     "metadata": {
      "needs_background": "light"
     },
     "output_type": "display_data"
    }
   ],
   "source": [
    "import seaborn as sns\n",
    "import matplotlib.pyplot as plt\n",
    "sns.scatterplot(\"seqlen\", \"val_auc\", hue = \"posmax\", style=\"motifmax\", data = res_df)\n",
    "plt.xlabel(\"Sequence length\")\n",
    "plt.ylabel(\"Validation AUROC\")"
   ]
  },
  {
   "cell_type": "code",
   "execution_count": 86,
   "metadata": {},
   "outputs": [
    {
     "name": "stdout",
     "output_type": "stream",
     "text": [
      "motif_scale_unc Parameter containing:\n",
      "tensor([-0.9757, -2.0196, -1.4592, -1.5440, -0.3201], requires_grad=True)\n",
      "motif_offset Parameter containing:\n",
      "tensor([-6.1055, -8.8217, -7.3100, -5.6302, -5.3519], requires_grad=True)\n",
      "scale_unc Parameter containing:\n",
      "tensor(2.2920, requires_grad=True)\n",
      "offset Parameter containing:\n",
      "tensor(-6.9013, requires_grad=True)\n"
     ]
    }
   ],
   "source": [
    "phys_net = biophysnn.PhysNet(specific_pwms, max_over_positions = False, max_over_motifs = False, seq_len = seq_len)\n",
    "phys_net.load_state_dict(torch.load(\"checkpoints/posmax0_motifmax0_len300.pt\"))\n",
    "for k,v in phys_net.named_parameters(): \n",
    "    print(k,v)"
   ]
  },
  {
   "cell_type": "code",
   "execution_count": 100,
   "metadata": {
    "id": "EKLxPhvqNkZX"
   },
   "outputs": [
    {
     "data": {
      "text/plain": [
       "tensor(2.3883)"
      ]
     },
     "execution_count": 100,
     "metadata": {},
     "output_type": "execute_result"
    }
   ],
   "source": [
    "phys_net.scale"
   ]
  },
  {
   "cell_type": "code",
   "execution_count": 88,
   "metadata": {},
   "outputs": [
    {
     "data": {
      "text/plain": [
       "tensor([0.3199, 0.1246, 0.2090, 0.1935, 0.5459])"
      ]
     },
     "execution_count": 88,
     "metadata": {},
     "output_type": "execute_result"
    }
   ],
   "source": [
    "phys_net.motif_scale"
   ]
  },
  {
   "cell_type": "markdown",
   "metadata": {},
   "source": [
    "## Fine tune PWMs"
   ]
  },
  {
   "cell_type": "code",
   "execution_count": 103,
   "metadata": {},
   "outputs": [
    {
     "name": "stdout",
     "output_type": "stream",
     "text": [
      "Epoch 1 took 16.61s. Train loss: 0.5686 acc: 0.7172 auc 0.782. Val loss: 0.6082 acc: 0.6552 auc 0.818. Patience left: 10\n",
      "Epoch 2 took 16.51s. Train loss: 0.5525 acc: 0.7306 auc 0.797. Val loss: 0.5573 acc: 0.7142 auc 0.825. Patience left: 10\n",
      "Epoch 3 took 16.36s. Train loss: 0.5481 acc: 0.7334 auc 0.801. Val loss: 0.5521 acc: 0.7206 auc 0.827. Patience left: 10\n",
      "Epoch 4 took 16.39s. Train loss: 0.5431 acc: 0.7369 auc 0.805. Val loss: 0.5382 acc: 0.7372 auc 0.828. Patience left: 10\n",
      "Epoch 5 took 16.51s. Train loss: 0.5382 acc: 0.7411 auc 0.810. Val loss: 0.5312 acc: 0.7451 auc 0.830. Patience left: 10\n",
      "Epoch 6 took 16.32s. Train loss: 0.5349 acc: 0.7434 auc 0.812. Val loss: 0.5257 acc: 0.7481 auc 0.830. Patience left: 10\n",
      "Epoch 7 took 16.50s. Train loss: 0.5338 acc: 0.7437 auc 0.813. Val loss: 0.5226 acc: 0.7515 auc 0.830. Patience left: 10\n",
      "Epoch 8 took 16.37s. Train loss: 0.5339 acc: 0.7442 auc 0.813. Val loss: 0.5249 acc: 0.7473 auc 0.831. Patience left: 9\n",
      "Epoch 9 took 16.36s. Train loss: 0.5340 acc: 0.7444 auc 0.813. Val loss: 0.5259 acc: 0.7464 auc 0.830. Patience left: 8\n",
      "Epoch 10 took 16.53s. Train loss: 0.5331 acc: 0.7447 auc 0.813. Val loss: 0.5246 acc: 0.7482 auc 0.831. Patience left: 7\n",
      "Epoch 11 took 16.38s. Train loss: 0.5332 acc: 0.7445 auc 0.813. Val loss: 0.5242 acc: 0.7491 auc 0.831. Patience left: 6\n",
      "Epoch 12 took 16.51s. Train loss: 0.5335 acc: 0.7448 auc 0.813. Val loss: 0.5263 acc: 0.7465 auc 0.831. Patience left: 5\n",
      "Epoch 13 took 16.35s. Train loss: 0.5335 acc: 0.7444 auc 0.814. Val loss: 0.5260 acc: 0.7489 auc 0.831. Patience left: 4\n",
      "Epoch 14 took 16.38s. Train loss: 0.5332 acc: 0.7448 auc 0.814. Val loss: 0.5257 acc: 0.7470 auc 0.830. Patience left: 3\n",
      "Epoch 15 took 16.55s. Train loss: 0.5337 acc: 0.7450 auc 0.814. Val loss: 0.5268 acc: 0.7468 auc 0.831. Patience left: 2\n",
      "Epoch 16 took 16.35s. Train loss: 0.5329 acc: 0.7448 auc 0.814. Val loss: 0.5230 acc: 0.7506 auc 0.832. Patience left: 1\n"
     ]
    }
   ],
   "source": [
    "scaled_pwm = specific_pwms * phys_net.motif_scale[:,None,None]\n",
    "fine_net = biophysnn.FinePhysNet(scaled_pwm, \n",
    "                                 motif_offset = phys_net.motif_offset.data,\n",
    "                                 scale_unc = phys_net.scale_unc.data, \n",
    "                                 offset = phys_net.offset.data, \n",
    "                                 seq_len = phys_net.seq_len)\n",
    "fine_net, train_accs, val_accs, train_aucs, val_aucs = biophysnn.train_model(fine_net, \n",
    "                                                       train_data, \n",
    "                                                       validation_data, \n",
    "                                                       genome, \n",
    "                                                       verbose = True, \n",
    "                                                       check_point_filename = \"checkpoints/fine_net.pt\",\n",
    "                                                       lr = 0.1) # val auc 0.832"
   ]
  },
  {
   "cell_type": "code",
   "execution_count": 120,
   "metadata": {},
   "outputs": [
    {
     "data": {
      "text/plain": [
       "tensor([[1.0000, 0.4959],\n",
       "        [0.4959, 1.0000]])"
      ]
     },
     "execution_count": 120,
     "metadata": {},
     "output_type": "execute_result"
    }
   ],
   "source": [
    "torch.corrcoef(torch.stack([scaled_pwm.flatten(), fine_net.pwm.cpu().flatten()]))"
   ]
  },
  {
   "cell_type": "code",
   "execution_count": 139,
   "metadata": {},
   "outputs": [
    {
     "data": {
      "text/plain": [
       "<All keys matched successfully>"
      ]
     },
     "execution_count": 139,
     "metadata": {},
     "output_type": "execute_result"
    }
   ],
   "source": [
    "scaled_pwm = specific_pwms * phys_net.motif_scale[:,None,None]\n",
    "fine_net = biophysnn.FinePhysNet(scaled_pwm, \n",
    "                                 motif_offset = phys_net.motif_offset.data,\n",
    "                                 scale_unc = phys_net.scale_unc.data, \n",
    "                                 offset = phys_net.offset.data, \n",
    "                                 seq_len = phys_net.seq_len)\n",
    "fine_net.load_state_dict(torch.load(\"checkpoints/fine_net.pt\"))"
   ]
  },
  {
   "cell_type": "code",
   "execution_count": 152,
   "metadata": {},
   "outputs": [
    {
     "data": {
      "image/png": "[encoded data removed]",
      "text/plain": [
       "<Figure size 288x360 with 5 Axes>"
      ]
     },
     "metadata": {
      "needs_background": "light"
     },
     "output_type": "display_data"
    }
   ],
   "source": [
    "import logomaker\n",
    "\n",
    "def plot_motifs(pwms):\n",
    "    pwms_norm = pwms - pwms.mean(1,keepdims=True) \n",
    "    nMotif = pwms_norm.shape[0]\n",
    "    plt.figure(figsize=(4,nMotif))\n",
    "    for i in range(nMotif): \n",
    "        ax = plt.subplot(nMotif,1,i+1)\n",
    "        plt.axis('off')\n",
    "        pwm_df = pd.DataFrame(data = pwms_norm[i,:,:].t().numpy(), columns=(\"A\",\"C\",\"G\",\"T\"))\n",
    "        crp_logo = logomaker.Logo(pwm_df, ax=ax) \n",
    "\n",
    "plot_motifs(specific_pwms)"
   ]
  },
  {
   "cell_type": "code",
   "execution_count": 153,
   "metadata": {},
   "outputs": [
    {
     "data": {
      "image/png": "[encoded data removed]",
      "text/plain": [
       "<Figure size 288x360 with 5 Axes>"
      ]
     },
     "metadata": {
      "needs_background": "light"
     },
     "output_type": "display_data"
    }
   ],
   "source": [
    "plot_motifs(fine_net.pwm)"
   ]
  },
  {
   "cell_type": "markdown",
   "metadata": {},
   "source": [
    "## Fully de novo"
   ]
  },
  {
   "cell_type": "code",
   "execution_count": 155,
   "metadata": {},
   "outputs": [
    {
     "name": "stdout",
     "output_type": "stream",
     "text": [
      "Epoch 1 took 13.06s. Train loss: 0.9107 acc: 0.6450 auc 0.674. Val loss: 0.5730 acc: 0.7182 auc 0.788. Patience left: 10\n",
      "Epoch 2 took 12.89s. Train loss: 0.5761 acc: 0.7122 auc 0.775. Val loss: 0.6063 acc: 0.6697 auc 0.800. Patience left: 9\n",
      "Epoch 3 took 13.05s. Train loss: 0.5721 acc: 0.7151 auc 0.779. Val loss: 0.6073 acc: 0.6686 auc 0.803. Patience left: 8\n",
      "Epoch 4 took 13.17s. Train loss: 0.5671 acc: 0.7193 auc 0.785. Val loss: 0.6013 acc: 0.6762 auc 0.807. Patience left: 7\n",
      "Epoch 5 took 13.05s. Train loss: 0.5648 acc: 0.7208 auc 0.786. Val loss: 0.5970 acc: 0.6788 auc 0.809. Patience left: 6\n",
      "Epoch 6 took 13.24s. Train loss: 0.5599 acc: 0.7247 auc 0.791. Val loss: 0.5913 acc: 0.6839 auc 0.812. Patience left: 5\n",
      "Epoch 7 took 13.08s. Train loss: 0.5566 acc: 0.7269 auc 0.794. Val loss: 0.5738 acc: 0.7048 auc 0.813. Patience left: 4\n",
      "Epoch 8 took 12.87s. Train loss: 0.5547 acc: 0.7278 auc 0.795. Val loss: 0.5614 acc: 0.7163 auc 0.814. Patience left: 10\n",
      "Epoch 9 took 13.08s. Train loss: 0.5527 acc: 0.7290 auc 0.797. Val loss: 0.5539 acc: 0.7231 auc 0.815. Patience left: 10\n",
      "Epoch 10 took 13.03s. Train loss: 0.5507 acc: 0.7303 auc 0.798. Val loss: 0.5447 acc: 0.7332 auc 0.815. Patience left: 10\n",
      "Epoch 11 took 12.87s. Train loss: 0.5485 acc: 0.7323 auc 0.801. Val loss: 0.5400 acc: 0.7383 auc 0.816. Patience left: 10\n",
      "Epoch 12 took 13.05s. Train loss: 0.5469 acc: 0.7334 auc 0.802. Val loss: 0.5378 acc: 0.7412 auc 0.816. Patience left: 10\n",
      "Epoch 13 took 13.05s. Train loss: 0.5461 acc: 0.7337 auc 0.803. Val loss: 0.5363 acc: 0.7422 auc 0.816. Patience left: 10\n",
      "Epoch 14 took 12.89s. Train loss: 0.5457 acc: 0.7338 auc 0.803. Val loss: 0.5352 acc: 0.7432 auc 0.816. Patience left: 10\n",
      "Epoch 15 took 13.17s. Train loss: 0.5454 acc: 0.7339 auc 0.803. Val loss: 0.5346 acc: 0.7434 auc 0.816. Patience left: 10\n",
      "Epoch 16 took 13.10s. Train loss: 0.5453 acc: 0.7340 auc 0.803. Val loss: 0.5343 acc: 0.7435 auc 0.816. Patience left: 10\n",
      "Epoch 17 took 12.87s. Train loss: 0.5451 acc: 0.7340 auc 0.804. Val loss: 0.5341 acc: 0.7433 auc 0.816. Patience left: 10\n",
      "Epoch 18 took 13.03s. Train loss: 0.5450 acc: 0.7338 auc 0.804. Val loss: 0.5339 acc: 0.7431 auc 0.817. Patience left: 10\n",
      "Epoch 19 took 13.07s. Train loss: 0.5448 acc: 0.7340 auc 0.804. Val loss: 0.5337 acc: 0.7431 auc 0.817. Patience left: 10\n",
      "Epoch 20 took 12.91s. Train loss: 0.5446 acc: 0.7345 auc 0.804. Val loss: 0.5335 acc: 0.7436 auc 0.817. Patience left: 10\n",
      "Epoch 21 took 13.06s. Train loss: 0.5444 acc: 0.7348 auc 0.804. Val loss: 0.5334 acc: 0.7445 auc 0.817. Patience left: 10\n",
      "Epoch 22 took 13.04s. Train loss: 0.5441 acc: 0.7351 auc 0.805. Val loss: 0.5329 acc: 0.7450 auc 0.818. Patience left: 10\n",
      "Epoch 23 took 12.83s. Train loss: 0.5441 acc: 0.7349 auc 0.805. Val loss: 0.5327 acc: 0.7442 auc 0.818. Patience left: 10\n",
      "Epoch 24 took 13.03s. Train loss: 0.5442 acc: 0.7349 auc 0.805. Val loss: 0.5332 acc: 0.7444 auc 0.819. Patience left: 9\n",
      "Epoch 25 took 13.05s. Train loss: 0.5440 acc: 0.7352 auc 0.805. Val loss: 0.5331 acc: 0.7447 auc 0.819. Patience left: 8\n",
      "Epoch 26 took 12.84s. Train loss: 0.5436 acc: 0.7357 auc 0.805. Val loss: 0.5326 acc: 0.7460 auc 0.819. Patience left: 10\n",
      "Epoch 27 took 13.11s. Train loss: 0.5430 acc: 0.7366 auc 0.806. Val loss: 0.5315 acc: 0.7467 auc 0.820. Patience left: 10\n",
      "Epoch 28 took 13.04s. Train loss: 0.5428 acc: 0.7365 auc 0.806. Val loss: 0.5311 acc: 0.7465 auc 0.820. Patience left: 10\n",
      "Epoch 29 took 12.89s. Train loss: 0.5427 acc: 0.7366 auc 0.806. Val loss: 0.5308 acc: 0.7462 auc 0.820. Patience left: 10\n",
      "Epoch 30 took 13.05s. Train loss: 0.5425 acc: 0.7366 auc 0.806. Val loss: 0.5306 acc: 0.7463 auc 0.820. Patience left: 10\n",
      "Epoch 31 took 13.04s. Train loss: 0.5424 acc: 0.7367 auc 0.806. Val loss: 0.5305 acc: 0.7465 auc 0.820. Patience left: 10\n",
      "Epoch 32 took 12.88s. Train loss: 0.5423 acc: 0.7368 auc 0.807. Val loss: 0.5304 acc: 0.7467 auc 0.820. Patience left: 10\n",
      "Epoch 33 took 12.98s. Train loss: 0.5422 acc: 0.7369 auc 0.807. Val loss: 0.5303 acc: 0.7468 auc 0.820. Patience left: 10\n",
      "Epoch 34 took 13.07s. Train loss: 0.5421 acc: 0.7369 auc 0.807. Val loss: 0.5302 acc: 0.7467 auc 0.820. Patience left: 10\n",
      "Epoch 35 took 12.87s. Train loss: 0.5420 acc: 0.7369 auc 0.807. Val loss: 0.5302 acc: 0.7468 auc 0.820. Patience left: 10\n",
      "Epoch 36 took 13.05s. Train loss: 0.5419 acc: 0.7369 auc 0.807. Val loss: 0.5301 acc: 0.7469 auc 0.820. Patience left: 10\n",
      "Epoch 37 took 13.14s. Train loss: 0.5419 acc: 0.7370 auc 0.807. Val loss: 0.5301 acc: 0.7469 auc 0.820. Patience left: 10\n",
      "Epoch 38 took 12.93s. Train loss: 0.5418 acc: 0.7368 auc 0.807. Val loss: 0.5301 acc: 0.7465 auc 0.820. Patience left: 10\n",
      "Epoch 39 took 13.11s. Train loss: 0.5417 acc: 0.7369 auc 0.807. Val loss: 0.5300 acc: 0.7465 auc 0.820. Patience left: 10\n",
      "Epoch 40 took 13.03s. Train loss: 0.5417 acc: 0.7369 auc 0.807. Val loss: 0.5300 acc: 0.7464 auc 0.820. Patience left: 10\n",
      "Epoch 41 took 12.90s. Train loss: 0.5417 acc: 0.7370 auc 0.807. Val loss: 0.5300 acc: 0.7464 auc 0.820. Patience left: 10\n",
      "Epoch 42 took 13.07s. Train loss: 0.5416 acc: 0.7371 auc 0.807. Val loss: 0.5299 acc: 0.7463 auc 0.820. Patience left: 10\n",
      "Epoch 43 took 13.07s. Train loss: 0.5416 acc: 0.7371 auc 0.807. Val loss: 0.5299 acc: 0.7465 auc 0.820. Patience left: 10\n",
      "Epoch 44 took 12.93s. Train loss: 0.5416 acc: 0.7371 auc 0.807. Val loss: 0.5299 acc: 0.7465 auc 0.820. Patience left: 10\n",
      "Epoch 45 took 13.09s. Train loss: 0.5415 acc: 0.7371 auc 0.807. Val loss: 0.5299 acc: 0.7466 auc 0.820. Patience left: 10\n",
      "Epoch 46 took 13.11s. Train loss: 0.5415 acc: 0.7371 auc 0.807. Val loss: 0.5298 acc: 0.7464 auc 0.820. Patience left: 10\n",
      "Epoch 47 took 12.97s. Train loss: 0.5415 acc: 0.7371 auc 0.807. Val loss: 0.5298 acc: 0.7465 auc 0.820. Patience left: 10\n"
     ]
    },
    {
     "ename": "KeyboardInterrupt",
     "evalue": "",
     "output_type": "error",
     "traceback": [
      "\u001b[0;31m---------------------------------------------------------------------------\u001b[0m",
      "\u001b[0;31mKeyboardInterrupt\u001b[0m                         Traceback (most recent call last)",
      "\u001b[0;32m<ipython-input-155-2f71f1c2cb3a>\u001b[0m in \u001b[0;36m<module>\u001b[0;34m\u001b[0m\n\u001b[1;32m      1\u001b[0m de_novo_net = biophysnn.FinePhysNet(torch.randn_like(specific_pwms) * 0.3, \n\u001b[1;32m      2\u001b[0m                                  seq_len = 300)\n\u001b[0;32m----> 3\u001b[0;31m de_novo_net, train_accs, val_accs, train_aucs, val_aucs = biophysnn.train_model(de_novo_net, \n\u001b[0m\u001b[1;32m      4\u001b[0m                                                        \u001b[0mtrain_data\u001b[0m\u001b[0;34m,\u001b[0m\u001b[0;34m\u001b[0m\u001b[0;34m\u001b[0m\u001b[0m\n\u001b[1;32m      5\u001b[0m                                                        \u001b[0mvalidation_data\u001b[0m\u001b[0;34m,\u001b[0m\u001b[0;34m\u001b[0m\u001b[0;34m\u001b[0m\u001b[0m\n",
      "\u001b[0;32m~/pooledRBPs/biophysical_cnn/biophysnn.py\u001b[0m in \u001b[0;36mtrain_model\u001b[0;34m(cnn_1d, train_data, validation_data, genome, epochs, patience, verbose, check_point_filename, **kwargs)\u001b[0m\n\u001b[1;32m    308\u001b[0m     \u001b[0;32mfor\u001b[0m \u001b[0mepoch\u001b[0m \u001b[0;32min\u001b[0m \u001b[0mrange\u001b[0m\u001b[0;34m(\u001b[0m\u001b[0mepochs\u001b[0m\u001b[0;34m)\u001b[0m\u001b[0;34m:\u001b[0m\u001b[0;34m\u001b[0m\u001b[0;34m\u001b[0m\u001b[0m\n\u001b[1;32m    309\u001b[0m         \u001b[0mstart_time\u001b[0m \u001b[0;34m=\u001b[0m \u001b[0mtimeit\u001b[0m\u001b[0;34m.\u001b[0m\u001b[0mdefault_timer\u001b[0m\u001b[0;34m(\u001b[0m\u001b[0;34m)\u001b[0m\u001b[0;34m\u001b[0m\u001b[0;34m\u001b[0m\u001b[0m\n\u001b[0;32m--> 310\u001b[0;31m         \u001b[0mtrain_loss\u001b[0m\u001b[0;34m,\u001b[0m \u001b[0mtrain_acc\u001b[0m\u001b[0;34m,\u001b[0m \u001b[0mtrain_auc\u001b[0m \u001b[0;34m=\u001b[0m \u001b[0mrun_one_epoch\u001b[0m\u001b[0;34m(\u001b[0m\u001b[0mtrain_dataloader\u001b[0m\u001b[0;34m,\u001b[0m \u001b[0mcnn_1d\u001b[0m\u001b[0;34m,\u001b[0m \u001b[0moptimizer\u001b[0m\u001b[0;34m)\u001b[0m\u001b[0;34m\u001b[0m\u001b[0;34m\u001b[0m\u001b[0m\n\u001b[0m\u001b[1;32m    311\u001b[0m         \u001b[0mval_loss\u001b[0m\u001b[0;34m,\u001b[0m \u001b[0mval_acc\u001b[0m\u001b[0;34m,\u001b[0m \u001b[0mval_auc\u001b[0m \u001b[0;34m=\u001b[0m \u001b[0mrun_one_epoch\u001b[0m\u001b[0;34m(\u001b[0m\u001b[0mvalidation_dataloader\u001b[0m\u001b[0;34m,\u001b[0m \u001b[0mcnn_1d\u001b[0m\u001b[0;34m,\u001b[0m \u001b[0moptimizer\u001b[0m \u001b[0;34m=\u001b[0m \u001b[0;32mNone\u001b[0m\u001b[0;34m)\u001b[0m\u001b[0;34m\u001b[0m\u001b[0;34m\u001b[0m\u001b[0m\n\u001b[1;32m    312\u001b[0m         \u001b[0mtrain_accs\u001b[0m\u001b[0;34m.\u001b[0m\u001b[0mappend\u001b[0m\u001b[0;34m(\u001b[0m\u001b[0mtrain_acc\u001b[0m\u001b[0;34m)\u001b[0m\u001b[0;34m\u001b[0m\u001b[0;34m\u001b[0m\u001b[0m\n",
      "\u001b[0;32m~/pooledRBPs/biophysical_cnn/biophysnn.py\u001b[0m in \u001b[0;36mrun_one_epoch\u001b[0;34m(dataloader, cnn_1d, optimizer)\u001b[0m\n\u001b[1;32m    246\u001b[0m     \u001b[0mdevice\u001b[0m \u001b[0;34m=\u001b[0m \u001b[0mnext\u001b[0m\u001b[0;34m(\u001b[0m\u001b[0mcnn_1d\u001b[0m\u001b[0;34m.\u001b[0m\u001b[0mparameters\u001b[0m\u001b[0;34m(\u001b[0m\u001b[0;34m)\u001b[0m\u001b[0;34m)\u001b[0m\u001b[0;34m.\u001b[0m\u001b[0mdevice\u001b[0m\u001b[0;34m\u001b[0m\u001b[0;34m\u001b[0m\u001b[0m\n\u001b[1;32m    247\u001b[0m \u001b[0;34m\u001b[0m\u001b[0m\n\u001b[0;32m--> 248\u001b[0;31m     \u001b[0;32mfor\u001b[0m \u001b[0;34m(\u001b[0m\u001b[0mx\u001b[0m\u001b[0;34m,\u001b[0m\u001b[0my\u001b[0m\u001b[0;34m)\u001b[0m \u001b[0;32min\u001b[0m \u001b[0mdataloader\u001b[0m\u001b[0;34m:\u001b[0m \u001b[0;31m# collection of tuples with iterator\u001b[0m\u001b[0;34m\u001b[0m\u001b[0;34m\u001b[0m\u001b[0m\n\u001b[0m\u001b[1;32m    249\u001b[0m \u001b[0;34m\u001b[0m\u001b[0m\n\u001b[1;32m    250\u001b[0m         \u001b[0;34m(\u001b[0m\u001b[0mx\u001b[0m\u001b[0;34m,\u001b[0m \u001b[0my\u001b[0m\u001b[0;34m)\u001b[0m \u001b[0;34m=\u001b[0m \u001b[0;34m(\u001b[0m \u001b[0mx\u001b[0m\u001b[0;34m.\u001b[0m\u001b[0mto\u001b[0m\u001b[0;34m(\u001b[0m\u001b[0mdevice\u001b[0m\u001b[0;34m)\u001b[0m\u001b[0;34m,\u001b[0m \u001b[0my\u001b[0m\u001b[0;34m.\u001b[0m\u001b[0mto\u001b[0m\u001b[0;34m(\u001b[0m\u001b[0mdevice\u001b[0m\u001b[0;34m)\u001b[0m \u001b[0;34m)\u001b[0m \u001b[0;31m# transfer data to GPU\u001b[0m\u001b[0;34m\u001b[0m\u001b[0;34m\u001b[0m\u001b[0m\n",
      "\u001b[0;32m~/.conda/envs/asb/lib/python3.8/site-packages/torch/utils/data/dataloader.py\u001b[0m in \u001b[0;36m__next__\u001b[0;34m(self)\u001b[0m\n\u001b[1;32m    519\u001b[0m             \u001b[0;32mif\u001b[0m \u001b[0mself\u001b[0m\u001b[0;34m.\u001b[0m\u001b[0m_sampler_iter\u001b[0m \u001b[0;32mis\u001b[0m \u001b[0;32mNone\u001b[0m\u001b[0;34m:\u001b[0m\u001b[0;34m\u001b[0m\u001b[0;34m\u001b[0m\u001b[0m\n\u001b[1;32m    520\u001b[0m                 \u001b[0mself\u001b[0m\u001b[0;34m.\u001b[0m\u001b[0m_reset\u001b[0m\u001b[0;34m(\u001b[0m\u001b[0;34m)\u001b[0m\u001b[0;34m\u001b[0m\u001b[0;34m\u001b[0m\u001b[0m\n\u001b[0;32m--> 521\u001b[0;31m             \u001b[0mdata\u001b[0m \u001b[0;34m=\u001b[0m \u001b[0mself\u001b[0m\u001b[0;34m.\u001b[0m\u001b[0m_next_data\u001b[0m\u001b[0;34m(\u001b[0m\u001b[0;34m)\u001b[0m\u001b[0;34m\u001b[0m\u001b[0;34m\u001b[0m\u001b[0m\n\u001b[0m\u001b[1;32m    522\u001b[0m             \u001b[0mself\u001b[0m\u001b[0;34m.\u001b[0m\u001b[0m_num_yielded\u001b[0m \u001b[0;34m+=\u001b[0m \u001b[0;36m1\u001b[0m\u001b[0;34m\u001b[0m\u001b[0;34m\u001b[0m\u001b[0m\n\u001b[1;32m    523\u001b[0m             \u001b[0;32mif\u001b[0m \u001b[0mself\u001b[0m\u001b[0;34m.\u001b[0m\u001b[0m_dataset_kind\u001b[0m \u001b[0;34m==\u001b[0m \u001b[0m_DatasetKind\u001b[0m\u001b[0;34m.\u001b[0m\u001b[0mIterable\u001b[0m \u001b[0;32mand\u001b[0m\u001b[0;31m \u001b[0m\u001b[0;31m\\\u001b[0m\u001b[0;34m\u001b[0m\u001b[0;34m\u001b[0m\u001b[0m\n",
      "\u001b[0;32m~/.conda/envs/asb/lib/python3.8/site-packages/torch/utils/data/dataloader.py\u001b[0m in \u001b[0;36m_next_data\u001b[0;34m(self)\u001b[0m\n\u001b[1;32m    559\u001b[0m     \u001b[0;32mdef\u001b[0m \u001b[0m_next_data\u001b[0m\u001b[0;34m(\u001b[0m\u001b[0mself\u001b[0m\u001b[0;34m)\u001b[0m\u001b[0;34m:\u001b[0m\u001b[0;34m\u001b[0m\u001b[0;34m\u001b[0m\u001b[0m\n\u001b[1;32m    560\u001b[0m         \u001b[0mindex\u001b[0m \u001b[0;34m=\u001b[0m \u001b[0mself\u001b[0m\u001b[0;34m.\u001b[0m\u001b[0m_next_index\u001b[0m\u001b[0;34m(\u001b[0m\u001b[0;34m)\u001b[0m  \u001b[0;31m# may raise StopIteration\u001b[0m\u001b[0;34m\u001b[0m\u001b[0;34m\u001b[0m\u001b[0m\n\u001b[0;32m--> 561\u001b[0;31m         \u001b[0mdata\u001b[0m \u001b[0;34m=\u001b[0m \u001b[0mself\u001b[0m\u001b[0;34m.\u001b[0m\u001b[0m_dataset_fetcher\u001b[0m\u001b[0;34m.\u001b[0m\u001b[0mfetch\u001b[0m\u001b[0;34m(\u001b[0m\u001b[0mindex\u001b[0m\u001b[0;34m)\u001b[0m  \u001b[0;31m# may raise StopIteration\u001b[0m\u001b[0;34m\u001b[0m\u001b[0;34m\u001b[0m\u001b[0m\n\u001b[0m\u001b[1;32m    562\u001b[0m         \u001b[0;32mif\u001b[0m \u001b[0mself\u001b[0m\u001b[0;34m.\u001b[0m\u001b[0m_pin_memory\u001b[0m\u001b[0;34m:\u001b[0m\u001b[0;34m\u001b[0m\u001b[0;34m\u001b[0m\u001b[0m\n\u001b[1;32m    563\u001b[0m             \u001b[0mdata\u001b[0m \u001b[0;34m=\u001b[0m \u001b[0m_utils\u001b[0m\u001b[0;34m.\u001b[0m\u001b[0mpin_memory\u001b[0m\u001b[0;34m.\u001b[0m\u001b[0mpin_memory\u001b[0m\u001b[0;34m(\u001b[0m\u001b[0mdata\u001b[0m\u001b[0;34m)\u001b[0m\u001b[0;34m\u001b[0m\u001b[0;34m\u001b[0m\u001b[0m\n",
      "\u001b[0;32m~/.conda/envs/asb/lib/python3.8/site-packages/torch/utils/data/_utils/fetch.py\u001b[0m in \u001b[0;36mfetch\u001b[0;34m(self, possibly_batched_index)\u001b[0m\n\u001b[1;32m     30\u001b[0m             \u001b[0;32mfor\u001b[0m \u001b[0m_\u001b[0m \u001b[0;32min\u001b[0m \u001b[0mpossibly_batched_index\u001b[0m\u001b[0;34m:\u001b[0m\u001b[0;34m\u001b[0m\u001b[0;34m\u001b[0m\u001b[0m\n\u001b[1;32m     31\u001b[0m                 \u001b[0;32mtry\u001b[0m\u001b[0;34m:\u001b[0m\u001b[0;34m\u001b[0m\u001b[0;34m\u001b[0m\u001b[0m\n\u001b[0;32m---> 32\u001b[0;31m                     \u001b[0mdata\u001b[0m\u001b[0;34m.\u001b[0m\u001b[0mappend\u001b[0m\u001b[0;34m(\u001b[0m\u001b[0mnext\u001b[0m\u001b[0;34m(\u001b[0m\u001b[0mself\u001b[0m\u001b[0;34m.\u001b[0m\u001b[0mdataset_iter\u001b[0m\u001b[0;34m)\u001b[0m\u001b[0;34m)\u001b[0m\u001b[0;34m\u001b[0m\u001b[0;34m\u001b[0m\u001b[0m\n\u001b[0m\u001b[1;32m     33\u001b[0m                 \u001b[0;32mexcept\u001b[0m \u001b[0mStopIteration\u001b[0m\u001b[0;34m:\u001b[0m\u001b[0;34m\u001b[0m\u001b[0;34m\u001b[0m\u001b[0m\n\u001b[1;32m     34\u001b[0m                     \u001b[0mself\u001b[0m\u001b[0;34m.\u001b[0m\u001b[0mended\u001b[0m \u001b[0;34m=\u001b[0m \u001b[0;32mTrue\u001b[0m\u001b[0;34m\u001b[0m\u001b[0;34m\u001b[0m\u001b[0m\n",
      "\u001b[0;32m~/pooledRBPs/biophysical_cnn/biophysnn.py\u001b[0m in \u001b[0;36m__iter__\u001b[0;34m(self)\u001b[0m\n\u001b[1;32m     34\u001b[0m             \u001b[0mseq\u001b[0m \u001b[0;34m=\u001b[0m \u001b[0mself\u001b[0m\u001b[0;34m.\u001b[0m\u001b[0mgenome\u001b[0m\u001b[0;34m[\u001b[0m\u001b[0mrow\u001b[0m\u001b[0;34m.\u001b[0m\u001b[0mchrom\u001b[0m\u001b[0;34m]\u001b[0m\u001b[0;34m[\u001b[0m \u001b[0mmidpoint\u001b[0m \u001b[0;34m-\u001b[0m \u001b[0mself\u001b[0m\u001b[0;34m.\u001b[0m\u001b[0mcontext_length\u001b[0m\u001b[0;34m//\u001b[0m\u001b[0;36m2\u001b[0m\u001b[0;34m:\u001b[0m\u001b[0mmidpoint\u001b[0m \u001b[0;34m+\u001b[0m \u001b[0mself\u001b[0m\u001b[0;34m.\u001b[0m\u001b[0mcontext_length\u001b[0m\u001b[0;34m//\u001b[0m\u001b[0;36m2\u001b[0m\u001b[0;34m]\u001b[0m\u001b[0;34m\u001b[0m\u001b[0;34m\u001b[0m\u001b[0m\n\u001b[1;32m     35\u001b[0m             \u001b[0;32mif\u001b[0m \u001b[0mself\u001b[0m\u001b[0;34m.\u001b[0m\u001b[0mrna\u001b[0m \u001b[0;32mand\u001b[0m \u001b[0mrow\u001b[0m\u001b[0;34m.\u001b[0m\u001b[0mstrand\u001b[0m \u001b[0;34m==\u001b[0m \u001b[0;34m\"-\"\u001b[0m\u001b[0;34m:\u001b[0m \u001b[0mseq\u001b[0m \u001b[0;34m=\u001b[0m \u001b[0mseq_utils\u001b[0m\u001b[0;34m.\u001b[0m\u001b[0mreverse_complement\u001b[0m\u001b[0;34m(\u001b[0m\u001b[0mseq\u001b[0m\u001b[0;34m)\u001b[0m\u001b[0;34m\u001b[0m\u001b[0;34m\u001b[0m\u001b[0m\n\u001b[0;32m---> 36\u001b[0;31m             \u001b[0;32myield\u001b[0m\u001b[0;34m(\u001b[0m\u001b[0mseq_utils\u001b[0m\u001b[0;34m.\u001b[0m\u001b[0mone_hot\u001b[0m\u001b[0;34m(\u001b[0m\u001b[0mseq\u001b[0m\u001b[0;34m)\u001b[0m\u001b[0;34m,\u001b[0m \u001b[0mnp\u001b[0m\u001b[0;34m.\u001b[0m\u001b[0mfloat32\u001b[0m\u001b[0;34m(\u001b[0m\u001b[0;36m1\u001b[0m\u001b[0;34m)\u001b[0m\u001b[0;34m)\u001b[0m \u001b[0;31m# positive example\u001b[0m\u001b[0;34m\u001b[0m\u001b[0;34m\u001b[0m\u001b[0m\n\u001b[0m\u001b[1;32m     37\u001b[0m \u001b[0;34m\u001b[0m\u001b[0m\n\u001b[1;32m     38\u001b[0m             \u001b[0;32mif\u001b[0m \u001b[0mprev_chrom\u001b[0m \u001b[0;34m==\u001b[0m \u001b[0mrow\u001b[0m\u001b[0;34m.\u001b[0m\u001b[0mchrom\u001b[0m \u001b[0;32mand\u001b[0m \u001b[0mprev_end\u001b[0m \u001b[0;34m<\u001b[0m \u001b[0mrow\u001b[0m\u001b[0;34m.\u001b[0m\u001b[0mstart\u001b[0m\u001b[0;34m:\u001b[0m\u001b[0;34m\u001b[0m\u001b[0;34m\u001b[0m\u001b[0m\n",
      "\u001b[0;31mKeyboardInterrupt\u001b[0m: "
     ]
    }
   ],
   "source": [
    "de_novo_net = biophysnn.FinePhysNet(torch.randn_like(specific_pwms) * 0.3, \n",
    "                                 seq_len = 300)\n",
    "de_novo_net, train_accs, val_accs, train_aucs, val_aucs = biophysnn.train_model(de_novo_net, \n",
    "                                                       train_data, \n",
    "                                                       validation_data, \n",
    "                                                       genome, \n",
    "                                                       verbose = True, \n",
    "                                                       check_point_filename = \"checkpoints/denovo.pt\",\n",
    "                                                       lr = 0.1) # val auc 0.763"
   ]
  },
  {
   "cell_type": "code",
   "execution_count": 157,
   "metadata": {},
   "outputs": [
    {
     "data": {
      "image/png": "[encoded data removed]",
      "text/plain": [
       "<Figure size 288x360 with 5 Axes>"
      ]
     },
     "metadata": {
      "needs_background": "light"
     },
     "output_type": "display_data"
    }
   ],
   "source": [
    "de_novo_net = biophysnn.FinePhysNet(torch.randn_like(specific_pwms), \n",
    "                                 seq_len = 300)\n",
    "de_novo_net.load_state_dict(torch.load(\"checkpoints/denovo.pt\"))\n",
    "plot_motifs(de_novo_net.pwm.detach().cpu())"
   ]
  },
  {
   "cell_type": "code",
   "execution_count": 158,
   "metadata": {},
   "outputs": [
    {
     "data": {
      "text/plain": [
       "Parameter containing:\n",
       "tensor([-2.5201, -2.8762, -3.4786, -3.3278, -2.8230], requires_grad=True)"
      ]
     },
     "execution_count": 158,
     "metadata": {},
     "output_type": "execute_result"
    }
   ],
   "source": [
    "de_novo_net.motif_offset"
   ]
  },
  {
   "cell_type": "code",
   "execution_count": 147,
   "metadata": {},
   "outputs": [
    {
     "data": {
      "text/plain": [
       "Parameter containing:\n",
       "tensor(-2.6478, requires_grad=True)"
      ]
     },
     "execution_count": 147,
     "metadata": {},
     "output_type": "execute_result"
    }
   ],
   "source": [
    "de_novo_net.offset"
   ]
  },
  {
   "cell_type": "code",
   "execution_count": null,
   "metadata": {},
   "outputs": [],
   "source": [
    "de_novo_net.scale"
   ]
  },
  {
   "cell_type": "markdown",
   "metadata": {},
   "source": [
    "## De novo one motif"
   ]
  },
  {
   "cell_type": "code",
   "execution_count": 159,
   "metadata": {},
   "outputs": [
    {
     "name": "stdout",
     "output_type": "stream",
     "text": [
      "Epoch 1 took 12.73s. Train loss: 0.7751 acc: 0.6453 auc 0.679. Val loss: 0.6032 acc: 0.6820 auc 0.777. Patience left: 10\n",
      "Epoch 2 took 13.01s. Train loss: 0.5804 acc: 0.7098 auc 0.772. Val loss: 0.5559 acc: 0.7310 auc 0.799. Patience left: 10\n",
      "Epoch 3 took 12.86s. Train loss: 0.5680 acc: 0.7194 auc 0.784. Val loss: 0.6005 acc: 0.6802 auc 0.804. Patience left: 9\n",
      "Epoch 4 took 12.84s. Train loss: 0.5662 acc: 0.7198 auc 0.786. Val loss: 0.6045 acc: 0.6773 auc 0.806. Patience left: 8\n",
      "Epoch 5 took 13.06s. Train loss: 0.5669 acc: 0.7190 auc 0.785. Val loss: 0.6067 acc: 0.6746 auc 0.806. Patience left: 7\n",
      "Epoch 6 took 12.66s. Train loss: 0.5673 acc: 0.7183 auc 0.784. Val loss: 0.6071 acc: 0.6743 auc 0.806. Patience left: 6\n",
      "Epoch 7 took 12.96s. Train loss: 0.5674 acc: 0.7179 auc 0.784. Val loss: 0.6070 acc: 0.6745 auc 0.806. Patience left: 5\n",
      "Epoch 8 took 12.69s. Train loss: 0.5675 acc: 0.7178 auc 0.784. Val loss: 0.6070 acc: 0.6744 auc 0.806. Patience left: 4\n",
      "Epoch 9 took 12.69s. Train loss: 0.5675 acc: 0.7178 auc 0.784. Val loss: 0.6071 acc: 0.6743 auc 0.806. Patience left: 3\n",
      "Epoch 10 took 12.86s. Train loss: 0.5676 acc: 0.7177 auc 0.784. Val loss: 0.6072 acc: 0.6740 auc 0.806. Patience left: 2\n",
      "Epoch 11 took 12.71s. Train loss: 0.5676 acc: 0.7176 auc 0.784. Val loss: 0.6073 acc: 0.6739 auc 0.806. Patience left: 1\n"
     ]
    }
   ],
   "source": [
    "de_novo1_net = biophysnn.FinePhysNet(torch.randn((1,4,7)) * 0.1, \n",
    "                                 seq_len = 300)\n",
    "de_novo1_net, train_accs, val_accs, train_aucs, val_aucs = biophysnn.train_model(de_novo1_net, \n",
    "                                                       train_data, \n",
    "                                                       validation_data, \n",
    "                                                       genome, \n",
    "                                                       verbose = True, \n",
    "                                                       check_point_filename = \"checkpoints/denovo_1motif.pt\",\n",
    "                                                       lr = 0.1) # val auc 0.763"
   ]
  },
  {
   "cell_type": "code",
   "execution_count": 174,
   "metadata": {},
   "outputs": [
    {
     "data": {
      "image/png": "[encoded data removed]",
      "text/plain": [
       "<Figure size 288x72 with 1 Axes>"
      ]
     },
     "metadata": {
      "needs_background": "light"
     },
     "output_type": "display_data"
    }
   ],
   "source": [
    "de_novo1_net = biophysnn.FinePhysNet(torch.randn((1,4,7)) * 0.1, \n",
    "                                 seq_len = 300)\n",
    "de_novo1_net.load_state_dict(torch.load(\"checkpoints/denovo_1motif.pt\"))\n",
    "plot_motifs(de_novo1_net.pwm.detach().cpu())"
   ]
  },
  {
   "cell_type": "code",
   "execution_count": 173,
   "metadata": {},
   "outputs": [
    {
     "data": {
      "text/plain": [
       "(tensor([-0.6707]), tensor(2.4695), tensor(-5.5516))"
      ]
     },
     "execution_count": 173,
     "metadata": {},
     "output_type": "execute_result"
    }
   ],
   "source": [
    "de_novo1_net.motif_offset.data, de_novo1_net.scale.data, de_novo1_net.offset.data"
   ]
  },
  {
   "cell_type": "markdown",
   "metadata": {
    "id": "4g_Ci7czJkY0"
   },
   "source": [
    "## Test flipped CNN"
   ]
  },
  {
   "cell_type": "code",
   "execution_count": null,
   "metadata": {
    "id": "T74hQno-82Ty"
   },
   "outputs": [],
   "source": [
    "test_acc_flipped = {}\n",
    "seq_lens = {}\n",
    "test_acc_regular = {}\n",
    "for num_filters in range(1,17): \n",
    "    print(num_filters, end = \" \")\n",
    "    flipped_cnn = CNN_1d(use_flipping=True, nchannels = [4, num_filters], n_hidden = 16, filter_widths = [10])\n",
    "    seq_lens[num_filters] = flipped_cnn.seq_len\n",
    "    flipped_cnn, train_accs, val_accs = train_model(flipped_cnn, train_data, validation_data, verbose = False)\n",
    "    test_dataset = BedPeaksDataset(test_data, genome, flipped_cnn.seq_len)\n",
    "    test_dataloader = torch.utils.data.DataLoader(test_dataset, batch_size=1000)\n",
    "    test_loss, test_acc_flipped[num_filters] = run_one_epoch(test_dataloader, flipped_cnn, None)\n",
    "    #test_acc_flipped # .662, .666 for FlippedConv, .66 without flipping, .665 with NewFlipping\n",
    "\n",
    "    regular_cnn = CNN_1d(use_flipping=False,  nchannels = [4, num_filters], n_hidden = 16, filter_widths = [11])\n",
    "    regular_cnn, train_accs, val_accs = train_model(regular_cnn, train_data, validation_data, verbose = False)\n",
    "    test_dataset = BedPeaksDataset(test_data, genome, regular_cnn.seq_len)\n",
    "    test_dataloader = torch.utils.data.DataLoader(test_dataset, batch_size=1000)\n",
    "    test_loss, test_acc_regular[num_filters] = run_one_epoch(test_dataloader, regular_cnn, None)\n",
    "\n",
    "plt.plot(list(seq_lens.values()))"
   ]
  },
  {
   "cell_type": "code",
   "execution_count": null,
   "metadata": {
    "id": "EA8pOUC0gBe4"
   },
   "outputs": [],
   "source": [
    "test_acc_flipped_values = np.array(list(test_acc_flipped.values()))\n",
    "print(\"%.3f +/- %.3f\" % (test_acc_flipped_values.mean(), test_acc_flipped_values.std()))"
   ]
  },
  {
   "cell_type": "code",
   "execution_count": null,
   "metadata": {
    "id": "AxBrkqiykz5t"
   },
   "outputs": [],
   "source": [
    "for i in range(10): \n",
    "    print(i, end = \" \")\n",
    "\n",
    "test_acc_regular_values = np.array(list(test_acc_regular.values()))\n",
    "print(\"%.3f +/- %.3f\" % (test_acc_regular_values.mean(), test_acc_regular_values.std()))"
   ]
  },
  {
   "cell_type": "code",
   "execution_count": null,
   "metadata": {
    "id": "ZYWaAas1hZFw"
   },
   "outputs": [],
   "source": [
    "test_acc_regular_values"
   ]
  },
  {
   "cell_type": "markdown",
   "metadata": {
    "id": "FEh5tTipB4XH"
   },
   "source": [
    "Across 10 replicates: biophysical 0.668 +/- 0.003, regular 0.665 +/- 0.007 (so probably not statistically signicant?) "
   ]
  }
 ],
 "metadata": {
  "accelerator": "TPU",
  "colab": {
   "collapsed_sections": [],
   "name": "Biophysical CNNs",
   "provenance": [],
   "toc_visible": true
  },
  "gpuClass": "standard",
  "kernelspec": {
   "display_name": "Python 3",
   "language": "python",
   "name": "python3"
  },
  "language_info": {
   "codemirror_mode": {
    "name": "ipython",
    "version": 3
   },
   "file_extension": ".py",
   "mimetype": "text/x-python",
   "name": "python",
   "nbconvert_exporter": "python",
   "pygments_lexer": "ipython3",
   "version": "3.8.0"
  }
 },
 "nbformat": 4,
 "nbformat_minor": 4
}
