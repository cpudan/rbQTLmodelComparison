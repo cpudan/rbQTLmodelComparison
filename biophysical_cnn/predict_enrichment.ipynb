{
 "cells": [
  {
   "cell_type": "code",
   "execution_count": 1,
   "metadata": {
    "colab": {
     "base_uri": "https://localhost:8080/",
     "height": 218
    },
    "id": "8fPmCgelY66c",
    "outputId": "69405d1e-2ef2-4da4-9121-84dda09a9215",
    "tags": [
     "parameters"
    ]
   },
   "outputs": [
    {
     "name": "stderr",
     "output_type": "stream",
     "text": [
      "/gpfs/commons/home/daknowles/.conda/envs/asb/lib/python3.8/site-packages/tqdm/auto.py:22: TqdmWarning: IProgress not found. Please update jupyter and ipywidgets. See https://ipywidgets.readthedocs.io/en/stable/user_install.html\n",
      "  from .autonotebook import tqdm as notebook_tqdm\n"
     ]
    }
   ],
   "source": [
    "import torch\n",
    "import torch.nn as nn\n",
    "import torch.nn.functional as F\n",
    "import torch.utils.data\n",
    "\n",
    "import pandas as pd\n",
    "import numpy as np\n",
    "import matplotlib.pyplot as plt\n",
    "import pickle\n",
    "import os.path\n",
    "import biophysnn\n",
    "import motifscanner\n",
    "import bindingdata\n",
    "\n",
    "import scipy.stats\n",
    "import seaborn as sns\n",
    "\n",
    "from importlib import reload\n",
    "\n",
    "pwm_source = \"K562\"\n",
    "RBP = \"RBFOX2\"\n",
    "rep = \"rep2\" # rep1 for A1, rep2 for RBFOX2, can be \"both\" for HNRNPK"
   ]
  },
  {
   "cell_type": "code",
   "execution_count": 2,
   "metadata": {},
   "outputs": [
    {
     "data": {
      "text/html": [
       "<div>\n",
       "<style scoped>\n",
       "    .dataframe tbody tr th:only-of-type {\n",
       "        vertical-align: middle;\n",
       "    }\n",
       "\n",
       "    .dataframe tbody tr th {\n",
       "        vertical-align: top;\n",
       "    }\n",
       "\n",
       "    .dataframe thead th {\n",
       "        text-align: right;\n",
       "    }\n",
       "</style>\n",
       "<table border=\"1\" class=\"dataframe\">\n",
       "  <thead>\n",
       "    <tr style=\"text-align: right;\">\n",
       "      <th></th>\n",
       "      <th>chrom</th>\n",
       "      <th>start</th>\n",
       "      <th>end</th>\n",
       "      <th>gene</th>\n",
       "      <th>X5</th>\n",
       "      <th>strand</th>\n",
       "      <th>CW30154-hnrnpk</th>\n",
       "      <th>CW30154-input</th>\n",
       "      <th>hnrnpa1-rep1</th>\n",
       "      <th>hnrnpk-rep1</th>\n",
       "      <th>hnrnpk-rep2</th>\n",
       "      <th>input-rep1</th>\n",
       "      <th>input-rep2</th>\n",
       "      <th>rbfox2-rep2</th>\n",
       "    </tr>\n",
       "  </thead>\n",
       "  <tbody>\n",
       "    <tr>\n",
       "      <th>0</th>\n",
       "      <td>chr1</td>\n",
       "      <td>65419</td>\n",
       "      <td>65719</td>\n",
       "      <td>ENSG00000186092.7</td>\n",
       "      <td>.</td>\n",
       "      <td>+</td>\n",
       "      <td>0</td>\n",
       "      <td>0</td>\n",
       "      <td>0</td>\n",
       "      <td>0</td>\n",
       "      <td>0</td>\n",
       "      <td>0</td>\n",
       "      <td>0</td>\n",
       "      <td>0</td>\n",
       "    </tr>\n",
       "    <tr>\n",
       "      <th>1</th>\n",
       "      <td>chr1</td>\n",
       "      <td>65519</td>\n",
       "      <td>65819</td>\n",
       "      <td>ENSG00000186092.7</td>\n",
       "      <td>.</td>\n",
       "      <td>+</td>\n",
       "      <td>0</td>\n",
       "      <td>0</td>\n",
       "      <td>0</td>\n",
       "      <td>0</td>\n",
       "      <td>0</td>\n",
       "      <td>0</td>\n",
       "      <td>0</td>\n",
       "      <td>0</td>\n",
       "    </tr>\n",
       "    <tr>\n",
       "      <th>2</th>\n",
       "      <td>chr1</td>\n",
       "      <td>65619</td>\n",
       "      <td>65919</td>\n",
       "      <td>ENSG00000186092.7</td>\n",
       "      <td>.</td>\n",
       "      <td>+</td>\n",
       "      <td>0</td>\n",
       "      <td>0</td>\n",
       "      <td>0</td>\n",
       "      <td>0</td>\n",
       "      <td>0</td>\n",
       "      <td>0</td>\n",
       "      <td>0</td>\n",
       "      <td>0</td>\n",
       "    </tr>\n",
       "    <tr>\n",
       "      <th>3</th>\n",
       "      <td>chr1</td>\n",
       "      <td>65719</td>\n",
       "      <td>66019</td>\n",
       "      <td>ENSG00000186092.7</td>\n",
       "      <td>.</td>\n",
       "      <td>+</td>\n",
       "      <td>0</td>\n",
       "      <td>0</td>\n",
       "      <td>0</td>\n",
       "      <td>0</td>\n",
       "      <td>0</td>\n",
       "      <td>0</td>\n",
       "      <td>0</td>\n",
       "      <td>0</td>\n",
       "    </tr>\n",
       "    <tr>\n",
       "      <th>4</th>\n",
       "      <td>chr1</td>\n",
       "      <td>65819</td>\n",
       "      <td>66119</td>\n",
       "      <td>ENSG00000186092.7</td>\n",
       "      <td>.</td>\n",
       "      <td>+</td>\n",
       "      <td>0</td>\n",
       "      <td>0</td>\n",
       "      <td>0</td>\n",
       "      <td>0</td>\n",
       "      <td>0</td>\n",
       "      <td>0</td>\n",
       "      <td>0</td>\n",
       "      <td>0</td>\n",
       "    </tr>\n",
       "    <tr>\n",
       "      <th>...</th>\n",
       "      <td>...</td>\n",
       "      <td>...</td>\n",
       "      <td>...</td>\n",
       "      <td>...</td>\n",
       "      <td>...</td>\n",
       "      <td>...</td>\n",
       "      <td>...</td>\n",
       "      <td>...</td>\n",
       "      <td>...</td>\n",
       "      <td>...</td>\n",
       "      <td>...</td>\n",
       "      <td>...</td>\n",
       "      <td>...</td>\n",
       "      <td>...</td>\n",
       "    </tr>\n",
       "    <tr>\n",
       "      <th>13800279</th>\n",
       "      <td>chrM</td>\n",
       "      <td>15447</td>\n",
       "      <td>15747</td>\n",
       "      <td>ENSG00000198727.2</td>\n",
       "      <td>.</td>\n",
       "      <td>+</td>\n",
       "      <td>78292</td>\n",
       "      <td>10783</td>\n",
       "      <td>37243</td>\n",
       "      <td>685023</td>\n",
       "      <td>583759</td>\n",
       "      <td>100210</td>\n",
       "      <td>116039</td>\n",
       "      <td>28846</td>\n",
       "    </tr>\n",
       "    <tr>\n",
       "      <th>13800280</th>\n",
       "      <td>chrM</td>\n",
       "      <td>15547</td>\n",
       "      <td>15847</td>\n",
       "      <td>ENSG00000198727.2</td>\n",
       "      <td>.</td>\n",
       "      <td>+</td>\n",
       "      <td>69660</td>\n",
       "      <td>9659</td>\n",
       "      <td>29247</td>\n",
       "      <td>608916</td>\n",
       "      <td>541008</td>\n",
       "      <td>92383</td>\n",
       "      <td>107683</td>\n",
       "      <td>24885</td>\n",
       "    </tr>\n",
       "    <tr>\n",
       "      <th>13800281</th>\n",
       "      <td>chrM</td>\n",
       "      <td>15647</td>\n",
       "      <td>15887</td>\n",
       "      <td>ENSG00000198727.2</td>\n",
       "      <td>.</td>\n",
       "      <td>+</td>\n",
       "      <td>64675</td>\n",
       "      <td>9019</td>\n",
       "      <td>23412</td>\n",
       "      <td>567753</td>\n",
       "      <td>514752</td>\n",
       "      <td>86913</td>\n",
       "      <td>101927</td>\n",
       "      <td>22927</td>\n",
       "    </tr>\n",
       "    <tr>\n",
       "      <th>13800282</th>\n",
       "      <td>chrM</td>\n",
       "      <td>15747</td>\n",
       "      <td>15887</td>\n",
       "      <td>ENSG00000198727.2</td>\n",
       "      <td>.</td>\n",
       "      <td>+</td>\n",
       "      <td>29685</td>\n",
       "      <td>6007</td>\n",
       "      <td>13815</td>\n",
       "      <td>276546</td>\n",
       "      <td>309839</td>\n",
       "      <td>57881</td>\n",
       "      <td>67280</td>\n",
       "      <td>14521</td>\n",
       "    </tr>\n",
       "    <tr>\n",
       "      <th>13800283</th>\n",
       "      <td>chrM</td>\n",
       "      <td>15847</td>\n",
       "      <td>15887</td>\n",
       "      <td>ENSG00000198727.2</td>\n",
       "      <td>.</td>\n",
       "      <td>+</td>\n",
       "      <td>20206</td>\n",
       "      <td>4260</td>\n",
       "      <td>7553</td>\n",
       "      <td>182773</td>\n",
       "      <td>214444</td>\n",
       "      <td>41026</td>\n",
       "      <td>47634</td>\n",
       "      <td>9854</td>\n",
       "    </tr>\n",
       "  </tbody>\n",
       "</table>\n",
       "<p>13800284 rows × 14 columns</p>\n",
       "</div>"
      ],
      "text/plain": [
       "         chrom  start    end               gene X5 strand  CW30154-hnrnpk  \\\n",
       "0         chr1  65419  65719  ENSG00000186092.7  .      +               0   \n",
       "1         chr1  65519  65819  ENSG00000186092.7  .      +               0   \n",
       "2         chr1  65619  65919  ENSG00000186092.7  .      +               0   \n",
       "3         chr1  65719  66019  ENSG00000186092.7  .      +               0   \n",
       "4         chr1  65819  66119  ENSG00000186092.7  .      +               0   \n",
       "...        ...    ...    ...                ... ..    ...             ...   \n",
       "13800279  chrM  15447  15747  ENSG00000198727.2  .      +           78292   \n",
       "13800280  chrM  15547  15847  ENSG00000198727.2  .      +           69660   \n",
       "13800281  chrM  15647  15887  ENSG00000198727.2  .      +           64675   \n",
       "13800282  chrM  15747  15887  ENSG00000198727.2  .      +           29685   \n",
       "13800283  chrM  15847  15887  ENSG00000198727.2  .      +           20206   \n",
       "\n",
       "          CW30154-input  hnrnpa1-rep1  hnrnpk-rep1  hnrnpk-rep2  input-rep1  \\\n",
       "0                     0             0            0            0           0   \n",
       "1                     0             0            0            0           0   \n",
       "2                     0             0            0            0           0   \n",
       "3                     0             0            0            0           0   \n",
       "4                     0             0            0            0           0   \n",
       "...                 ...           ...          ...          ...         ...   \n",
       "13800279          10783         37243       685023       583759      100210   \n",
       "13800280           9659         29247       608916       541008       92383   \n",
       "13800281           9019         23412       567753       514752       86913   \n",
       "13800282           6007         13815       276546       309839       57881   \n",
       "13800283           4260          7553       182773       214444       41026   \n",
       "\n",
       "          input-rep2  rbfox2-rep2  \n",
       "0                  0            0  \n",
       "1                  0            0  \n",
       "2                  0            0  \n",
       "3                  0            0  \n",
       "4                  0            0  \n",
       "...              ...          ...  \n",
       "13800279      116039        28846  \n",
       "13800280      107683        24885  \n",
       "13800281      101927        22927  \n",
       "13800282       67280        14521  \n",
       "13800283       47634         9854  \n",
       "\n",
       "[13800284 rows x 14 columns]"
      ]
     },
     "execution_count": 2,
     "metadata": {},
     "output_type": "execute_result"
    }
   ],
   "source": [
    "IP_col = RBP.lower() + \"-\" + rep\n",
    "input_col = \"input-\" + rep\n",
    "\n",
    "dat_file = \"/gpfs/commons/home/mschertzer/asb_model/220708_all_ipsc_ip/enrichment_values/all_data_gencode_v41_300w_100s.txt.gz\"\n",
    "dat = pd.read_csv(dat_file, sep = \"\\t\")\n",
    "dat.rename(columns={\"X1\":\"chrom\",\"X2\":\"start\",\"X3\":\"end\",\"X4\":\"gene\",\"X6\":\"strand\"}, inplace=True)\n",
    "dat"
   ]
  },
  {
   "cell_type": "code",
   "execution_count": 3,
   "metadata": {},
   "outputs": [],
   "source": [
    "dat[\"hnrnpk-both\"] = dat[\"hnrnpk-rep1\"] + dat[\"hnrnpk-rep2\"]\n",
    "dat[\"input-both\"] = dat[\"input-rep1\"] + dat[\"input-rep2\"]"
   ]
  },
  {
   "cell_type": "code",
   "execution_count": 4,
   "metadata": {},
   "outputs": [
    {
     "data": {
      "text/plain": [
       "hnrnpa1-rep1    1191470049\n",
       "hnrnpk-rep1     1299814470\n",
       "hnrnpk-rep2      877928296\n",
       "input-rep1      1363084884\n",
       "input-rep2      1359492001\n",
       "rbfox2-rep2     1148823603\n",
       "hnrnpk-both     2177742766\n",
       "input-both      2722576885\n",
       "dtype: int64"
      ]
     },
     "execution_count": 4,
     "metadata": {},
     "output_type": "execute_result"
    }
   ],
   "source": [
    "dat.iloc[:,-8:].sum(0)"
   ]
  },
  {
   "cell_type": "code",
   "execution_count": 5,
   "metadata": {},
   "outputs": [],
   "source": [
    "total_count_threshold = 30\n",
    "dat_sub = dat[dat.loc[:,[IP_col,input_col]].sum(1) > total_count_threshold]"
   ]
  },
  {
   "cell_type": "code",
   "execution_count": 6,
   "metadata": {},
   "outputs": [
    {
     "data": {
      "image/png": "[encoded data removed]",
      "text/plain": [
       "<Figure size 432x288 with 1 Axes>"
      ]
     },
     "metadata": {
      "needs_background": "light"
     },
     "output_type": "display_data"
    }
   ],
   "source": [
    "enrich = dat_sub[IP_col] / (dat_sub[input_col] + 1.)\n",
    "_ = plt.hist(np.log10(enrich[enrich>0]), bins = 100)"
   ]
  },
  {
   "cell_type": "code",
   "execution_count": 7,
   "metadata": {},
   "outputs": [
    {
     "data": {
      "text/plain": [
       "0.018809384418389804"
      ]
     },
     "execution_count": 7,
     "metadata": {},
     "output_type": "execute_result"
    }
   ],
   "source": [
    "(enrich > 3.).mean()"
   ]
  },
  {
   "cell_type": "code",
   "execution_count": 8,
   "metadata": {
    "id": "5fcHay8WzoOA"
   },
   "outputs": [],
   "source": [
    "genome = pickle.load(open(\"/gpfs/commons/home/daknowles/knowles_lab/index/hg38/hg38.pkl\",\"rb\")) # this is here in case there's hg38 data you want to analyse"
   ]
  },
  {
   "cell_type": "code",
   "execution_count": 9,
   "metadata": {
    "id": "7Qh2n9ViFAO-"
   },
   "outputs": [
    {
     "data": {
      "image/png": "[encoded data removed]",
      "text/plain": [
       "<Figure size 288x216 with 3 Axes>"
      ]
     },
     "metadata": {
      "needs_background": "light"
     },
     "output_type": "display_data"
    }
   ],
   "source": [
    "if pwm_source == \"oRNAment\":\n",
    "    pwm_dat = np.load(\"/gpfs/commons/home/daknowles/apex_seq/pwms.npz\")\n",
    "    pwm_names = pwm_dat['names']\n",
    "    pwms = pwm_dat['pwms']\n",
    "\n",
    "    pwms[pwms > 0].min()\n",
    "    log_pwms = np.log(pwms + 1e-4)\n",
    "\n",
    "    # Convert to actual PWM\n",
    "    w = torch.tensor(log_pwms, dtype=torch.float).transpose(0,2)\n",
    "    w_norm = w - w.mean(1,keepdims=True)\n",
    "\n",
    "    specific_pwms = w_norm[ np.array([ RBP in g for g in pwm_names ]) ]\n",
    "    specific_pwms.shape\n",
    "else: \n",
    "    base_dir = \"/gpfs/commons/groups/knowles_lab/data/oRNAment/mCross/\"\n",
    "    pwm = np.load(base_dir + \"mCross_pwm.npy\")\n",
    "    meta = pd.read_csv(base_dir + \"pwm_meta.tsv\", sep = \"\\t\")\n",
    "    #specific_motifs = (meta.RBP == RBP) & (meta.Celltype == \"HepG2\").to_numpy()\n",
    "    \n",
    "    specific_motifs = (meta.RBP == RBP) & (meta.Celltype == pwm_source).to_numpy()\n",
    "    specific_pwms = torch.tensor(pwm[specific_motifs,:,:], dtype = torch.float)\n",
    "    specific_pwms -= specific_pwms.mean(1, keepdims=True)\n",
    "\n",
    "biophysnn.plot_motifs(specific_pwms)"
   ]
  },
  {
   "cell_type": "code",
   "execution_count": 10,
   "metadata": {},
   "outputs": [
    {
     "data": {
      "text/html": [
       "<div>\n",
       "<style scoped>\n",
       "    .dataframe tbody tr th:only-of-type {\n",
       "        vertical-align: middle;\n",
       "    }\n",
       "\n",
       "    .dataframe tbody tr th {\n",
       "        vertical-align: top;\n",
       "    }\n",
       "\n",
       "    .dataframe thead th {\n",
       "        text-align: right;\n",
       "    }\n",
       "</style>\n",
       "<table border=\"1\" class=\"dataframe\">\n",
       "  <thead>\n",
       "    <tr style=\"text-align: right;\">\n",
       "      <th></th>\n",
       "      <th>chrom</th>\n",
       "      <th>start</th>\n",
       "      <th>end</th>\n",
       "      <th>gene</th>\n",
       "      <th>X5</th>\n",
       "      <th>strand</th>\n",
       "      <th>CW30154-hnrnpk</th>\n",
       "      <th>CW30154-input</th>\n",
       "      <th>hnrnpa1-rep1</th>\n",
       "      <th>hnrnpk-rep1</th>\n",
       "      <th>hnrnpk-rep2</th>\n",
       "      <th>input-rep1</th>\n",
       "      <th>input_counts</th>\n",
       "      <th>IP_counts</th>\n",
       "      <th>hnrnpk-both</th>\n",
       "      <th>input-both</th>\n",
       "    </tr>\n",
       "  </thead>\n",
       "  <tbody>\n",
       "    <tr>\n",
       "      <th>285</th>\n",
       "      <td>chr1</td>\n",
       "      <td>944203</td>\n",
       "      <td>944503</td>\n",
       "      <td>ENSG00000188976.11</td>\n",
       "      <td>.</td>\n",
       "      <td>-</td>\n",
       "      <td>55</td>\n",
       "      <td>218</td>\n",
       "      <td>982</td>\n",
       "      <td>432</td>\n",
       "      <td>283</td>\n",
       "      <td>1868</td>\n",
       "      <td>1533</td>\n",
       "      <td>1749</td>\n",
       "      <td>715</td>\n",
       "      <td>3401</td>\n",
       "    </tr>\n",
       "    <tr>\n",
       "      <th>287</th>\n",
       "      <td>chr1</td>\n",
       "      <td>944303</td>\n",
       "      <td>944603</td>\n",
       "      <td>ENSG00000188976.11</td>\n",
       "      <td>.</td>\n",
       "      <td>-</td>\n",
       "      <td>53</td>\n",
       "      <td>299</td>\n",
       "      <td>1483</td>\n",
       "      <td>532</td>\n",
       "      <td>326</td>\n",
       "      <td>2529</td>\n",
       "      <td>2178</td>\n",
       "      <td>2342</td>\n",
       "      <td>858</td>\n",
       "      <td>4707</td>\n",
       "    </tr>\n",
       "    <tr>\n",
       "      <th>289</th>\n",
       "      <td>chr1</td>\n",
       "      <td>944403</td>\n",
       "      <td>944703</td>\n",
       "      <td>ENSG00000188976.11</td>\n",
       "      <td>.</td>\n",
       "      <td>-</td>\n",
       "      <td>46</td>\n",
       "      <td>257</td>\n",
       "      <td>1460</td>\n",
       "      <td>494</td>\n",
       "      <td>283</td>\n",
       "      <td>2275</td>\n",
       "      <td>1982</td>\n",
       "      <td>2154</td>\n",
       "      <td>777</td>\n",
       "      <td>4257</td>\n",
       "    </tr>\n",
       "    <tr>\n",
       "      <th>291</th>\n",
       "      <td>chr1</td>\n",
       "      <td>944503</td>\n",
       "      <td>944803</td>\n",
       "      <td>ENSG00000188976.11</td>\n",
       "      <td>.</td>\n",
       "      <td>-</td>\n",
       "      <td>39</td>\n",
       "      <td>189</td>\n",
       "      <td>1174</td>\n",
       "      <td>384</td>\n",
       "      <td>212</td>\n",
       "      <td>1672</td>\n",
       "      <td>1564</td>\n",
       "      <td>1580</td>\n",
       "      <td>596</td>\n",
       "      <td>3236</td>\n",
       "    </tr>\n",
       "    <tr>\n",
       "      <th>293</th>\n",
       "      <td>chr1</td>\n",
       "      <td>944603</td>\n",
       "      <td>944903</td>\n",
       "      <td>ENSG00000188976.11</td>\n",
       "      <td>.</td>\n",
       "      <td>-</td>\n",
       "      <td>24</td>\n",
       "      <td>149</td>\n",
       "      <td>917</td>\n",
       "      <td>308</td>\n",
       "      <td>154</td>\n",
       "      <td>1194</td>\n",
       "      <td>1176</td>\n",
       "      <td>1120</td>\n",
       "      <td>462</td>\n",
       "      <td>2370</td>\n",
       "    </tr>\n",
       "    <tr>\n",
       "      <th>...</th>\n",
       "      <td>...</td>\n",
       "      <td>...</td>\n",
       "      <td>...</td>\n",
       "      <td>...</td>\n",
       "      <td>...</td>\n",
       "      <td>...</td>\n",
       "      <td>...</td>\n",
       "      <td>...</td>\n",
       "      <td>...</td>\n",
       "      <td>...</td>\n",
       "      <td>...</td>\n",
       "      <td>...</td>\n",
       "      <td>...</td>\n",
       "      <td>...</td>\n",
       "      <td>...</td>\n",
       "      <td>...</td>\n",
       "    </tr>\n",
       "    <tr>\n",
       "      <th>13800279</th>\n",
       "      <td>chrM</td>\n",
       "      <td>15447</td>\n",
       "      <td>15747</td>\n",
       "      <td>ENSG00000198727.2</td>\n",
       "      <td>.</td>\n",
       "      <td>+</td>\n",
       "      <td>78292</td>\n",
       "      <td>10783</td>\n",
       "      <td>37243</td>\n",
       "      <td>685023</td>\n",
       "      <td>583759</td>\n",
       "      <td>100210</td>\n",
       "      <td>116039</td>\n",
       "      <td>28846</td>\n",
       "      <td>1268782</td>\n",
       "      <td>216249</td>\n",
       "    </tr>\n",
       "    <tr>\n",
       "      <th>13800280</th>\n",
       "      <td>chrM</td>\n",
       "      <td>15547</td>\n",
       "      <td>15847</td>\n",
       "      <td>ENSG00000198727.2</td>\n",
       "      <td>.</td>\n",
       "      <td>+</td>\n",
       "      <td>69660</td>\n",
       "      <td>9659</td>\n",
       "      <td>29247</td>\n",
       "      <td>608916</td>\n",
       "      <td>541008</td>\n",
       "      <td>92383</td>\n",
       "      <td>107683</td>\n",
       "      <td>24885</td>\n",
       "      <td>1149924</td>\n",
       "      <td>200066</td>\n",
       "    </tr>\n",
       "    <tr>\n",
       "      <th>13800281</th>\n",
       "      <td>chrM</td>\n",
       "      <td>15647</td>\n",
       "      <td>15887</td>\n",
       "      <td>ENSG00000198727.2</td>\n",
       "      <td>.</td>\n",
       "      <td>+</td>\n",
       "      <td>64675</td>\n",
       "      <td>9019</td>\n",
       "      <td>23412</td>\n",
       "      <td>567753</td>\n",
       "      <td>514752</td>\n",
       "      <td>86913</td>\n",
       "      <td>101927</td>\n",
       "      <td>22927</td>\n",
       "      <td>1082505</td>\n",
       "      <td>188840</td>\n",
       "    </tr>\n",
       "    <tr>\n",
       "      <th>13800282</th>\n",
       "      <td>chrM</td>\n",
       "      <td>15747</td>\n",
       "      <td>15887</td>\n",
       "      <td>ENSG00000198727.2</td>\n",
       "      <td>.</td>\n",
       "      <td>+</td>\n",
       "      <td>29685</td>\n",
       "      <td>6007</td>\n",
       "      <td>13815</td>\n",
       "      <td>276546</td>\n",
       "      <td>309839</td>\n",
       "      <td>57881</td>\n",
       "      <td>67280</td>\n",
       "      <td>14521</td>\n",
       "      <td>586385</td>\n",
       "      <td>125161</td>\n",
       "    </tr>\n",
       "    <tr>\n",
       "      <th>13800283</th>\n",
       "      <td>chrM</td>\n",
       "      <td>15847</td>\n",
       "      <td>15887</td>\n",
       "      <td>ENSG00000198727.2</td>\n",
       "      <td>.</td>\n",
       "      <td>+</td>\n",
       "      <td>20206</td>\n",
       "      <td>4260</td>\n",
       "      <td>7553</td>\n",
       "      <td>182773</td>\n",
       "      <td>214444</td>\n",
       "      <td>41026</td>\n",
       "      <td>47634</td>\n",
       "      <td>9854</td>\n",
       "      <td>397217</td>\n",
       "      <td>88660</td>\n",
       "    </tr>\n",
       "  </tbody>\n",
       "</table>\n",
       "<p>7245798 rows × 16 columns</p>\n",
       "</div>"
      ],
      "text/plain": [
       "         chrom   start     end                gene X5 strand  CW30154-hnrnpk  \\\n",
       "285       chr1  944203  944503  ENSG00000188976.11  .      -              55   \n",
       "287       chr1  944303  944603  ENSG00000188976.11  .      -              53   \n",
       "289       chr1  944403  944703  ENSG00000188976.11  .      -              46   \n",
       "291       chr1  944503  944803  ENSG00000188976.11  .      -              39   \n",
       "293       chr1  944603  944903  ENSG00000188976.11  .      -              24   \n",
       "...        ...     ...     ...                 ... ..    ...             ...   \n",
       "13800279  chrM   15447   15747   ENSG00000198727.2  .      +           78292   \n",
       "13800280  chrM   15547   15847   ENSG00000198727.2  .      +           69660   \n",
       "13800281  chrM   15647   15887   ENSG00000198727.2  .      +           64675   \n",
       "13800282  chrM   15747   15887   ENSG00000198727.2  .      +           29685   \n",
       "13800283  chrM   15847   15887   ENSG00000198727.2  .      +           20206   \n",
       "\n",
       "          CW30154-input  hnrnpa1-rep1  hnrnpk-rep1  hnrnpk-rep2  input-rep1  \\\n",
       "285                 218           982          432          283        1868   \n",
       "287                 299          1483          532          326        2529   \n",
       "289                 257          1460          494          283        2275   \n",
       "291                 189          1174          384          212        1672   \n",
       "293                 149           917          308          154        1194   \n",
       "...                 ...           ...          ...          ...         ...   \n",
       "13800279          10783         37243       685023       583759      100210   \n",
       "13800280           9659         29247       608916       541008       92383   \n",
       "13800281           9019         23412       567753       514752       86913   \n",
       "13800282           6007         13815       276546       309839       57881   \n",
       "13800283           4260          7553       182773       214444       41026   \n",
       "\n",
       "          input_counts  IP_counts  hnrnpk-both  input-both  \n",
       "285               1533       1749          715        3401  \n",
       "287               2178       2342          858        4707  \n",
       "289               1982       2154          777        4257  \n",
       "291               1564       1580          596        3236  \n",
       "293               1176       1120          462        2370  \n",
       "...                ...        ...          ...         ...  \n",
       "13800279        116039      28846      1268782      216249  \n",
       "13800280        107683      24885      1149924      200066  \n",
       "13800281        101927      22927      1082505      188840  \n",
       "13800282         67280      14521       586385      125161  \n",
       "13800283         47634       9854       397217       88660  \n",
       "\n",
       "[7245798 rows x 16 columns]"
      ]
     },
     "execution_count": 10,
     "metadata": {},
     "output_type": "execute_result"
    }
   ],
   "source": [
    "bind_all = dat_sub.rename(columns={IP_col : \"IP_counts\", input_col : \"input_counts\" })\n",
    "bind_all"
   ]
  },
  {
   "cell_type": "code",
   "execution_count": 11,
   "metadata": {
    "id": "80imMbLs0Wxx"
   },
   "outputs": [
    {
     "data": {
      "text/plain": [
       "(0.09032076246122235, 0.1527853798850037)"
      ]
     },
     "execution_count": 11,
     "metadata": {},
     "output_type": "execute_result"
    }
   ],
   "source": [
    "test_chromosomes = [\"chr1\"]\n",
    "test_data = bind_all[ bind_all['chrom'].isin( test_chromosomes ) ]\n",
    "\n",
    "validation_chromosomes = [\"chr2\",\"chr3\"]\n",
    "validation_data = bind_all[ bind_all['chrom'].isin(validation_chromosomes) ]\n",
    "\n",
    "train_chromosomes = [\"chr%i\" % i for i in range(4, 22+1)]\n",
    "train_data = bind_all[ bind_all['chrom'].isin( train_chromosomes ) ]\n",
    "\n",
    "test_data.shape[0] / bind_all.shape[0], validation_data.shape[0] / bind_all.shape[0]"
   ]
  },
  {
   "cell_type": "code",
   "execution_count": 12,
   "metadata": {},
   "outputs": [],
   "source": [
    "\n",
    "phys_net = motifscanner.PhysNet(specific_pwms, \n",
    "                                max_over_positions = False, \n",
    "                                max_over_motifs = False, \n",
    "                                seq_len = 300)\n",
    "check_point_filename = \"predict_enrich_checkpoints/%s_%s.pt\" % (RBP, pwm_source)\n",
    "\n",
    "if os.path.isfile(check_point_filename): \n",
    "    phys_net.load_state_dict(torch.load(check_point_filename)) \n",
    "else: \n",
    "    train_metrics, val_metrics =  biophysnn.train_model(\n",
    "       phys_net,\n",
    "       train_data, \n",
    "       validation_data, \n",
    "       genome, \n",
    "       num_workers = 8,\n",
    "       regression = True,\n",
    "       verbose = True, \n",
    "       check_point_filename = check_point_filename,\n",
    "       lr = 0.1)"
   ]
  },
  {
   "cell_type": "code",
   "execution_count": 13,
   "metadata": {},
   "outputs": [
    {
     "data": {
      "text/plain": [
       "{'motif_scale_unc': Parameter containing:\n",
       " tensor([1., 1., 1.], requires_grad=True),\n",
       " 'motif_offset': Parameter containing:\n",
       " tensor([0., 0., 0.], requires_grad=True),\n",
       " 'scale_unc': Parameter containing:\n",
       " tensor(1., requires_grad=True),\n",
       " 'offset': Parameter containing:\n",
       " tensor(0., requires_grad=True)}"
      ]
     },
     "execution_count": 13,
     "metadata": {},
     "output_type": "execute_result"
    }
   ],
   "source": [
    "{ k:v for k,v in phys_net.named_parameters() }"
   ]
  },
  {
   "cell_type": "code",
   "execution_count": 14,
   "metadata": {},
   "outputs": [],
   "source": [
    "val_metrics, preds, labels, enrichs  = biophysnn.eval_model(phys_net, validation_data, genome, regression = True)"
   ]
  },
  {
   "cell_type": "code",
   "execution_count": 15,
   "metadata": {},
   "outputs": [
    {
     "data": {
      "text/plain": [
       "array([0.78571427, 0.75233644, 0.9162996 , ..., 0.7419355 , 0.75      ,\n",
       "       0.6097561 ], dtype=float32)"
      ]
     },
     "execution_count": 15,
     "metadata": {},
     "output_type": "execute_result"
    }
   ],
   "source": [
    "enrichs"
   ]
  },
  {
   "cell_type": "code",
   "execution_count": 16,
   "metadata": {},
   "outputs": [
    {
     "data": {
      "text/plain": [
       "(0.12994627326977878, 0.0)"
      ]
     },
     "execution_count": 16,
     "metadata": {},
     "output_type": "execute_result"
    }
   ],
   "source": [
    "scipy.stats.pearsonr(np.exp(preds), enrichs)"
   ]
  },
  {
   "cell_type": "code",
   "execution_count": 17,
   "metadata": {},
   "outputs": [],
   "source": [
    "pd.DataFrame(val_metrics._asdict(), index=[0]).to_csv(\n",
    "    \"predict_enrich_notebooks/metrics_%s_%s.tsv\" % (RBP, pwm_source), sep = \"\\t\", index = False)"
   ]
  },
  {
   "cell_type": "code",
   "execution_count": 18,
   "metadata": {},
   "outputs": [
    {
     "data": {
      "text/plain": [
       "Text(0, 0.5, 'Observed enrichment')"
      ]
     },
     "execution_count": 18,
     "metadata": {},
     "output_type": "execute_result"
    },
    {
     "data": {
      "image/png": "[encoded data removed]",
      "text/plain": [
       "<Figure size 432x288 with 1 Axes>"
      ]
     },
     "metadata": {
      "needs_background": "light"
     },
     "output_type": "display_data"
    }
   ],
   "source": [
    "plt.scatter(np.exp(preds), enrichs, alpha=0.05)\n",
    "plt.xlabel(\"Predicted enrichment\")\n",
    "plt.ylabel(\"Observed enrichment\")"
   ]
  },
  {
   "cell_type": "code",
   "execution_count": 19,
   "metadata": {},
   "outputs": [],
   "source": [
    "#sns.kdeplot(np.exp(preds), enrichs)\n",
    "#plt.xlabel(\"Predicted enrichment\")\n",
    "#plt.ylabel(\"Observed enrichment\")"
   ]
  },
  {
   "cell_type": "code",
   "execution_count": 20,
   "metadata": {},
   "outputs": [
    {
     "name": "stderr",
     "output_type": "stream",
     "text": [
      "<ipython-input-20-3515f55d9f21>:1: RuntimeWarning: divide by zero encountered in log2\n",
      "  plt.scatter(np.log2(np.exp(preds)), np.log2(enrichs), color = \"black\", alpha=0.005) # separate by gene regions\n"
     ]
    },
    {
     "data": {
      "text/plain": [
       "Text(0, 0.5, 'log2 Observed enrichment')"
      ]
     },
     "execution_count": 20,
     "metadata": {},
     "output_type": "execute_result"
    },
    {
     "data": {
      "image/png": "[encoded data removed]",
      "text/plain": [
       "<Figure size 432x288 with 1 Axes>"
      ]
     },
     "metadata": {
      "needs_background": "light"
     },
     "output_type": "display_data"
    }
   ],
   "source": [
    "plt.scatter(np.log2(np.exp(preds)), np.log2(enrichs), color = \"black\", alpha=0.005) # separate by gene regions\n",
    "plt.xlabel(\"log2 Predicted enrichment\")\n",
    "plt.ylabel(\"log2 Observed enrichment\")"
   ]
  },
  {
   "cell_type": "code",
   "execution_count": 21,
   "metadata": {},
   "outputs": [
    {
     "data": {
      "image/png": "[encoded data removed]",
      "text/plain": [
       "<Figure size 432x288 with 1 Axes>"
      ]
     },
     "metadata": {
      "needs_background": "light"
     },
     "output_type": "display_data"
    }
   ],
   "source": [
    "try: \n",
    "    sns.kdeplot(preds, np.log(enrichs + 0.01))\n",
    "    plt.xlabel(\"Predicted enrichment\")\n",
    "    plt.ylabel(\"Observed enrichment\")\n",
    "except: \n",
    "    pass"
   ]
  },
  {
   "cell_type": "markdown",
   "metadata": {},
   "source": [
    "## How well do we do on predicting peaks? "
   ]
  },
  {
   "cell_type": "code",
   "execution_count": 25,
   "metadata": {},
   "outputs": [
    {
     "name": "stderr",
     "output_type": "stream",
     "text": [
      "/gpfs/commons/home/daknowles/.conda/envs/asb/lib/python3.8/site-packages/pandas/util/_decorators.py:311: ParserWarning: Length of header or names does not match length of data. This leads to a loss of data with index_col=False.\n",
      "  return func(*args, **kwargs)\n"
     ]
    }
   ],
   "source": [
    "rep = \"_rep2\"\n",
    "basedir = \"/gpfs/commons/home/mschertzer/asb_model/220708_all_ipsc_ip/alignments/macs/\"\n",
    "peak_file = basedir + (\"all_%s%s_stranded_noigg.narrowPeak\" % (RBP.lower(), rep))\n",
    "binding_data = pd.read_csv(peak_file, sep='\\t', usecols=range(6), names=(\"chrom\",\"start\",\"end\",\"name\",\"score\",\"strand\"))\n",
    "binding_data = binding_data[ ~binding_data['chrom'].isin([\"chrX\",\"chrY\"]) ] # only keep autosomes (non sex chromosomes)\n",
    "binding_data = binding_data.sort_values(['chrom', 'start']).drop_duplicates() # sort so we can interleave negatives\n",
    "\n",
    "unbound = pd.read_csv(\"/gpfs/commons/home/daknowles/pooledRBPs/biophysical_cnn/unbound_regions/%s_unbound.bed.gz\" % RBP, \n",
    "              sep = \"\\t\", \n",
    "              names = [\"chrom\", \"start\", \"end\", \"name\", \"strand\", \"counts\", \"length\"],\n",
    "              index_col = False)\n",
    "\n",
    "unbound[\"score\"] = 0\n",
    "bind_all = pd.concat([binding_data,\n",
    "           unbound.loc[:, ~unbound.columns.isin(['counts', 'length'])]], \n",
    "          axis=0)\n",
    "\n",
    "test_chromosomes = [\"chr1\"]\n",
    "test_data = bind_all[ bind_all['chrom'].isin( test_chromosomes ) ]\n",
    "\n",
    "validation_chromosomes = [\"chr2\",\"chr3\"]\n",
    "validation_data = bind_all[ bind_all['chrom'].isin(validation_chromosomes) ]\n",
    "\n",
    "train_chromosomes = [\"chr%i\" % i for i in range(4, 22+1)]\n",
    "train_data = bind_all[ bind_all['chrom'].isin( train_chromosomes ) ]\n"
   ]
  },
  {
   "cell_type": "code",
   "execution_count": 29,
   "metadata": {},
   "outputs": [
    {
     "data": {
      "text/plain": [
       "EpochMetrics(loss=24.034588, acc=0.5017497812773404, auroc=0.6264570327180957, aupr=0.6583464202978083)"
      ]
     },
     "execution_count": 29,
     "metadata": {},
     "output_type": "execute_result"
    }
   ],
   "source": [
    "val_metrics, _, _, _ = biophysnn.eval_model(phys_net, validation_data, genome, regression = False)\n",
    "val_metrics"
   ]
  },
  {
   "cell_type": "code",
   "execution_count": null,
   "metadata": {},
   "outputs": [],
   "source": []
  }
 ],
 "metadata": {
  "kernelspec": {
   "display_name": "Python 3",
   "language": "python",
   "name": "python3"
  },
  "language_info": {
   "codemirror_mode": {
    "name": "ipython",
    "version": 3
   },
   "file_extension": ".py",
   "mimetype": "text/x-python",
   "name": "python",
   "nbconvert_exporter": "python",
   "pygments_lexer": "ipython3",
   "version": "3.8.0"
  }
 },
 "nbformat": 4,
 "nbformat_minor": 4
}
