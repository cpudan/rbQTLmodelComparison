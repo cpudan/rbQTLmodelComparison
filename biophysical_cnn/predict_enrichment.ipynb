{
 "cells": [
  {
   "cell_type": "code",
   "execution_count": 36,
   "metadata": {
    "colab": {
     "base_uri": "https://localhost:8080/",
     "height": 218
    },
    "id": "8fPmCgelY66c",
    "outputId": "69405d1e-2ef2-4da4-9121-84dda09a9215"
   },
   "outputs": [
    {
     "data": {
      "text/plain": [
       "<module 'biophysnn' from '/gpfs/commons/home/daknowles/pooledRBPs/biophysical_cnn/biophysnn.py'>"
      ]
     },
     "execution_count": 36,
     "metadata": {},
     "output_type": "execute_result"
    }
   ],
   "source": [
    "import torch\n",
    "import torch.nn as nn\n",
    "import torch.nn.functional as F\n",
    "import torch.utils.data\n",
    "\n",
    "import pandas as pd\n",
    "import numpy as np\n",
    "import matplotlib.pyplot as plt\n",
    "import pickle\n",
    "import os.path\n",
    "import biophysnn\n",
    "import motifscanner\n",
    "import scipy.stats\n",
    "import seaborn as sns\n",
    "\n",
    "from importlib import reload\n",
    "reload(biophysnn)"
   ]
  },
  {
   "cell_type": "code",
   "execution_count": 2,
   "metadata": {},
   "outputs": [],
   "source": [
    "dat_file = \"/gpfs/commons/home/mschertzer/asb_model/220708_all_ipsc_ip/enrichment_values/all_data_gencode_v41_300w_100s.txt.gz\"\n",
    "dat = pd.read_csv(dat_file, sep = \"\\t\")\n",
    "dat.rename(columns={\"X1\":\"chrom\",\"X2\":\"start\",\"X3\":\"end\",\"X4\":\"gene\",\"X6\":\"strand\"}, inplace=True)\n",
    "dat"
   ]
  },
  {
   "cell_type": "code",
   "execution_count": 10,
   "metadata": {},
   "outputs": [
    {
     "data": {
      "text/plain": [
       "CW30154-hnrnpk     176895383\n",
       "CW30154-input      212786538\n",
       "hnrnpa1-rep1      1191470049\n",
       "hnrnpk-rep1       1299814470\n",
       "hnrnpk-rep2        877928296\n",
       "input-rep1        1363084884\n",
       "input-rep2        1359492001\n",
       "rbfox2-rep2       1148823603\n",
       "dtype: int64"
      ]
     },
     "execution_count": 10,
     "metadata": {},
     "output_type": "execute_result"
    }
   ],
   "source": [
    "dat.iloc[:,-8:].sum(0)"
   ]
  },
  {
   "cell_type": "code",
   "execution_count": 4,
   "metadata": {},
   "outputs": [],
   "source": [
    "IP_col = \"hnrnpk-rep1\"\n",
    "input_col = \"input-rep1\""
   ]
  },
  {
   "cell_type": "code",
   "execution_count": 15,
   "metadata": {},
   "outputs": [],
   "source": [
    "total_count_threshold = 30\n",
    "dat_sub = dat[dat.loc[:,[IP_col,input_col]].sum(1) > total_count_threshold]"
   ]
  },
  {
   "cell_type": "code",
   "execution_count": 50,
   "metadata": {},
   "outputs": [
    {
     "data": {
      "image/png": "[encoded data removed]",
      "text/plain": [
       "<Figure size 432x288 with 1 Axes>"
      ]
     },
     "metadata": {
      "needs_background": "light"
     },
     "output_type": "display_data"
    }
   ],
   "source": [
    "enrich = dat_sub[IP_col] / (dat_sub[input_col] + 1.)\n",
    "_ = plt.hist(np.log10(enrich[enrich>0]), bins = 100)"
   ]
  },
  {
   "cell_type": "code",
   "execution_count": 53,
   "metadata": {},
   "outputs": [
    {
     "data": {
      "text/plain": [
       "0.09415465885947047"
      ]
     },
     "execution_count": 53,
     "metadata": {},
     "output_type": "execute_result"
    }
   ],
   "source": [
    "(enrich > 3.).mean()"
   ]
  },
  {
   "cell_type": "code",
   "execution_count": 6,
   "metadata": {
    "id": "5fcHay8WzoOA"
   },
   "outputs": [],
   "source": [
    "genome = pickle.load(open(\"/gpfs/commons/home/daknowles/knowles_lab/index/hg38/hg38.pkl\",\"rb\")) # this is here in case there's hg38 data you want to analyse"
   ]
  },
  {
   "cell_type": "code",
   "execution_count": 7,
   "metadata": {
    "id": "7Qh2n9ViFAO-"
   },
   "outputs": [
    {
     "data": {
      "text/plain": [
       "torch.Size([453, 4, 7])"
      ]
     },
     "execution_count": 7,
     "metadata": {},
     "output_type": "execute_result"
    }
   ],
   "source": [
    "pwm_dat = np.load(\"/gpfs/commons/home/daknowles/apex_seq/pwms.npz\")\n",
    "pwm_names = pwm_dat['names']\n",
    "pwms = pwm_dat['pwms']\n",
    "\n",
    "pwms[pwms > 0].min()\n",
    "log_pwms = np.log(pwms + 1e-4)\n",
    "\n",
    "# Convert to actual PWM\n",
    "w = torch.tensor(log_pwms, dtype=torch.float).transpose(0,2)\n",
    "w_norm = w - w.mean(1,keepdims=True)\n",
    "\n",
    "w_norm.shape"
   ]
  },
  {
   "cell_type": "code",
   "execution_count": 8,
   "metadata": {
    "id": "dXicEWQ8FXxh"
   },
   "outputs": [
    {
     "data": {
      "text/plain": [
       "torch.Size([5, 4, 7])"
      ]
     },
     "execution_count": 8,
     "metadata": {},
     "output_type": "execute_result"
    }
   ],
   "source": [
    "specific_pwms = w_norm[ np.array([ \"HNRNPK\" in g for g in pwm_names ]) ]\n",
    "specific_pwms.shape"
   ]
  },
  {
   "cell_type": "code",
   "execution_count": 18,
   "metadata": {},
   "outputs": [
    {
     "data": {
      "text/html": [
       "<div>\n",
       "<style scoped>\n",
       "    .dataframe tbody tr th:only-of-type {\n",
       "        vertical-align: middle;\n",
       "    }\n",
       "\n",
       "    .dataframe tbody tr th {\n",
       "        vertical-align: top;\n",
       "    }\n",
       "\n",
       "    .dataframe thead th {\n",
       "        text-align: right;\n",
       "    }\n",
       "</style>\n",
       "<table border=\"1\" class=\"dataframe\">\n",
       "  <thead>\n",
       "    <tr style=\"text-align: right;\">\n",
       "      <th></th>\n",
       "      <th>chrom</th>\n",
       "      <th>start</th>\n",
       "      <th>end</th>\n",
       "      <th>gene</th>\n",
       "      <th>X5</th>\n",
       "      <th>strand</th>\n",
       "      <th>CW30154-hnrnpk</th>\n",
       "      <th>CW30154-input</th>\n",
       "      <th>hnrnpa1-rep1</th>\n",
       "      <th>IP_counts</th>\n",
       "      <th>hnrnpk-rep2</th>\n",
       "      <th>input_counts</th>\n",
       "      <th>input-rep2</th>\n",
       "      <th>rbfox2-rep2</th>\n",
       "    </tr>\n",
       "  </thead>\n",
       "  <tbody>\n",
       "    <tr>\n",
       "      <th>285</th>\n",
       "      <td>chr1</td>\n",
       "      <td>944203</td>\n",
       "      <td>944503</td>\n",
       "      <td>ENSG00000188976.11</td>\n",
       "      <td>.</td>\n",
       "      <td>-</td>\n",
       "      <td>55</td>\n",
       "      <td>218</td>\n",
       "      <td>982</td>\n",
       "      <td>432</td>\n",
       "      <td>283</td>\n",
       "      <td>1868</td>\n",
       "      <td>1533</td>\n",
       "      <td>1749</td>\n",
       "    </tr>\n",
       "    <tr>\n",
       "      <th>287</th>\n",
       "      <td>chr1</td>\n",
       "      <td>944303</td>\n",
       "      <td>944603</td>\n",
       "      <td>ENSG00000188976.11</td>\n",
       "      <td>.</td>\n",
       "      <td>-</td>\n",
       "      <td>53</td>\n",
       "      <td>299</td>\n",
       "      <td>1483</td>\n",
       "      <td>532</td>\n",
       "      <td>326</td>\n",
       "      <td>2529</td>\n",
       "      <td>2178</td>\n",
       "      <td>2342</td>\n",
       "    </tr>\n",
       "    <tr>\n",
       "      <th>289</th>\n",
       "      <td>chr1</td>\n",
       "      <td>944403</td>\n",
       "      <td>944703</td>\n",
       "      <td>ENSG00000188976.11</td>\n",
       "      <td>.</td>\n",
       "      <td>-</td>\n",
       "      <td>46</td>\n",
       "      <td>257</td>\n",
       "      <td>1460</td>\n",
       "      <td>494</td>\n",
       "      <td>283</td>\n",
       "      <td>2275</td>\n",
       "      <td>1982</td>\n",
       "      <td>2154</td>\n",
       "    </tr>\n",
       "    <tr>\n",
       "      <th>291</th>\n",
       "      <td>chr1</td>\n",
       "      <td>944503</td>\n",
       "      <td>944803</td>\n",
       "      <td>ENSG00000188976.11</td>\n",
       "      <td>.</td>\n",
       "      <td>-</td>\n",
       "      <td>39</td>\n",
       "      <td>189</td>\n",
       "      <td>1174</td>\n",
       "      <td>384</td>\n",
       "      <td>212</td>\n",
       "      <td>1672</td>\n",
       "      <td>1564</td>\n",
       "      <td>1580</td>\n",
       "    </tr>\n",
       "    <tr>\n",
       "      <th>293</th>\n",
       "      <td>chr1</td>\n",
       "      <td>944603</td>\n",
       "      <td>944903</td>\n",
       "      <td>ENSG00000188976.11</td>\n",
       "      <td>.</td>\n",
       "      <td>-</td>\n",
       "      <td>24</td>\n",
       "      <td>149</td>\n",
       "      <td>917</td>\n",
       "      <td>308</td>\n",
       "      <td>154</td>\n",
       "      <td>1194</td>\n",
       "      <td>1176</td>\n",
       "      <td>1120</td>\n",
       "    </tr>\n",
       "    <tr>\n",
       "      <th>...</th>\n",
       "      <td>...</td>\n",
       "      <td>...</td>\n",
       "      <td>...</td>\n",
       "      <td>...</td>\n",
       "      <td>...</td>\n",
       "      <td>...</td>\n",
       "      <td>...</td>\n",
       "      <td>...</td>\n",
       "      <td>...</td>\n",
       "      <td>...</td>\n",
       "      <td>...</td>\n",
       "      <td>...</td>\n",
       "      <td>...</td>\n",
       "      <td>...</td>\n",
       "    </tr>\n",
       "    <tr>\n",
       "      <th>13800279</th>\n",
       "      <td>chrM</td>\n",
       "      <td>15447</td>\n",
       "      <td>15747</td>\n",
       "      <td>ENSG00000198727.2</td>\n",
       "      <td>.</td>\n",
       "      <td>+</td>\n",
       "      <td>78292</td>\n",
       "      <td>10783</td>\n",
       "      <td>37243</td>\n",
       "      <td>685023</td>\n",
       "      <td>583759</td>\n",
       "      <td>100210</td>\n",
       "      <td>116039</td>\n",
       "      <td>28846</td>\n",
       "    </tr>\n",
       "    <tr>\n",
       "      <th>13800280</th>\n",
       "      <td>chrM</td>\n",
       "      <td>15547</td>\n",
       "      <td>15847</td>\n",
       "      <td>ENSG00000198727.2</td>\n",
       "      <td>.</td>\n",
       "      <td>+</td>\n",
       "      <td>69660</td>\n",
       "      <td>9659</td>\n",
       "      <td>29247</td>\n",
       "      <td>608916</td>\n",
       "      <td>541008</td>\n",
       "      <td>92383</td>\n",
       "      <td>107683</td>\n",
       "      <td>24885</td>\n",
       "    </tr>\n",
       "    <tr>\n",
       "      <th>13800281</th>\n",
       "      <td>chrM</td>\n",
       "      <td>15647</td>\n",
       "      <td>15887</td>\n",
       "      <td>ENSG00000198727.2</td>\n",
       "      <td>.</td>\n",
       "      <td>+</td>\n",
       "      <td>64675</td>\n",
       "      <td>9019</td>\n",
       "      <td>23412</td>\n",
       "      <td>567753</td>\n",
       "      <td>514752</td>\n",
       "      <td>86913</td>\n",
       "      <td>101927</td>\n",
       "      <td>22927</td>\n",
       "    </tr>\n",
       "    <tr>\n",
       "      <th>13800282</th>\n",
       "      <td>chrM</td>\n",
       "      <td>15747</td>\n",
       "      <td>15887</td>\n",
       "      <td>ENSG00000198727.2</td>\n",
       "      <td>.</td>\n",
       "      <td>+</td>\n",
       "      <td>29685</td>\n",
       "      <td>6007</td>\n",
       "      <td>13815</td>\n",
       "      <td>276546</td>\n",
       "      <td>309839</td>\n",
       "      <td>57881</td>\n",
       "      <td>67280</td>\n",
       "      <td>14521</td>\n",
       "    </tr>\n",
       "    <tr>\n",
       "      <th>13800283</th>\n",
       "      <td>chrM</td>\n",
       "      <td>15847</td>\n",
       "      <td>15887</td>\n",
       "      <td>ENSG00000198727.2</td>\n",
       "      <td>.</td>\n",
       "      <td>+</td>\n",
       "      <td>20206</td>\n",
       "      <td>4260</td>\n",
       "      <td>7553</td>\n",
       "      <td>182773</td>\n",
       "      <td>214444</td>\n",
       "      <td>41026</td>\n",
       "      <td>47634</td>\n",
       "      <td>9854</td>\n",
       "    </tr>\n",
       "  </tbody>\n",
       "</table>\n",
       "<p>7856000 rows × 14 columns</p>\n",
       "</div>"
      ],
      "text/plain": [
       "         chrom   start     end                gene X5 strand  CW30154-hnrnpk  \\\n",
       "285       chr1  944203  944503  ENSG00000188976.11  .      -              55   \n",
       "287       chr1  944303  944603  ENSG00000188976.11  .      -              53   \n",
       "289       chr1  944403  944703  ENSG00000188976.11  .      -              46   \n",
       "291       chr1  944503  944803  ENSG00000188976.11  .      -              39   \n",
       "293       chr1  944603  944903  ENSG00000188976.11  .      -              24   \n",
       "...        ...     ...     ...                 ... ..    ...             ...   \n",
       "13800279  chrM   15447   15747   ENSG00000198727.2  .      +           78292   \n",
       "13800280  chrM   15547   15847   ENSG00000198727.2  .      +           69660   \n",
       "13800281  chrM   15647   15887   ENSG00000198727.2  .      +           64675   \n",
       "13800282  chrM   15747   15887   ENSG00000198727.2  .      +           29685   \n",
       "13800283  chrM   15847   15887   ENSG00000198727.2  .      +           20206   \n",
       "\n",
       "          CW30154-input  hnrnpa1-rep1  IP_counts  hnrnpk-rep2  input_counts  \\\n",
       "285                 218           982        432          283          1868   \n",
       "287                 299          1483        532          326          2529   \n",
       "289                 257          1460        494          283          2275   \n",
       "291                 189          1174        384          212          1672   \n",
       "293                 149           917        308          154          1194   \n",
       "...                 ...           ...        ...          ...           ...   \n",
       "13800279          10783         37243     685023       583759        100210   \n",
       "13800280           9659         29247     608916       541008         92383   \n",
       "13800281           9019         23412     567753       514752         86913   \n",
       "13800282           6007         13815     276546       309839         57881   \n",
       "13800283           4260          7553     182773       214444         41026   \n",
       "\n",
       "          input-rep2  rbfox2-rep2  \n",
       "285             1533         1749  \n",
       "287             2178         2342  \n",
       "289             1982         2154  \n",
       "291             1564         1580  \n",
       "293             1176         1120  \n",
       "...              ...          ...  \n",
       "13800279      116039        28846  \n",
       "13800280      107683        24885  \n",
       "13800281      101927        22927  \n",
       "13800282       67280        14521  \n",
       "13800283       47634         9854  \n",
       "\n",
       "[7856000 rows x 14 columns]"
      ]
     },
     "execution_count": 18,
     "metadata": {},
     "output_type": "execute_result"
    }
   ],
   "source": [
    "bind_all = dat_sub.rename(columns={\"hnrnpk-rep1\" : \"IP_counts\", \"input-rep1\" : \"input_counts\" })\n",
    "bind_all"
   ]
  },
  {
   "cell_type": "code",
   "execution_count": 19,
   "metadata": {
    "id": "80imMbLs0Wxx"
   },
   "outputs": [
    {
     "data": {
      "text/plain": [
       "(0.0903495417515275, 0.1534408095723014)"
      ]
     },
     "execution_count": 19,
     "metadata": {},
     "output_type": "execute_result"
    }
   ],
   "source": [
    "test_chromosomes = [\"chr1\"]\n",
    "test_data = bind_all[ bind_all['chrom'].isin( test_chromosomes ) ]\n",
    "\n",
    "validation_chromosomes = [\"chr2\",\"chr3\"]\n",
    "validation_data = bind_all[ bind_all['chrom'].isin(validation_chromosomes) ]\n",
    "\n",
    "train_chromosomes = [\"chr%i\" % i for i in range(4, 22+1)]\n",
    "train_data = bind_all[ bind_all['chrom'].isin( train_chromosomes ) ]\n",
    "\n",
    "test_data.shape[0] / bind_all.shape[0], validation_data.shape[0] / bind_all.shape[0]"
   ]
  },
  {
   "cell_type": "code",
   "execution_count": 89,
   "metadata": {},
   "outputs": [
    {
     "name": "stdout",
     "output_type": "stream",
     "text": [
      "Epoch 1 took 144.29s. Train loss: 6.0247 acc: 0.0297 auc 0.780. Val loss: 5.1455 acc: 0.4309 auc 0.818. Patience left: 10\n",
      "Epoch 2 took 146.19s. Train loss: 5.3073 acc: 0.4301 auc 0.807. Val loss: 5.1461 acc: 0.4352 auc 0.818. Patience left: 9\n",
      "Epoch 3 took 143.52s. Train loss: 5.3046 acc: 0.4336 auc 0.808. Val loss: 5.1616 acc: 0.4362 auc 0.818. Patience left: 8\n",
      "Epoch 4 took 139.46s. Train loss: 5.3047 acc: 0.4342 auc 0.808. Val loss: 5.1679 acc: 0.4347 auc 0.818. Patience left: 7\n",
      "Epoch 5 took 140.06s. Train loss: 5.3047 acc: 0.4341 auc 0.808. Val loss: 5.1603 acc: 0.4372 auc 0.819. Patience left: 6\n",
      "Epoch 6 took 140.50s. Train loss: 5.3043 acc: 0.4343 auc 0.808. Val loss: 5.1429 acc: 0.4372 auc 0.818. Patience left: 10\n",
      "Epoch 7 took 139.57s. Train loss: 5.3039 acc: 0.4347 auc 0.808. Val loss: 5.1427 acc: 0.4364 auc 0.818. Patience left: 10\n",
      "Epoch 8 took 139.95s. Train loss: 5.3046 acc: 0.4342 auc 0.808. Val loss: 5.1418 acc: 0.4369 auc 0.818. Patience left: 10\n",
      "Epoch 9 took 140.44s. Train loss: 5.3040 acc: 0.4346 auc 0.808. Val loss: 5.1637 acc: 0.4360 auc 0.818. Patience left: 9\n"
     ]
    },
    {
     "ename": "KeyboardInterrupt",
     "evalue": "",
     "output_type": "error",
     "traceback": [
      "\u001b[0;31m---------------------------------------------------------------------------\u001b[0m",
      "\u001b[0;31mKeyboardInterrupt\u001b[0m                         Traceback (most recent call last)",
      "\u001b[0;32m<ipython-input-89-09e6de53b315>\u001b[0m in \u001b[0;36m<module>\u001b[0;34m\u001b[0m\n\u001b[1;32m      8\u001b[0m                                 seq_len = 300)\n\u001b[1;32m      9\u001b[0m \u001b[0mcheck_point_filename\u001b[0m \u001b[0;34m=\u001b[0m \u001b[0;34m\"regression.pt\"\u001b[0m\u001b[0;34m\u001b[0m\u001b[0;34m\u001b[0m\u001b[0m\n\u001b[0;32m---> 10\u001b[0;31m train_accs, val_accs, train_aucs, val_aucs =  biophysnn.train_model(phys_net,\n\u001b[0m\u001b[1;32m     11\u001b[0m                                                                     \u001b[0mtrain_data\u001b[0m\u001b[0;34m,\u001b[0m\u001b[0;34m\u001b[0m\u001b[0;34m\u001b[0m\u001b[0m\n\u001b[1;32m     12\u001b[0m                                                            \u001b[0mvalidation_data\u001b[0m\u001b[0;34m,\u001b[0m\u001b[0;34m\u001b[0m\u001b[0;34m\u001b[0m\u001b[0m\n",
      "\u001b[0;32m~/pooledRBPs/biophysical_cnn/biophysnn.py\u001b[0m in \u001b[0;36mtrain_model\u001b[0;34m(model, train_data, validation_data, genome, regression, epochs, patience, verbose, num_workers, annealing_schedule, check_point_filename, **kwargs)\u001b[0m\n\u001b[1;32m    246\u001b[0m         \u001b[0mtrain_loss\u001b[0m\u001b[0;34m,\u001b[0m \u001b[0mtrain_acc\u001b[0m\u001b[0;34m,\u001b[0m \u001b[0mtrain_auc\u001b[0m \u001b[0;34m=\u001b[0m \u001b[0mrun_one_epoch\u001b[0m\u001b[0;34m(\u001b[0m\u001b[0mtrain_dataloader\u001b[0m\u001b[0;34m,\u001b[0m \u001b[0mmodel\u001b[0m\u001b[0;34m,\u001b[0m \u001b[0moptimizer\u001b[0m\u001b[0;34m,\u001b[0m \u001b[0mregression\u001b[0m \u001b[0;34m=\u001b[0m \u001b[0mregression\u001b[0m\u001b[0;34m)\u001b[0m\u001b[0;34m\u001b[0m\u001b[0;34m\u001b[0m\u001b[0m\n\u001b[1;32m    247\u001b[0m         \u001b[0mnp\u001b[0m\u001b[0;34m.\u001b[0m\u001b[0mrandom\u001b[0m\u001b[0;34m.\u001b[0m\u001b[0mseed\u001b[0m\u001b[0;34m(\u001b[0m\u001b[0;36m0\u001b[0m\u001b[0;34m)\u001b[0m \u001b[0;31m# for consistent randomness in validation\u001b[0m\u001b[0;34m\u001b[0m\u001b[0;34m\u001b[0m\u001b[0m\n\u001b[0;32m--> 248\u001b[0;31m         \u001b[0mval_loss\u001b[0m\u001b[0;34m,\u001b[0m \u001b[0mval_acc\u001b[0m\u001b[0;34m,\u001b[0m \u001b[0mval_auc\u001b[0m \u001b[0;34m=\u001b[0m \u001b[0mrun_one_epoch\u001b[0m\u001b[0;34m(\u001b[0m\u001b[0mvalidation_dataloader\u001b[0m\u001b[0;34m,\u001b[0m \u001b[0mmodel\u001b[0m\u001b[0;34m,\u001b[0m \u001b[0moptimizer\u001b[0m \u001b[0;34m=\u001b[0m \u001b[0;32mNone\u001b[0m\u001b[0;34m,\u001b[0m \u001b[0mregression\u001b[0m \u001b[0;34m=\u001b[0m \u001b[0mregression\u001b[0m\u001b[0;34m)\u001b[0m\u001b[0;34m\u001b[0m\u001b[0;34m\u001b[0m\u001b[0m\n\u001b[0m\u001b[1;32m    249\u001b[0m         \u001b[0mtrain_accs\u001b[0m\u001b[0;34m.\u001b[0m\u001b[0mappend\u001b[0m\u001b[0;34m(\u001b[0m\u001b[0mtrain_acc\u001b[0m\u001b[0;34m)\u001b[0m\u001b[0;34m\u001b[0m\u001b[0;34m\u001b[0m\u001b[0m\n\u001b[1;32m    250\u001b[0m         \u001b[0mval_accs\u001b[0m\u001b[0;34m.\u001b[0m\u001b[0mappend\u001b[0m\u001b[0;34m(\u001b[0m\u001b[0mval_acc\u001b[0m\u001b[0;34m)\u001b[0m\u001b[0;34m\u001b[0m\u001b[0;34m\u001b[0m\u001b[0m\n",
      "\u001b[0;32m~/pooledRBPs/biophysical_cnn/biophysnn.py\u001b[0m in \u001b[0;36mrun_one_epoch\u001b[0;34m(dataloader, model, optimizer, regression)\u001b[0m\n\u001b[1;32m    150\u001b[0m     \u001b[0mdevice\u001b[0m \u001b[0;34m=\u001b[0m \u001b[0mnext\u001b[0m\u001b[0;34m(\u001b[0m\u001b[0mmodel\u001b[0m\u001b[0;34m.\u001b[0m\u001b[0mparameters\u001b[0m\u001b[0;34m(\u001b[0m\u001b[0;34m)\u001b[0m\u001b[0;34m)\u001b[0m\u001b[0;34m.\u001b[0m\u001b[0mdevice\u001b[0m\u001b[0;34m\u001b[0m\u001b[0;34m\u001b[0m\u001b[0m\n\u001b[1;32m    151\u001b[0m \u001b[0;34m\u001b[0m\u001b[0m\n\u001b[0;32m--> 152\u001b[0;31m     \u001b[0;32mfor\u001b[0m \u001b[0mbatch\u001b[0m \u001b[0;32min\u001b[0m \u001b[0mdataloader\u001b[0m\u001b[0;34m:\u001b[0m \u001b[0;31m# collection of tuples with iterator\u001b[0m\u001b[0;34m\u001b[0m\u001b[0;34m\u001b[0m\u001b[0m\n\u001b[0m\u001b[1;32m    153\u001b[0m \u001b[0;34m\u001b[0m\u001b[0m\n\u001b[1;32m    154\u001b[0m         \u001b[0mbatch\u001b[0m \u001b[0;34m=\u001b[0m \u001b[0;34m[\u001b[0m \u001b[0mg\u001b[0m\u001b[0;34m.\u001b[0m\u001b[0mto\u001b[0m\u001b[0;34m(\u001b[0m\u001b[0mdevice\u001b[0m\u001b[0;34m)\u001b[0m \u001b[0;32mfor\u001b[0m \u001b[0mg\u001b[0m \u001b[0;32min\u001b[0m \u001b[0mbatch\u001b[0m \u001b[0;34m]\u001b[0m \u001b[0;31m# transfer data to GPU\u001b[0m\u001b[0;34m\u001b[0m\u001b[0;34m\u001b[0m\u001b[0m\n",
      "\u001b[0;32m~/.conda/envs/asb/lib/python3.8/site-packages/torch/utils/data/dataloader.py\u001b[0m in \u001b[0;36m__next__\u001b[0;34m(self)\u001b[0m\n\u001b[1;32m    519\u001b[0m             \u001b[0;32mif\u001b[0m \u001b[0mself\u001b[0m\u001b[0;34m.\u001b[0m\u001b[0m_sampler_iter\u001b[0m \u001b[0;32mis\u001b[0m \u001b[0;32mNone\u001b[0m\u001b[0;34m:\u001b[0m\u001b[0;34m\u001b[0m\u001b[0;34m\u001b[0m\u001b[0m\n\u001b[1;32m    520\u001b[0m                 \u001b[0mself\u001b[0m\u001b[0;34m.\u001b[0m\u001b[0m_reset\u001b[0m\u001b[0;34m(\u001b[0m\u001b[0;34m)\u001b[0m\u001b[0;34m\u001b[0m\u001b[0;34m\u001b[0m\u001b[0m\n\u001b[0;32m--> 521\u001b[0;31m             \u001b[0mdata\u001b[0m \u001b[0;34m=\u001b[0m \u001b[0mself\u001b[0m\u001b[0;34m.\u001b[0m\u001b[0m_next_data\u001b[0m\u001b[0;34m(\u001b[0m\u001b[0;34m)\u001b[0m\u001b[0;34m\u001b[0m\u001b[0;34m\u001b[0m\u001b[0m\n\u001b[0m\u001b[1;32m    522\u001b[0m             \u001b[0mself\u001b[0m\u001b[0;34m.\u001b[0m\u001b[0m_num_yielded\u001b[0m \u001b[0;34m+=\u001b[0m \u001b[0;36m1\u001b[0m\u001b[0;34m\u001b[0m\u001b[0;34m\u001b[0m\u001b[0m\n\u001b[1;32m    523\u001b[0m             \u001b[0;32mif\u001b[0m \u001b[0mself\u001b[0m\u001b[0;34m.\u001b[0m\u001b[0m_dataset_kind\u001b[0m \u001b[0;34m==\u001b[0m \u001b[0m_DatasetKind\u001b[0m\u001b[0;34m.\u001b[0m\u001b[0mIterable\u001b[0m \u001b[0;32mand\u001b[0m\u001b[0;31m \u001b[0m\u001b[0;31m\\\u001b[0m\u001b[0;34m\u001b[0m\u001b[0;34m\u001b[0m\u001b[0m\n",
      "\u001b[0;32m~/.conda/envs/asb/lib/python3.8/site-packages/torch/utils/data/dataloader.py\u001b[0m in \u001b[0;36m_next_data\u001b[0;34m(self)\u001b[0m\n\u001b[1;32m   1201\u001b[0m             \u001b[0;32melse\u001b[0m\u001b[0;34m:\u001b[0m\u001b[0;34m\u001b[0m\u001b[0;34m\u001b[0m\u001b[0m\n\u001b[1;32m   1202\u001b[0m                 \u001b[0;32mdel\u001b[0m \u001b[0mself\u001b[0m\u001b[0;34m.\u001b[0m\u001b[0m_task_info\u001b[0m\u001b[0;34m[\u001b[0m\u001b[0midx\u001b[0m\u001b[0;34m]\u001b[0m\u001b[0;34m\u001b[0m\u001b[0;34m\u001b[0m\u001b[0m\n\u001b[0;32m-> 1203\u001b[0;31m                 \u001b[0;32mreturn\u001b[0m \u001b[0mself\u001b[0m\u001b[0;34m.\u001b[0m\u001b[0m_process_data\u001b[0m\u001b[0;34m(\u001b[0m\u001b[0mdata\u001b[0m\u001b[0;34m)\u001b[0m\u001b[0;34m\u001b[0m\u001b[0;34m\u001b[0m\u001b[0m\n\u001b[0m\u001b[1;32m   1204\u001b[0m \u001b[0;34m\u001b[0m\u001b[0m\n\u001b[1;32m   1205\u001b[0m     \u001b[0;32mdef\u001b[0m \u001b[0m_try_put_index\u001b[0m\u001b[0;34m(\u001b[0m\u001b[0mself\u001b[0m\u001b[0;34m)\u001b[0m\u001b[0;34m:\u001b[0m\u001b[0;34m\u001b[0m\u001b[0;34m\u001b[0m\u001b[0m\n",
      "\u001b[0;32m~/.conda/envs/asb/lib/python3.8/site-packages/torch/utils/data/dataloader.py\u001b[0m in \u001b[0;36m_process_data\u001b[0;34m(self, data)\u001b[0m\n\u001b[1;32m   1225\u001b[0m     \u001b[0;32mdef\u001b[0m \u001b[0m_process_data\u001b[0m\u001b[0;34m(\u001b[0m\u001b[0mself\u001b[0m\u001b[0;34m,\u001b[0m \u001b[0mdata\u001b[0m\u001b[0;34m)\u001b[0m\u001b[0;34m:\u001b[0m\u001b[0;34m\u001b[0m\u001b[0;34m\u001b[0m\u001b[0m\n\u001b[1;32m   1226\u001b[0m         \u001b[0mself\u001b[0m\u001b[0;34m.\u001b[0m\u001b[0m_rcvd_idx\u001b[0m \u001b[0;34m+=\u001b[0m \u001b[0;36m1\u001b[0m\u001b[0;34m\u001b[0m\u001b[0;34m\u001b[0m\u001b[0m\n\u001b[0;32m-> 1227\u001b[0;31m         \u001b[0mself\u001b[0m\u001b[0;34m.\u001b[0m\u001b[0m_try_put_index\u001b[0m\u001b[0;34m(\u001b[0m\u001b[0;34m)\u001b[0m\u001b[0;34m\u001b[0m\u001b[0;34m\u001b[0m\u001b[0m\n\u001b[0m\u001b[1;32m   1228\u001b[0m         \u001b[0;32mif\u001b[0m \u001b[0misinstance\u001b[0m\u001b[0;34m(\u001b[0m\u001b[0mdata\u001b[0m\u001b[0;34m,\u001b[0m \u001b[0mExceptionWrapper\u001b[0m\u001b[0;34m)\u001b[0m\u001b[0;34m:\u001b[0m\u001b[0;34m\u001b[0m\u001b[0;34m\u001b[0m\u001b[0m\n\u001b[1;32m   1229\u001b[0m             \u001b[0mdata\u001b[0m\u001b[0;34m.\u001b[0m\u001b[0mreraise\u001b[0m\u001b[0;34m(\u001b[0m\u001b[0;34m)\u001b[0m\u001b[0;34m\u001b[0m\u001b[0;34m\u001b[0m\u001b[0m\n",
      "\u001b[0;32m~/.conda/envs/asb/lib/python3.8/site-packages/torch/utils/data/dataloader.py\u001b[0m in \u001b[0;36m_try_put_index\u001b[0;34m(self)\u001b[0m\n\u001b[1;32m   1204\u001b[0m \u001b[0;34m\u001b[0m\u001b[0m\n\u001b[1;32m   1205\u001b[0m     \u001b[0;32mdef\u001b[0m \u001b[0m_try_put_index\u001b[0m\u001b[0;34m(\u001b[0m\u001b[0mself\u001b[0m\u001b[0;34m)\u001b[0m\u001b[0;34m:\u001b[0m\u001b[0;34m\u001b[0m\u001b[0;34m\u001b[0m\u001b[0m\n\u001b[0;32m-> 1206\u001b[0;31m         \u001b[0;32massert\u001b[0m \u001b[0mself\u001b[0m\u001b[0;34m.\u001b[0m\u001b[0m_tasks_outstanding\u001b[0m \u001b[0;34m<\u001b[0m \u001b[0mself\u001b[0m\u001b[0;34m.\u001b[0m\u001b[0m_prefetch_factor\u001b[0m \u001b[0;34m*\u001b[0m \u001b[0mself\u001b[0m\u001b[0;34m.\u001b[0m\u001b[0m_num_workers\u001b[0m\u001b[0;34m\u001b[0m\u001b[0;34m\u001b[0m\u001b[0m\n\u001b[0m\u001b[1;32m   1207\u001b[0m \u001b[0;34m\u001b[0m\u001b[0m\n\u001b[1;32m   1208\u001b[0m         \u001b[0;32mtry\u001b[0m\u001b[0;34m:\u001b[0m\u001b[0;34m\u001b[0m\u001b[0;34m\u001b[0m\u001b[0m\n",
      "\u001b[0;31mKeyboardInterrupt\u001b[0m: "
     ]
    }
   ],
   "source": [
    "import biophysnn\n",
    "import bindingdata\n",
    "reload(biophysnn)\n",
    "reload(bindingdata)\n",
    "phys_net = motifscanner.PhysNet(specific_pwms, \n",
    "                                max_over_positions = False, \n",
    "                                max_over_motifs = False, \n",
    "                                seq_len = 300)\n",
    "check_point_filename = \"regression.pt\"\n",
    "train_accs, val_accs, train_aucs, val_aucs =  biophysnn.train_model(phys_net,\n",
    "                                                                    train_data, \n",
    "                                                           validation_data, \n",
    "                                                           genome, \n",
    "                                                           num_workers = 8,\n",
    "                                                           regression = True,\n",
    "                                                           verbose = True, \n",
    "                                                           check_point_filename = check_point_filename,\n",
    "                                                           lr = 0.1)"
   ]
  },
  {
   "cell_type": "code",
   "execution_count": 91,
   "metadata": {},
   "outputs": [
    {
     "data": {
      "text/plain": [
       "{'motif_scale_unc': Parameter containing:\n",
       " tensor([-1.0569, -5.2064, -4.0267, -2.8991, -0.4268], device='cuda:0',\n",
       "        requires_grad=True),\n",
       " 'motif_offset': Parameter containing:\n",
       " tensor([-7.8896, -9.2472, -7.3999, -6.0438, -8.2521], device='cuda:0',\n",
       "        requires_grad=True),\n",
       " 'scale_unc': Parameter containing:\n",
       " tensor(1.9611, device='cuda:0', requires_grad=True),\n",
       " 'offset': Parameter containing:\n",
       " tensor(-1.1965, device='cuda:0', requires_grad=True)}"
      ]
     },
     "execution_count": 91,
     "metadata": {},
     "output_type": "execute_result"
    }
   ],
   "source": [
    "{k:v for k,v in phys_net.named_parameters() }"
   ]
  },
  {
   "cell_type": "code",
   "execution_count": 22,
   "metadata": {},
   "outputs": [],
   "source": [
    "phys_net = motifscanner.PhysNet(specific_pwms, \n",
    "                                max_over_positions = False, \n",
    "                                max_over_motifs = False, \n",
    "                                seq_len = 300)\n",
    "check_point_filename = \"regression.pt\"\n",
    "phys_net.load_state_dict(torch.load(check_point_filename))\n",
    "_, _, val_auc, preds, labels, enrichs  = biophysnn.eval_model(phys_net, validation_data, genome, regression = True)"
   ]
  },
  {
   "cell_type": "code",
   "execution_count": 95,
   "metadata": {},
   "outputs": [
    {
     "data": {
      "text/plain": [
       "(1205431,)"
      ]
     },
     "execution_count": 95,
     "metadata": {},
     "output_type": "execute_result"
    }
   ],
   "source": [
    "preds.shape"
   ]
  },
  {
   "cell_type": "code",
   "execution_count": 96,
   "metadata": {},
   "outputs": [
    {
     "data": {
      "text/plain": [
       "array([0.27272728, 0.31578946, 0.35435435, ..., 0.484375  , 0.52      ,\n",
       "       0.55263156], dtype=float32)"
      ]
     },
     "execution_count": 96,
     "metadata": {},
     "output_type": "execute_result"
    }
   ],
   "source": [
    "enrichs"
   ]
  },
  {
   "cell_type": "code",
   "execution_count": 25,
   "metadata": {},
   "outputs": [
    {
     "data": {
      "text/plain": [
       "(0.46706726075518984, 0.0)"
      ]
     },
     "execution_count": 25,
     "metadata": {},
     "output_type": "execute_result"
    }
   ],
   "source": [
    "scipy.stats.pearsonr(np.exp(preds), enrichs)"
   ]
  },
  {
   "cell_type": "code",
   "execution_count": 26,
   "metadata": {},
   "outputs": [
    {
     "data": {
      "text/plain": [
       "Text(0, 0.5, 'Observed enrichment')"
      ]
     },
     "execution_count": 26,
     "metadata": {},
     "output_type": "execute_result"
    },
    {
     "data": {
      "image/png": "[encoded data removed]",
      "text/plain": [
       "<Figure size 432x288 with 1 Axes>"
      ]
     },
     "metadata": {
      "needs_background": "light"
     },
     "output_type": "display_data"
    }
   ],
   "source": [
    "plt.scatter(np.exp(preds), enrichs, alpha=0.05)\n",
    "plt.xlabel(\"Predicted enrichment\")\n",
    "plt.ylabel(\"Observed enrichment\")"
   ]
  },
  {
   "cell_type": "code",
   "execution_count": null,
   "metadata": {},
   "outputs": [],
   "source": [
    "sns.kdeplot(np.exp(preds), enrichs)\n",
    "plt.xlabel(\"Predicted enrichment\")\n",
    "plt.ylabel(\"Observed enrichment\")"
   ]
  },
  {
   "cell_type": "code",
   "execution_count": 60,
   "metadata": {},
   "outputs": [
    {
     "name": "stderr",
     "output_type": "stream",
     "text": [
      "<ipython-input-60-3515f55d9f21>:1: RuntimeWarning: divide by zero encountered in log2\n",
      "  plt.scatter(np.log2(np.exp(preds)), np.log2(enrichs), color = \"black\", alpha=0.005) # separate by gene regions\n"
     ]
    },
    {
     "data": {
      "text/plain": [
       "Text(0, 0.5, 'log2 Observed enrichment')"
      ]
     },
     "execution_count": 60,
     "metadata": {},
     "output_type": "execute_result"
    },
    {
     "data": {
      "image/png": "[encoded data removed]",
      "text/plain": [
       "<Figure size 432x288 with 1 Axes>"
      ]
     },
     "metadata": {
      "needs_background": "light"
     },
     "output_type": "display_data"
    }
   ],
   "source": [
    "plt.scatter(np.log2(np.exp(preds)), np.log2(enrichs), color = \"black\", alpha=0.005) # separate by gene regions\n",
    "plt.xlabel(\"log2 Predicted enrichment\")\n",
    "plt.ylabel(\"log2 Observed enrichment\")"
   ]
  },
  {
   "cell_type": "code",
   "execution_count": 39,
   "metadata": {},
   "outputs": [
    {
     "data": {
      "text/plain": [
       "Text(0, 0.5, 'Observed enrichment')"
      ]
     },
     "execution_count": 39,
     "metadata": {},
     "output_type": "execute_result"
    },
    {
     "data": {
      "image/png": "[encoded data removed]",
      "text/plain": [
       "<Figure size 432x288 with 1 Axes>"
      ]
     },
     "metadata": {
      "needs_background": "light"
     },
     "output_type": "display_data"
    }
   ],
   "source": [
    "sns.kdeplot(preds, np.log(enrichs + 0.01))\n",
    "plt.xlabel(\"Predicted enrichment\")\n",
    "plt.ylabel(\"Observed enrichment\")"
   ]
  },
  {
   "cell_type": "markdown",
   "metadata": {},
   "source": [
    "## Correlate enrichments"
   ]
  },
  {
   "cell_type": "code",
   "execution_count": 42,
   "metadata": {},
   "outputs": [
    {
     "data": {
      "text/html": [
       "<div>\n",
       "<style scoped>\n",
       "    .dataframe tbody tr th:only-of-type {\n",
       "        vertical-align: middle;\n",
       "    }\n",
       "\n",
       "    .dataframe tbody tr th {\n",
       "        vertical-align: top;\n",
       "    }\n",
       "\n",
       "    .dataframe thead th {\n",
       "        text-align: right;\n",
       "    }\n",
       "</style>\n",
       "<table border=\"1\" class=\"dataframe\">\n",
       "  <thead>\n",
       "    <tr style=\"text-align: right;\">\n",
       "      <th></th>\n",
       "      <th>chrom</th>\n",
       "      <th>start</th>\n",
       "      <th>end</th>\n",
       "      <th>gene</th>\n",
       "      <th>X5</th>\n",
       "      <th>strand</th>\n",
       "      <th>CW30154-hnrnpk</th>\n",
       "      <th>CW30154-input</th>\n",
       "      <th>hnrnpa1-rep1</th>\n",
       "      <th>hnrnpk-rep1</th>\n",
       "      <th>hnrnpk-rep2</th>\n",
       "      <th>input-rep1</th>\n",
       "      <th>input-rep2</th>\n",
       "      <th>rbfox2-rep2</th>\n",
       "    </tr>\n",
       "  </thead>\n",
       "  <tbody>\n",
       "    <tr>\n",
       "      <th>0</th>\n",
       "      <td>chr1</td>\n",
       "      <td>65419</td>\n",
       "      <td>65719</td>\n",
       "      <td>ENSG00000186092.7</td>\n",
       "      <td>.</td>\n",
       "      <td>+</td>\n",
       "      <td>0</td>\n",
       "      <td>0</td>\n",
       "      <td>0</td>\n",
       "      <td>0</td>\n",
       "      <td>0</td>\n",
       "      <td>0</td>\n",
       "      <td>0</td>\n",
       "      <td>0</td>\n",
       "    </tr>\n",
       "    <tr>\n",
       "      <th>1</th>\n",
       "      <td>chr1</td>\n",
       "      <td>65519</td>\n",
       "      <td>65819</td>\n",
       "      <td>ENSG00000186092.7</td>\n",
       "      <td>.</td>\n",
       "      <td>+</td>\n",
       "      <td>0</td>\n",
       "      <td>0</td>\n",
       "      <td>0</td>\n",
       "      <td>0</td>\n",
       "      <td>0</td>\n",
       "      <td>0</td>\n",
       "      <td>0</td>\n",
       "      <td>0</td>\n",
       "    </tr>\n",
       "    <tr>\n",
       "      <th>2</th>\n",
       "      <td>chr1</td>\n",
       "      <td>65619</td>\n",
       "      <td>65919</td>\n",
       "      <td>ENSG00000186092.7</td>\n",
       "      <td>.</td>\n",
       "      <td>+</td>\n",
       "      <td>0</td>\n",
       "      <td>0</td>\n",
       "      <td>0</td>\n",
       "      <td>0</td>\n",
       "      <td>0</td>\n",
       "      <td>0</td>\n",
       "      <td>0</td>\n",
       "      <td>0</td>\n",
       "    </tr>\n",
       "    <tr>\n",
       "      <th>3</th>\n",
       "      <td>chr1</td>\n",
       "      <td>65719</td>\n",
       "      <td>66019</td>\n",
       "      <td>ENSG00000186092.7</td>\n",
       "      <td>.</td>\n",
       "      <td>+</td>\n",
       "      <td>0</td>\n",
       "      <td>0</td>\n",
       "      <td>0</td>\n",
       "      <td>0</td>\n",
       "      <td>0</td>\n",
       "      <td>0</td>\n",
       "      <td>0</td>\n",
       "      <td>0</td>\n",
       "    </tr>\n",
       "    <tr>\n",
       "      <th>4</th>\n",
       "      <td>chr1</td>\n",
       "      <td>65819</td>\n",
       "      <td>66119</td>\n",
       "      <td>ENSG00000186092.7</td>\n",
       "      <td>.</td>\n",
       "      <td>+</td>\n",
       "      <td>0</td>\n",
       "      <td>0</td>\n",
       "      <td>0</td>\n",
       "      <td>0</td>\n",
       "      <td>0</td>\n",
       "      <td>0</td>\n",
       "      <td>0</td>\n",
       "      <td>0</td>\n",
       "    </tr>\n",
       "    <tr>\n",
       "      <th>...</th>\n",
       "      <td>...</td>\n",
       "      <td>...</td>\n",
       "      <td>...</td>\n",
       "      <td>...</td>\n",
       "      <td>...</td>\n",
       "      <td>...</td>\n",
       "      <td>...</td>\n",
       "      <td>...</td>\n",
       "      <td>...</td>\n",
       "      <td>...</td>\n",
       "      <td>...</td>\n",
       "      <td>...</td>\n",
       "      <td>...</td>\n",
       "      <td>...</td>\n",
       "    </tr>\n",
       "    <tr>\n",
       "      <th>13800279</th>\n",
       "      <td>chrM</td>\n",
       "      <td>15447</td>\n",
       "      <td>15747</td>\n",
       "      <td>ENSG00000198727.2</td>\n",
       "      <td>.</td>\n",
       "      <td>+</td>\n",
       "      <td>78292</td>\n",
       "      <td>10783</td>\n",
       "      <td>37243</td>\n",
       "      <td>685023</td>\n",
       "      <td>583759</td>\n",
       "      <td>100210</td>\n",
       "      <td>116039</td>\n",
       "      <td>28846</td>\n",
       "    </tr>\n",
       "    <tr>\n",
       "      <th>13800280</th>\n",
       "      <td>chrM</td>\n",
       "      <td>15547</td>\n",
       "      <td>15847</td>\n",
       "      <td>ENSG00000198727.2</td>\n",
       "      <td>.</td>\n",
       "      <td>+</td>\n",
       "      <td>69660</td>\n",
       "      <td>9659</td>\n",
       "      <td>29247</td>\n",
       "      <td>608916</td>\n",
       "      <td>541008</td>\n",
       "      <td>92383</td>\n",
       "      <td>107683</td>\n",
       "      <td>24885</td>\n",
       "    </tr>\n",
       "    <tr>\n",
       "      <th>13800281</th>\n",
       "      <td>chrM</td>\n",
       "      <td>15647</td>\n",
       "      <td>15887</td>\n",
       "      <td>ENSG00000198727.2</td>\n",
       "      <td>.</td>\n",
       "      <td>+</td>\n",
       "      <td>64675</td>\n",
       "      <td>9019</td>\n",
       "      <td>23412</td>\n",
       "      <td>567753</td>\n",
       "      <td>514752</td>\n",
       "      <td>86913</td>\n",
       "      <td>101927</td>\n",
       "      <td>22927</td>\n",
       "    </tr>\n",
       "    <tr>\n",
       "      <th>13800282</th>\n",
       "      <td>chrM</td>\n",
       "      <td>15747</td>\n",
       "      <td>15887</td>\n",
       "      <td>ENSG00000198727.2</td>\n",
       "      <td>.</td>\n",
       "      <td>+</td>\n",
       "      <td>29685</td>\n",
       "      <td>6007</td>\n",
       "      <td>13815</td>\n",
       "      <td>276546</td>\n",
       "      <td>309839</td>\n",
       "      <td>57881</td>\n",
       "      <td>67280</td>\n",
       "      <td>14521</td>\n",
       "    </tr>\n",
       "    <tr>\n",
       "      <th>13800283</th>\n",
       "      <td>chrM</td>\n",
       "      <td>15847</td>\n",
       "      <td>15887</td>\n",
       "      <td>ENSG00000198727.2</td>\n",
       "      <td>.</td>\n",
       "      <td>+</td>\n",
       "      <td>20206</td>\n",
       "      <td>4260</td>\n",
       "      <td>7553</td>\n",
       "      <td>182773</td>\n",
       "      <td>214444</td>\n",
       "      <td>41026</td>\n",
       "      <td>47634</td>\n",
       "      <td>9854</td>\n",
       "    </tr>\n",
       "  </tbody>\n",
       "</table>\n",
       "<p>13800284 rows × 14 columns</p>\n",
       "</div>"
      ],
      "text/plain": [
       "         chrom  start    end               gene X5 strand  CW30154-hnrnpk  \\\n",
       "0         chr1  65419  65719  ENSG00000186092.7  .      +               0   \n",
       "1         chr1  65519  65819  ENSG00000186092.7  .      +               0   \n",
       "2         chr1  65619  65919  ENSG00000186092.7  .      +               0   \n",
       "3         chr1  65719  66019  ENSG00000186092.7  .      +               0   \n",
       "4         chr1  65819  66119  ENSG00000186092.7  .      +               0   \n",
       "...        ...    ...    ...                ... ..    ...             ...   \n",
       "13800279  chrM  15447  15747  ENSG00000198727.2  .      +           78292   \n",
       "13800280  chrM  15547  15847  ENSG00000198727.2  .      +           69660   \n",
       "13800281  chrM  15647  15887  ENSG00000198727.2  .      +           64675   \n",
       "13800282  chrM  15747  15887  ENSG00000198727.2  .      +           29685   \n",
       "13800283  chrM  15847  15887  ENSG00000198727.2  .      +           20206   \n",
       "\n",
       "          CW30154-input  hnrnpa1-rep1  hnrnpk-rep1  hnrnpk-rep2  input-rep1  \\\n",
       "0                     0             0            0            0           0   \n",
       "1                     0             0            0            0           0   \n",
       "2                     0             0            0            0           0   \n",
       "3                     0             0            0            0           0   \n",
       "4                     0             0            0            0           0   \n",
       "...                 ...           ...          ...          ...         ...   \n",
       "13800279          10783         37243       685023       583759      100210   \n",
       "13800280           9659         29247       608916       541008       92383   \n",
       "13800281           9019         23412       567753       514752       86913   \n",
       "13800282           6007         13815       276546       309839       57881   \n",
       "13800283           4260          7553       182773       214444       41026   \n",
       "\n",
       "          input-rep2  rbfox2-rep2  \n",
       "0                  0            0  \n",
       "1                  0            0  \n",
       "2                  0            0  \n",
       "3                  0            0  \n",
       "4                  0            0  \n",
       "...              ...          ...  \n",
       "13800279      116039        28846  \n",
       "13800280      107683        24885  \n",
       "13800281      101927        22927  \n",
       "13800282       67280        14521  \n",
       "13800283       47634         9854  \n",
       "\n",
       "[13800284 rows x 14 columns]"
      ]
     },
     "execution_count": 42,
     "metadata": {},
     "output_type": "execute_result"
    }
   ],
   "source": [
    "dat"
   ]
  },
  {
   "cell_type": "code",
   "execution_count": 49,
   "metadata": {},
   "outputs": [],
   "source": [
    "dat_all = dat[(dat[\"input-rep1\"] > 15) & (dat[\"input-rep2\"] > 15)].copy()"
   ]
  },
  {
   "cell_type": "code",
   "execution_count": 50,
   "metadata": {},
   "outputs": [],
   "source": [
    "dat_all[\"hnrnpk_enrich_1\"] = dat[\"hnrnpk-rep1\"] / dat[\"input-rep1\"]\n",
    "dat_all[\"hnrnpk_enrich_2\"] = dat[\"hnrnpk-rep2\"] / dat[\"input-rep2\"]\n",
    "dat_all[\"hnrnpa1_enrich\"] = dat[\"hnrnpa1-rep1\"] / dat[\"input-rep1\"]\n",
    "dat_all[\"rbfox2_enrich\"] = dat[\"rbfox2-rep2\"] / dat[\"input-rep2\"]"
   ]
  },
  {
   "cell_type": "code",
   "execution_count": 51,
   "metadata": {},
   "outputs": [
    {
     "data": {
      "text/html": [
       "<div>\n",
       "<style scoped>\n",
       "    .dataframe tbody tr th:only-of-type {\n",
       "        vertical-align: middle;\n",
       "    }\n",
       "\n",
       "    .dataframe tbody tr th {\n",
       "        vertical-align: top;\n",
       "    }\n",
       "\n",
       "    .dataframe thead th {\n",
       "        text-align: right;\n",
       "    }\n",
       "</style>\n",
       "<table border=\"1\" class=\"dataframe\">\n",
       "  <thead>\n",
       "    <tr style=\"text-align: right;\">\n",
       "      <th></th>\n",
       "      <th>hnrnpk_enrich_1</th>\n",
       "      <th>hnrnpk_enrich_2</th>\n",
       "      <th>hnrnpa1_enrich</th>\n",
       "      <th>rbfox2_enrich</th>\n",
       "    </tr>\n",
       "  </thead>\n",
       "  <tbody>\n",
       "    <tr>\n",
       "      <th>285</th>\n",
       "      <td>0.231263</td>\n",
       "      <td>0.184605</td>\n",
       "      <td>0.525696</td>\n",
       "      <td>1.140900</td>\n",
       "    </tr>\n",
       "    <tr>\n",
       "      <th>287</th>\n",
       "      <td>0.210360</td>\n",
       "      <td>0.149679</td>\n",
       "      <td>0.586398</td>\n",
       "      <td>1.075298</td>\n",
       "    </tr>\n",
       "    <tr>\n",
       "      <th>289</th>\n",
       "      <td>0.217143</td>\n",
       "      <td>0.142785</td>\n",
       "      <td>0.641758</td>\n",
       "      <td>1.086781</td>\n",
       "    </tr>\n",
       "    <tr>\n",
       "      <th>291</th>\n",
       "      <td>0.229665</td>\n",
       "      <td>0.135550</td>\n",
       "      <td>0.702153</td>\n",
       "      <td>1.010230</td>\n",
       "    </tr>\n",
       "    <tr>\n",
       "      <th>293</th>\n",
       "      <td>0.257956</td>\n",
       "      <td>0.130952</td>\n",
       "      <td>0.768007</td>\n",
       "      <td>0.952381</td>\n",
       "    </tr>\n",
       "    <tr>\n",
       "      <th>...</th>\n",
       "      <td>...</td>\n",
       "      <td>...</td>\n",
       "      <td>...</td>\n",
       "      <td>...</td>\n",
       "    </tr>\n",
       "    <tr>\n",
       "      <th>13800279</th>\n",
       "      <td>6.835875</td>\n",
       "      <td>5.030714</td>\n",
       "      <td>0.371650</td>\n",
       "      <td>0.248589</td>\n",
       "    </tr>\n",
       "    <tr>\n",
       "      <th>13800280</th>\n",
       "      <td>6.591213</td>\n",
       "      <td>5.024080</td>\n",
       "      <td>0.316584</td>\n",
       "      <td>0.231095</td>\n",
       "    </tr>\n",
       "    <tr>\n",
       "      <th>13800281</th>\n",
       "      <td>6.532429</td>\n",
       "      <td>5.050203</td>\n",
       "      <td>0.269373</td>\n",
       "      <td>0.224935</td>\n",
       "    </tr>\n",
       "    <tr>\n",
       "      <th>13800282</th>\n",
       "      <td>4.777837</td>\n",
       "      <td>4.605217</td>\n",
       "      <td>0.238679</td>\n",
       "      <td>0.215829</td>\n",
       "    </tr>\n",
       "    <tr>\n",
       "      <th>13800283</th>\n",
       "      <td>4.455053</td>\n",
       "      <td>4.501910</td>\n",
       "      <td>0.184103</td>\n",
       "      <td>0.206869</td>\n",
       "    </tr>\n",
       "  </tbody>\n",
       "</table>\n",
       "<p>7254927 rows × 4 columns</p>\n",
       "</div>"
      ],
      "text/plain": [
       "          hnrnpk_enrich_1  hnrnpk_enrich_2  hnrnpa1_enrich  rbfox2_enrich\n",
       "285              0.231263         0.184605        0.525696       1.140900\n",
       "287              0.210360         0.149679        0.586398       1.075298\n",
       "289              0.217143         0.142785        0.641758       1.086781\n",
       "291              0.229665         0.135550        0.702153       1.010230\n",
       "293              0.257956         0.130952        0.768007       0.952381\n",
       "...                   ...              ...             ...            ...\n",
       "13800279         6.835875         5.030714        0.371650       0.248589\n",
       "13800280         6.591213         5.024080        0.316584       0.231095\n",
       "13800281         6.532429         5.050203        0.269373       0.224935\n",
       "13800282         4.777837         4.605217        0.238679       0.215829\n",
       "13800283         4.455053         4.501910        0.184103       0.206869\n",
       "\n",
       "[7254927 rows x 4 columns]"
      ]
     },
     "execution_count": 51,
     "metadata": {},
     "output_type": "execute_result"
    }
   ],
   "source": []
  },
  {
   "cell_type": "code",
   "execution_count": 54,
   "metadata": {},
   "outputs": [],
   "source": [
    "cor_mat = np.corrcoef(dat_all.iloc[:,-4:].to_numpy().transpose())"
   ]
  },
  {
   "cell_type": "code",
   "execution_count": 56,
   "metadata": {},
   "outputs": [
    {
     "data": {
      "text/plain": [
       "<AxesSubplot:>"
      ]
     },
     "execution_count": 56,
     "metadata": {},
     "output_type": "execute_result"
    },
    {
     "data": {
      "image/png": "[encoded data removed]",
      "text/plain": [
       "<Figure size 432x288 with 2 Axes>"
      ]
     },
     "metadata": {
      "needs_background": "light"
     },
     "output_type": "display_data"
    }
   ],
   "source": [
    "sns.heatmap(dat_all.iloc[:,-4:].corr(), annot=True)"
   ]
  },
  {
   "cell_type": "code",
   "execution_count": 57,
   "metadata": {},
   "outputs": [
    {
     "data": {
      "text/plain": [
       "torch.Size([5, 4, 7])"
      ]
     },
     "execution_count": 57,
     "metadata": {},
     "output_type": "execute_result"
    }
   ],
   "source": [
    "specific_pwms.shape"
   ]
  },
  {
   "cell_type": "code",
   "execution_count": null,
   "metadata": {},
   "outputs": [],
   "source": []
  }
 ],
 "metadata": {
  "kernelspec": {
   "display_name": "Python 3",
   "language": "python",
   "name": "python3"
  },
  "language_info": {
   "codemirror_mode": {
    "name": "ipython",
    "version": 3
   },
   "file_extension": ".py",
   "mimetype": "text/x-python",
   "name": "python",
   "nbconvert_exporter": "python",
   "pygments_lexer": "ipython3",
   "version": "3.8.0"
  }
 },
 "nbformat": 4,
 "nbformat_minor": 4
}
