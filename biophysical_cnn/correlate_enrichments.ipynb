{
 "cells": [
  {
   "cell_type": "code",
   "execution_count": 36,
   "metadata": {
    "colab": {
     "base_uri": "https://localhost:8080/",
     "height": 218
    },
    "id": "8fPmCgelY66c",
    "outputId": "69405d1e-2ef2-4da4-9121-84dda09a9215"
   },
   "outputs": [
    {
     "data": {
      "text/plain": [
       "<module 'biophysnn' from '/gpfs/commons/home/daknowles/pooledRBPs/biophysical_cnn/biophysnn.py'>"
      ]
     },
     "execution_count": 36,
     "metadata": {},
     "output_type": "execute_result"
    }
   ],
   "source": [
    "import numpy as np\n",
    "import matplotlib.pyplot as plt\n",
    "import seaborn as sns"
   ]
  },
  {
   "cell_type": "code",
   "execution_count": 2,
   "metadata": {},
   "outputs": [],
   "source": [
    "dat_file = \"/gpfs/commons/home/mschertzer/asb_model/220708_all_ipsc_ip/enrichment_values/all_data_gencode_v41_300w_100s.txt.gz\"\n",
    "dat = pd.read_csv(dat_file, sep = \"\\t\")\n",
    "dat.rename(columns={\"X1\":\"chrom\",\"X2\":\"start\",\"X3\":\"end\",\"X4\":\"gene\",\"X6\":\"strand\"}, inplace=True)\n",
    "dat"
   ]
  },
  {
   "cell_type": "code",
   "execution_count": 49,
   "metadata": {},
   "outputs": [],
   "source": [
    "dat_all = dat[(dat[\"input-rep1\"] > 15) & (dat[\"input-rep2\"] > 15)].copy()"
   ]
  },
  {
   "cell_type": "code",
   "execution_count": 50,
   "metadata": {},
   "outputs": [],
   "source": [
    "dat_all[\"hnrnpk_enrich_1\"] = dat[\"hnrnpk-rep1\"] / dat[\"input-rep1\"]\n",
    "dat_all[\"hnrnpk_enrich_2\"] = dat[\"hnrnpk-rep2\"] / dat[\"input-rep2\"]\n",
    "dat_all[\"hnrnpa1_enrich\"] = dat[\"hnrnpa1-rep1\"] / dat[\"input-rep1\"]\n",
    "dat_all[\"rbfox2_enrich\"] = dat[\"rbfox2-rep2\"] / dat[\"input-rep2\"]"
   ]
  },
  {
   "cell_type": "code",
   "execution_count": 51,
   "metadata": {},
   "outputs": [
    {
     "data": {
      "text/html": [
       "<div>\n",
       "<style scoped>\n",
       "    .dataframe tbody tr th:only-of-type {\n",
       "        vertical-align: middle;\n",
       "    }\n",
       "\n",
       "    .dataframe tbody tr th {\n",
       "        vertical-align: top;\n",
       "    }\n",
       "\n",
       "    .dataframe thead th {\n",
       "        text-align: right;\n",
       "    }\n",
       "</style>\n",
       "<table border=\"1\" class=\"dataframe\">\n",
       "  <thead>\n",
       "    <tr style=\"text-align: right;\">\n",
       "      <th></th>\n",
       "      <th>hnrnpk_enrich_1</th>\n",
       "      <th>hnrnpk_enrich_2</th>\n",
       "      <th>hnrnpa1_enrich</th>\n",
       "      <th>rbfox2_enrich</th>\n",
       "    </tr>\n",
       "  </thead>\n",
       "  <tbody>\n",
       "    <tr>\n",
       "      <th>285</th>\n",
       "      <td>0.231263</td>\n",
       "      <td>0.184605</td>\n",
       "      <td>0.525696</td>\n",
       "      <td>1.140900</td>\n",
       "    </tr>\n",
       "    <tr>\n",
       "      <th>287</th>\n",
       "      <td>0.210360</td>\n",
       "      <td>0.149679</td>\n",
       "      <td>0.586398</td>\n",
       "      <td>1.075298</td>\n",
       "    </tr>\n",
       "    <tr>\n",
       "      <th>289</th>\n",
       "      <td>0.217143</td>\n",
       "      <td>0.142785</td>\n",
       "      <td>0.641758</td>\n",
       "      <td>1.086781</td>\n",
       "    </tr>\n",
       "    <tr>\n",
       "      <th>291</th>\n",
       "      <td>0.229665</td>\n",
       "      <td>0.135550</td>\n",
       "      <td>0.702153</td>\n",
       "      <td>1.010230</td>\n",
       "    </tr>\n",
       "    <tr>\n",
       "      <th>293</th>\n",
       "      <td>0.257956</td>\n",
       "      <td>0.130952</td>\n",
       "      <td>0.768007</td>\n",
       "      <td>0.952381</td>\n",
       "    </tr>\n",
       "    <tr>\n",
       "      <th>...</th>\n",
       "      <td>...</td>\n",
       "      <td>...</td>\n",
       "      <td>...</td>\n",
       "      <td>...</td>\n",
       "    </tr>\n",
       "    <tr>\n",
       "      <th>13800279</th>\n",
       "      <td>6.835875</td>\n",
       "      <td>5.030714</td>\n",
       "      <td>0.371650</td>\n",
       "      <td>0.248589</td>\n",
       "    </tr>\n",
       "    <tr>\n",
       "      <th>13800280</th>\n",
       "      <td>6.591213</td>\n",
       "      <td>5.024080</td>\n",
       "      <td>0.316584</td>\n",
       "      <td>0.231095</td>\n",
       "    </tr>\n",
       "    <tr>\n",
       "      <th>13800281</th>\n",
       "      <td>6.532429</td>\n",
       "      <td>5.050203</td>\n",
       "      <td>0.269373</td>\n",
       "      <td>0.224935</td>\n",
       "    </tr>\n",
       "    <tr>\n",
       "      <th>13800282</th>\n",
       "      <td>4.777837</td>\n",
       "      <td>4.605217</td>\n",
       "      <td>0.238679</td>\n",
       "      <td>0.215829</td>\n",
       "    </tr>\n",
       "    <tr>\n",
       "      <th>13800283</th>\n",
       "      <td>4.455053</td>\n",
       "      <td>4.501910</td>\n",
       "      <td>0.184103</td>\n",
       "      <td>0.206869</td>\n",
       "    </tr>\n",
       "  </tbody>\n",
       "</table>\n",
       "<p>7254927 rows × 4 columns</p>\n",
       "</div>"
      ],
      "text/plain": [
       "          hnrnpk_enrich_1  hnrnpk_enrich_2  hnrnpa1_enrich  rbfox2_enrich\n",
       "285              0.231263         0.184605        0.525696       1.140900\n",
       "287              0.210360         0.149679        0.586398       1.075298\n",
       "289              0.217143         0.142785        0.641758       1.086781\n",
       "291              0.229665         0.135550        0.702153       1.010230\n",
       "293              0.257956         0.130952        0.768007       0.952381\n",
       "...                   ...              ...             ...            ...\n",
       "13800279         6.835875         5.030714        0.371650       0.248589\n",
       "13800280         6.591213         5.024080        0.316584       0.231095\n",
       "13800281         6.532429         5.050203        0.269373       0.224935\n",
       "13800282         4.777837         4.605217        0.238679       0.215829\n",
       "13800283         4.455053         4.501910        0.184103       0.206869\n",
       "\n",
       "[7254927 rows x 4 columns]"
      ]
     },
     "execution_count": 51,
     "metadata": {},
     "output_type": "execute_result"
    }
   ],
   "source": []
  },
  {
   "cell_type": "code",
   "execution_count": 54,
   "metadata": {},
   "outputs": [],
   "source": [
    "cor_mat = np.corrcoef(dat_all.iloc[:,-4:].to_numpy().transpose())"
   ]
  },
  {
   "cell_type": "code",
   "execution_count": 56,
   "metadata": {},
   "outputs": [
    {
     "data": {
      "text/plain": [
       "<AxesSubplot:>"
      ]
     },
     "execution_count": 56,
     "metadata": {},
     "output_type": "execute_result"
    },
    {
     "data": {
      "image/png": "[encoded data removed]",
      "text/plain": [
       "<Figure size 432x288 with 2 Axes>"
      ]
     },
     "metadata": {
      "needs_background": "light"
     },
     "output_type": "display_data"
    }
   ],
   "source": [
    "sns.heatmap(dat_all.iloc[:,-4:].corr(), annot=True)"
   ]
  }
 ],
 "metadata": {
  "kernelspec": {
   "display_name": "Python 3",
   "language": "python",
   "name": "python3"
  },
  "language_info": {
   "codemirror_mode": {
    "name": "ipython",
    "version": 3
   },
   "file_extension": ".py",
   "mimetype": "text/x-python",
   "name": "python",
   "nbconvert_exporter": "python",
   "pygments_lexer": "ipython3",
   "version": "3.8.0"
  }
 },
 "nbformat": 4,
 "nbformat_minor": 4
}
