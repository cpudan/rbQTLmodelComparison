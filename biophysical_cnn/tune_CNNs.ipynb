{
 "cells": [
  {
   "cell_type": "code",
   "execution_count": 2,
   "metadata": {
    "colab": {
     "base_uri": "https://localhost:8080/",
     "height": 218
    },
    "id": "8fPmCgelY66c",
    "outputId": "69405d1e-2ef2-4da4-9121-84dda09a9215",
    "tags": [
     "parameters"
    ]
   },
   "outputs": [
    {
     "name": "stderr",
     "output_type": "stream",
     "text": [
      "/gpfs/commons/home/daknowles/.conda/envs/asb/lib/python3.8/site-packages/tqdm/auto.py:22: TqdmWarning: IProgress not found. Please update jupyter and ipywidgets. See https://ipywidgets.readthedocs.io/en/stable/user_install.html\n",
      "  from .autonotebook import tqdm as notebook_tqdm\n"
     ]
    }
   ],
   "source": [
    "import torch\n",
    "import torch.nn as nn\n",
    "import torch.nn.functional as F\n",
    "import torch.utils.data\n",
    "\n",
    "import pandas as pd\n",
    "import numpy as np\n",
    "import matplotlib.pyplot as plt\n",
    "import pickle\n",
    "import os.path\n",
    "import biophysnn\n",
    "import biophysnn_raytune\n",
    "import bindingdata\n",
    "\n",
    "from importlib import reload\n",
    "\n",
    "from ray import tune\n",
    "from ray.tune import CLIReporter\n",
    "from ray.tune.schedulers import ASHAScheduler\n",
    "from ray.tune import Analysis\n",
    "\n",
    "RBP = \"HNRNPA1\"\n",
    "rep = \"_rep1\""
   ]
  },
  {
   "cell_type": "code",
   "execution_count": null,
   "metadata": {},
   "outputs": [
    {
     "data": {
      "text/html": [
       "== Status ==<br>Memory usage on this node: 59.0/251.5 GiB<br>Using AsyncHyperBand: num_stopped=0\n",
       "Bracket: Iter 12.000: None | Iter 3.000: None<br>Resources requested: 28/56 CPUs, 0/0 GPUs, 0.0/137.79 GiB heap, 0.0/43.51 GiB objects<br>Result logdir: /gpfs/commons/home/daknowles/ray_results/tuneCNN_HNRNPA1<br>Number of trials: 1/100 (1 RUNNING)<br><table>\n",
       "<thead>\n",
       "<tr><th>Trial name           </th><th>status  </th><th>loc  </th><th style=\"text-align: right;\">  filter_width</th><th style=\"text-align: right;\">  first_filter_width</th><th style=\"text-align: right;\">  first_pool_stride</th><th style=\"text-align: right;\">  num_chunks</th><th style=\"text-align: right;\">  pool_overlap</th><th style=\"text-align: right;\">  pool_stride</th></tr>\n",
       "</thead>\n",
       "<tbody>\n",
       "<tr><td>Trainable_8e993_00000</td><td>RUNNING </td><td>     </td><td style=\"text-align: right;\">             5</td><td style=\"text-align: right;\">                  11</td><td style=\"text-align: right;\">                  4</td><td style=\"text-align: right;\">           5</td><td style=\"text-align: right;\">             5</td><td style=\"text-align: right;\">            3</td></tr>\n",
       "</tbody>\n",
       "</table><br><br>"
      ],
      "text/plain": [
       "<IPython.core.display.HTML object>"
      ]
     },
     "metadata": {},
     "output_type": "display_data"
    },
    {
     "name": "stderr",
     "output_type": "stream",
     "text": [
      "2022-09-03 14:09:39,742\tWARNING worker.py:1034 -- The actor or task with ID ffffffffffffffff88866c7d01000000 cannot be scheduled right now. It requires {CPU: 28.000000} for placement, but this node only has remaining {node:10.4.200.67: 1.000000}, {object_store_memory: 43.505859 GiB}, {memory: 137.792969 GiB}. In total there are 0 pending tasks and 2 pending actors on this node. This is likely due to all cluster resources being claimed by actors. To resolve the issue, consider creating fewer actors or increase the resources available to this Ray cluster. You can ignore this message if this Ray cluster is expected to auto-scale.\n"
     ]
    }
   ],
   "source": [
    "config = {\n",
    " 'RBP' : RBP,  \n",
    " 'rep' : rep,\n",
    " \"conc\" : 50, \n",
    " \"binding_threshold\" : 3, \n",
    " 'batch_size': 100,\n",
    " 'dropout': 0.1, \n",
    " 'depth': 3,\n",
    " 'first_filter_width': tune.choice([7,9,11]),\n",
    " 'filter_width' : tune.choice([3,5,7]), \n",
    " 'first_pool_stride' : tune.randint(4,9), \n",
    " 'pool_stride' : tune.randint(2,5), \n",
    " 'pool_overlap' : tune.randint(3,6),\n",
    " 'lr': 1e-3,\n",
    " 'n_channel': 32,\n",
    " 'n_hidden' : 64,\n",
    " 'weight_decay': 0.,\n",
    " 'avgpool' : [False,False] ,\n",
    " 'exp_log' : [False,False] , \n",
    " 'num_chunks' : tune.choice([5,7,9,11,13]),\n",
    " 'min_seq_len' : 300, \n",
    " 'max_seq_len' : 1500\n",
    "}\n",
    "\n",
    "try: \n",
    "    result = tune.run(\n",
    "        biophysnn_raytune.Trainable,\n",
    "        config = config,\n",
    "        reuse_actors = True, \n",
    "        name = \"tuneCNN_%s\" % RBP, \n",
    "        num_samples=60,\n",
    "        checkpoint_freq=1,\n",
    "        progress_reporter = tune.JupyterNotebookReporter( # limit console output\n",
    "            overwrite = True, \n",
    "            max_report_frequency = 1000, \n",
    "            max_progress_rows = 1, \n",
    "            max_error_rows = 1\n",
    "        ),\n",
    "        scheduler = ASHAScheduler(\n",
    "            max_t=30, \n",
    "            grace_period=3), \n",
    "        resources_per_trial={'gpu': 1} if torch.cuda.is_available() else {\"cpu\": 28, \"gpu\": 0},\n",
    "        metric=\"val_auroc\", # metric to optimize\n",
    "        mode=\"max\"\n",
    "    )\n",
    "except tune.error.TuneError: \n",
    "    print(\"TuneError... shucks\")"
   ]
  },
  {
   "cell_type": "code",
   "execution_count": 3,
   "metadata": {},
   "outputs": [
    {
     "data": {
      "text/plain": [
       "{'RBP': 'HNRNPA1',\n",
       " 'avgpool': [False, False],\n",
       " 'batch_size': 100,\n",
       " 'binding_threshold': 3,\n",
       " 'conc': 50,\n",
       " 'depth': 3,\n",
       " 'dropout': 0.1,\n",
       " 'exp_log': [False, False],\n",
       " 'filter_width': 3,\n",
       " 'first_filter_width': 7,\n",
       " 'first_pool_stride': 5,\n",
       " 'lr': 0.001,\n",
       " 'max_seq_len': 1500,\n",
       " 'min_seq_len': 300,\n",
       " 'n_channel': 32,\n",
       " 'n_hidden': 64,\n",
       " 'num_chunks': 13,\n",
       " 'pool_overlap': 4,\n",
       " 'pool_stride': 4,\n",
       " 'rep': '_rep1',\n",
       " 'weight_decay': 0.0}"
      ]
     },
     "execution_count": 3,
     "metadata": {},
     "output_type": "execute_result"
    }
   ],
   "source": [
    "analysis = Analysis(\"/gpfs/commons/home/daknowles/ray_results/tuneCNN_%s\" % RBP)\n",
    "\n",
    "analysis.get_best_config(\"val_auroc\",\"max\")"
   ]
  },
  {
   "cell_type": "code",
   "execution_count": 4,
   "metadata": {},
   "outputs": [
    {
     "data": {
      "text/html": [
       "<div>\n",
       "<style scoped>\n",
       "    .dataframe tbody tr th:only-of-type {\n",
       "        vertical-align: middle;\n",
       "    }\n",
       "\n",
       "    .dataframe tbody tr th {\n",
       "        vertical-align: top;\n",
       "    }\n",
       "\n",
       "    .dataframe thead th {\n",
       "        text-align: right;\n",
       "    }\n",
       "</style>\n",
       "<table border=\"1\" class=\"dataframe\">\n",
       "  <thead>\n",
       "    <tr style=\"text-align: right;\">\n",
       "      <th></th>\n",
       "      <th>val_loss</th>\n",
       "      <th>val_acc</th>\n",
       "      <th>val_auroc</th>\n",
       "      <th>done</th>\n",
       "      <th>timesteps_total</th>\n",
       "      <th>episodes_total</th>\n",
       "      <th>training_iteration</th>\n",
       "      <th>trial_id</th>\n",
       "      <th>experiment_id</th>\n",
       "      <th>date</th>\n",
       "      <th>...</th>\n",
       "      <th>config/max_seq_len</th>\n",
       "      <th>config/min_seq_len</th>\n",
       "      <th>config/n_channel</th>\n",
       "      <th>config/n_hidden</th>\n",
       "      <th>config/num_chunks</th>\n",
       "      <th>config/pool_overlap</th>\n",
       "      <th>config/pool_stride</th>\n",
       "      <th>config/rep</th>\n",
       "      <th>config/weight_decay</th>\n",
       "      <th>logdir</th>\n",
       "    </tr>\n",
       "  </thead>\n",
       "  <tbody>\n",
       "    <tr>\n",
       "      <th>0</th>\n",
       "      <td>0.420021</td>\n",
       "      <td>0.809747</td>\n",
       "      <td>0.890547</td>\n",
       "      <td>True</td>\n",
       "      <td>NaN</td>\n",
       "      <td>NaN</td>\n",
       "      <td>3</td>\n",
       "      <td>40b6b_00018</td>\n",
       "      <td>3cd8be561e454aa58806fe98ca597de7</td>\n",
       "      <td>2022-09-03_12-36-53</td>\n",
       "      <td>...</td>\n",
       "      <td>1500</td>\n",
       "      <td>300</td>\n",
       "      <td>32</td>\n",
       "      <td>64</td>\n",
       "      <td>13</td>\n",
       "      <td>5</td>\n",
       "      <td>2</td>\n",
       "      <td>_rep1</td>\n",
       "      <td>0.0</td>\n",
       "      <td>/gpfs/commons/home/daknowles/ray_results/tuneC...</td>\n",
       "    </tr>\n",
       "    <tr>\n",
       "      <th>1</th>\n",
       "      <td>0.410067</td>\n",
       "      <td>0.814725</td>\n",
       "      <td>0.898549</td>\n",
       "      <td>True</td>\n",
       "      <td>NaN</td>\n",
       "      <td>NaN</td>\n",
       "      <td>3</td>\n",
       "      <td>40b6b_00007</td>\n",
       "      <td>7766c088464d4631b2182e6874314cd4</td>\n",
       "      <td>2022-09-03_03-17-25</td>\n",
       "      <td>...</td>\n",
       "      <td>1500</td>\n",
       "      <td>300</td>\n",
       "      <td>32</td>\n",
       "      <td>64</td>\n",
       "      <td>13</td>\n",
       "      <td>3</td>\n",
       "      <td>3</td>\n",
       "      <td>_rep1</td>\n",
       "      <td>0.0</td>\n",
       "      <td>/gpfs/commons/home/daknowles/ray_results/tuneC...</td>\n",
       "    </tr>\n",
       "    <tr>\n",
       "      <th>2</th>\n",
       "      <td>0.426754</td>\n",
       "      <td>0.808041</td>\n",
       "      <td>0.897798</td>\n",
       "      <td>True</td>\n",
       "      <td>NaN</td>\n",
       "      <td>NaN</td>\n",
       "      <td>3</td>\n",
       "      <td>40b6b_00003</td>\n",
       "      <td>7766c088464d4631b2182e6874314cd4</td>\n",
       "      <td>2022-09-02_20-45-52</td>\n",
       "      <td>...</td>\n",
       "      <td>1500</td>\n",
       "      <td>300</td>\n",
       "      <td>32</td>\n",
       "      <td>64</td>\n",
       "      <td>7</td>\n",
       "      <td>5</td>\n",
       "      <td>4</td>\n",
       "      <td>_rep1</td>\n",
       "      <td>0.0</td>\n",
       "      <td>/gpfs/commons/home/daknowles/ray_results/tuneC...</td>\n",
       "    </tr>\n",
       "    <tr>\n",
       "      <th>3</th>\n",
       "      <td>0.400380</td>\n",
       "      <td>0.817759</td>\n",
       "      <td>0.900938</td>\n",
       "      <td>True</td>\n",
       "      <td>NaN</td>\n",
       "      <td>NaN</td>\n",
       "      <td>3</td>\n",
       "      <td>40b6b_00015</td>\n",
       "      <td>14e98c7a217541e68abf9c6949b40a1c</td>\n",
       "      <td>2022-09-03_09-06-04</td>\n",
       "      <td>...</td>\n",
       "      <td>1500</td>\n",
       "      <td>300</td>\n",
       "      <td>32</td>\n",
       "      <td>64</td>\n",
       "      <td>13</td>\n",
       "      <td>4</td>\n",
       "      <td>2</td>\n",
       "      <td>_rep1</td>\n",
       "      <td>0.0</td>\n",
       "      <td>/gpfs/commons/home/daknowles/ray_results/tuneC...</td>\n",
       "    </tr>\n",
       "    <tr>\n",
       "      <th>4</th>\n",
       "      <td>0.418210</td>\n",
       "      <td>0.825060</td>\n",
       "      <td>0.907162</td>\n",
       "      <td>True</td>\n",
       "      <td>NaN</td>\n",
       "      <td>NaN</td>\n",
       "      <td>30</td>\n",
       "      <td>40b6b_00005</td>\n",
       "      <td>7766c088464d4631b2182e6874314cd4</td>\n",
       "      <td>2022-09-03_02-45-56</td>\n",
       "      <td>...</td>\n",
       "      <td>1500</td>\n",
       "      <td>300</td>\n",
       "      <td>32</td>\n",
       "      <td>64</td>\n",
       "      <td>11</td>\n",
       "      <td>4</td>\n",
       "      <td>4</td>\n",
       "      <td>_rep1</td>\n",
       "      <td>0.0</td>\n",
       "      <td>/gpfs/commons/home/daknowles/ray_results/tuneC...</td>\n",
       "    </tr>\n",
       "    <tr>\n",
       "      <th>5</th>\n",
       "      <td>0.398144</td>\n",
       "      <td>0.821220</td>\n",
       "      <td>0.901302</td>\n",
       "      <td>True</td>\n",
       "      <td>NaN</td>\n",
       "      <td>NaN</td>\n",
       "      <td>3</td>\n",
       "      <td>40b6b_00012</td>\n",
       "      <td>14e98c7a217541e68abf9c6949b40a1c</td>\n",
       "      <td>2022-09-03_07-16-35</td>\n",
       "      <td>...</td>\n",
       "      <td>1500</td>\n",
       "      <td>300</td>\n",
       "      <td>32</td>\n",
       "      <td>64</td>\n",
       "      <td>5</td>\n",
       "      <td>4</td>\n",
       "      <td>4</td>\n",
       "      <td>_rep1</td>\n",
       "      <td>0.0</td>\n",
       "      <td>/gpfs/commons/home/daknowles/ray_results/tuneC...</td>\n",
       "    </tr>\n",
       "    <tr>\n",
       "      <th>6</th>\n",
       "      <td>0.385778</td>\n",
       "      <td>0.825677</td>\n",
       "      <td>0.913380</td>\n",
       "      <td>True</td>\n",
       "      <td>NaN</td>\n",
       "      <td>NaN</td>\n",
       "      <td>12</td>\n",
       "      <td>40b6b_00014</td>\n",
       "      <td>14e98c7a217541e68abf9c6949b40a1c</td>\n",
       "      <td>2022-09-03_08-47-44</td>\n",
       "      <td>...</td>\n",
       "      <td>1500</td>\n",
       "      <td>300</td>\n",
       "      <td>32</td>\n",
       "      <td>64</td>\n",
       "      <td>11</td>\n",
       "      <td>3</td>\n",
       "      <td>4</td>\n",
       "      <td>_rep1</td>\n",
       "      <td>0.0</td>\n",
       "      <td>/gpfs/commons/home/daknowles/ray_results/tuneC...</td>\n",
       "    </tr>\n",
       "    <tr>\n",
       "      <th>7</th>\n",
       "      <td>0.414404</td>\n",
       "      <td>0.816148</td>\n",
       "      <td>0.895783</td>\n",
       "      <td>True</td>\n",
       "      <td>NaN</td>\n",
       "      <td>NaN</td>\n",
       "      <td>3</td>\n",
       "      <td>40b6b_00006</td>\n",
       "      <td>7766c088464d4631b2182e6874314cd4</td>\n",
       "      <td>2022-09-03_03-00-50</td>\n",
       "      <td>...</td>\n",
       "      <td>1500</td>\n",
       "      <td>300</td>\n",
       "      <td>32</td>\n",
       "      <td>64</td>\n",
       "      <td>13</td>\n",
       "      <td>4</td>\n",
       "      <td>2</td>\n",
       "      <td>_rep1</td>\n",
       "      <td>0.0</td>\n",
       "      <td>/gpfs/commons/home/daknowles/ray_results/tuneC...</td>\n",
       "    </tr>\n",
       "    <tr>\n",
       "      <th>8</th>\n",
       "      <td>0.403203</td>\n",
       "      <td>0.819845</td>\n",
       "      <td>0.898638</td>\n",
       "      <td>True</td>\n",
       "      <td>NaN</td>\n",
       "      <td>NaN</td>\n",
       "      <td>3</td>\n",
       "      <td>40b6b_00019</td>\n",
       "      <td>3cd8be561e454aa58806fe98ca597de7</td>\n",
       "      <td>2022-09-03_12-53-21</td>\n",
       "      <td>...</td>\n",
       "      <td>1500</td>\n",
       "      <td>300</td>\n",
       "      <td>32</td>\n",
       "      <td>64</td>\n",
       "      <td>5</td>\n",
       "      <td>3</td>\n",
       "      <td>3</td>\n",
       "      <td>_rep1</td>\n",
       "      <td>0.0</td>\n",
       "      <td>/gpfs/commons/home/daknowles/ray_results/tuneC...</td>\n",
       "    </tr>\n",
       "    <tr>\n",
       "      <th>9</th>\n",
       "      <td>0.403772</td>\n",
       "      <td>0.817001</td>\n",
       "      <td>0.901326</td>\n",
       "      <td>True</td>\n",
       "      <td>NaN</td>\n",
       "      <td>NaN</td>\n",
       "      <td>3</td>\n",
       "      <td>40b6b_00013</td>\n",
       "      <td>14e98c7a217541e68abf9c6949b40a1c</td>\n",
       "      <td>2022-09-03_07-32-42</td>\n",
       "      <td>...</td>\n",
       "      <td>1500</td>\n",
       "      <td>300</td>\n",
       "      <td>32</td>\n",
       "      <td>64</td>\n",
       "      <td>11</td>\n",
       "      <td>4</td>\n",
       "      <td>3</td>\n",
       "      <td>_rep1</td>\n",
       "      <td>0.0</td>\n",
       "      <td>/gpfs/commons/home/daknowles/ray_results/tuneC...</td>\n",
       "    </tr>\n",
       "    <tr>\n",
       "      <th>10</th>\n",
       "      <td>0.379510</td>\n",
       "      <td>0.829232</td>\n",
       "      <td>0.914431</td>\n",
       "      <td>False</td>\n",
       "      <td>NaN</td>\n",
       "      <td>NaN</td>\n",
       "      <td>11</td>\n",
       "      <td>40b6b_00020</td>\n",
       "      <td>3cd8be561e454aa58806fe98ca597de7</td>\n",
       "      <td>2022-09-03_14-07-05</td>\n",
       "      <td>...</td>\n",
       "      <td>1500</td>\n",
       "      <td>300</td>\n",
       "      <td>32</td>\n",
       "      <td>64</td>\n",
       "      <td>13</td>\n",
       "      <td>3</td>\n",
       "      <td>3</td>\n",
       "      <td>_rep1</td>\n",
       "      <td>0.0</td>\n",
       "      <td>/gpfs/commons/home/daknowles/ray_results/tuneC...</td>\n",
       "    </tr>\n",
       "    <tr>\n",
       "      <th>11</th>\n",
       "      <td>0.379808</td>\n",
       "      <td>0.832172</td>\n",
       "      <td>0.911301</td>\n",
       "      <td>True</td>\n",
       "      <td>NaN</td>\n",
       "      <td>NaN</td>\n",
       "      <td>30</td>\n",
       "      <td>40b6b_00004</td>\n",
       "      <td>7766c088464d4631b2182e6874314cd4</td>\n",
       "      <td>2022-09-02_23-39-16</td>\n",
       "      <td>...</td>\n",
       "      <td>1500</td>\n",
       "      <td>300</td>\n",
       "      <td>32</td>\n",
       "      <td>64</td>\n",
       "      <td>11</td>\n",
       "      <td>4</td>\n",
       "      <td>3</td>\n",
       "      <td>_rep1</td>\n",
       "      <td>0.0</td>\n",
       "      <td>/gpfs/commons/home/daknowles/ray_results/tuneC...</td>\n",
       "    </tr>\n",
       "    <tr>\n",
       "      <th>12</th>\n",
       "      <td>0.434743</td>\n",
       "      <td>0.798938</td>\n",
       "      <td>0.890077</td>\n",
       "      <td>True</td>\n",
       "      <td>NaN</td>\n",
       "      <td>NaN</td>\n",
       "      <td>3</td>\n",
       "      <td>40b6b_00009</td>\n",
       "      <td>7766c088464d4631b2182e6874314cd4</td>\n",
       "      <td>2022-09-03_06-47-05</td>\n",
       "      <td>...</td>\n",
       "      <td>1500</td>\n",
       "      <td>300</td>\n",
       "      <td>32</td>\n",
       "      <td>64</td>\n",
       "      <td>9</td>\n",
       "      <td>5</td>\n",
       "      <td>2</td>\n",
       "      <td>_rep1</td>\n",
       "      <td>0.0</td>\n",
       "      <td>/gpfs/commons/home/daknowles/ray_results/tuneC...</td>\n",
       "    </tr>\n",
       "    <tr>\n",
       "      <th>13</th>\n",
       "      <td>0.439931</td>\n",
       "      <td>0.799791</td>\n",
       "      <td>0.897605</td>\n",
       "      <td>True</td>\n",
       "      <td>NaN</td>\n",
       "      <td>NaN</td>\n",
       "      <td>3</td>\n",
       "      <td>40b6b_00002</td>\n",
       "      <td>7766c088464d4631b2182e6874314cd4</td>\n",
       "      <td>2022-09-02_20-29-54</td>\n",
       "      <td>...</td>\n",
       "      <td>1500</td>\n",
       "      <td>300</td>\n",
       "      <td>32</td>\n",
       "      <td>64</td>\n",
       "      <td>5</td>\n",
       "      <td>3</td>\n",
       "      <td>4</td>\n",
       "      <td>_rep1</td>\n",
       "      <td>0.0</td>\n",
       "      <td>/gpfs/commons/home/daknowles/ray_results/tuneC...</td>\n",
       "    </tr>\n",
       "    <tr>\n",
       "      <th>14</th>\n",
       "      <td>0.421756</td>\n",
       "      <td>0.824112</td>\n",
       "      <td>0.907365</td>\n",
       "      <td>True</td>\n",
       "      <td>NaN</td>\n",
       "      <td>NaN</td>\n",
       "      <td>30</td>\n",
       "      <td>40b6b_00000</td>\n",
       "      <td>8eac29a13ce34ce7bee68ac126ae3d5b</td>\n",
       "      <td>2022-09-02_20-13-08</td>\n",
       "      <td>...</td>\n",
       "      <td>1500</td>\n",
       "      <td>300</td>\n",
       "      <td>32</td>\n",
       "      <td>64</td>\n",
       "      <td>7</td>\n",
       "      <td>4</td>\n",
       "      <td>4</td>\n",
       "      <td>_rep1</td>\n",
       "      <td>0.0</td>\n",
       "      <td>/gpfs/commons/home/daknowles/ray_results/tuneC...</td>\n",
       "    </tr>\n",
       "    <tr>\n",
       "      <th>15</th>\n",
       "      <td>0.380440</td>\n",
       "      <td>0.835490</td>\n",
       "      <td>0.914538</td>\n",
       "      <td>True</td>\n",
       "      <td>NaN</td>\n",
       "      <td>NaN</td>\n",
       "      <td>30</td>\n",
       "      <td>40b6b_00008</td>\n",
       "      <td>7766c088464d4631b2182e6874314cd4</td>\n",
       "      <td>2022-09-03_06-33-20</td>\n",
       "      <td>...</td>\n",
       "      <td>1500</td>\n",
       "      <td>300</td>\n",
       "      <td>32</td>\n",
       "      <td>64</td>\n",
       "      <td>13</td>\n",
       "      <td>4</td>\n",
       "      <td>4</td>\n",
       "      <td>_rep1</td>\n",
       "      <td>0.0</td>\n",
       "      <td>/gpfs/commons/home/daknowles/ray_results/tuneC...</td>\n",
       "    </tr>\n",
       "    <tr>\n",
       "      <th>16</th>\n",
       "      <td>0.400930</td>\n",
       "      <td>0.831698</td>\n",
       "      <td>0.908894</td>\n",
       "      <td>True</td>\n",
       "      <td>NaN</td>\n",
       "      <td>NaN</td>\n",
       "      <td>30</td>\n",
       "      <td>40b6b_00017</td>\n",
       "      <td>3cd8be561e454aa58806fe98ca597de7</td>\n",
       "      <td>2022-09-03_12-22-23</td>\n",
       "      <td>...</td>\n",
       "      <td>1500</td>\n",
       "      <td>300</td>\n",
       "      <td>32</td>\n",
       "      <td>64</td>\n",
       "      <td>13</td>\n",
       "      <td>5</td>\n",
       "      <td>3</td>\n",
       "      <td>_rep1</td>\n",
       "      <td>0.0</td>\n",
       "      <td>/gpfs/commons/home/daknowles/ray_results/tuneC...</td>\n",
       "    </tr>\n",
       "    <tr>\n",
       "      <th>17</th>\n",
       "      <td>0.493286</td>\n",
       "      <td>0.762812</td>\n",
       "      <td>0.880862</td>\n",
       "      <td>True</td>\n",
       "      <td>NaN</td>\n",
       "      <td>NaN</td>\n",
       "      <td>3</td>\n",
       "      <td>40b6b_00011</td>\n",
       "      <td>14e98c7a217541e68abf9c6949b40a1c</td>\n",
       "      <td>2022-09-03_06-59-45</td>\n",
       "      <td>...</td>\n",
       "      <td>1500</td>\n",
       "      <td>300</td>\n",
       "      <td>32</td>\n",
       "      <td>64</td>\n",
       "      <td>9</td>\n",
       "      <td>3</td>\n",
       "      <td>2</td>\n",
       "      <td>_rep1</td>\n",
       "      <td>0.0</td>\n",
       "      <td>/gpfs/commons/home/daknowles/ray_results/tuneC...</td>\n",
       "    </tr>\n",
       "  </tbody>\n",
       "</table>\n",
       "<p>18 rows × 41 columns</p>\n",
       "</div>"
      ],
      "text/plain": [
       "    val_loss   val_acc  val_auroc   done  timesteps_total  episodes_total  \\\n",
       "0   0.420021  0.809747   0.890547   True              NaN             NaN   \n",
       "1   0.410067  0.814725   0.898549   True              NaN             NaN   \n",
       "2   0.426754  0.808041   0.897798   True              NaN             NaN   \n",
       "3   0.400380  0.817759   0.900938   True              NaN             NaN   \n",
       "4   0.418210  0.825060   0.907162   True              NaN             NaN   \n",
       "5   0.398144  0.821220   0.901302   True              NaN             NaN   \n",
       "6   0.385778  0.825677   0.913380   True              NaN             NaN   \n",
       "7   0.414404  0.816148   0.895783   True              NaN             NaN   \n",
       "8   0.403203  0.819845   0.898638   True              NaN             NaN   \n",
       "9   0.403772  0.817001   0.901326   True              NaN             NaN   \n",
       "10  0.379510  0.829232   0.914431  False              NaN             NaN   \n",
       "11  0.379808  0.832172   0.911301   True              NaN             NaN   \n",
       "12  0.434743  0.798938   0.890077   True              NaN             NaN   \n",
       "13  0.439931  0.799791   0.897605   True              NaN             NaN   \n",
       "14  0.421756  0.824112   0.907365   True              NaN             NaN   \n",
       "15  0.380440  0.835490   0.914538   True              NaN             NaN   \n",
       "16  0.400930  0.831698   0.908894   True              NaN             NaN   \n",
       "17  0.493286  0.762812   0.880862   True              NaN             NaN   \n",
       "\n",
       "    training_iteration     trial_id                     experiment_id  \\\n",
       "0                    3  40b6b_00018  3cd8be561e454aa58806fe98ca597de7   \n",
       "1                    3  40b6b_00007  7766c088464d4631b2182e6874314cd4   \n",
       "2                    3  40b6b_00003  7766c088464d4631b2182e6874314cd4   \n",
       "3                    3  40b6b_00015  14e98c7a217541e68abf9c6949b40a1c   \n",
       "4                   30  40b6b_00005  7766c088464d4631b2182e6874314cd4   \n",
       "5                    3  40b6b_00012  14e98c7a217541e68abf9c6949b40a1c   \n",
       "6                   12  40b6b_00014  14e98c7a217541e68abf9c6949b40a1c   \n",
       "7                    3  40b6b_00006  7766c088464d4631b2182e6874314cd4   \n",
       "8                    3  40b6b_00019  3cd8be561e454aa58806fe98ca597de7   \n",
       "9                    3  40b6b_00013  14e98c7a217541e68abf9c6949b40a1c   \n",
       "10                  11  40b6b_00020  3cd8be561e454aa58806fe98ca597de7   \n",
       "11                  30  40b6b_00004  7766c088464d4631b2182e6874314cd4   \n",
       "12                   3  40b6b_00009  7766c088464d4631b2182e6874314cd4   \n",
       "13                   3  40b6b_00002  7766c088464d4631b2182e6874314cd4   \n",
       "14                  30  40b6b_00000  8eac29a13ce34ce7bee68ac126ae3d5b   \n",
       "15                  30  40b6b_00008  7766c088464d4631b2182e6874314cd4   \n",
       "16                  30  40b6b_00017  3cd8be561e454aa58806fe98ca597de7   \n",
       "17                   3  40b6b_00011  14e98c7a217541e68abf9c6949b40a1c   \n",
       "\n",
       "                   date  ...  config/max_seq_len  config/min_seq_len  \\\n",
       "0   2022-09-03_12-36-53  ...                1500                 300   \n",
       "1   2022-09-03_03-17-25  ...                1500                 300   \n",
       "2   2022-09-02_20-45-52  ...                1500                 300   \n",
       "3   2022-09-03_09-06-04  ...                1500                 300   \n",
       "4   2022-09-03_02-45-56  ...                1500                 300   \n",
       "5   2022-09-03_07-16-35  ...                1500                 300   \n",
       "6   2022-09-03_08-47-44  ...                1500                 300   \n",
       "7   2022-09-03_03-00-50  ...                1500                 300   \n",
       "8   2022-09-03_12-53-21  ...                1500                 300   \n",
       "9   2022-09-03_07-32-42  ...                1500                 300   \n",
       "10  2022-09-03_14-07-05  ...                1500                 300   \n",
       "11  2022-09-02_23-39-16  ...                1500                 300   \n",
       "12  2022-09-03_06-47-05  ...                1500                 300   \n",
       "13  2022-09-02_20-29-54  ...                1500                 300   \n",
       "14  2022-09-02_20-13-08  ...                1500                 300   \n",
       "15  2022-09-03_06-33-20  ...                1500                 300   \n",
       "16  2022-09-03_12-22-23  ...                1500                 300   \n",
       "17  2022-09-03_06-59-45  ...                1500                 300   \n",
       "\n",
       "    config/n_channel  config/n_hidden config/num_chunks config/pool_overlap  \\\n",
       "0                 32               64                13                   5   \n",
       "1                 32               64                13                   3   \n",
       "2                 32               64                 7                   5   \n",
       "3                 32               64                13                   4   \n",
       "4                 32               64                11                   4   \n",
       "5                 32               64                 5                   4   \n",
       "6                 32               64                11                   3   \n",
       "7                 32               64                13                   4   \n",
       "8                 32               64                 5                   3   \n",
       "9                 32               64                11                   4   \n",
       "10                32               64                13                   3   \n",
       "11                32               64                11                   4   \n",
       "12                32               64                 9                   5   \n",
       "13                32               64                 5                   3   \n",
       "14                32               64                 7                   4   \n",
       "15                32               64                13                   4   \n",
       "16                32               64                13                   5   \n",
       "17                32               64                 9                   3   \n",
       "\n",
       "    config/pool_stride  config/rep  config/weight_decay  \\\n",
       "0                    2       _rep1                  0.0   \n",
       "1                    3       _rep1                  0.0   \n",
       "2                    4       _rep1                  0.0   \n",
       "3                    2       _rep1                  0.0   \n",
       "4                    4       _rep1                  0.0   \n",
       "5                    4       _rep1                  0.0   \n",
       "6                    4       _rep1                  0.0   \n",
       "7                    2       _rep1                  0.0   \n",
       "8                    3       _rep1                  0.0   \n",
       "9                    3       _rep1                  0.0   \n",
       "10                   3       _rep1                  0.0   \n",
       "11                   3       _rep1                  0.0   \n",
       "12                   2       _rep1                  0.0   \n",
       "13                   4       _rep1                  0.0   \n",
       "14                   4       _rep1                  0.0   \n",
       "15                   4       _rep1                  0.0   \n",
       "16                   3       _rep1                  0.0   \n",
       "17                   2       _rep1                  0.0   \n",
       "\n",
       "                                               logdir  \n",
       "0   /gpfs/commons/home/daknowles/ray_results/tuneC...  \n",
       "1   /gpfs/commons/home/daknowles/ray_results/tuneC...  \n",
       "2   /gpfs/commons/home/daknowles/ray_results/tuneC...  \n",
       "3   /gpfs/commons/home/daknowles/ray_results/tuneC...  \n",
       "4   /gpfs/commons/home/daknowles/ray_results/tuneC...  \n",
       "5   /gpfs/commons/home/daknowles/ray_results/tuneC...  \n",
       "6   /gpfs/commons/home/daknowles/ray_results/tuneC...  \n",
       "7   /gpfs/commons/home/daknowles/ray_results/tuneC...  \n",
       "8   /gpfs/commons/home/daknowles/ray_results/tuneC...  \n",
       "9   /gpfs/commons/home/daknowles/ray_results/tuneC...  \n",
       "10  /gpfs/commons/home/daknowles/ray_results/tuneC...  \n",
       "11  /gpfs/commons/home/daknowles/ray_results/tuneC...  \n",
       "12  /gpfs/commons/home/daknowles/ray_results/tuneC...  \n",
       "13  /gpfs/commons/home/daknowles/ray_results/tuneC...  \n",
       "14  /gpfs/commons/home/daknowles/ray_results/tuneC...  \n",
       "15  /gpfs/commons/home/daknowles/ray_results/tuneC...  \n",
       "16  /gpfs/commons/home/daknowles/ray_results/tuneC...  \n",
       "17  /gpfs/commons/home/daknowles/ray_results/tuneC...  \n",
       "\n",
       "[18 rows x 41 columns]"
      ]
     },
     "execution_count": 4,
     "metadata": {},
     "output_type": "execute_result"
    }
   ],
   "source": [
    "df = analysis.dataframe()\n",
    "df\n",
    "#df.val_auroc.max()"
   ]
  },
  {
   "cell_type": "code",
   "execution_count": 6,
   "metadata": {},
   "outputs": [
    {
     "data": {
      "text/plain": [
       "<matplotlib.collections.PathCollection at 0x7f9ea95856a0>"
      ]
     },
     "execution_count": 6,
     "metadata": {},
     "output_type": "execute_result"
    },
    {
     "data": {
      "image/png": "[encoded data removed]",
      "text/plain": [
       "<Figure size 432x288 with 1 Axes>"
      ]
     },
     "metadata": {
      "needs_background": "light"
     },
     "output_type": "display_data"
    }
   ],
   "source": [
    "plt.scatter(df[\"config/filter_width\"], df.val_auroc) "
   ]
  },
  {
   "cell_type": "code",
   "execution_count": 7,
   "metadata": {},
   "outputs": [
    {
     "data": {
      "text/plain": [
       "<matplotlib.collections.PathCollection at 0x7f9ea94e8ee0>"
      ]
     },
     "execution_count": 7,
     "metadata": {},
     "output_type": "execute_result"
    },
    {
     "data": {
      "image/png": "[encoded data removed]",
      "text/plain": [
       "<Figure size 432x288 with 1 Axes>"
      ]
     },
     "metadata": {
      "needs_background": "light"
     },
     "output_type": "display_data"
    }
   ],
   "source": [
    "plt.scatter(df[\"config/first_filter_width\"], df.val_auroc)  # 5 is too short, 9 seems good"
   ]
  },
  {
   "cell_type": "code",
   "execution_count": 8,
   "metadata": {},
   "outputs": [
    {
     "data": {
      "text/plain": [
       "<matplotlib.collections.PathCollection at 0x7f9ea94d71c0>"
      ]
     },
     "execution_count": 8,
     "metadata": {},
     "output_type": "execute_result"
    },
    {
     "data": {
      "image/png": "[encoded data removed]",
      "text/plain": [
       "<Figure size 432x288 with 1 Axes>"
      ]
     },
     "metadata": {
      "needs_background": "light"
     },
     "output_type": "display_data"
    }
   ],
   "source": [
    "plt.scatter(df[\"config/first_pool_stride\"], df.val_auroc) # at least 4"
   ]
  },
  {
   "cell_type": "code",
   "execution_count": 9,
   "metadata": {},
   "outputs": [
    {
     "data": {
      "text/plain": [
       "<matplotlib.collections.PathCollection at 0x7f9ea9439460>"
      ]
     },
     "execution_count": 9,
     "metadata": {},
     "output_type": "execute_result"
    },
    {
     "data": {
      "image/png": "[encoded data removed]",
      "text/plain": [
       "<Figure size 432x288 with 1 Axes>"
      ]
     },
     "metadata": {
      "needs_background": "light"
     },
     "output_type": "display_data"
    }
   ],
   "source": [
    "plt.scatter(df[\"config/pool_stride\"], df.val_auroc)"
   ]
  },
  {
   "cell_type": "code",
   "execution_count": 10,
   "metadata": {},
   "outputs": [
    {
     "data": {
      "text/plain": [
       "<matplotlib.collections.PathCollection at 0x7f9ea941a670>"
      ]
     },
     "execution_count": 10,
     "metadata": {},
     "output_type": "execute_result"
    },
    {
     "data": {
      "image/png": "[encoded data removed]",
      "text/plain": [
       "<Figure size 432x288 with 1 Axes>"
      ]
     },
     "metadata": {
      "needs_background": "light"
     },
     "output_type": "display_data"
    }
   ],
   "source": [
    "plt.scatter(df[\"config/pool_overlap\"], df.val_auroc) # 4 is good, <3 is bad"
   ]
  },
  {
   "cell_type": "code",
   "execution_count": 11,
   "metadata": {},
   "outputs": [
    {
     "data": {
      "text/plain": [
       "<matplotlib.collections.PathCollection at 0x7f9ea937b940>"
      ]
     },
     "execution_count": 11,
     "metadata": {},
     "output_type": "execute_result"
    },
    {
     "data": {
      "image/png": "[encoded data removed]",
      "text/plain": [
       "<Figure size 432x288 with 1 Axes>"
      ]
     },
     "metadata": {
      "needs_background": "light"
     },
     "output_type": "display_data"
    }
   ],
   "source": [
    "plt.scatter(df[\"config/num_chunks\"], df.val_auroc) # 9 is best"
   ]
  },
  {
   "cell_type": "code",
   "execution_count": 21,
   "metadata": {},
   "outputs": [
    {
     "name": "stdout",
     "output_type": "stream",
     "text": [
      "Device: cpu\n",
      "Receptive field: 137 Chunk size: 24 Number chunks: 13\n",
      "Setting num threads\n",
      "Receptive field: 153 Chunk size: 36 Number chunks: 13\n",
      "Receptive field: 191 Chunk size: 64 Number chunks: 7\n",
      "Receptive field: 254 Chunk size: 32 Number chunks: 13\n",
      "Receptive field: 254 Chunk size: 96 Number chunks: 11\n",
      "Receptive field: 254 Chunk size: 128 Number chunks: 5\n",
      "Receptive field: 163 Chunk size: 96 Number chunks: 11\n",
      "Receptive field: 194 Chunk size: 24 Number chunks: 13\n",
      "Receptive field: 235 Chunk size: 72 Number chunks: 5\n",
      "Receptive field: 172 Chunk size: 45 Number chunks: 11\n",
      "Receptive field: 225 Chunk size: 54 Number chunks: 13\n",
      "Receptive field: 178 Chunk size: 63 Number chunks: 11\n",
      "Receptive field: 209 Chunk size: 24 Number chunks: 9\n",
      "Receptive field: 184 Chunk size: 112 Number chunks: 5\n",
      "Receptive field: 254 Chunk size: 96 Number chunks: 7\n",
      "Receptive field: 160 Chunk size: 80 Number chunks: 13\n",
      "Receptive field: 263 Chunk size: 63 Number chunks: 13\n",
      "Receptive field: 101 Chunk size: 24 Number chunks: 9\n"
     ]
    }
   ],
   "source": [
    "import json\n",
    "from pathlib import Path\n",
    "seq_lens = []\n",
    "trainer = None \n",
    "for i in range(len(df)):\n",
    "    logdir = Path(df.logdir.iloc[i])\n",
    "    progress = pd.read_csv(logdir / \"progress.csv\")\n",
    "    checkpoint = logdir / (\"checkpoint_%i\" % (progress.val_auroc.argmax() + 1)) \n",
    "    config = json.load(open(logdir / \"params.json\"))\n",
    "    #config[\"RBP\"] = RBP\n",
    "    #config[\"rep\"] = rep\n",
    "    if (trainer is None): \n",
    "        trainer = biophysnn_raytune.Trainable(config)\n",
    "    else: \n",
    "        trainer.reset_config(config)\n",
    "    seq_lens.append(trainer.model.seq_len)\n",
    "df[\"seq_lens\"] = seq_lens"
   ]
  },
  {
   "cell_type": "code",
   "execution_count": 22,
   "metadata": {},
   "outputs": [
    {
     "data": {
      "text/plain": [
       "<matplotlib.collections.PathCollection at 0x7f9ea2d17850>"
      ]
     },
     "execution_count": 22,
     "metadata": {},
     "output_type": "execute_result"
    },
    {
     "data": {
      "image/png": "[encoded data removed]",
      "text/plain": [
       "<Figure size 432x288 with 1 Axes>"
      ]
     },
     "metadata": {
      "needs_background": "light"
     },
     "output_type": "display_data"
    }
   ],
   "source": [
    "plt.scatter(df[\"seq_lens\"], df.val_auroc)"
   ]
  }
 ],
 "metadata": {
  "kernelspec": {
   "display_name": "Python 3",
   "language": "python",
   "name": "python3"
  },
  "language_info": {
   "codemirror_mode": {
    "name": "ipython",
    "version": 3
   },
   "file_extension": ".py",
   "mimetype": "text/x-python",
   "name": "python",
   "nbconvert_exporter": "python",
   "pygments_lexer": "ipython3",
   "version": "3.8.0"
  }
 },
 "nbformat": 4,
 "nbformat_minor": 4
}
