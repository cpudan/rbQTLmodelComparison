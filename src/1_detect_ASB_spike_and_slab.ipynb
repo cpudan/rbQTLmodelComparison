{
 "cells": [
  {
   "cell_type": "code",
   "execution_count": 1,
   "metadata": {},
   "outputs": [
    {
     "name": "stderr",
     "output_type": "stream",
     "text": [
      "/gpfs/commons/home/daknowles/.conda/envs/asb/lib/python3.8/site-packages/tqdm/auto.py:22: TqdmWarning: IProgress not found. Please update jupyter and ipywidgets. See https://ipywidgets.readthedocs.io/en/stable/user_install.html\n",
      "  from .autonotebook import tqdm as notebook_tqdm\n",
      "/gpfs/commons/home/daknowles/pooledRBPs/src/pooledQTL/spike_and_slab.py:282: UserWarning: To copy construct from a tensor, it is recommended to use sourceTensor.clone().detach() or sourceTensor.clone().detach().requires_grad_(True), rather than torch.tensor(sourceTensor).\n",
      "  lambda: torch.tensor(init_dict.get(name, init), device = device),\n"
     ]
    },
    {
     "name": "stdout",
     "output_type": "stream",
     "text": [
      "prior_prob_ase\t\t0.1278 6.02540\n",
      "prior_prob_asb\t\t0.001574\n",
      "ase_scale\t\t0.8193\n",
      "input_count_conc\t\t157.4\n",
      "asb_scale\t\t1.013\n",
      "IP_count_conc\t\t179.4\n"
     ]
    },
    {
     "name": "stderr",
     "output_type": "stream",
     "text": [
      "/gpfs/commons/home/daknowles/pooledRBPs/src/pooledQTL/spike_and_slab.py:282: UserWarning: To copy construct from a tensor, it is recommended to use sourceTensor.clone().detach() or sourceTensor.clone().detach().requires_grad_(True), rather than torch.tensor(sourceTensor).\n",
      "  lambda: torch.tensor(init_dict.get(name, init), device = device),\n"
     ]
    },
    {
     "name": "stdout",
     "output_type": "stream",
     "text": [
      "prior_prob_ase\t\t0.1276 6.0102\n",
      "prior_prob_asb\t\t0.001829\n",
      "ase_scale\t\t0.8201\n",
      "input_count_conc\t\t157.1\n",
      "asb_scale\t\t1.037\n",
      "IP_count_conc\t\t179\n"
     ]
    },
    {
     "name": "stderr",
     "output_type": "stream",
     "text": [
      "/gpfs/commons/home/daknowles/pooledRBPs/src/pooledQTL/spike_and_slab.py:282: UserWarning: To copy construct from a tensor, it is recommended to use sourceTensor.clone().detach() or sourceTensor.clone().detach().requires_grad_(True), rather than torch.tensor(sourceTensor).\n",
      "  lambda: torch.tensor(init_dict.get(name, init), device = device),\n",
      "/gpfs/commons/home/daknowles/.conda/envs/asb/lib/python3.8/site-packages/pyro/util.py:286: UserWarning: Found non-auxiliary vars in guide but not model, consider marking these infer={'is_auxiliary': True}:\n",
      "{'IP_count_conc', 'input_count_conc'}\n",
      "  warnings.warn(\n"
     ]
    },
    {
     "name": "stdout",
     "output_type": "stream",
     "text": [
      "prior_prob_ase\t\t0.145: 6.02330\n",
      "prior_prob_asb\t\t0.001857\n",
      "ase_scale\t\t0.7887\n",
      "asb_scale\t\t1.011\n"
     ]
    },
    {
     "name": "stderr",
     "output_type": "stream",
     "text": [
      "/gpfs/commons/home/daknowles/pooledRBPs/src/pooledQTL/spike_and_slab.py:282: UserWarning: To copy construct from a tensor, it is recommended to use sourceTensor.clone().detach() or sourceTensor.clone().detach().requires_grad_(True), rather than torch.tensor(sourceTensor).\n",
      "  lambda: torch.tensor(init_dict.get(name, init), device = device),\n",
      "/gpfs/commons/home/daknowles/.conda/envs/asb/lib/python3.8/site-packages/pyro/util.py:286: UserWarning: Found non-auxiliary vars in guide but not model, consider marking these infer={'is_auxiliary': True}:\n",
      "{'IP_count_conc', 'input_count_conc'}\n",
      "  warnings.warn(\n"
     ]
    },
    {
     "name": "stdout",
     "output_type": "stream",
     "text": [
      "prior_prob_ase\t\t0.1444 6.0068\n",
      "prior_prob_asb\t\t0.002034\n",
      "ase_scale\t\t0.7887\n",
      "asb_scale\t\t1.035\n"
     ]
    },
    {
     "ename": "NameError",
     "evalue": "name 'data' is not defined",
     "output_type": "error",
     "traceback": [
      "\u001b[0;31m---------------------------------------------------------------------------\u001b[0m",
      "\u001b[0;31mNameError\u001b[0m                                 Traceback (most recent call last)",
      "\u001b[0;32m<ipython-input-1-c828c15589af>\u001b[0m in \u001b[0;36m<module>\u001b[0;34m\u001b[0m\n\u001b[1;32m     50\u001b[0m \u001b[0;34m\u001b[0m\u001b[0m\n\u001b[1;32m     51\u001b[0m post_stats, post_mean = spike_and_slab.fit(\n\u001b[0;32m---> 52\u001b[0;31m     \u001b[0mdata\u001b[0m\u001b[0;34m,\u001b[0m\u001b[0;34m\u001b[0m\u001b[0;34m\u001b[0m\u001b[0m\n\u001b[0m\u001b[1;32m     53\u001b[0m     \u001b[0mlearn_likelihood_concs\u001b[0m \u001b[0;34m=\u001b[0m \u001b[0;32mFalse\u001b[0m\u001b[0;34m,\u001b[0m\u001b[0;34m\u001b[0m\u001b[0;34m\u001b[0m\u001b[0m\n\u001b[1;32m     54\u001b[0m     \u001b[0mstructured_model\u001b[0m \u001b[0;34m=\u001b[0m \u001b[0;32mTrue\u001b[0m\u001b[0;34m,\u001b[0m\u001b[0;34m\u001b[0m\u001b[0;34m\u001b[0m\u001b[0m\n",
      "\u001b[0;31mNameError\u001b[0m: name 'data' is not defined"
     ]
    }
   ],
   "source": [
    "import torch\n",
    "import sys\n",
    "import pyro\n",
    "\n",
    "import seaborn as sns\n",
    "import matplotlib.pyplot as plt\n",
    "import scipy.stats\n",
    "import pandas as pd\n",
    "\n",
    "import numpy as np\n",
    "\n",
    "from pooledQTL import deconvolve, beta_model, gaussian_model, io_utils, asb_data, spike_and_slab\n",
    "\n",
    "from importlib import reload\n",
    "\n",
    "from pathlib import Path\n",
    "\n",
    "fdr_threshold = 0.05\n",
    "device = \"cuda:0\" if torch.cuda.is_available() else \"cpu\"\n",
    "use_structured_guide = True # performs much better\n",
    "\n",
    "results_dir = Path(\"/gpfs/commons/home/daknowles/pooledRBPs/results/RBFOX2\")\n",
    "results_dir.mkdir(parents=True, exist_ok=True)\n",
    "\n",
    "reload(spike_and_slab)\n",
    "\n",
    "dat = pd.read_csv(\"../results/HNRNPA1/beta_rep0.tsv.gz\", sep = \"\\t\", index_col = False)\n",
    "device = \"cuda:0\" if torch.cuda.is_available() else \"cpu\"\n",
    "#device = \"cpu\"\n",
    "#data = asb_data.ASBdata.from_pandas(dat.rename(columns = {\"altCount_input\" : \"altCount\", \"totalCount_input\" : \"totalCount\" }), device = device)\n",
    "\n",
    "learn_likelihood_concs = True\n",
    "#learn_prior_prob = True\n",
    "structured_model = True\n",
    "\n",
    "prior_prob_ase = {}\n",
    "prior_prob_asb = {}\n",
    "\n",
    "for learn_likelihood_concs in [True, False]:\n",
    "    for structured_model in [True, False]:\n",
    "        post_stats, post_mean = spike_and_slab.fit(\n",
    "            dat, \n",
    "            learn_likelihood_concs = learn_likelihood_concs, \n",
    "            structured_model = structured_model, \n",
    "            plot = False,\n",
    "            device = device\n",
    "        )\n",
    "        prior_prob_ase[(learn_likelihood_concs,structured_model)] = post_stats['prior_prob_ase']['mean'].cpu().item()\n",
    "        prior_prob_asb[(learn_likelihood_concs,structured_model)] = post_stats['prior_prob_asb']['mean'].cpu().item()\n",
    "\n",
    "post_stats, post_mean = spike_and_slab.fit(\n",
    "    dat, \n",
    "    learn_likelihood_concs = False, \n",
    "    structured_model = True, \n",
    "    plot = True,\n",
    "    device = device\n",
    ")\n",
    "\n",
    "asb_idx = post_mean['assignment_asb'].argmax()\n",
    "\n",
    "post_mean['assignment_ase'][asb_idx]\n",
    "post_mean['assignment_asb'][asb_idx]\n",
    "dat.iloc[asb_idx,:]\n",
    "\n",
    "post_stats['ase']['mean'][0,asb_idx]\n",
    "post_stats['asb']['mean'][0,asb_idx]\n",
    "post_stats['asb_when_ase']['mean'][0,asb_idx] # asb_when_ase\n",
    "\n",
    "dat_sub = dat[post_mean['assignment_asb'] < 0.5]\n",
    "plt.scatter(dat_sub.allelic_ratio, dat_sub.altCount_IP / dat_sub.totalCount_IP)\n",
    "dat_sub = dat[post_mean['assignment_asb'] > 0.5]\n",
    "plt.scatter(dat_sub.allelic_ratio, dat_sub.altCount_IP / dat_sub.totalCount_IP)\n"
   ]
  },
  {
   "cell_type": "code",
   "execution_count": 3,
   "metadata": {},
   "outputs": [
    {
     "data": {
      "text/plain": [
       "{(True, True): 0.12783393263816833,\n",
       " (True, False): 0.12758222222328186,\n",
       " (False, True): 0.14495684206485748,\n",
       " (False, False): 0.14437757432460785}"
      ]
     },
     "execution_count": 3,
     "metadata": {},
     "output_type": "execute_result"
    }
   ],
   "source": [
    "prior_prob_ase"
   ]
  },
  {
   "cell_type": "code",
   "execution_count": 4,
   "metadata": {},
   "outputs": [
    {
     "data": {
      "text/plain": [
       "{(True, True): 0.0015738141955807805,\n",
       " (True, False): 0.0018291990272700787,\n",
       " (False, True): 0.0018569828243926167,\n",
       " (False, False): 0.0020337500609457493}"
      ]
     },
     "execution_count": 4,
     "metadata": {},
     "output_type": "execute_result"
    }
   ],
   "source": [
    "prior_prob_asb"
   ]
  },
  {
   "cell_type": "code",
   "execution_count": null,
   "metadata": {},
   "outputs": [],
   "source": []
  }
 ],
 "metadata": {
  "kernelspec": {
   "display_name": "Python 3",
   "language": "python",
   "name": "python3"
  },
  "language_info": {
   "codemirror_mode": {
    "name": "ipython",
    "version": 3
   },
   "file_extension": ".py",
   "mimetype": "text/x-python",
   "name": "python",
   "nbconvert_exporter": "python",
   "pygments_lexer": "ipython3",
   "version": "3.8.0"
  }
 },
 "nbformat": 4,
 "nbformat_minor": 4
}
