{
 "cells": [
  {
   "cell_type": "code",
   "execution_count": 3,
   "metadata": {},
   "outputs": [],
   "source": [
    "import pandas as pd\n",
    "import numpy as np\n",
    "import matplotlib.pyplot as plt\n",
    "\n",
    "from importlib import reload\n",
    "import scipy.stats\n",
    "import statsmodels.stats.multitest\n",
    "def fast_fisher(p1,p2):\n",
    "    fisher_stat = -2. * ( np.log(p1) + np.log(p2) )\n",
    "    return scipy.stats.chi2(df = 4).sf(fisher_stat)"
   ]
  },
  {
   "cell_type": "markdown",
   "metadata": {},
   "source": [
    "## Meta analyze beta binomial test for HNRNPK"
   ]
  },
  {
   "cell_type": "code",
   "execution_count": 4,
   "metadata": {},
   "outputs": [],
   "source": [
    "data = [ pd.read_csv(\"../results/HNRNPK/beta_struct_bblrt_rep%i.tsv.gz\" % i, sep = \"\\t\", index_col = False) for i in range(2) ]"
   ]
  },
  {
   "cell_type": "code",
   "execution_count": 49,
   "metadata": {},
   "outputs": [
    {
     "data": {
      "text/plain": [
       "Index(['contig', 'position_hg19', 'variantID', 'refAllele', 'altAllele',\n",
       "       'position', 'refCount_input', 'altCount_input', 'totalCount_input',\n",
       "       'pred_ratio', 'refCount_IP', 'altCount_IP', 'totalCount_IP',\n",
       "       'shrunk_input_logratio', 'ase_loc', 'ase_sd', 'ase_q',\n",
       "       'shrunk_IP_logratio', 'asb_loc', 'asb_sd', 'asb_q', 'bb_lrt_p'],\n",
       "      dtype='object')"
      ]
     },
     "execution_count": 49,
     "metadata": {},
     "output_type": "execute_result"
    }
   ],
   "source": [
    "data[0].columns"
   ]
  },
  {
   "cell_type": "code",
   "execution_count": 53,
   "metadata": {},
   "outputs": [],
   "source": [
    "merged = data[0].merge(data[1], \n",
    "                       on = [\"contig\", \"position_hg19\", \"variantID\", \"refAllele\", \"altAllele\", \"position\"],\n",
    "                      suffixes=[\"_1\",\"_2\"])"
   ]
  },
  {
   "cell_type": "code",
   "execution_count": 54,
   "metadata": {},
   "outputs": [],
   "source": [
    "\n",
    "#metap = [scipy.stats.combine_pvalues([p1,p2])[1] for p1,p2 in zip(merged.bb_lrt_p_1,merged.bb_lrt_p_2) ]\n",
    "merged[\"bblrt_meta_p\"] = fast_fisher(merged.bb_lrt_p_1,merged.bb_lrt_p_2)"
   ]
  },
  {
   "cell_type": "code",
   "execution_count": 55,
   "metadata": {},
   "outputs": [
    {
     "data": {
      "text/plain": [
       "(0.000779073610652061, 165)"
      ]
     },
     "execution_count": 55,
     "metadata": {},
     "output_type": "execute_result"
    },
    {
     "data": {
      "image/png": "[encoded data removed]",
      "text/plain": [
       "<Figure size 432x288 with 1 Axes>"
      ]
     },
     "metadata": {
      "needs_background": "light"
     },
     "output_type": "display_data"
    }
   ],
   "source": [
    "plt.hist(merged.bblrt_meta_p, 100)\n",
    "_,metaq = statsmodels.stats.multitest.fdrcorrection(merged.bblrt_meta_p)\n",
    "np.mean(metaq < .2), np.sum(metaq < .2)"
   ]
  },
  {
   "cell_type": "code",
   "execution_count": 42,
   "metadata": {},
   "outputs": [
    {
     "data": {
      "text/plain": [
       "(0.00014164974739128383, 30)"
      ]
     },
     "execution_count": 42,
     "metadata": {},
     "output_type": "execute_result"
    },
    {
     "data": {
      "image/png": "[encoded data removed]",
      "text/plain": [
       "<Figure size 432x288 with 1 Axes>"
      ]
     },
     "metadata": {
      "needs_background": "light"
     },
     "output_type": "display_data"
    }
   ],
   "source": [
    "_ = plt.hist(merged.bb_lrt_p_1, 100)\n",
    "_,q1 = statsmodels.stats.multitest.fdrcorrection(merged.bb_lrt_p_1)\n",
    "np.mean(q1 < .2), np.sum(q1 < .2)"
   ]
  },
  {
   "cell_type": "code",
   "execution_count": 44,
   "metadata": {},
   "outputs": [
    {
     "data": {
      "text/plain": [
       "(0.000259691203550687, 55)"
      ]
     },
     "execution_count": 44,
     "metadata": {},
     "output_type": "execute_result"
    },
    {
     "data": {
      "image/png": "[encoded data removed]",
      "text/plain": [
       "<Figure size 432x288 with 1 Axes>"
      ]
     },
     "metadata": {
      "needs_background": "light"
     },
     "output_type": "display_data"
    }
   ],
   "source": [
    "_ = plt.hist(merged.bb_lrt_p_2, 100)\n",
    "_,q2 = statsmodels.stats.multitest.fdrcorrection(merged.bb_lrt_p_2)\n",
    "np.mean(q2 < .2), np.sum(q2 < .2)"
   ]
  },
  {
   "cell_type": "code",
   "execution_count": 45,
   "metadata": {},
   "outputs": [
    {
     "data": {
      "text/plain": [
       "(211790, 38)"
      ]
     },
     "execution_count": 45,
     "metadata": {},
     "output_type": "execute_result"
    }
   ],
   "source": [
    "merged.shape"
   ]
  },
  {
   "cell_type": "code",
   "execution_count": 46,
   "metadata": {},
   "outputs": [
    {
     "data": {
      "text/plain": [
       "[(350637, 22), (246924, 22)]"
      ]
     },
     "execution_count": 46,
     "metadata": {},
     "output_type": "execute_result"
    }
   ],
   "source": [
    "[ g.shape for g in data  ]"
   ]
  },
  {
   "cell_type": "markdown",
   "metadata": {},
   "source": [
    "## Meta analyze beta model"
   ]
  },
  {
   "cell_type": "code",
   "execution_count": 76,
   "metadata": {},
   "outputs": [
    {
     "data": {
      "text/plain": [
       "(0.009367769960810237, 1984)"
      ]
     },
     "execution_count": 76,
     "metadata": {},
     "output_type": "execute_result"
    }
   ],
   "source": [
    "meta_z = merged.asb_loc_1 / merged.asb_sd_1 + merged.asb_loc_2 / merged.asb_sd_2 \n",
    "meta_z /= np.sqrt(2) # variance=2 because adding 2 independent z-scores (under null)\n",
    "meta_p = scipy.stats.norm().cdf(-np.abs(meta_z)) \n",
    "np.mean(meta_p < 0.01), np.sum(meta_p < 0.01)"
   ]
  },
  {
   "cell_type": "code",
   "execution_count": 77,
   "metadata": {},
   "outputs": [
    {
     "data": {
      "text/plain": [
       "(0.008546201425940791, 1810)"
      ]
     },
     "execution_count": 77,
     "metadata": {},
     "output_type": "execute_result"
    }
   ],
   "source": [
    "meta_loc = merged.asb_loc_1 + merged.asb_loc_2\n",
    "meta_sd = np.sqrt(merged.asb_sd_1**2 + merged.asb_sd_2**2)\n",
    "meta_z_2 = meta_loc / meta_sd\n",
    "meta_p_2 = scipy.stats.norm().cdf(-np.abs(meta_z_2)) # variance=2 because adding 2 independent z-scores (under null)\n",
    "np.mean(meta_p_2 < 0.01), np.sum(meta_p_2 < 0.01)"
   ]
  },
  {
   "cell_type": "code",
   "execution_count": 67,
   "metadata": {},
   "outputs": [
    {
     "data": {
      "text/plain": [
       "(0.005566835072477454, 1179)"
      ]
     },
     "execution_count": 67,
     "metadata": {},
     "output_type": "execute_result"
    }
   ],
   "source": [
    "np.mean(merged.asb_q_1 < 0.01), np.sum(merged.asb_q_1 < 0.01) "
   ]
  },
  {
   "cell_type": "code",
   "execution_count": 69,
   "metadata": {},
   "outputs": [
    {
     "data": {
      "text/plain": [
       "(0.004381698852637046, 928)"
      ]
     },
     "execution_count": 69,
     "metadata": {},
     "output_type": "execute_result"
    }
   ],
   "source": [
    "np.mean(merged.asb_q_2 < 0.01), np.sum(merged.asb_q_2 < 0.01) "
   ]
  },
  {
   "cell_type": "code",
   "execution_count": 75,
   "metadata": {},
   "outputs": [
    {
     "data": {
      "text/plain": [
       "<matplotlib.collections.PathCollection at 0x7f99192a3430>"
      ]
     },
     "execution_count": 75,
     "metadata": {},
     "output_type": "execute_result"
    },
    {
     "data": {
      "image/png": "[encoded data removed]",
      "text/plain": [
       "<Figure size 432x288 with 1 Axes>"
      ]
     },
     "metadata": {
      "needs_background": "light"
     },
     "output_type": "display_data"
    }
   ],
   "source": [
    "plt.scatter(meta_z, meta_z_2)"
   ]
  },
  {
   "cell_type": "markdown",
   "metadata": {},
   "source": [
    "Really not much difference but combining z-scores gives slightly more significant so will go with that. "
   ]
  },
  {
   "cell_type": "code",
   "execution_count": 78,
   "metadata": {},
   "outputs": [],
   "source": [
    "merged[\"beta_meta_p\"] = meta_p"
   ]
  },
  {
   "cell_type": "code",
   "execution_count": 79,
   "metadata": {},
   "outputs": [],
   "source": [
    "merged.to_csv(\"../results/HNRNPK/beta_struct_bblrt_metaan.tsv.gz\", index = False, sep = \"\\t\")"
   ]
  },
  {
   "cell_type": "code",
   "execution_count": null,
   "metadata": {},
   "outputs": [],
   "source": [
    "scipy.stats.fisher_exact()"
   ]
  },
  {
   "cell_type": "code",
   "execution_count": 89,
   "metadata": {},
   "outputs": [
    {
     "data": {
      "text/plain": [
       "(68.39823692524176, 1.1053820890649077e-65)"
      ]
     },
     "execution_count": 89,
     "metadata": {},
     "output_type": "execute_result"
    }
   ],
   "source": [
    "ct = pd.crosstab(meta_p < 0.0005, metaq < .333)\n",
    "scipy.stats.fisher_exact(ct)"
   ]
  },
  {
   "cell_type": "code",
   "execution_count": 90,
   "metadata": {},
   "outputs": [
    {
     "data": {
      "text/plain": [
       "(2418.197539658008,\n",
       " 0.0,\n",
       " 1,\n",
       " array([[2.10931865e+05, 3.92135285e+02],\n",
       "        [4.65135285e+02, 8.64715048e-01]]))"
      ]
     },
     "execution_count": 90,
     "metadata": {},
     "output_type": "execute_result"
    }
   ],
   "source": [
    "scipy.stats.chi2_contingency(ct)"
   ]
  }
 ],
 "metadata": {
  "kernelspec": {
   "display_name": "Python 3",
   "language": "python",
   "name": "python3"
  },
  "language_info": {
   "codemirror_mode": {
    "name": "ipython",
    "version": 3
   },
   "file_extension": ".py",
   "mimetype": "text/x-python",
   "name": "python",
   "nbconvert_exporter": "python",
   "pygments_lexer": "ipython3",
   "version": "3.8.0"
  }
 },
 "nbformat": 4,
 "nbformat_minor": 4
}
