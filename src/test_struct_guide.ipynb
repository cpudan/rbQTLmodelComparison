{
 "cells": [
  {
   "cell_type": "code",
   "execution_count": 38,
   "metadata": {},
   "outputs": [],
   "source": [
    "import torch\n",
    "import sys\n",
    "import pyro\n",
    "\n",
    "import pyro.distributions as dist\n",
    "from pyro.infer.autoguide import AutoDiagonalNormal, AutoGuideList, AutoDelta\n",
    "from torch.distributions import constraints\n",
    "from pyro.infer import SVI, Trace_ELBO\n",
    "\n",
    "import seaborn as sns\n",
    "import matplotlib.pyplot as plt\n",
    "import scipy.stats\n",
    "import pandas as pd\n",
    "\n",
    "import numpy as np\n",
    "\n",
    "from pooledQTL import deconvolve, beta_model, gaussian_model, io_utils, asb_data, pyro_utils\n",
    "\n",
    "from importlib import reload\n",
    "\n",
    "from pathlib import Path\n",
    "\n",
    "def guide(data, device = \"cpu\", asb_flag = True):\n",
    "    \n",
    "    num_snps = len(data[0])\n",
    "    \n",
    "    z1 = pyro.sample(\n",
    "        \"z1\", \n",
    "        dist.Normal(\n",
    "            torch.zeros(num_snps, device = device), \n",
    "            torch.ones(num_snps, device = device)).to_event(1),\n",
    "        infer={'is_auxiliary': True})\n",
    "    \n",
    "    ase_loc = pyro.param('ase_loc', lambda: torch.zeros(num_snps, device = device))\n",
    "    \n",
    "    ase_scale_param = pyro.param(\n",
    "        'ase_scale_param', \n",
    "        lambda: torch.ones(num_snps, device = device), \n",
    "        constraint=constraints.positive)\n",
    "\n",
    "    ase = pyro.sample(\n",
    "        \"ase\",  \n",
    "        dist.Delta(\n",
    "            ase_loc + ase_scale_param * z1,\n",
    "            log_density = -ase_scale_param.log()).to_event(1)) # does work if we switch sign, or set = 0\n",
    "    \n",
    "    if asb_flag: \n",
    "        z2 = pyro.sample(\n",
    "            \"z2\", \n",
    "            dist.Normal(\n",
    "                torch.zeros(num_snps, device = device),\n",
    "                torch.ones(num_snps, device = device)).to_event(1),\n",
    "            infer={'is_auxiliary': True})\n",
    "        \n",
    "        asb_loc = pyro.param('asb_loc', lambda: torch.zeros(num_snps, device = device))\n",
    "        asb_scale_param = pyro.param(\n",
    "            'asb_scale_param', \n",
    "            lambda: torch.ones(num_snps, device = device), \n",
    "            constraint=constraints.positive)\n",
    "    \n",
    "        asb_corr = pyro.param(\n",
    "            'asb_corr', \n",
    "            lambda: torch.zeros(num_snps, device = device))\n",
    "\n",
    "        asb = pyro.sample('asb', dist.Delta(\n",
    "            asb_loc + asb_corr * z1 + asb_scale_param * z2,\n",
    "            log_density = -asb_scale_param.log()).to_event(1))\n"
   ]
  },
  {
   "cell_type": "code",
   "execution_count": 39,
   "metadata": {},
   "outputs": [],
   "source": [
    "def model(data):\n",
    "    ase = pyro.sample(\"ase\", \n",
    "        dist.Normal(data[0], data[1]).to_event(1)\n",
    "    )\n",
    "    asb = pyro.sample(\"asb\", \n",
    "        dist.Normal(data[2], data[3]).to_event(1)\n",
    "    )"
   ]
  },
  {
   "cell_type": "code",
   "execution_count": 41,
   "metadata": {},
   "outputs": [],
   "source": [
    "num_snps = 100\n",
    "means = torch.randn(num_snps)\n",
    "scales = torch.rand(num_snps)\n",
    "\n",
    "means_asb = torch.randn(num_snps)\n",
    "scales_asb = torch.rand(num_snps)\n",
    "\n",
    "data = [means, scales, means_asb, scales_asb]\n",
    "\n",
    "model(data)"
   ]
  },
  {
   "cell_type": "code",
   "execution_count": 42,
   "metadata": {},
   "outputs": [
    {
     "name": "stdout",
     "output_type": "stream",
     "text": [
      "[iteration 1000] loss: 75.0399324\r"
     ]
    }
   ],
   "source": [
    "def fit(model, guide, data, lr = 0.03, iterations = 200):\n",
    "    adam = pyro.optim.Adam({\"lr\": lr})\n",
    "    svi = SVI(model, guide, adam, loss=Trace_ELBO() ) \n",
    "    pyro.clear_param_store()\n",
    "    losses = []\n",
    "    for j in range(iterations):\n",
    "        loss = svi.step(data)\n",
    "        losses.append(loss)\n",
    "        print(\"[iteration %04d] loss: %.4f\" % (j + 1, loss), end = \"\\r\")\n",
    "    return losses\n",
    "\n",
    "\n",
    "losses = fit(model,guide,data,iterations=1000)"
   ]
  },
  {
   "cell_type": "code",
   "execution_count": 43,
   "metadata": {},
   "outputs": [
    {
     "data": {
      "text/plain": [
       "<matplotlib.collections.PathCollection at 0x7fadc0471250>"
      ]
     },
     "execution_count": 43,
     "metadata": {},
     "output_type": "execute_result"
    },
    {
     "data": {
      "image/png": "[encoded data removed]",
      "text/plain": [
       "<Figure size 432x288 with 1 Axes>"
      ]
     },
     "metadata": {
      "needs_background": "light"
     },
     "output_type": "display_data"
    }
   ],
   "source": [
    "plt.scatter(means, pyro.param('ase_loc').detach())"
   ]
  },
  {
   "cell_type": "code",
   "execution_count": 45,
   "metadata": {},
   "outputs": [
    {
     "data": {
      "text/plain": [
       "<matplotlib.collections.PathCollection at 0x7fad1cf45250>"
      ]
     },
     "execution_count": 45,
     "metadata": {},
     "output_type": "execute_result"
    },
    {
     "data": {
      "image/png": "[encoded data removed]",
      "text/plain": [
       "<Figure size 432x288 with 1 Axes>"
      ]
     },
     "metadata": {
      "needs_background": "light"
     },
     "output_type": "display_data"
    }
   ],
   "source": [
    "plt.scatter(means_asb, pyro.param('asb_loc').detach())"
   ]
  },
  {
   "cell_type": "code",
   "execution_count": 44,
   "metadata": {},
   "outputs": [
    {
     "data": {
      "text/plain": [
       "<matplotlib.collections.PathCollection at 0x7fad1d222610>"
      ]
     },
     "execution_count": 44,
     "metadata": {},
     "output_type": "execute_result"
    },
    {
     "data": {
      "image/png": "[encoded data removed]",
      "text/plain": [
       "<Figure size 432x288 with 1 Axes>"
      ]
     },
     "metadata": {
      "needs_background": "light"
     },
     "output_type": "display_data"
    }
   ],
   "source": [
    "plt.scatter(scales, pyro.param('ase_scale_param').detach())\n"
   ]
  },
  {
   "cell_type": "code",
   "execution_count": 46,
   "metadata": {},
   "outputs": [
    {
     "data": {
      "text/plain": [
       "<matplotlib.collections.PathCollection at 0x7fad1ceaf5e0>"
      ]
     },
     "execution_count": 46,
     "metadata": {},
     "output_type": "execute_result"
    },
    {
     "data": {
      "image/png": "[encoded data removed]",
      "text/plain": [
       "<Figure size 432x288 with 1 Axes>"
      ]
     },
     "metadata": {
      "needs_background": "light"
     },
     "output_type": "display_data"
    }
   ],
   "source": [
    "plt.scatter(scales_asb, pyro.param('asb_scale_param').detach())"
   ]
  },
  {
   "cell_type": "code",
   "execution_count": 47,
   "metadata": {},
   "outputs": [
    {
     "data": {
      "text/plain": [
       "<matplotlib.collections.PathCollection at 0x7fad1d0057f0>"
      ]
     },
     "execution_count": 47,
     "metadata": {},
     "output_type": "execute_result"
    },
    {
     "data": {
      "image/png": "[encoded data removed]",
      "text/plain": [
       "<Figure size 432x288 with 1 Axes>"
      ]
     },
     "metadata": {
      "needs_background": "light"
     },
     "output_type": "display_data"
    }
   ],
   "source": [
    "plt.scatter(scales_asb, pyro.param('asb_corr').detach())"
   ]
  },
  {
   "cell_type": "code",
   "execution_count": null,
   "metadata": {},
   "outputs": [],
   "source": []
  }
 ],
 "metadata": {
  "kernelspec": {
   "display_name": "Python 3",
   "language": "python",
   "name": "python3"
  },
  "language_info": {
   "codemirror_mode": {
    "name": "ipython",
    "version": 3
   },
   "file_extension": ".py",
   "mimetype": "text/x-python",
   "name": "python",
   "nbconvert_exporter": "python",
   "pygments_lexer": "ipython3",
   "version": "3.8.0"
  }
 },
 "nbformat": 4,
 "nbformat_minor": 4
}
